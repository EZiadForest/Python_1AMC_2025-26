{
 "cells": [
  {
   "cell_type": "markdown",
   "metadata": {
    "slideshow": {
     "slide_type": "slide"
    }
   },
   "source": [
    "\n",
    "![](fig/logoENSI.png)\n",
    "![](fig/logoPython.png)\n",
    "\n",
    "\n",
    "# Introduction à la Programmation \n",
    "# Langage Python (cours 3)\n",
    "***\n",
    "**ENSICAEN  1A MC** \n",
    "Septembre 2025\n",
    "## Eric Ziad-Forest\n",
    "***\n",
    "\n",
    "## Sommaire\n",
    "- Copier, notion de référence\n",
    "- Séquences (conteneurs)\n",
    "    - chaine de caractères\n",
    "    - les tuples\n",
    "    - **les dictionnaires**\n",
    "- Ecriture et lecture de fichier\n",
    "- Fonctions\n",
    "- ...\n",
    "\n",
    "\n",
    "***\n",
    "\n",
    "**Auteurs :**\n",
    "\n",
    "- Vincent Legoll ([vincent.legoll@iphc.cnrs.fr](mailto: vincent.legoll@iphc.cnrs.fr))\n",
    "- Matthieu Boileau ([matthieu.boileau@math.unistra.fr](mailto: matthieu.boileau@math.unistra.fr))\n",
    "- Eric Ziad-Forest ([ziad@ensicaen.fr](mailto: ziad@ensicaen.fr))\n",
    "\n",
    "*Contenu sous licence [CC BY-SA 4.0](https://creativecommons.org/licenses/by-sa/4.0)*"
   ]
  },
  {
   "cell_type": "markdown",
   "metadata": {},
   "source": [
    "## Copier, notion de référence"
   ]
  },
  {
   "cell_type": "code",
   "execution_count": null,
   "metadata": {},
   "outputs": [],
   "source": [
    "L = ['egg', 'salt', 'bacon']\n",
    "L1=L # Attention ce n'est pas une copie\n",
    "L[0]='oeuf' \n",
    "print(L);print(L1)  # 2 instructions sur une même ligne!\n",
    "print(id(L),id(L1)) # références des 2 listes"
   ]
  },
  {
   "cell_type": "markdown",
   "metadata": {},
   "source": [
    "> **Remarques:**  \n",
    "> 1- Nous obtenons la même référence pour 2 listes ayant 2 noms différents...  \n",
    "> 2- Si vous souhaitez le faire également, voici l'adresse: http://pythontutor.com/visualize.html   \n",
    "Entrer alors le code ci-dessus\n",
    ">> L = \\['egg', 'salt', 'bacon'\\]  \n",
    "L1=L  \n",
    "L\\[0\\]='oeuf'  "
   ]
  },
  {
   "cell_type": "markdown",
   "metadata": {},
   "source": [
    "En utilisant la cellule suivante, nous obtenons l'image ci-dessous:\n",
    "![](fig/img1_pythontutor.png)"
   ]
  },
  {
   "cell_type": "code",
   "execution_count": null,
   "metadata": {},
   "outputs": [],
   "source": [
    "L = ['egg', 'salt', 'bacon']\n",
    "L.append(['egg', 'salt', 'bacon'])\n",
    "print(\"la liste L\\n\",L)\n",
    "# copie de L\n",
    "L1=list(L) \n",
    "# 2 référence distinctes\n",
    "print(\"les références de L et L1\")\n",
    "print(id(L),id(L1))\n",
    "# modification dans l'une des listes\n",
    "L1[0]='oeuf'\n",
    "print(\"L1 est modifié\\n\",L1)\n",
    "print(\"Mais pas L!!!\\n\",L)\n",
    "# mais les derniers éléments de L et L1 ont la même référence... \n",
    "print(\"les références de L[-1] et L1[-1]\")\n",
    "print(id(L1[-1]),id(L[-1]))\n",
    "# d'où s'il on modifie cet élément\n",
    "L[-1][1]='pepper'\n",
    "print(L)\n",
    "print(L1)"
   ]
  },
  {
   "cell_type": "markdown",
   "metadata": {},
   "source": [
    "> Si vous souhaitez vérifier: \n",
    " http://pythontutor.com/visualize.html  \n",
    ">>L = \\['egg', 'salt', 'bacon'\\]  \n",
    "L.append(\\['egg', 'salt', 'bacon'\\])  \n",
    "L1=list(L)   \n",
    "print(id(L))   \n",
    "print(id(L1))   \n",
    "print(id(L\\[-1\\]))   \n",
    "print(id(L1\\[-1\\]))   \n",
    "L1\\[0\\]='oeuf'   \n",
    "L\\[-1\\]\\[1\\]='pepper'  "
   ]
  },
  {
   "cell_type": "markdown",
   "metadata": {
    "slideshow": {
     "slide_type": "slide"
    }
   },
   "source": [
    "# Séquences  (suite)\n",
    "\n",
    "Les séquences (types *itérables*) sont des conteneurs d'objets où les objets référencés sont ordonnés. On utilise facilement ces propriétés avec les boucles `for`.  \n",
    "`str` `list` `tuple` `dict` `set` sont des séquences...\n"
   ]
  },
  {
   "cell_type": "markdown",
   "metadata": {
    "slideshow": {
     "slide_type": "subslide"
    }
   },
   "source": [
    "On peut se servir de cette fonctionnalité pour tabuler du texte de taille variable."
   ]
  },
  {
   "cell_type": "code",
   "execution_count": null,
   "metadata": {},
   "outputs": [],
   "source": [
    "L = ['egg', 'salt', 'bacon']\n",
    "for elt in L:\n",
    "    for lettre in elt:\n",
    "        print(lettre)\n",
    "    print('\\n')"
   ]
  },
  {
   "cell_type": "code",
   "execution_count": null,
   "metadata": {},
   "outputs": [],
   "source": [
    "'e' in 'egg'"
   ]
  },
  {
   "cell_type": "code",
   "execution_count": null,
   "metadata": {},
   "outputs": [],
   "source": [
    "print(dir(L))"
   ]
  },
  {
   "cell_type": "code",
   "execution_count": null,
   "metadata": {},
   "outputs": [],
   "source": [
    "for i,elt in enumerate(L):\n",
    "    print('l\\'élément', i, \"est\", elt)"
   ]
  },
  {
   "cell_type": "code",
   "execution_count": null,
   "metadata": {},
   "outputs": [],
   "source": [
    "print('123' in 'azerty_123_uiop')\n",
    "print('AZE' in 'azerty_123_uiop')\n",
    "print('aze' in 'azerty_123_uiop')"
   ]
  },
  {
   "cell_type": "markdown",
   "metadata": {},
   "source": [
    "## Mutabilité (suite)"
   ]
  },
  {
   "cell_type": "markdown",
   "metadata": {
    "slideshow": {
     "slide_type": "subslide"
    }
   },
   "source": [
    "### Note :\n",
    "\n",
    "Etant *non-mutable* l'objet tuple ne peut pas être modifié. Toutefois, s'il est constitué d'éléments mutables, alors ces éléments-là peuvent être modifiés.\n",
    "\n",
    "Illustration avec un tuple dont un des éléments est une liste :"
   ]
  },
  {
   "cell_type": "code",
   "execution_count": null,
   "metadata": {},
   "outputs": [],
   "source": [
    "T = ('a', ['b', 'c']) # le deuxième élément est une liste donc ATTENTION, il est mutable\n",
    "print('T =', T)\n",
    "L = T[1]\n",
    "print('L =', L)\n",
    "L[0] = 'e'\n",
    "print('L =', L)\n",
    "print('T =', T)"
   ]
  },
  {
   "cell_type": "code",
   "execution_count": null,
   "metadata": {},
   "outputs": [],
   "source": [
    "# Ici on fait exactement la même chose...\n",
    "T = ('a', ['b', 'c'])\n",
    "print('T =', T)\n",
    "T[1][0] = 'z'\n",
    "print('T après =', T)"
   ]
  },
  {
   "cell_type": "code",
   "execution_count": null,
   "metadata": {},
   "outputs": [],
   "source": [
    "# Cette cellule génère une erreur\n",
    "T[0] = 'A'  # Ici, on essaye de modifier le tuple lui même..."
   ]
  },
  {
   "cell_type": "markdown",
   "metadata": {
    "slideshow": {
     "slide_type": "slide"
    }
   },
   "source": [
    "## Le slicing de séquences en Python (suite)\n",
    "\n",
    "- Cela consiste à extraire une sous-séquence à partir d'une séquence.\n",
    "- Le slicing fonctionne de manière similaire aux intervalles mathématiques : ``[début:fin[``\n",
    "- La borne de fin ne fait pas partie de l'intervalle sélectionné.\n",
    "- La syntaxe générale est ``L[i:j:k]``, où :\n",
    "    - ``i`` = indice de début\n",
    "    - ``j`` = indice de fin, le premier élément qui n'est pas sélectionné\n",
    "    - ``k`` = le \"pas\" ou intervalle (s'il est omis alors il vaut ``1``)\n",
    "- La sous-liste sera donc composée de tous les éléments de l’indice ``i`` jusqu’à l’indice ``j-1``, par pas de ``k``.\n",
    "- La sous-liste est un nouvel objet.\n",
    "\n",
    "Dans le sens normal (le pas ``k`` est positif)\n",
    "\n",
    "- Si ``i`` est omis alors il vaut ``0``\n",
    "- Si ``j`` est omis alors il vaut ``len(L)``\n",
    "\n",
    "Dans le sens inverse (le pas ``k`` est négatif)\n",
    "\n",
    "- Si ``i`` est omis alors il vaut ``-1``\n",
    "- Si ``j`` est omis alors il vaut ``-len(L)-1``"
   ]
  },
  {
   "cell_type": "markdown",
   "metadata": {
    "slideshow": {
     "slide_type": "subslide"
    }
   },
   "source": [
    "Illustrons ça en créant une liste à partir d'une chaîne de caractères.\n",
    "\n",
    "La fonction [``split()``](https://docs.python.org/3/library/stdtypes.html#str.split) découpe une chaîne de caractères en morceaux, par défaut en 'mots'."
   ]
  },
  {
   "cell_type": "code",
   "execution_count": null,
   "metadata": {},
   "outputs": [],
   "source": [
    "ch='Dans le Python tout est bon'\n",
    "L_ch=list(ch)\n",
    "print(L_ch)"
   ]
  },
  {
   "cell_type": "code",
   "execution_count": null,
   "metadata": {},
   "outputs": [],
   "source": [
    "L = 'Dans le Python tout est bon'.split()\n",
    "print(L)"
   ]
  },
  {
   "cell_type": "markdown",
   "metadata": {
    "slideshow": {
     "slide_type": "fragment"
    }
   },
   "source": [
    "Pour commencer, on extrait de la liste ``L`` un nouvel objet liste qui contient tous les éléments de ``L`` <=> copie de liste"
   ]
  },
  {
   "cell_type": "code",
   "execution_count": null,
   "metadata": {},
   "outputs": [],
   "source": [
    "print(L[0:len(L):1]) # Cette notation est inutilement lourde car :\n",
    "print(L[::])         # i = 0, j=len(L) et k=1 donc i, j et k peuvent être omis\n",
    "print(L[:])          # on peut même ommettre le 2ème \":\""
   ]
  },
  {
   "cell_type": "markdown",
   "metadata": {
    "slideshow": {
     "slide_type": "fragment"
    }
   },
   "source": [
    "On extrait une sous-liste qui ne contient que les 3 premiers éléments :"
   ]
  },
  {
   "cell_type": "code",
   "execution_count": null,
   "metadata": {},
   "outputs": [],
   "source": [
    "print(L[0:3:1])  # Notation complète\n",
    "print(L[:3:1])  # Le premier indice vaut i=0, donc on peut l'omettre\n",
    "print(L[:3])  # Le pas de slicing vaut 1, donc on peut l'omettre, ainsi que le \":\""
   ]
  },
  {
   "cell_type": "markdown",
   "metadata": {
    "slideshow": {
     "slide_type": "subslide"
    }
   },
   "source": [
    "J'extrais une sous-liste qui exclut les trois premiers éléments :"
   ]
  },
  {
   "cell_type": "code",
   "execution_count": null,
   "metadata": {},
   "outputs": [],
   "source": [
    "print(L[3:len(L):1])  # Cette notation est inutilement lourde car :\n",
    "print(L[3:])          # j et k peuvent être omis, ainsi que le \":\""
   ]
  },
  {
   "cell_type": "markdown",
   "metadata": {
    "slideshow": {
     "slide_type": "fragment"
    }
   },
   "source": [
    "Les indices peuvent être négatifs, ce qui permet traiter les derniers éléments :"
   ]
  },
  {
   "cell_type": "code",
   "execution_count": null,
   "metadata": {},
   "outputs": [],
   "source": [
    "# Je veux exclure le dernier élément :\n",
    "print(L[0:-1:1])  # Notation complète\n",
    "print(L[:-1:1])  # Le premier indice vaut i=0, donc on peut l'omettre\n",
    "print(L[:-1])  # Le pas de slicing vaut 1, donc on peut l'omettre"
   ]
  },
  {
   "cell_type": "markdown",
   "metadata": {},
   "source": [
    "On ne garde que les deux derniers éléments"
   ]
  },
  {
   "cell_type": "code",
   "execution_count": null,
   "metadata": {},
   "outputs": [],
   "source": [
    "print(L[-2:])"
   ]
  },
  {
   "cell_type": "markdown",
   "metadata": {
    "slideshow": {
     "slide_type": "subslide"
    }
   },
   "source": [
    "### Note :\n",
    "\n",
    "``L[1]`` n'est pas équivalent à ``L[1:2]``, ni à ``L[1:]``, ni à ``L[:1]``.\n",
    "\n",
    "Illustration :"
   ]
  },
  {
   "cell_type": "code",
   "execution_count": null,
   "metadata": {},
   "outputs": [],
   "source": [
    "print(L)\n",
    "a = L[1]\n",
    "print(type(a), a) # Je récupère le deuxième élément de la liste\n",
    "a = L[1:2]\n",
    "print(type(a), a) # Je récupère une liste composée du seul élément L[1]\n",
    "a = L[1:]\n",
    "print(type(a), a) # Je récupère une liste\n",
    "a = L[:1]\n",
    "print(type(a), a) # Je récupère une liste"
   ]
  },
  {
   "cell_type": "markdown",
   "metadata": {
    "slideshow": {
     "slide_type": "subslide"
    }
   },
   "source": [
    "> **Exercice :** Retourner une liste composée des éléments de ``L`` *en ordre inverse* **avec une opération de slicing**. *Pour cette exercice, toute utilisation de [``[].reverse()``](https://docs.python.org/3/library/stdtypes.html#mutable-sequence-types) ou [``reversed()``](https://docs.python.org/3/library/functions.html#reversed) est interdite.*"
   ]
  },
  {
   "cell_type": "code",
   "execution_count": null,
   "metadata": {},
   "outputs": [],
   "source": [
    "L = 'Dans le Python tout est bon'.split()\n",
    "print(L)\n",
    "# <- votre code ici"
   ]
  },
  {
   "cell_type": "markdown",
   "metadata": {
    "slideshow": {
     "slide_type": "subslide"
    }
   },
   "source": [
    "Le slicing peut être utilisé pour **modifier** une séquence **mutable**, gâce à l'opération d'assignation."
   ]
  },
  {
   "cell_type": "code",
   "execution_count": null,
   "metadata": {},
   "outputs": [],
   "source": [
    "L = 'Dans le Python tout est bon'.split()\n",
    "print(L)\n",
    "L[2:4] = ['nouvelles', 'valeurs', 'et encore plus...', 1, 2, 3]\n",
    "print(L)"
   ]
  },
  {
   "cell_type": "markdown",
   "metadata": {
    "slideshow": {
     "slide_type": "subslide"
    }
   },
   "source": [
    "Le slicing peut être utilisé sur des chaînes de caractères."
   ]
  },
  {
   "cell_type": "code",
   "execution_count": null,
   "metadata": {},
   "outputs": [],
   "source": [
    "alphabet = 'abcdefghijklmnopqrstuvwxyz'\n",
    "print(alphabet[:4], alphabet[-4:], alphabet[0:12:3])"
   ]
  },
  {
   "cell_type": "markdown",
   "metadata": {},
   "source": [
    "# Les dictionnaires\n",
    "\n",
    "Les listes associatives sont des conteneurs où les objets ne sont pas ordonnés ni accessibles par un indice mais sont associés à une clé d'accès.\n",
    "\n",
    "L'accès aux éléments se fait comme pour les listes ou tuples, avec les ``[]``, mais vous pouvez utiliser (presque) n'importe quelle valeur comme clé.\n",
    "\n",
    "    dico = {<clé1>: <valeur1>[, <clé2>: <valeur2>]...}\n",
    "\n",
    "Les clés doivent être des objets non mutables. Les listes ne peuvent pas servir de clés alors que les tuples le peuvent.\n",
    "\n",
    "Dans ``dico``, on accède à ``valeur1`` avec la syntaxe ``dico[clé1]``.\n"
   ]
  },
  {
   "cell_type": "markdown",
   "metadata": {},
   "source": [
    "### Un exemple"
   ]
  },
  {
   "cell_type": "code",
   "execution_count": null,
   "metadata": {},
   "outputs": [],
   "source": [
    "dic_animaux = {'ane': True, 'arbre': False, 'chat': True, 'lune': False, 'humain': True}\n",
    "cle = 'chat'\n",
    "valeur = dic_animaux[cle]\n",
    "print(valeur)\n",
    "print('{} est un animal: {}'.format(cle, valeur))\n",
    "# Ou encore\n",
    "print('{} est un animal: {}'.format('chat', dic_animaux['chat']))"
   ]
  },
  {
   "cell_type": "markdown",
   "metadata": {},
   "source": [
    "> **Exercice** : essayez de savoir si un arbre est un animal"
   ]
  },
  {
   "cell_type": "code",
   "execution_count": null,
   "metadata": {},
   "outputs": [],
   "source": [
    "dic_animaux['arbre']"
   ]
  },
  {
   "cell_type": "markdown",
   "metadata": {},
   "source": [
    "**IMPORTANT:** Les différentes manières de créer des dictionnaires:"
   ]
  },
  {
   "cell_type": "code",
   "execution_count": null,
   "metadata": {},
   "outputs": [],
   "source": [
    "# Les accolades comme syntaxe\n",
    "a = {'un': 1, 'deux': 2, 'trois': 3} \n",
    "# La méthode dict()\n",
    "b = dict(un=1, deux=2, trois=3) \n",
    "# On \"zippe\" deux listes\n",
    "c = dict(zip(['un', 'deux', 'trois'], [1, 2, 3]))  \n",
    "# On transforme une liste de 2-tuples\n",
    "d = dict([('deux', 2), ('un', 1), ('trois', 3)])  \n",
    "# le dictionnaire a dans un autre ordre...\n",
    "e = dict({'trois': 3, 'un': 1, 'deux': 2})\n",
    "# Bilan\n",
    "a == b == c == d == e"
   ]
  },
  {
   "cell_type": "markdown",
   "metadata": {},
   "source": [
    "La fonction interne [``dict()``](https://docs.python.org/3/library/functions.html#func-dict) permet de créer des dictionnaires de diverses manières.\n",
    "\n",
    "Accéder à un élément qui n'est pas dans le dictionnaire génère une erreur.   \n",
    "Il existe la méthode [``{}.get()``](https://docs.python.org/fr/3.7/library/stdtypes.html#dict.get) ou [l'opérateur ``in``](https://docs.python.org/fr/3.7/library/stdtypes.html#mapping-types-dict) qui permettent de ne pas rencontrer ce problème."
   ]
  },
  {
   "cell_type": "code",
   "execution_count": null,
   "metadata": {},
   "outputs": [],
   "source": [
    "# Cette cellule génère une erreur\n",
    "err = a['quatre']"
   ]
  },
  {
   "cell_type": "markdown",
   "metadata": {},
   "source": [
    "Ici on utilise ``.get()`` et cela ne remonte pas d'erreur."
   ]
  },
  {
   "cell_type": "code",
   "execution_count": null,
   "metadata": {},
   "outputs": [],
   "source": [
    "print(a.get('quatre'))    # La valeur par défaut est 'None' lorsque .get() ne trouve pas l'élément\n",
    "print(a.get('quatre', 5)) # On peut spécifier une autre valeur par défaut"
   ]
  },
  {
   "cell_type": "markdown",
   "metadata": {},
   "source": [
    "### Un autre exemple"
   ]
  },
  {
   "cell_type": "code",
   "execution_count": null,
   "metadata": {},
   "outputs": [],
   "source": [
    "tup_mois = ('jan', 'feb', 'mar', 'apr', 'mai', 'jun', 'jul', 'aug', 'sep', 'oct', 'nov', 'dec')\n",
    "tup_long = (31, (28, 29), 31, 30, 31, 30, 31, 31, 30, 31, 30, 31)\n",
    "dic_mois = dict(zip(tup_mois, tup_long))\n",
    "print(dic_mois)\n",
    "mois_naissance = 'jun'\n",
    "print('Il y a %d jours dans votre mois de naissance' % dic_mois[mois_naissance])"
   ]
  },
  {
   "cell_type": "markdown",
   "metadata": {},
   "source": [
    "> **Exercice**:\n",
    ">\n",
    "> 1. Modifiez la cellule précédente pour y changer mois_naissance (les 3 premiers caractères de votre mois de naissance, en anglais). Ré-exécutez la cellule et vérifiez la réponse.\n",
    "> 2. Un problème s'est glissé dans la cellule, lequel ?\n",
    "> 3. Corrigez-le. (il y a plusieur manières de faire)\n",
    "> 4. Les noms de mois raccourcis sont en anglais et non en français, pourquoi ?\n",
    "> 5. Utilisez ``input('En quel mois êtes-vous né(e) ? ')`` pour initialiser ``mois_naissance`` et constatez le gain de qualité en IHM (Interface Homme Machine, ergonomie)."
   ]
  },
  {
   "cell_type": "markdown",
   "metadata": {},
   "source": [
    "Les dictionnaires sont mutables."
   ]
  },
  {
   "cell_type": "code",
   "execution_count": null,
   "metadata": {},
   "outputs": [],
   "source": [
    "ages = {'albert': 62, 'bob': 34, 'charlie': 1, 'daphne': 67}\n",
    "print(ages)\n",
    "# C'est l'anniversaire de charlie, il a un an de plus...\n",
    "ages['charlie'] += 1 # ages['charlie'] = ages['charlie'] + 1\n",
    "print(ages)\n",
    "print('Albert a %d ans.' % ages['albert'])\n",
    "# Bob est parti, enlevons-le\n",
    "del ages['bob']\n",
    "print(ages)"
   ]
  },
  {
   "cell_type": "markdown",
   "metadata": {},
   "source": [
    "- Savoir si une clé est présente dans un dictionnaire est une opération rapide.   \n",
    "On utilise, comme pour les séquences, l'opérateur ``in``.\n",
    "- La fonction interne ``len()`` est utilisable pour savoir combien d'objets sont référencés dans le dictionnaire."
   ]
  },
  {
   "cell_type": "code",
   "execution_count": null,
   "metadata": {},
   "outputs": [],
   "source": [
    "print(dir(dict))"
   ]
  },
  {
   "cell_type": "code",
   "execution_count": null,
   "metadata": {},
   "outputs": [],
   "source": [
    "help(dict(len))"
   ]
  },
  {
   "cell_type": "code",
   "execution_count": null,
   "metadata": {},
   "outputs": [],
   "source": [
    "ages = {'albert': 62, 'bob': 34, 'charlie': 1, 'daphne': 67}\n",
    "print('Charlie est-il(elle) dans le dictionnaire ages ?', 'charlie' in ages)\n",
    "print('Zoé est-il(elle) dans le dictionnaire ages ?', 'zoé' in ages)\n",
    "print('Bob est-il(elle) dans le dictionnaire ages ?', 'bob' in ages)\n",
    "print('Il y a %d personnes.' % len(ages))\n",
    "# Bob est parti, enlevons-le\n",
    "del ages['bob']\n",
    "print('Bob est-il(elle) est dans le dictionnaire ages ?', 'bob' in ages)\n",
    "print('Il y a %d personnes.' % len(ages))"
   ]
  },
  {
   "cell_type": "markdown",
   "metadata": {},
   "source": [
    "On peut itérer sur les clés ou les objets référencés, ou vider un dictionnaire, en comparer deux, etc.\n",
    "\n",
    "Pour plus d'informations sur les dictionnaires, voir [ici](https://docs.python.org/3/library/stdtypes.html#mapping-types-dict). (version anglaise cette fois-ci.)"
   ]
  },
  {
   "cell_type": "markdown",
   "metadata": {},
   "source": [
    "> **Exercice** :\n",
    ">\n",
    "> 1. Créez un dictionnaire qui va traduire des chiffres (de 0 à 9) écrits en toutes lettres entre deux langues  \n",
    ">    Par exemple :\n",
    ">    ``trad_num['un'] -> 'one'``\n",
    "> 2. Modifiez ce dictionnaire, pour qu'il fonctionne dans les deux sens de traduction (Fr -> En et En -> Fr)\n",
    "> 3. Modifiez ce dictionnaire, pour qu'il fonctionne aussi avec les chiffres sous forme d'entiers   \n",
    ">    Par exemple :\n",
    ">    ``trad_num[1] -> 'un'``"
   ]
  },
  {
   "cell_type": "code",
   "execution_count": null,
   "metadata": {},
   "outputs": [],
   "source": [
    "# Votre code ici"
   ]
  },
  {
   "cell_type": "markdown",
   "metadata": {},
   "source": [
    "# Les ensembles\n",
    "\n",
    "Les ensembles sont des conteneurs qui n'autorisent pas de duplication d'objets référencés, contrairement aux listes et tuples.\n",
    "\n",
    "On peut créer des ensembles de cette façon :\n",
    "\n",
    "    ensemble = set(<iterable>)\n",
    "\n",
    "Où ``<iterable>`` peut être n'importe quel objet qui supporte l'itération : liste, tuple, dictionnaire, un autre set (pour en faire une copie), vos propres objets itérables, etc...\n",
    "\n",
    "Tout comme pour les dictionnaires, l'opérateur ``in`` est efficace. La fonction [``set()``](https://docs.python.org/3/library/functions.html#func-set) permet de créer  des ensembles."
   ]
  },
  {
   "cell_type": "code",
   "execution_count": null,
   "metadata": {},
   "outputs": [],
   "source": [
    "list1 = [1, 1, 2]\n",
    "tupl1 = ('un', 'un', 'deux', 1, 3)\n",
    "\n",
    "b = set(list1)\n",
    "a = set(tupl1)\n",
    "\n",
    "print(a, b)\n",
    "\n",
    "print('''La chaîne 'un' est elle dans l'ensemble ?''', 'un' in a)\n",
    "a.remove('un')\n",
    "print('''La chaîne 'un' est-elle toujours dans l'ensemble ?''', 'un' in a)\n",
    "\n",
    "print(a, b)"
   ]
  },
  {
   "cell_type": "code",
   "execution_count": null,
   "metadata": {},
   "outputs": [],
   "source": [
    "tupl1 = ('un', 'un', 'deux', 1, 3)\n",
    "tupl_uniq=tuple(set(tupl1))\n",
    "print(tupl_uniq)"
   ]
  },
  {
   "cell_type": "code",
   "execution_count": null,
   "metadata": {},
   "outputs": [],
   "source": [
    "print(dir(set))"
   ]
  },
  {
   "cell_type": "markdown",
   "metadata": {},
   "source": [
    "Des opérations supplémentaires sont possibles sur des ensembles. Elles sont calquées sur les opérations mathématiques :\n",
    "\n",
    "- union\n",
    "- intersection\n",
    "- etc..."
   ]
  },
  {
   "cell_type": "code",
   "execution_count": null,
   "metadata": {},
   "outputs": [],
   "source": [
    "print('intersection :', a & b)\n",
    "print('union :', a | b)"
   ]
  },
  {
   "cell_type": "markdown",
   "metadata": {},
   "source": [
    "Pour plus d'informations sur les ensembles, voir [ici](https://docs.python.org/3/library/stdtypes.html#set-types-set-frozenset)"
   ]
  },
  {
   "cell_type": "markdown",
   "metadata": {},
   "source": [
    "# Fichiers\n",
    "\n",
    "## Ouverture\n",
    "\n",
    "L'instruction :\n",
    "\n",
    "    f = open('interessant.txt', mode='r')\n",
    "    \n",
    "ouvre le fichier ``interessant.txt`` en mode lecture seule et le renvoie dans l'objet ``f``.\n",
    "\n",
    "On peut spécifier un chemin d'accès complet ou relatif au répertoire courant. Le caractère de séparation pour les répertoires peut être différent en fonction du système d'exploitation ('/' pour unix et '\\' pour windows), voir le module [``os.path``](https://docs.python.org/3/library/os.path.html)."
   ]
  },
  {
   "cell_type": "markdown",
   "metadata": {},
   "source": [
    "### Modes d'ouverture communs\n",
    "\n",
    "- ``'r'`` : lecture seule\n",
    "- ``'w'`` : écriture seule\n",
    "- ``'a'`` : ajout à partir de la fin du fichier\n",
    "\n",
    "**Note :** Avec ``'w'`` et ``'a'``, le fichier est créé s'il n'existe pas.\n",
    "\n",
    "Pour plus d'informations sur les objets fichiers, voir [ici](https://docs.python.org/3/library/stdtypes.html#file-objects), pour la documentation de la fonction ``open()``, voir [là](https://docs.python.org/3/library/functions.html#open)."
   ]
  },
  {
   "cell_type": "markdown",
   "metadata": {},
   "source": [
    "## Fermeture\n",
    "\n",
    "On ferme le fichier ``f`` avec l'instruction :\n",
    "\n",
    "    f.close()"
   ]
  },
  {
   "cell_type": "markdown",
   "metadata": {},
   "source": [
    "## Méthodes de lecture\n",
    "\n",
    "- ``f.read()`` : retourne tout le contenu de ``f`` sous la forme d’une chaîne de caractères."
   ]
  },
  {
   "cell_type": "code",
   "execution_count": null,
   "metadata": {},
   "outputs": [],
   "source": [
    "f = open('fig/interessant.txt', mode='r')\n",
    "texte = f.read()\n",
    "print('\"texte\" est un objet de type', type(texte), 'de longueur', len(texte), 'caractères:')\n",
    "print(texte)\n",
    "print('Contenu en raw string:')\n",
    "print(repr(texte))\n",
    "f.close()"
   ]
  },
  {
   "cell_type": "code",
   "execution_count": null,
   "metadata": {},
   "outputs": [],
   "source": [
    "f = open('fig/interessant.txt', mode='r')\n",
    "texte = f.readlines()\n",
    "print(texte)\n",
    "f.close()"
   ]
  },
  {
   "cell_type": "code",
   "execution_count": null,
   "metadata": {},
   "outputs": [],
   "source": [
    "print( dir(f))"
   ]
  },
  {
   "cell_type": "code",
   "execution_count": null,
   "metadata": {},
   "outputs": [],
   "source": [
    "help(f.readlines)"
   ]
  },
  {
   "cell_type": "markdown",
   "metadata": {},
   "source": [
    "- ``f.readlines()`` : retourne toutes les lignes de ``f`` sous la forme d’une liste de chaînes de caractères."
   ]
  },
  {
   "cell_type": "code",
   "execution_count": null,
   "metadata": {},
   "outputs": [],
   "source": [
    "chaine = 'Je sais écrire\\n...\\navec Python !\\n'\n",
    "# mode 'w' : on écrase le contenu du fichier s'il existe\n",
    "# encoding UTF-8: on peut écrire des chaînes avec des caractères non ASCII\n",
    "f = open('fig/pas_mal.txt', mode='w', encoding='utf8')\n",
    "f.write(chaine)\n",
    "f.close()"
   ]
  },
  {
   "cell_type": "code",
   "execution_count": null,
   "metadata": {},
   "outputs": [],
   "source": [
    "!cat 'fig/pas_mal.txt'"
   ]
  },
  {
   "cell_type": "markdown",
   "metadata": {},
   "source": [
    "**Note :** du point de vue du système, rien n'est écrit dans le fichier avant l’appel de ``f.close()``"
   ]
  },
  {
   "cell_type": "markdown",
   "metadata": {},
   "source": [
    "- ``f.writelines(ma_sequence)`` : écrit la séquence ``ma_sequence`` dans ``f`` en mettant bout à bout les éléments"
   ]
  },
  {
   "cell_type": "code",
   "execution_count": null,
   "metadata": {},
   "outputs": [],
   "source": [
    "sequence = ['Je sais ajouter\\n', 'du texte\\n', 'avec Python !\\n']\n",
    "f = open('fig/pas_mal.txt', mode='a')\n",
    "# mode 'a' : on ajoute à la fin du fichier\n",
    "# encoding par défaut: uniquement des caractères ASCII\n",
    "f.writelines(sequence)\n",
    "f.close()"
   ]
  },
  {
   "cell_type": "code",
   "execution_count": null,
   "metadata": {},
   "outputs": [],
   "source": [
    "chaine = '\\nPour ajouter du texte avec des caractères accentués: î ö Ö Ê\\n'\n",
    "f = open('fig/pas_mal.txt', mode='a', encoding='utf8')\n",
    "# mode 'a' : on ajoute à la fin du fichier\n",
    "# encoding UTF-8: on peut écrire des chaînes avec des caractères non ASCII\n",
    "f.write(chaine)\n",
    "f.close()"
   ]
  },
  {
   "cell_type": "markdown",
   "metadata": {},
   "source": [
    "> **Exercice :**\n",
    ">\n",
    "> 1. écrire le contenu de la liste ``mystere`` dans le fichier ``coded.txt`` puis fermer ce dernier\n",
    "> 2. lire le fichier ``coded.txt`` et le stocker dans une chaine ``coded``\n",
    "> 3. Décoder la chaîne ``coded`` avec les instructions suivantes:\n",
    "```\n",
    "import codecs\n",
    "decoded = codecs.decode(coded, encoding='rot13')\n",
    "```\n",
    "> 4. écrire la chaine ``decoded`` dans le fichier ``decoded.txt`` et fermer ce dernier\n",
    "> 5. visualiser le contenu du fichier ``decoded.txt`` dans un éditeur de texte"
   ]
  },
  {
   "cell_type": "code",
   "execution_count": null,
   "metadata": {},
   "outputs": [],
   "source": [
    "mystere = ['Gur Mra bs Clguba, ol Gvz Crgref\\n\\n',\n",
    "           'Ornhgvshy vf orggre guna htyl.\\n',\n",
    "           'Rkcyvpvg vf orggre guna vzcyvpvg.\\n']\n",
    "# Votre code ci-dessous"
   ]
  },
  {
   "cell_type": "markdown",
   "metadata": {
    "slideshow": {
     "slide_type": "slide"
    }
   },
   "source": [
    "# Fonctions\n",
    "\n",
    "Les fonctions permettent de réutiliser des blocs de code plusieurs endroits différents sans avoir a copier ce bloc.\n",
    "\n",
    "En python, il n'y a pas de notion de sous-routine. Les procédures sont gérées par les objets de type fonctions, avec ou sans valeur de retour.\n",
    "\n",
    "    def <nom fonction>(arg1, arg2, ...):\n",
    "        <bloc d'instructions>\n",
    "        return <valeur>  # Instruction optionnelle\n",
    "        \n",
    "On distingue :\n",
    "\n",
    "- les fonctions avec ``return`` des fonctions sans ``return``\n",
    "- les fonctions sans arguments (pour lesquelles ``()`` est vide) des fonctions avec arguments ``(arg1, arg2, ...)``"
   ]
  },
  {
   "cell_type": "markdown",
   "metadata": {
    "slideshow": {
     "slide_type": "slide"
    }
   },
   "source": [
    "## Fonctions sans arguments\n",
    "\n",
    "### Fonction sans ``return``"
   ]
  },
  {
   "cell_type": "markdown",
   "metadata": {},
   "source": [
    "Pour définir une fonction :"
   ]
  },
  {
   "cell_type": "code",
   "execution_count": null,
   "metadata": {},
   "outputs": [],
   "source": [
    "def func():  # Definition de la fonction\n",
    "    print('You know what?')\n",
    "    print(\"I'm happy!\")"
   ]
  },
  {
   "cell_type": "markdown",
   "metadata": {},
   "source": [
    "Pour utiliser une fonction que l'on a défini :"
   ]
  },
  {
   "cell_type": "code",
   "execution_count": null,
   "metadata": {},
   "outputs": [],
   "source": [
    "func()  # 1er Appel de la fonction\n",
    "func()  # 2eme appel\n",
    "func()  # 3eme appel, etc..."
   ]
  },
  {
   "cell_type": "markdown",
   "metadata": {
    "slideshow": {
     "slide_type": "subslide"
    }
   },
   "source": [
    "> **Exercice** : Ecrivez une fonction nommée \"rien\" qui ne fait rien et appelez là deux fois."
   ]
  },
  {
   "cell_type": "code",
   "execution_count": null,
   "metadata": {},
   "outputs": [],
   "source": [
    "# Votre code ici"
   ]
  },
  {
   "cell_type": "markdown",
   "metadata": {
    "slideshow": {
     "slide_type": "subslide"
    }
   },
   "source": [
    "### Fonction avec ``return``"
   ]
  },
  {
   "cell_type": "code",
   "execution_count": null,
   "metadata": {},
   "outputs": [],
   "source": [
    "def func():  # Definition de la fonction\n",
    "    return \"I'm happy\"  # La fonction retourne une chaine de caractère\n",
    "\n",
    "print(\"1er appel:\")\n",
    "func()  # 1er Appel de la fonction : la valeur retournée n'est pas utilisée\n",
    "print(func())\n",
    "print(\"2eme appel:\")\n",
    "ret_val = func()  # Le retour du 2eme appel est stocké\n",
    "print(\"La fonction func() nous a renvoyé la valeur:\", ret_val)"
   ]
  },
  {
   "cell_type": "markdown",
   "metadata": {},
   "source": [
    "> **Exercice** : Ecrivez une fonction nommée \"donne_rien\" qui retourne la chaine de caractères 'rien'. Appelez-là et affichez sa valeur de retour."
   ]
  },
  {
   "cell_type": "code",
   "execution_count": null,
   "metadata": {},
   "outputs": [],
   "source": [
    "print(func())"
   ]
  },
  {
   "cell_type": "code",
   "execution_count": null,
   "metadata": {},
   "outputs": [],
   "source": [
    "# Votre code ici"
   ]
  },
  {
   "cell_type": "markdown",
   "metadata": {
    "slideshow": {
     "slide_type": "slide"
    }
   },
   "source": [
    "## Fonctions avec arguments\n",
    "\n",
    "Pour définir une fonction qui prend des arguments, on leur donne juste des noms entre les parenthèses de la ligne ``def``. Ces paramètres seront définis comme des variables à l'intérieur de la fonction et recevrons les valeurs passées lors des appels de celle-ci."
   ]
  },
  {
   "cell_type": "code",
   "execution_count": null,
   "metadata": {},
   "outputs": [],
   "source": [
    "def somme(x, y):\n",
    "    return x + y"
   ]
  },
  {
   "cell_type": "markdown",
   "metadata": {},
   "source": [
    "Pour utiliser cette fonction avec diverses valeurs, il suffit de l'appeler plusieurs fois :"
   ]
  },
  {
   "cell_type": "code",
   "execution_count": null,
   "metadata": {},
   "outputs": [],
   "source": [
    "print(somme(1, 2))\n",
    "print(somme(4, 7))\n",
    "print(somme(2 + 2, 7))\n",
    "print(somme(somme(2, 2), 7))"
   ]
  },
  {
   "cell_type": "code",
   "execution_count": null,
   "metadata": {},
   "outputs": [],
   "source": [
    "print(somme([1]))"
   ]
  },
  {
   "cell_type": "markdown",
   "metadata": {
    "slideshow": {
     "slide_type": "subslide"
    }
   },
   "source": [
    "> **Exercice** : Définissez une fonction nommée \"chevalier\", qui prend un paramètre, et qui répète (avec ``print``) la chaîne de caractères 'Ni!' ce nombre de fois, et appelez cette fonction pour vérifier que ce ``chevalier(3)`` dit bien Ni trois fois comme il convient !\n",
    "\n",
    "Voici quelques exemples montrant comment cette fonction doit se comporter:\n",
    "\n",
    "    chevalier(1)\n",
    "    Ni!\n",
    "    chevalier(3)\n",
    "    Ni!Ni!Ni!\n",
    "    chevalier(6)\n",
    "    Ni!Ni!Ni!Ni!Ni!Ni!"
   ]
  },
  {
   "cell_type": "code",
   "execution_count": null,
   "metadata": {},
   "outputs": [],
   "source": [
    "# Votre code ici"
   ]
  },
  {
   "cell_type": "code",
   "execution_count": null,
   "metadata": {},
   "outputs": [],
   "source": [
    "# Vérifions que tout fonctionne bien:\n",
    "#chevalier(1)\n",
    "#chevalier(3)\n",
    "#chevalier(6)"
   ]
  },
  {
   "cell_type": "markdown",
   "metadata": {
    "slideshow": {
     "slide_type": "subslide"
    }
   },
   "source": [
    "> **Exercice** : Ecrivez une autre fonction, nommée \"chevalier_ret\", qui prend deux paramètres : un nombre et un booléen, et qui retourne une chaine de caractères constituée du nombre de répétitions de la chaine 'ni!' ou 'NI!' en fonction du paramètre booléen. Appelez cette fonction et affichez sa valeur de retour.\n",
    "\n",
    "Voici quelques exemples montrant comment cette fonction doit se comporter:\n",
    "\n",
    "    a = chevalier(1, True)\n",
    "    print(a)\n",
    "    NI!\n",
    "    a = chevalier(3, False)\n",
    "    print(a)\n",
    "    ni!ni!ni!\n",
    "    a = chevalier(6, True)\n",
    "    print(a)\n",
    "    NI!NI!NI!NI!NI!NI!"
   ]
  },
  {
   "cell_type": "code",
   "execution_count": null,
   "metadata": {},
   "outputs": [],
   "source": [
    "# Votre code ici"
   ]
  },
  {
   "cell_type": "code",
   "execution_count": null,
   "metadata": {},
   "outputs": [],
   "source": [
    "# Vérifions que tout fonctionne bien:\n",
    "#a = chevalier_ret(1, True)\n",
    "#print(a)\n",
    "#a = chevalier_ret(3, False)\n",
    "#print(a)\n",
    "#a = chevalier_ret(6, True)\n",
    "#print(a)"
   ]
  },
  {
   "cell_type": "markdown",
   "metadata": {
    "slideshow": {
     "slide_type": "subslide"
    }
   },
   "source": [
    "### Utilisation de valeurs par défaut"
   ]
  },
  {
   "cell_type": "code",
   "execution_count": null,
   "metadata": {},
   "outputs": [],
   "source": [
    "def somme(x, y=1):\n",
    "    return x + y\n",
    "\n",
    "print(somme(1, 2))\n",
    "print(somme(4))  # Si la valeur de y n'est pas spécifiée, le paramètre 'y' prend la valeur par défaut (ici : 1)"
   ]
  },
  {
   "cell_type": "markdown",
   "metadata": {},
   "source": [
    "**Note :** Les arguments ayant une valeur par défaut doivent être placés en dernier."
   ]
  },
  {
   "cell_type": "markdown",
   "metadata": {
    "slideshow": {
     "slide_type": "fragment"
    }
   },
   "source": [
    "### Utilisation des arguments par leur nom"
   ]
  },
  {
   "cell_type": "code",
   "execution_count": null,
   "metadata": {},
   "outputs": [],
   "source": [
    "print(somme(y=7, x=4))\n",
    "# L'ordre peut être changé lors de l'appel si les arguments sont nommés"
   ]
  },
  {
   "cell_type": "markdown",
   "metadata": {
    "slideshow": {
     "slide_type": "slide"
    }
   },
   "source": [
    "### Capture d'arguments non définis"
   ]
  },
  {
   "cell_type": "code",
   "execution_count": null,
   "metadata": {},
   "outputs": [],
   "source": [
    "def func(*args):\n",
    "    print(args[]) # args est un tuple dont les éléments sont les arguments passés lors de l'appel\n",
    "\n",
    "func(\"n'importe\", \"quel nombre et type de\", \"paramètres\", 5, [1, 'toto'], None)"
   ]
  },
  {
   "cell_type": "markdown",
   "metadata": {},
   "source": [
    "Arguments multiples : caractères **  \n",
    "- utilisé pour transmettre un nombre quelconque d’arguments nommés ;    \n",
    "- la fonction reçoit un objet de type dict ;  \n",
    "- utilise le caractère spécial **."
   ]
  },
  {
   "cell_type": "code",
   "execution_count": null,
   "metadata": {
    "slideshow": {
     "slide_type": "-"
    }
   },
   "outputs": [],
   "source": [
    "def func(**kwargs):\n",
    "    print(kwargs)  # kwargs est un dictionnaire dont les éléments sont les arguments nommés passés lors de l'appel\n",
    "    \n",
    "func(x=1, y=2, couleur='rouge', epaisseur=2)  "
   ]
  },
  {
   "cell_type": "markdown",
   "metadata": {
    "slideshow": {
     "slide_type": "subslide"
    }
   },
   "source": [
    "On peut combiner ce type d'arguments pour une même fonction :"
   ]
  },
  {
   "cell_type": "code",
   "execution_count": null,
   "metadata": {},
   "outputs": [],
   "source": [
    "def func(n, *args, **kwargs):  # cet ordre est important\n",
    "    print(\"n =\", n)\n",
    "    print(\"args =\", args)\n",
    "    print(\"kwargs =\", kwargs)\n",
    "    \n",
    "func(2, 'spam', 'egg', x=1, y=2, couleur='rouge', epaisseur=2)  "
   ]
  },
  {
   "cell_type": "code",
   "execution_count": null,
   "metadata": {},
   "outputs": [],
   "source": [
    "def f5(**x):\n",
    "    print(\"argument(s) reçu(s):\", x) \n",
    "    return"
   ]
  },
  {
   "cell_type": "code",
   "execution_count": null,
   "metadata": {},
   "outputs": [],
   "source": [
    "f5(a=2, b=1, z=2)"
   ]
  },
  {
   "cell_type": "code",
   "execution_count": null,
   "metadata": {},
   "outputs": [],
   "source": [
    "d={\"age\":22, \"poids\":54, \"yeux\":\"bleus\"}"
   ]
  },
  {
   "cell_type": "code",
   "execution_count": null,
   "metadata": {},
   "outputs": [],
   "source": [
    "f5(**d)"
   ]
  },
  {
   "cell_type": "markdown",
   "metadata": {
    "slideshow": {
     "slide_type": "slide"
    }
   },
   "source": [
    "## Espace de nommage et portée des variables\n",
    "\n",
    "### 1er exemple\n",
    "\n",
    "On veut illustrer le mécanisme de l'espace de nommage des variables :\n"
   ]
  },
  {
   "cell_type": "code",
   "execution_count": null,
   "metadata": {},
   "outputs": [],
   "source": [
    "def func1():\n",
    "    a = 1\n",
    "    return(a)\n",
    "\n",
    "def func2():\n",
    "    print(\"Dans func2(), a =\", a)\n",
    "    \n",
    "a = 2\n",
    "print(func1())\n",
    "func2()\n",
    "print(\"Dans l'espace englobant, a =\", a)"
   ]
  },
  {
   "cell_type": "markdown",
   "metadata": {},
   "source": [
    "Cet exemple montre que :\n",
    "\n",
    "1. Une variable définie localement à l'intérieur d'une fonction cache une variable du même nom définie dans l'espace englobant.\n",
    "2. Quand une variable n'est pas définie localement à l'intérieur d'une fonction, Python va chercher sa valeur dans l'espace englobant (cas de ``func2()``)."
   ]
  },
  {
   "cell_type": "markdown",
   "metadata": {
    "slideshow": {
     "slide_type": "subslide"
    }
   },
   "source": [
    "### 2ème exemple\n",
    "\n",
    "On veut illustrer le mécanisme de portée des variables au sein des fonctions :"
   ]
  },
  {
   "cell_type": "code",
   "execution_count": null,
   "metadata": {},
   "outputs": [],
   "source": [
    "def func():\n",
    "    a = 1\n",
    "    bbb = 2\n",
    "    print('Dans func(): a =', a)\n",
    "    \n",
    "a = 2\n",
    "func()\n",
    "print(\"Après func(): a =\", a)"
   ]
  },
  {
   "cell_type": "code",
   "execution_count": null,
   "metadata": {},
   "outputs": [],
   "source": [
    "print(\"Après func(): bbb =\", bbb)"
   ]
  },
  {
   "cell_type": "markdown",
   "metadata": {},
   "source": [
    "Les variables définies localement à l'intérieur d'une fonction sont détruites à la sortie de cette fonction. Ici, la variable ``b`` n'existe pas hors de la fonction ``func()``, donc Python renvoie une erreur si on essaye d'utiliser ``b`` depuis l'espace englobant :"
   ]
  },
  {
   "cell_type": "markdown",
   "metadata": {
    "slideshow": {
     "slide_type": "slide"
    }
   },
   "source": [
    "## Fonctions *built-in* (fonctions intégrées ou primitives)\n",
    "\n",
    "Ces fonctions sont disponibles dans tous les contextes. La liste complète est détaillée [ici](https://docs.python.org/3/library/functions.html#). En voici une sélection :\n",
    "\n",
    "- ``dir(obj)`` : retourne une liste des toutes les méthodes et attributs de l'objet ``obj``\n",
    "- ``dir()`` : retourne une liste de tous les objets du contexte courant\n",
    "- ``eval(expr)`` : analyse et exécute la chaîne de caractère ``expr``"
   ]
  },
  {
   "cell_type": "code",
   "execution_count": null,
   "metadata": {},
   "outputs": [],
   "source": [
    "a = 1\n",
    "b = eval('a + 1')\n",
    "print(\"b est de type\", type(b), \"et vaut\", b)"
   ]
  },
  {
   "cell_type": "markdown",
   "metadata": {},
   "source": [
    "- ``globals()`` : retourne un dictionnaire des variables présentes dans le contexte global\n",
    "- ``locals()`` : idem ``globals()`` mais avec le contexte local\n",
    "- ``help(obj)`` : affiche l’aide au sujet d’un objet\n",
    "- ``help()`` : affiche l’aide générale (s'appelle depuis l'interpréteur interactif)"
   ]
  },
  {
   "cell_type": "markdown",
   "metadata": {
    "slideshow": {
     "slide_type": "subslide"
    }
   },
   "source": [
    "- ``input(prompt)`` : retourne une chaîne de caractère lue dans la console après le message ``prompt``"
   ]
  },
  {
   "cell_type": "code",
   "execution_count": null,
   "metadata": {},
   "outputs": [],
   "source": [
    "locals()"
   ]
  },
  {
   "cell_type": "code",
   "execution_count": null,
   "metadata": {},
   "outputs": [],
   "source": [
    "globals()"
   ]
  },
  {
   "cell_type": "code",
   "execution_count": null,
   "metadata": {},
   "outputs": [],
   "source": []
  },
  {
   "cell_type": "code",
   "execution_count": null,
   "metadata": {},
   "outputs": [],
   "source": [
    "reponse = input('Ca va ? ')  # Seule la variante input() fonctionne dans un notebook\n",
    "if reponse.lower() in ('o', 'oui', 'yes', 'y', 'ok', 'da', 'jawohl', 'ja'):\n",
    "    print('Supercalifragilisticexpialidocious')\n",
    "else:\n",
    "    print('Faut prendre des vacances...')"
   ]
  },
  {
   "cell_type": "markdown",
   "metadata": {},
   "source": [
    "- ``len(seq)`` : retourne la longueur de la séquence ``seq``\n",
    "- ``max(seq)`` : retourne le maximum de la séquence ``seq`` \n",
    "- ``min(seq)`` : retourne le minimum de la séquence ``seq``"
   ]
  },
  {
   "cell_type": "markdown",
   "metadata": {
    "slideshow": {
     "slide_type": "subslide"
    }
   },
   "source": [
    "- ``range([start=0], stop[, step=1])`` : retourne une liste d'entiers allant de ``start`` à ``stop - 1``, par pas de ``step``."
   ]
  },
  {
   "cell_type": "code",
   "execution_count": null,
   "metadata": {},
   "outputs": [],
   "source": [
    "print(list(range(10)))\n",
    "print(list(range(5, 10, 2)))"
   ]
  },
  {
   "cell_type": "markdown",
   "metadata": {
    "slideshow": {
     "slide_type": "-"
    }
   },
   "source": [
    "- ``repr(obj)``: affiche la représentation de l'objet ``obj``.\n",
    "- ``reversed(seq)`` : retourne l’inverse de la séquence ``seq``"
   ]
  },
  {
   "cell_type": "code",
   "execution_count": null,
   "metadata": {},
   "outputs": [],
   "source": [
    "R=[i for i in reversed(range(10))]\n",
    "R"
   ]
  },
  {
   "cell_type": "code",
   "execution_count": null,
   "metadata": {},
   "outputs": [],
   "source": [
    "# des choses curieuses\n",
    "type(range(10)),type(reversed(range(10))),type(reversed(R))"
   ]
  },
  {
   "cell_type": "markdown",
   "metadata": {
    "slideshow": {
     "slide_type": "-"
    }
   },
   "source": [
    "- ``sorted(seq)`` : retourne une séquence triée à partir de la séquence ``seq``\n",
    "- ``sum(seq)`` : retourne la somme des éléments de la séquence ``seq``"
   ]
  },
  {
   "cell_type": "markdown",
   "metadata": {
    "slideshow": {
     "slide_type": "subslide"
    }
   },
   "source": [
    "## Exercices sur les fonctions"
   ]
  },
  {
   "cell_type": "markdown",
   "metadata": {
    "slideshow": {
     "slide_type": "-"
    }
   },
   "source": [
    "> **Exercice 1**\n",
    "\n",
    "> Ecrire une fonction ``stat()`` qui prend en argument une séquence d'entiers et retourne un tuple contenant :\n",
    ">\n",
    "> - la somme\n",
    "> - le minimum\n",
    "> - le maximum\n",
    ">\n",
    "> des éléments de la liste"
   ]
  },
  {
   "cell_type": "code",
   "execution_count": null,
   "metadata": {},
   "outputs": [],
   "source": [
    "def stat(a_list):\n",
    "    # votre fonction\n",
    "    pass\n",
    "\n",
    "stat([1, 4, 6, 9])"
   ]
  },
  {
   "cell_type": "markdown",
   "metadata": {
    "slideshow": {
     "slide_type": "slide"
    }
   },
   "source": [
    "# Exceptions\n",
    "\n",
    "Pour signaler des conditions particulières (erreurs, évenements exceptionnels), Python utilise un mécanisme de levée d'exceptions."
   ]
  },
  {
   "cell_type": "code",
   "execution_count": null,
   "metadata": {},
   "outputs": [],
   "source": [
    "# Cette cellule génère une erreur\n",
    "raise Exception"
   ]
  },
  {
   "cell_type": "markdown",
   "metadata": {
    "slideshow": {
     "slide_type": "fragment"
    }
   },
   "source": [
    "Ces exceptions peuvent embarquer des données permettant d'identifier l'évenement producteur."
   ]
  },
  {
   "cell_type": "code",
   "execution_count": null,
   "metadata": {},
   "outputs": [],
   "source": [
    "# Cette cellule génère une erreur\n",
    "raise Exception('Y a une erreur')"
   ]
  },
  {
   "cell_type": "markdown",
   "metadata": {
    "slideshow": {
     "slide_type": "subslide"
    }
   },
   "source": [
    "La levée d'une exception interrompt le cours normal de l'exécution du code et \"remonte\" jusqu'à l'endroit le plus proche gérant cette exception.\n",
    "\n",
    "Pour intercepter les exceptions, on écrit :\n",
    "\n",
    "    try:\n",
    "        <bloc de code 1>\n",
    "    except Exception:\n",
    "        <bloc de code 2>"
   ]
  },
  {
   "cell_type": "code",
   "execution_count": null,
   "metadata": {},
   "outputs": [],
   "source": [
    "try:\n",
    "    print('ici ca fonctionne')\n",
    "    # ici on détecte une condition exceptionnelle, on signale une exception\n",
    "    raise Exception('y a un bug')\n",
    "    print('on arrive jamais ici')\n",
    "except Exception as e:\n",
    "    # L'excécution continue ici\n",
    "    print(\"ici on peut essayer de corriger le problème lié à l'exception : Exception('%s')\" % str(e))\n",
    "print(\"et après, cela continue ici\")"
   ]
  },
  {
   "cell_type": "markdown",
   "metadata": {
    "slideshow": {
     "slide_type": "subslide"
    }
   },
   "source": [
    "Exemple illustrant le mécanisme de remontée des exceptions d'un bloc à l'autre :"
   ]
  },
  {
   "cell_type": "code",
   "execution_count": null,
   "metadata": {},
   "outputs": [],
   "source": [
    "def a():\n",
    "    raise Exception('coucou de A')\n",
    "\n",
    "def b():\n",
    "    print('début B')\n",
    "    a()\n",
    "    print('B n\\'est pas fini')\n",
    "\n",
    "try:\n",
    "    b()\n",
    "except Exception as e:\n",
    "    print(\"l'exception vous envoie le message :\", e)"
   ]
  },
  {
   "cell_type": "markdown",
   "metadata": {
    "slideshow": {
     "slide_type": "subslide"
    }
   },
   "source": [
    "> **Exercice** : Ecrivez une fonction qui demande à l'utilisateur un fichier a ouvrir, et qui gère correctement les fichiers inexistants. Ensuite cette fonction affichera la première ligne du fichier. Finalement la fonction retournera une valeur booléenne indiquant que le fichier a été ouvert ou non.\n",
    "\n",
    "Attention: sous windows, par defaut les extensions de fichier sont cachées..."
   ]
  },
  {
   "cell_type": "code",
   "execution_count": null,
   "metadata": {},
   "outputs": [],
   "source": [
    "# Votre code ici"
   ]
  },
  {
   "cell_type": "markdown",
   "metadata": {},
   "source": [
    "Pour plus d'informations sur les exceptions, se référer [ici](https://docs.python.org/3/tutorial/errors.html)"
   ]
  },
  {
   "cell_type": "markdown",
   "metadata": {
    "slideshow": {
     "slide_type": "slide"
    }
   },
   "source": [
    "# Les gestionnaires de contexte\n",
    "\n",
    "Pour faciliter la gestion des obligations liées à la libération de ressources, la fermeture de fichiers, etc... Python propose des gestionnaires de contexte introduits par le mot clé ``with``."
   ]
  },
  {
   "cell_type": "code",
   "execution_count": null,
   "metadata": {},
   "outputs": [],
   "source": [
    "with open('interessant.txt', 'r') as fichier_ouvert:\n",
    "    # Dans ce bloc de code le fichier est ouvert en lecture, on peut l'utiliser normalement\n",
    "    print(fichier_ouvert.read())\n",
    "# Ici, on est sorti du bloc et du contexte, le fichier à été fermé automatiquement"
   ]
  },
  {
   "cell_type": "code",
   "execution_count": null,
   "metadata": {},
   "outputs": [],
   "source": [
    "# Cette cellule génère une erreur\n",
    "print(fichier_ouvert.read())"
   ]
  },
  {
   "cell_type": "markdown",
   "metadata": {
    "slideshow": {
     "slide_type": "subslide"
    }
   },
   "source": [
    "> **Exercice** : Reprenez le code de l'exercice précédent, et utilisez ``with`` pour ne pas avoir à utiliser la méthode ``close()``."
   ]
  },
  {
   "cell_type": "code",
   "execution_count": null,
   "metadata": {},
   "outputs": [],
   "source": [
    "# Votre code ici"
   ]
  },
  {
   "cell_type": "markdown",
   "metadata": {
    "slideshow": {
     "slide_type": "-"
    }
   },
   "source": [
    "Il est possible de créer de nouveaux gestionnaires de contexte, pour que vos objets puissent être utilisés avec ``with`` et que les ressources associées soient correctement libérées.\n",
    "\n",
    "Pour plus d'informations sur la création de gestionnaires de contexte, voir [ici](https://docs.python.org/3/library/stdtypes.html#context-manager-types)."
   ]
  },
  {
   "cell_type": "markdown",
   "metadata": {
    "slideshow": {
     "slide_type": "subslide"
    }
   },
   "source": [
    "# Les compréhensions de listes\n",
    "\n",
    "Python a introduit une facilité d'écriture pour les listes qui permet de rendre le code plus lisible car plus concis."
   ]
  },
  {
   "cell_type": "code",
   "execution_count": null,
   "metadata": {},
   "outputs": [],
   "source": [
    "# Ce code construit une liste ne contenant que les éléments pairs de la liste Liste1\n",
    "Liste1 = list(range(10))\n",
    "print(Liste1)\n",
    "ListePaire = []\n",
    "for i in Liste1:\n",
    "    if (i % 2) == 0:\n",
    "        ListePaire.append(i)\n",
    "print(ListePaire)"
   ]
  },
  {
   "cell_type": "code",
   "execution_count": null,
   "metadata": {},
   "outputs": [],
   "source": [
    "Liste1"
   ]
  },
  {
   "cell_type": "code",
   "execution_count": null,
   "metadata": {
    "slideshow": {
     "slide_type": "fragment"
    }
   },
   "outputs": [],
   "source": [
    "# Ici, on fait la même chose, en liste...\n",
    "ListePaire = [i for i in Liste1 if (i % 2) == 0]\n",
    "print(ListePaire)"
   ]
  },
  {
   "cell_type": "markdown",
   "metadata": {},
   "source": [
    "Cette concision peut être utile, mais n'en abusez pas, si vous commencez a avoir une compréhension de liste trop complexe a écrire en une simple ligne, faites le \"normalement\", avec les boucles et conditions explicites.  \n",
    "Plus d'informations [ici](https://docs.python.org/3/tutorial/datastructures.html#list-comprehensions)."
   ]
  },
  {
   "cell_type": "markdown",
   "metadata": {
    "slideshow": {
     "slide_type": "slide"
    }
   },
   "source": [
    "# Les expressions génératrices\n",
    "\n",
    "C'est une forme d'écriture, très proche des compréhensions de listes, mais qui ne crée pas de nouvel objet liste immédiatement. Les items sont produits à la demande."
   ]
  },
  {
   "cell_type": "code",
   "execution_count": null,
   "metadata": {},
   "outputs": [],
   "source": [
    "tuplePairs = (i for i in Liste1 if (i % 2) == 0)\n",
    "print(tuplePairs)\n",
    "print(list(tuplePairs))"
   ]
  },
  {
   "cell_type": "markdown",
   "metadata": {},
   "source": [
    "Plus d'informations [ici](https://docs.python.org/3/tutorial/classes.html#generator-expressions)."
   ]
  },
  {
   "cell_type": "markdown",
   "metadata": {
    "slideshow": {
     "slide_type": "slide"
    }
   },
   "source": [
    "# Modules\n",
    "\n",
    "- Python fournit un système de modularisation du code qui permet d'organiser un projet contenant de grandes quantités de code et de réutiliser et de partager ce code entre plusieurs applications.\n",
    "\n",
    "- L'instruction ``import`` permet d'accéder à du code situé dans d'autres fichiers. Cela inclut les nombreux modules de la librairie standard, tout comme vos propres fichiers contenant du code.\n",
    "\n",
    "- Les fonctions et variables du module sont accessibles de la manière suivante :\n",
    "\n",
    "\n",
    "    <nom du module>.<nom de variable>\n",
    "    <nom du module>.<nom de fonction>([<parametre1>][, <parametre N>]...)\n",
    "    "
   ]
  },
  {
   "cell_type": "code",
   "execution_count": null,
   "metadata": {},
   "outputs": [],
   "source": [
    "# Pour utiliser les fonctions mathématiques du module 'math'\n",
    "import math\n",
    "\n",
    "pi = math.pi\n",
    "print('%.75f' % pi)\n",
    "print('%.2f' % math.sin(pi))"
   ]
  },
  {
   "cell_type": "markdown",
   "metadata": {
    "slideshow": {
     "slide_type": "subslide"
    }
   },
   "source": [
    "Pour créer vos propres modules, il suffit de placer votre code dans un fichier avec l'extension '.py', et ensuite vous pourrez l'importer comme module dans le reste de votre code.\n",
    "\n",
    "Il y a un fichier mon_module.py a coté du notebook, il contient du code définissant ``ma_variable`` et ``ma_fonction()``."
   ]
  },
  {
   "cell_type": "code",
   "execution_count": null,
   "metadata": {},
   "outputs": [],
   "source": [
    "import mon_module\n",
    "print(mon_module.ma_variable)\n",
    "mon_module.ma_fonction()  # On accede ainsi à l'attribut ma_fonction() du module mon_module"
   ]
  },
  {
   "cell_type": "markdown",
   "metadata": {
    "slideshow": {
     "slide_type": "subslide"
    }
   },
   "source": [
    "On peut importer un module sous un autre nom (pour le raccourcir, en général) :"
   ]
  },
  {
   "cell_type": "code",
   "execution_count": null,
   "metadata": {},
   "outputs": [],
   "source": [
    "import mon_module as mm\n",
    "mm.ma_fonction()"
   ]
  },
  {
   "cell_type": "markdown",
   "metadata": {},
   "source": [
    "**Note** : un module n'est importé qu'une seule fois au sein d'une même instance Python."
   ]
  },
  {
   "cell_type": "markdown",
   "metadata": {},
   "source": [
    "> **Exercice** : Modifiez le code contenu dans le fichier [mon_module.py](http://localhost:8888/edit/mon_module.py), et reexécutez la cellule ci-dessus."
   ]
  },
  {
   "cell_type": "markdown",
   "metadata": {},
   "source": [
    "Pour plus d'informations sur les modules, allez voir [ici](https://docs.python.org/3/tutorial/modules.html)."
   ]
  },
  {
   "cell_type": "markdown",
   "metadata": {
    "slideshow": {
     "slide_type": "subslide"
    }
   },
   "source": [
    "## Quelques modules de la stdlib\n",
    "\n",
    "La librairie standard de Python est incluse dans toute distribution de Python. Elle contient en particulier une panoplie de modules à la disposition du développeur.\n",
    "\n",
    "### ``string``\n",
    "\n",
    "- ``find()``\n",
    "- ``count()``\n",
    "- ``split()``\n",
    "- ``join()``\n",
    "- ``strip()``\n",
    "- ``upper()``\n",
    "- ``replace()``"
   ]
  },
  {
   "cell_type": "markdown",
   "metadata": {
    "slideshow": {
     "slide_type": "subslide"
    }
   },
   "source": [
    "### ``math``\n",
    "\n",
    "- ``log()``\n",
    "- ``sqrt()``\n",
    "- ``cos()``\n",
    "- ``pi``\n",
    "- ``e``"
   ]
  },
  {
   "cell_type": "markdown",
   "metadata": {
    "slideshow": {
     "slide_type": "subslide"
    }
   },
   "source": [
    "### ``os``\n",
    "\n",
    "- ``listdir()``\n",
    "- ``getcwd()``\n",
    "- ``getenv()``\n",
    "- ``chdir()``\n",
    "- ``environ()``\n",
    "- ``os.path : exists(), getsize(), isdir(), join()``"
   ]
  },
  {
   "cell_type": "markdown",
   "metadata": {
    "slideshow": {
     "slide_type": "subslide"
    }
   },
   "source": [
    "### ``sys``\n",
    "- ``argv``\n",
    "- ``exit()``\n",
    "- ``path``"
   ]
  },
  {
   "cell_type": "markdown",
   "metadata": {},
   "source": [
    "Mais bien plus sur la [doc officielle de la stdlib](https://docs.python.org/3/library/) !"
   ]
  },
  {
   "cell_type": "markdown",
   "metadata": {
    "slideshow": {
     "slide_type": "subslide"
    }
   },
   "source": [
    "### Vérificateurs de code source\n",
    "\n",
    "* [pep8](https://pypi.python.org/pypi/pep8)\n",
    "* [pylint](http://www.pylint.org)\n",
    "\n",
    "### Documentation dans le code\n",
    "\n",
    "* [docstring](https://www.python.org/dev/peps/pep-0257)"
   ]
  },
  {
   "cell_type": "markdown",
   "metadata": {
    "slideshow": {
     "slide_type": "subslide"
    }
   },
   "source": [
    "### Automatisation de tests, environnements virtuels :\n",
    "\n",
    "* [unittest](https://docs.python.org/3/library/unittest.html)\n",
    "* [doctest](https://docs.python.org/3/library/doctest.html)\n",
    "* [nose](http://readthedocs.org/docs/nose)\n",
    "* [py.test](http://pytest.org)\n",
    "* [tox](http://tox.testrun.org)\n",
    "* [virtualenv](https://virtualenv.pypa.io)"
   ]
  },
  {
   "cell_type": "markdown",
   "metadata": {},
   "source": [
    "## Récursivité\n",
    "\n",
    "Les fonctions dites \"récursives\" sont des fonctions qui font appel à elles-même, en résolvant une partie plus petite du problème à chaque appel, jusqu'à avoir un cas trivial à résoudre.\n",
    "\n",
    "Par exemple pour calculer : \"la somme de tout les nombres de 0 jusqu'à x\", on peut utiliser une fonction récursive:\n",
    "\n",
    "La somme de tous les nombres de 0 à 10 est égale à 10 plus la somme de tous les nombres de 0 à 9, etc...\n"
   ]
  },
  {
   "cell_type": "code",
   "execution_count": null,
   "metadata": {},
   "outputs": [],
   "source": [
    "def sum_to(x):\n",
    "    if x == 0:\n",
    "        return 0\n",
    "    return x + sum_to(x - 1)"
   ]
  },
  {
   "cell_type": "code",
   "execution_count": null,
   "metadata": {},
   "outputs": [],
   "source": [
    "print(sum_to(9))"
   ]
  },
  {
   "cell_type": "markdown",
   "metadata": {},
   "source": [
    "La fonction mathématique factorielle est similaire, mais calcule : \"le produit de tout les nombres de 1 jusqu'à x\"."
   ]
  },
  {
   "cell_type": "code",
   "execution_count": null,
   "metadata": {},
   "outputs": [],
   "source": [
    "def fact(x):\n",
    "    if x == 1:\n",
    "        return 1\n",
    "    return x * fact(x - 1)"
   ]
  },
  {
   "cell_type": "code",
   "execution_count": null,
   "metadata": {},
   "outputs": [],
   "source": [
    "print(fact(5), fact(9))"
   ]
  },
  {
   "cell_type": "markdown",
   "metadata": {},
   "source": [
    "La fonction mathématique qui calcule [la suite des nombres de Fibonacci](https://fr.wikipedia.org/wiki/Suite_de_Fibonacci), peut être décrite comme suit:\n",
    "\n",
    "- ``fibo(0) = 0``\n",
    "- ``fibo(1) = 1``\n",
    "\n",
    "Et pour toutes les autres valeurs:\n",
    "\n",
    "- ``fibo(x) = fibo(x - 1) + fibo(x - 2)``\n",
    "\n",
    "> **Exercice** : écrivez une fonction récursive ``fibo(x)`` qui renvoie le x-ième nombre de la suite de Fibonnaci."
   ]
  },
  {
   "cell_type": "code",
   "execution_count": null,
   "metadata": {},
   "outputs": [],
   "source": [
    "def fibo(x):\n",
    "    # Votre code ici\n",
    "    pass"
   ]
  },
  {
   "cell_type": "code",
   "execution_count": null,
   "metadata": {},
   "outputs": [],
   "source": [
    "print(fibo(9))"
   ]
  },
  {
   "cell_type": "code",
   "execution_count": null,
   "metadata": {},
   "outputs": [],
   "source": []
  }
 ],
 "metadata": {
  "kernelspec": {
   "display_name": "Python 3 (ipykernel)",
   "language": "python",
   "name": "python3"
  },
  "language_info": {
   "codemirror_mode": {
    "name": "ipython",
    "version": 3
   },
   "file_extension": ".py",
   "mimetype": "text/x-python",
   "name": "python",
   "nbconvert_exporter": "python",
   "pygments_lexer": "ipython3",
   "version": "3.12.2"
  }
 },
 "nbformat": 4,
 "nbformat_minor": 4
}
