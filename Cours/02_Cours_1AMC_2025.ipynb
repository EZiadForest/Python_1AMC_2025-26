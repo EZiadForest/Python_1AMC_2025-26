{
 "cells": [
  {
   "cell_type": "markdown",
   "metadata": {
    "slideshow": {
     "slide_type": "slide"
    }
   },
   "source": [
    "![](fig/logoENSI.png)\n",
    " ![](fig/logoPython.png)\n",
    "\n",
    "\n",
    "# Introduction à la Programmation \n",
    "# Langage Python  -2-\n",
    "***\n",
    "**ENSICAEN  1A MC** \n",
    "Septembre 2025\n",
    "## Eric Ziad-Forest\n",
    "\n",
    "***\n",
    "\n",
    "**Auteurs :**\n",
    "\n",
    "- Vincent Legoll ([vincent.legoll@iphc.cnrs.fr](mailto: vincent.legoll@iphc.cnrs.fr))\n",
    "- Matthieu Boileau ([matthieu.boileau@math.unistra.fr](mailto: matthieu.boileau@math.unistra.fr))\n",
    "- Eric Ziad-Forest ([ziad@ensicaen.fr](mailto: ziad@ensicaen.fr))\n",
    "\n",
    "*Contenu sous licence [CC BY-SA 4.0](https://creativecommons.org/licenses/by-sa/4.0)*\n",
    "\n",
    "***\n",
    "\n",
    "## Sommaire\n",
    "\n",
    "- Opérateurs\n",
    "- Structures de contrôle\n",
    "- Les compréhensions de listes\n",
    "- Bonnes pratiques\n",
    "- Récursivité\n",
    "- Pour les plus avancés\n"
   ]
  },
  {
   "cell_type": "markdown",
   "metadata": {
    "slideshow": {
     "slide_type": "slide"
    }
   },
   "source": [
    "# Opérateurs\n",
    "\n",
    "## Arithmétiques\n",
    "\n",
    "    +, -, *, /, //, %, **\n",
    "\n",
    "Les classiques se comportent **normalement**, pas besoin d'entrer dans les détails."
   ]
  },
  {
   "cell_type": "code",
   "execution_count": null,
   "metadata": {},
   "outputs": [],
   "source": [
    "type(2+6)"
   ]
  },
  {
   "cell_type": "markdown",
   "metadata": {
    "slideshow": {
     "slide_type": "fragment"
    }
   },
   "source": [
    "### Particularités de la division :"
   ]
  },
  {
   "cell_type": "code",
   "execution_count": null,
   "metadata": {},
   "outputs": [],
   "source": [
    "# Avec des nombres entiers\n",
    "print(16 / 3)  # Quotient de la division euclidienne (produit un réel)\n",
    "print(16 // 3) # Quotient de la division euclidienne (produit un entier)\n",
    "print(16 % 3)  # Reste de la division euclidienne (produit un entier)\n",
    "\n",
    "# Avec des nombres flottants\n",
    "print(16. / 3)  # Division (produit un réel)\n",
    "print(16. // 3) # Quotient de la division (produit un réel)\n",
    "print(16. % 3)  # Reste de la division ou modulo (produit un réel)"
   ]
  },
  {
   "cell_type": "markdown",
   "metadata": {
    "slideshow": {
     "slide_type": "fragment"
    }
   },
   "source": [
    "### Puissance :"
   ]
  },
  {
   "cell_type": "code",
   "execution_count": null,
   "metadata": {},
   "outputs": [],
   "source": [
    "print(2 ** 10)\n",
    "# On peut aussi utiliser la fonction pow() du module math, mais celui-ci renvoie un réel...\n",
    "import math\n",
    "print(math.pow(2, 10))"
   ]
  },
  {
   "cell_type": "markdown",
   "metadata": {
    "slideshow": {
     "slide_type": "subslide"
    }
   },
   "source": [
    "## Logiques (retournent une valeur booléenne)\n",
    "\n",
    "    and, or, not\n"
   ]
  },
  {
   "cell_type": "code",
   "execution_count": null,
   "metadata": {},
   "outputs": [],
   "source": [
    "print(True or False)\n",
    "print(True and False)\n",
    "print(not True)\n",
    "print(not False)\n",
    "print(not [])\n",
    "print(not (1, 2, 3))"
   ]
  },
  {
   "cell_type": "markdown",
   "metadata": {},
   "source": [
    "Attention, ce sont des opérateurs \"court-circuit\" :"
   ]
  },
  {
   "cell_type": "code",
   "execution_count": null,
   "metadata": {},
   "outputs": [],
   "source": [
    "a = True\n",
    "b = False and a  # b vaut False sans que a soit évalué\n",
    "c = True or a    # c vaut True, sans que a soit évalué\n",
    "a,b,c"
   ]
  },
  {
   "cell_type": "markdown",
   "metadata": {
    "slideshow": {
     "slide_type": "subslide"
    }
   },
   "source": [
    "Pour s'en convaincre :"
   ]
  },
  {
   "cell_type": "code",
   "execution_count": null,
   "metadata": {
    "slideshow": {
     "slide_type": "-"
    }
   },
   "outputs": [],
   "source": [
    "True or print(\"nicht a kurz schluss\")"
   ]
  },
  {
   "cell_type": "code",
   "execution_count": null,
   "metadata": {
    "slideshow": {
     "slide_type": "-"
    }
   },
   "outputs": [],
   "source": [
    "False and print(\"not a short circuit\")"
   ]
  },
  {
   "cell_type": "code",
   "execution_count": null,
   "metadata": {
    "slideshow": {
     "slide_type": "-"
    }
   },
   "outputs": [],
   "source": [
    "print('on a prouvé que ce sont des opérateurs \"court-circuit\"...')"
   ]
  },
  {
   "cell_type": "markdown",
   "metadata": {},
   "source": [
    "> **Exercice :** Modifiez les valeurs True et False dans la cellule précédente, pour visualiser le fonctionnement de ces opérateurs."
   ]
  },
  {
   "cell_type": "markdown",
   "metadata": {
    "slideshow": {
     "slide_type": "subslide"
    }
   },
   "source": [
    "## Comparaison\n",
    "\n",
    "    ==, is, !=, is not, >, >=, <, <=\n",
    "    \n",
    "L'évaluation de ces opérateurs retourne une valeur booléenne."
   ]
  },
  {
   "cell_type": "code",
   "execution_count": null,
   "metadata": {},
   "outputs": [],
   "source": [
    "print(2 == 2)\n",
    "print(2 != 2)\n",
    "print(2 == 2.0)\n",
    "print(type(2) is int)"
   ]
  },
  {
   "cell_type": "markdown",
   "metadata": {
    "slideshow": {
     "slide_type": "fragment"
    }
   },
   "source": [
    "On peut utiliser ces opérateurs avec des variables et des appels à des fonctions."
   ]
  },
  {
   "cell_type": "code",
   "execution_count": null,
   "metadata": {},
   "outputs": [],
   "source": [
    "x = 3\n",
    "print(1 > x)\n",
    "y = [0, 1, 42, 0]\n",
    "print(x <= max(y))\n",
    "print(x <= min(y))"
   ]
  },
  {
   "cell_type": "markdown",
   "metadata": {
    "slideshow": {
     "slide_type": "subslide"
    }
   },
   "source": [
    "On peut chaîner ces opérateurs, mais ils fonctionnent en mode \"court-circuit\" et l'opérande central n'est évaluée qu'une seule fois."
   ]
  },
  {
   "cell_type": "code",
   "execution_count": null,
   "metadata": {},
   "outputs": [],
   "source": [
    "x = 3\n",
    "print(2 < x <= 9) # équivalent à 2 < x and x <= 9"
   ]
  },
  {
   "cell_type": "markdown",
   "metadata": {
    "slideshow": {
     "slide_type": "fragment"
    }
   },
   "source": [
    "Attention : comparer des types non numériques peut avoir des résultats surprenants."
   ]
  },
  {
   "cell_type": "code",
   "execution_count": null,
   "metadata": {},
   "outputs": [],
   "source": [
    "# Chaînes de caractères\n",
    "print(\"aaa\" < \"abc\")\n",
    "print(\"aaa\" < \"aaaa\")\n",
    "print(22 < 3.0)"
   ]
  },
  {
   "cell_type": "code",
   "execution_count": null,
   "metadata": {},
   "outputs": [],
   "source": [
    "# Listes\n",
    "print([1, 2, 3, 4] > [42, 42])\n",
    "print([666] > [42, 42])"
   ]
  },
  {
   "cell_type": "markdown",
   "metadata": {
    "slideshow": {
     "slide_type": "subslide"
    }
   },
   "source": [
    "Attention : comparer des types incompatibles peut avoir des résultats surprenants."
   ]
  },
  {
   "cell_type": "code",
   "execution_count": null,
   "metadata": {
    "jupyter": {
     "source_hidden": true
    }
   },
   "outputs": [],
   "source": [
    "# Cette cellule génère des erreurs\n",
    "print('chaîne:\\t', \"a\" < 2)"
   ]
  },
  {
   "cell_type": "code",
   "execution_count": null,
   "metadata": {},
   "outputs": [],
   "source": [
    "print('liste:\\t', [\"zogzog\"] > 42)"
   ]
  },
  {
   "cell_type": "code",
   "execution_count": null,
   "metadata": {},
   "outputs": [],
   "source": [
    "print('vide:\\t', [] > 1)"
   ]
  },
  {
   "cell_type": "code",
   "execution_count": null,
   "metadata": {},
   "outputs": [],
   "source": [
    "print('tuple:\\t', [23, 24] >= (23, 24))"
   ]
  },
  {
   "cell_type": "code",
   "execution_count": null,
   "metadata": {},
   "outputs": [],
   "source": [
    "print('dict:\\t', [23, 24] >= {23: True, 24: \"c'est pas faux\"})"
   ]
  },
  {
   "cell_type": "markdown",
   "metadata": {
    "slideshow": {
     "slide_type": "subslide"
    }
   },
   "source": [
    "Attention, l'égalité de valeur n'implique pas forcément que l'identité des objets comparés est la même."
   ]
  },
  {
   "cell_type": "code",
   "execution_count": null,
   "metadata": {},
   "outputs": [],
   "source": [
    "a = []\n",
    "b = []\n",
    "c = a\n",
    "\n",
    "print(a == b) # comparaison de valeur\n",
    "print(a is b) # test d'identité"
   ]
  },
  {
   "cell_type": "markdown",
   "metadata": {
    "slideshow": {
     "slide_type": "fragment"
    }
   },
   "source": [
    "Mais des variables différentes peuvent référencer le même objet."
   ]
  },
  {
   "cell_type": "code",
   "execution_count": null,
   "metadata": {},
   "outputs": [],
   "source": [
    "print(a == c) # comparaison de valeur\n",
    "print(a is c) # test d'identité"
   ]
  },
  {
   "cell_type": "markdown",
   "metadata": {
    "slideshow": {
     "slide_type": "subslide"
    }
   },
   "source": [
    "## Assignation augmentée (ou incrémentation-décrémentation)\n",
    "\n",
    "    += -= /="
   ]
  },
  {
   "cell_type": "code",
   "execution_count": null,
   "metadata": {},
   "outputs": [],
   "source": [
    "a = 4\n",
    "a += 1  # <=> a = a + 1\n",
    "print(a)\n",
    "a //= 2\n",
    "print(a)\n",
    "a **= 3\n",
    "print(a)\n",
    "a %= 2\n",
    "print(a)"
   ]
  },
  {
   "cell_type": "markdown",
   "metadata": {
    "slideshow": {
     "slide_type": "subslide"
    }
   },
   "source": [
    "## Compatibilité de type, coercition de type (cast)\n",
    "\n",
    "Python effectue certaines conversions implicites, quand cela ne perd pas d'information (par ex. de entier court vers entier long)."
   ]
  },
  {
   "cell_type": "code",
   "execution_count": null,
   "metadata": {},
   "outputs": [],
   "source": [
    "print(111) # Ecriture en base 10\n",
    "print(0b111) # Ecriture en base 2 (binaire)\n",
    "print(0o111) # Ecriture en base 8 (octale)\n",
    "print(0x111) # Ecriture en base 16 (hexadécimale)"
   ]
  },
  {
   "cell_type": "code",
   "execution_count": null,
   "metadata": {},
   "outputs": [],
   "source": [
    "print(1 + 1.0) # entier + float = float\n",
    "print(0b1 + 0b11) # addition en binaires résultat en base 10\n",
    "print(1.0 + 0o17 + 0b11 + 0xB) "
   ]
  },
  {
   "cell_type": "markdown",
   "metadata": {
    "slideshow": {
     "slide_type": "subslide"
    }
   },
   "source": [
    "Mais dans d'autres cas, la conversion doit être explicite."
   ]
  },
  {
   "cell_type": "code",
   "execution_count": null,
   "metadata": {},
   "outputs": [],
   "source": [
    "# Cette cellule génère une erreur\n",
    "print(1 + '1')"
   ]
  },
  {
   "cell_type": "markdown",
   "metadata": {
    "slideshow": {
     "slide_type": "fragment"
    }
   },
   "source": [
    "> **Exercice** :\n",
    ">\n",
    "> Sans enlever le '+':\n",
    ">\n",
    "> 1. Corrigez le code de la cellule ci dessus, afin d'afficher la chaine 11\n",
    "> 2. Corrigez le code de la cellule ci dessus, afin d'afficher le nombre 2\n",
    "> 3. Corrigez le code de la cellule ci dessus, afin d'afficher le nombre 11"
   ]
  },
  {
   "cell_type": "code",
   "execution_count": null,
   "metadata": {},
   "outputs": [],
   "source": [
    "print(1 + '1')"
   ]
  },
  {
   "cell_type": "markdown",
   "metadata": {
    "slideshow": {
     "slide_type": "subslide"
    }
   },
   "source": [
    "## Priorité des opérateurs\n",
    "\n",
    "Les opérateurs ont en python des priorités classiques.\n",
    "\n",
    "Par exemple, dans l'ordre:\n",
    "\n",
    "- puissance : ``**``\n",
    "- multiplication, division : ``*`` et ``/``\n",
    "- addition, soustraction : ``+`` et ``-``\n",
    "\n",
    "etc...\n",
    "\n",
    "Utilisez des parenthèses quand cela aide a la lisibilité et à la clarté.\n",
    "\n",
    "Une priorité explicitée avec des parenthèses est souvent plus facile à relire que s'il n'y en a pas et qu'il faut se remémorer les règles.\n",
    "\n",
    "Pour plus d'informations, voir [ici](https://docs.python.org/3/reference/expressions.html)"
   ]
  },
  {
   "cell_type": "markdown",
   "metadata": {
    "slideshow": {
     "slide_type": "slide"
    }
   },
   "source": [
    "## La mise en page comme syntaxe\n",
    "\n",
    "- La mise en page est importante en python, c'est une différence majeure avec les autres langages (Java, C++, etc.)\n",
    "- Python utilise **l'indentation** du code avec des caractères blancs (4 espaces) plutôt que des mots clés (begin/end ou des symboles ``{}`` en java C et C++). Cela permet de rendre le code plus compact.  \n",
    "- Elle va servir a délimiter des `blocs` de code sur lesquels les structures de contrôle comme les boucles ou les tests de conditions vont s'appliquer.\n",
    "- De toute façon, dans les autres langages, on indente aussi le code pour l'aspect visuel et la lisibilité.\n",
    "- L'indentation faisant partie de la syntaxe du langage, il faut y préter une grande attention, et être rigoureux quant au mélange de caractères blancs TAB et ESPACE. Car cela peut conduire à des erreurs à l'exécution voire des comportements erratiques.\n",
    "- Dans un programme python, *la durée de vie d'une variable* est celle du bloc qui contient sa première assignation."
   ]
  },
  {
   "cell_type": "markdown",
   "metadata": {
    "slideshow": {
     "slide_type": "slide"
    }
   },
   "source": [
    "# Structures de contrôle\n",
    "\n",
    "- La mise en page comme syntaxe\n",
    "- ``pass``\n",
    "- tests conditionels : ``if/elif/else``\n",
    "- boucles\n",
    "\t* ``for elt in liste``\n",
    "    * ``for idx in range(len(liste))``\n",
    "\t* ``while``\n",
    "\t* ``break``\n",
    "\t* ``continue``"
   ]
  },
  {
   "cell_type": "markdown",
   "metadata": {
    "slideshow": {
     "slide_type": "slide"
    }
   },
   "source": [
    "## Tests conditionnels\n",
    "\n",
    "Les instructions ``if/elif/else`` permettent d'exécuter des blocs d'instructions en fonction de conditions : \n",
    "\n",
    "    if <test1>:\n",
    "        <bloc d'instructions 1>\n",
    "    [elif <test2>:\n",
    "        <bloc d'instructions 2>]\n",
    "    [else:\n",
    "        <bloc d'instructions 3>]\n",
    "\n",
    "<img src=\"fig/if.png\" alt=\"if\" width=\"500\" />\n",
    "<img src=\"fig/if_else.png\" alt=\"if\" width=\"500\" />\n",
    " \n",
    "  \n",
    "  Pour les connaisseurs ``elif`` est similaire au ``switch`` en C et C++..."
   ]
  },
  {
   "cell_type": "code",
   "execution_count": null,
   "metadata": {},
   "outputs": [],
   "source": [
    "if True:\n",
    "    print(\"c'est vrai!\")"
   ]
  },
  {
   "cell_type": "code",
   "execution_count": null,
   "metadata": {},
   "outputs": [],
   "source": [
    "if False:\n",
    "    print(\"je suis caché!\")\n",
    "else:\n",
    "    print(\"mais moi je suis en pleine lumière...\")"
   ]
  },
  {
   "cell_type": "markdown",
   "metadata": {},
   "source": [
    "> **Exercice** : changez le True en False, et observez quelles lignes de code ne sont plus exécutées."
   ]
  },
  {
   "cell_type": "markdown",
   "metadata": {
    "slideshow": {
     "slide_type": "subslide"
    }
   },
   "source": [
    "Pour cet exemple, on itère sur les éléments d'un tuple (cf. boucle for plus loin)"
   ]
  },
  {
   "cell_type": "code",
   "execution_count": null,
   "metadata": {
    "slideshow": {
     "slide_type": "subslide"
    }
   },
   "outputs": [],
   "source": [
    "for position in 2, 9, 3, 1, 8:\n",
    "    if position == 1:\n",
    "        print(position, \"Or\")\n",
    "    elif position == 2:\n",
    "        print(position, \"Argent\")\n",
    "    elif position == 3:\n",
    "        print(position, \"Bronze\")\n",
    "    else:\n",
    "        print(position, \"Vestiaires\")"
   ]
  },
  {
   "cell_type": "code",
   "execution_count": null,
   "metadata": {},
   "outputs": [],
   "source": []
  },
  {
   "cell_type": "markdown",
   "metadata": {},
   "source": [
    "> **Exercices** :\n",
    ">\n",
    "> 1. Editez la cellule pour y mettre votre taille et exécutez-la pour savoir si vous êtes grand ou petit.\n",
    "> 2. Gérez le cas des gens de taille moyenne.\n",
    "> 3. Utilisez la fonction input() pour demander sa taille à l'utilisateur."
   ]
  },
  {
   "cell_type": "code",
   "execution_count": null,
   "metadata": {},
   "outputs": [],
   "source": []
  },
  {
   "cell_type": "code",
   "execution_count": null,
   "metadata": {
    "slideshow": {
     "slide_type": "subslide"
    }
   },
   "outputs": [],
   "source": [
    "taille = 1.90\n",
    "if taille >= 1.70: # La taille moyenne en France\n",
    "    print('grand')\n",
    "else:\n",
    "    print('petit')"
   ]
  },
  {
   "cell_type": "code",
   "execution_count": null,
   "metadata": {
    "slideshow": {
     "slide_type": "subslide"
    }
   },
   "outputs": [],
   "source": [
    "if True:  # Attention à l'initiale en lettre capitale pour True et False\n",
    "    print(\"toutes\")\n",
    "    print(\"les\")\n",
    "    print(\"lignes\")\n",
    "    print(\"au même niveau d'indentation forment un bloc de code\")\n",
    "print('et quand on remonte, on \"termine\" un bloc de code')"
   ]
  },
  {
   "cell_type": "markdown",
   "metadata": {},
   "source": [
    "### d'autres exemples"
   ]
  },
  {
   "cell_type": "code",
   "execution_count": null,
   "metadata": {},
   "outputs": [],
   "source": [
    "v = 2\n",
    "if v == 2 :\n",
    "    print (\"v est égal à 2\")\n",
    "else :\n",
    "    print (\"v n'est pas égal à 2\")"
   ]
  },
  {
   "cell_type": "markdown",
   "metadata": {},
   "source": [
    "La clause ``else`` n'est obligatoire :"
   ]
  },
  {
   "cell_type": "code",
   "execution_count": null,
   "metadata": {},
   "outputs": [],
   "source": [
    "v = 2\n",
    "if v == 2 :\n",
    "    print (\"v est égal à 2\")"
   ]
  },
  {
   "cell_type": "markdown",
   "metadata": {},
   "source": [
    "Plusieurs tests enchaînés :"
   ]
  },
  {
   "cell_type": "code",
   "execution_count": null,
   "metadata": {},
   "outputs": [],
   "source": [
    "v = 2\n",
    "if v == 2 :\n",
    "    print (\"v est égal à 2\")\n",
    "elif v > 2 :\n",
    "    print (\"v est supérieur à 2\")\n",
    "else :\n",
    "    print (\"v est inférieur à 2\")"
   ]
  },
  {
   "cell_type": "markdown",
   "metadata": {},
   "source": [
    "Solution : [exos/taille.py](http://localhost:8888/edit/exos/taille.py)"
   ]
  },
  {
   "cell_type": "markdown",
   "metadata": {
    "slideshow": {
     "slide_type": "slide"
    }
   },
   "source": [
    "## Boucles\n",
    "\n",
    "Les boucles sont les structures de contrôle permettant de répéter l'exécution d'un bloc de code plusieurs fois."
   ]
  },
  {
   "cell_type": "markdown",
   "metadata": {},
   "source": [
    "### Boucle ``while``\n",
    "\n",
    "La plus simple est la boucle de type ``while`` :\n",
    "\n",
    "    while <condition>:\n",
    "        <bloc d'instructions 1>\n",
    "    <bloc d'instructions 2>\n",
    "\n",
    "<img src=\"fig/while.png\" alt=\"if\" width=\"500\" />\n",
    "\n",
    "\n",
    "Tant que ``<condition>`` est True, le ``<bloc d'instructions 1>`` est exécuté, quand la condition passe à False, l'exécution continue au ``<bloc d'instructions 2>``."
   ]
  },
  {
   "cell_type": "code",
   "execution_count": null,
   "metadata": {},
   "outputs": [],
   "source": [
    "compteur = 3\n",
    "while compteur > 0:\n",
    "    print('le compteur vaut :', compteur)\n",
    "    compteur = compteur - 1\n",
    "print('le compteur a été décrémenté 3 fois et vaut maintenant', compteur)"
   ]
  },
  {
   "cell_type": "markdown",
   "metadata": {
    "slideshow": {
     "slide_type": "subslide"
    }
   },
   "source": [
    "> **Exercice** :\n",
    ">\n",
    "> 1. Ecrivez une boucle ``while`` qui décompte les secondes pour la soirée du réveillon.\n",
    "> 2. Allez voir [par ici](https://docs.python.org/3/library/time.html#time.sleep) pour passer le temps..."
   ]
  },
  {
   "cell_type": "code",
   "execution_count": null,
   "metadata": {},
   "outputs": [],
   "source": [
    "# Votre code ici\n"
   ]
  },
  {
   "cell_type": "markdown",
   "metadata": {},
   "source": [
    "Solution : [exos/decompte.py](http://localhost:8888/edit/exos/decompte.py)"
   ]
  },
  {
   "cell_type": "markdown",
   "metadata": {
    "slideshow": {
     "slide_type": "subslide"
    }
   },
   "source": [
    "### Boucle ``for``\n",
    "\n",
    "Une boucle plus complexe : ``for/in``\n",
    "\n",
    "    for <variable> in <iterable>:\n",
    "        <bloc d'instructions 1>\n",
    "    <bloc d'instructions 2>\n",
    "\n",
    "<img src=\"fig/for.png\" alt=\"if\" width=\"500\" />\n",
    "\n",
    "A chaque tour de boucle, la variable ``<variable>`` va référencer un des éléménts de l'``<iterable>``. La boucle s'arrête quand tous les éléments de l'itérable ont été traités. Il est fortement déconseillé de modifier l'itérable en question dans le ``<bloc d'instructions 1>``."
   ]
  },
  {
   "cell_type": "code",
   "execution_count": null,
   "metadata": {},
   "outputs": [],
   "source": [
    "invites = ('Aline', 'Bernard', 'Céline', 'Dédé')\n",
    "for personne in invites:\n",
    "    print('Bonjour %s, bienvenue à la soirée de gala !' % personne)\n",
    "print('Maintenant tout le monde à été bien accueilli...')"
   ]
  },
  {
   "cell_type": "markdown",
   "metadata": {},
   "source": [
    "> **Exercice** : Rajoutez des invités à la fête. Vérifiez que tout le monde est accueilli correctement."
   ]
  },
  {
   "cell_type": "code",
   "execution_count": null,
   "metadata": {
    "slideshow": {
     "slide_type": "subslide"
    }
   },
   "outputs": [],
   "source": [
    "# Maintenant, si nous avons reçu des réponses à notre invitation et stocké ceux qui ne peuvent pas venir\n",
    "invites = {'Aline': True, 'Bernard': False, 'Céline': True, 'Dédé': True}\n",
    "for (personne, presence) in invites.items():\n",
    "    if presence:\n",
    "        print('Bonjour %s, bienvenue à la soirée de gala !' % personne)\n",
    "    else:\n",
    "        print('Malheureusement, %s ne sera pas avec nous ce soir.' % personne)\n",
    "print('Maintenant tout le monde à été bien accueilli ou excusé...')"
   ]
  },
  {
   "cell_type": "markdown",
   "metadata": {},
   "source": [
    "> **Exercice** : Rajoutez des invités à la fête. Certains ayant répondu qu'ils ne pourraient pas venir. Vérifiez que tout le monde est accueilli ou excusé correctement."
   ]
  },
  {
   "cell_type": "markdown",
   "metadata": {
    "slideshow": {
     "slide_type": "subslide"
    }
   },
   "source": [
    "Si nous voulons itérer sur une liste mais avons besoin des indices liés a chaque élément, nous utilisons une combinaison de [``range()``](https://docs.python.org/3/library/functions.html#func-range) et [``len()``](https://docs.python.org/3/library/functions.html#len)."
   ]
  },
  {
   "cell_type": "code",
   "execution_count": null,
   "metadata": {},
   "outputs": [],
   "source": [
    "nombres = [2, 4, 8, 6, 8, 1, 0, 1j]\n",
    "for idx in range(len(nombres)):\n",
    "    nombres[idx] **= 2\n",
    "# Les carrés\n",
    "print(nombres)"
   ]
  },
  {
   "cell_type": "markdown",
   "metadata": {
    "slideshow": {
     "slide_type": "fragment"
    }
   },
   "source": [
    "Il existe une forme raccourcie pour faire ce genre de choses, la fonction interne [``enumerate()``](https://docs.python.org/3/library/functions.html#enumerate)"
   ]
  },
  {
   "cell_type": "code",
   "execution_count": null,
   "metadata": {},
   "outputs": [],
   "source": [
    "nombres = [2, 4, 8, 6, 8, 1, 0]\n",
    "for (idx, item) in enumerate(nombres):\n",
    "    nombres[idx] = bool(item % 2)\n",
    "# Les impairs\n",
    "print(nombres)"
   ]
  },
  {
   "cell_type": "markdown",
   "metadata": {
    "slideshow": {
     "slide_type": "skip"
    }
   },
   "source": [
    "### Note :\n",
    "\n",
    "La fonction interne [``range()``](https://docs.python.org/3/library/functions.html#func-range) retourne un itérateur. C'est un objet qui se comporte comme une liste sans pour autant allouer la mémoire nécessaire au stockage de tous ses éléments. Le coût de création d'une vraie liste augmente avec sa taille (son empreinte mémoire aussi !).\n",
    "\n",
    "#### Note de la note :\n",
    "\n",
    "En Python version 2.x, Il existait deux versions de cette fonctionnalité: ``range()`` et ``xrange()``. La première retournait une vraie liste, allouée complètement, alors que ``xrange()`` retournait un itérateur."
   ]
  },
  {
   "cell_type": "code",
   "execution_count": null,
   "metadata": {},
   "outputs": [],
   "source": [
    "print(type(range(3))) # Like xrange() in python2\n",
    "print(repr(range(3))) # Like xrange() in python2\n",
    "print(type(list(range(3)))) # Like range in python2"
   ]
  },
  {
   "cell_type": "markdown",
   "metadata": {
    "slideshow": {
     "slide_type": "subslide"
    }
   },
   "source": [
    "### Instruction ``break``\n",
    "\n",
    "Il est possible d'arrêter prématurément une boucle grâce a l'instruction ``break``.\n",
    "\n",
    "L'instruction ``break`` est utilisable indifférement dans les boucles ``for`` ou ``while``. "
   ]
  },
  {
   "cell_type": "code",
   "execution_count": null,
   "metadata": {},
   "outputs": [],
   "source": [
    "compteur = 3\n",
    "while True:  # Notre boucle infinie\n",
    "    compteur -= 1\n",
    "    print('Dans la boucle infinie! compteur =', compteur)\n",
    "    if compteur <= 0:\n",
    "        break  # On sort de la boucle while immédiatement\n",
    "    print('on contine, compteur =', compteur)\n",
    "print(\"c'était pas vraiment une boucle infinie...\")"
   ]
  },
  {
   "cell_type": "markdown",
   "metadata": {
    "slideshow": {
     "slide_type": "subslide"
    }
   },
   "source": [
    "En cas d'imbrication de plusieurs boucles, l'instruction ``break`` sort de la plus imbriquée (la plus proche)."
   ]
  },
  {
   "cell_type": "code",
   "execution_count": null,
   "metadata": {},
   "outputs": [],
   "source": [
    "for i in (1, 2, 3):\n",
    "    for j in (1, 2, 3, 4):\n",
    "        if i == 2:\n",
    "            break\n",
    "        print(\"i, j = %d, %d\" % (i, j))"
   ]
  },
  {
   "cell_type": "markdown",
   "metadata": {
    "slideshow": {
     "slide_type": "subslide"
    }
   },
   "source": [
    "### Instruction ``continue``\n",
    "\n",
    "Si, dans une boucle, on veut passer immédiatement à l'itération suivante, on utilise l'instruction ``continue``."
   ]
  },
  {
   "cell_type": "code",
   "execution_count": null,
   "metadata": {},
   "outputs": [],
   "source": [
    "compteur = 9\n",
    "while compteur > 0:\n",
    "    compteur -= 1\n",
    "    if compteur % 2:\n",
    "        compteur /= 2\n",
    "        print('impair, on divise :', compteur)\n",
    "        continue # retourne immédiatement au début de la boucle\n",
    "    print(\"pair, RAS\")\n",
    "print(\"c'est fini...\")"
   ]
  },
  {
   "cell_type": "markdown",
   "metadata": {
    "slideshow": {
     "slide_type": "slide"
    }
   },
   "source": [
    "### Instruction `pass`\n",
    "\n",
    "En cas de besoin d'un bloc de code qui ne fait rien, on utilise le mot clé `pass` ."
   ]
  },
  {
   "cell_type": "markdown",
   "metadata": {
    "slideshow": {
     "slide_type": "-"
    }
   },
   "source": [
    "#### Exemple : une boucle infinie\n",
    "\n",
    "    condition = True\n",
    "    while condition:\n",
    "        pass"
   ]
  },
  {
   "cell_type": "markdown",
   "metadata": {},
   "source": [
    "# Fonction"
   ]
  },
  {
   "cell_type": "markdown",
   "metadata": {},
   "source": [
    "<img src=\"fig/fonction1.png\" alt=\"if\" width=\"500\" />\n",
    "<img src=\"fig/fonction2.png\" alt=\"if\" width=\"500\" />\n",
    "<img src=\"fig/fonction3.png\" alt=\"if\" width=\"500\" />"
   ]
  },
  {
   "cell_type": "markdown",
   "metadata": {
    "slideshow": {
     "slide_type": "slide"
    }
   },
   "source": [
    "# Bonnes pratiques\n",
    "\n",
    "###  Commentez votre code\n",
    "- pour le rendre plus lisible\n",
    "- pour préciser l'utilité des fonctions, méthodes, classes, modules, etc...\n",
    "- pour expliquer les parties complexes"
   ]
  },
  {
   "cell_type": "markdown",
   "metadata": {},
   "source": [
    "Habituez-vous assez tôt aux conventions préconisées dans la communauté des utilisateurs de python.\n",
    "Cela vous aidera a relire plus facilement le code écrit par d'autres, et aidera les autres (et vous-même !) à relire votre propore code. Collaborez !\n",
    "\n",
    "Ces conventions sont décrites dans le document [PEP n°8](https://www.python.org/dev/peps/pep-0008/) (Python Enhancement Proposal).\n",
    "L'outil [pep8](https://pypi.python.org/pypi/pep8) permet d'automatiser la vérification du respect de ces règles."
   ]
  },
  {
   "cell_type": "markdown",
   "metadata": {},
   "source": [
    "> **Exercice** :\n",
    ">\n",
    "> 1. Lisez le PEP8, et corrigez toutes les fautes commises dans ce notebook\n",
    "> 2. Envoyez le résultat à votre formateur"
   ]
  },
  {
   "cell_type": "markdown",
   "metadata": {},
   "source": [
    "Pour les plus avancés\n",
    "====================="
   ]
  },
  {
   "cell_type": "markdown",
   "metadata": {
    "slideshow": {
     "slide_type": "subslide"
    }
   },
   "source": [
    "## Récursivité\n",
    "\n",
    "Les fonctions dites \"récursives\" sont des fonctions qui font appel à elles-même, en résolvant une partie plus petite du problème à chaque appel, jusqu'à avoir un cas trivial à résoudre.\n",
    "\n",
    "Par exemple pour calculer : \"la somme de tout les nombres de 0 jusqu'à x\", on peut utiliser une fonction récursive:\n",
    "\n",
    "La somme de tous les nombres de 0 à 10 est égale à 10 plus la somme de tous les nombres de 0 à 9, etc...\n"
   ]
  },
  {
   "cell_type": "code",
   "execution_count": null,
   "metadata": {},
   "outputs": [],
   "source": [
    "def sum_to(x):\n",
    "    if x == 0:\n",
    "        return 0\n",
    "    return x + sum_to(x - 1)"
   ]
  },
  {
   "cell_type": "code",
   "execution_count": null,
   "metadata": {},
   "outputs": [],
   "source": [
    "print(sum_to(9))"
   ]
  },
  {
   "cell_type": "markdown",
   "metadata": {},
   "source": [
    "La fonction mathématique factorielle est similaire, mais calcule : \"le produit de tout les nombres de 1 jusqu'à x\"."
   ]
  },
  {
   "cell_type": "code",
   "execution_count": null,
   "metadata": {},
   "outputs": [],
   "source": [
    "def fact(x):\n",
    "    if x == 1:\n",
    "        return 1\n",
    "    return x * fact(x - 1)"
   ]
  },
  {
   "cell_type": "code",
   "execution_count": null,
   "metadata": {},
   "outputs": [],
   "source": [
    "print(fact(5), fact(9))"
   ]
  },
  {
   "cell_type": "markdown",
   "metadata": {},
   "source": [
    "La fonction mathématique qui calcule [la suite des nombres de Fibonacci](https://fr.wikipedia.org/wiki/Suite_de_Fibonacci), peut être décrite comme suit:\n",
    "\n",
    "- ``fibo(0) = 0``\n",
    "- ``fibo(1) = 1``\n",
    "\n",
    "Et pour toutes les autres valeurs:\n",
    "\n",
    "- ``fibo(x) = fibo(x - 1) + fibo(x - 2)``\n",
    "\n",
    "> **Exercice** : écrivez une fonction récursive ``fibo(x)`` qui renvoie le x-ième nombre de la suite de Fibonnaci."
   ]
  },
  {
   "cell_type": "code",
   "execution_count": null,
   "metadata": {},
   "outputs": [],
   "source": [
    "def fibo(x):\n",
    "    # Votre code ici\n",
    "    pass"
   ]
  },
  {
   "cell_type": "code",
   "execution_count": null,
   "metadata": {},
   "outputs": [],
   "source": [
    "print(fibo(9))"
   ]
  },
  {
   "cell_type": "markdown",
   "metadata": {
    "slideshow": {
     "slide_type": "subslide"
    }
   },
   "source": [
    "## bits à bits *(bitwise)* \n",
    "\n",
    "    |, ^, &, <<, >>, ~\n",
    "\n",
    "Ces opérateurs permettent de manipuler individuellement les bits d'un entier.\n",
    "\n",
    "Ce sont des opérations bas-niveau, souvent utilisées pour piloter directement du matériel, pour implémenter des protocoles de communication binaires (par exemple réseau ou disque).\n",
    "\n",
    "L'utilisation d'entiers comme ensemble de bits permet des encodages de données très compacts, un booléen (True, False) ne prendrait qu'un bit en mémoire, c'est a dire que l'on peut encoder 64 booléens dans un entier.\n",
    "\n",
    "Description complète [ici](https://wiki.python.org/moin/BitwiseOperators)."
   ]
  },
  {
   "cell_type": "code",
   "execution_count": null,
   "metadata": {
    "slideshow": {
     "slide_type": "subslide"
    }
   },
   "outputs": [],
   "source": [
    "val = 67 # == 64 + 2 + 1 == 2**6 + 2**1 + 2**0 == 0b1000011\n",
    "print(bin(val))\n",
    "\n",
    "mask = 1 << 0 # On veut récupérer le 1er bit\n",
    "print('le 1er  bit vaut', (val & mask) >> 0)\n",
    "\n",
    "mask = 1 << 1 # On veut récupérer le 2ème bit\n",
    "print('le 2ème bit vaut', (val & mask) >> 1)\n",
    "\n",
    "mask = 1 << 2 # On veut récupérer le 3ème bit\n",
    "print('le 3ème bit vaut', (val & mask) >> 2)\n",
    "\n",
    "mask = 1 << 6 # On veut récupérer le 7ème bit\n",
    "print('le 7ème bit vaut', (val & mask) >> 6)\n",
    "\n",
    "# Si on positionne le 4ème bit a 1 (on rajoute 2**3 = 8)\n",
    "newval = val | (1 << 3)\n",
    "print(newval)\n",
    "\n",
    "# Si on positionne le 6ème bit a 0 (on soustrait 2**7 = 64)\n",
    "print(newval & ~(1 << 6))"
   ]
  },
  {
   "cell_type": "markdown",
   "metadata": {},
   "source": [
    "> **Exercice :** Retournez une chaîne de caractères représentant le nombre contenu dans ``var`` écrit en notation binaire.\n",
    "> Par exemple:\n",
    ">\n",
    ">    5 -> '101'<BR>\n",
    ">    6 -> '110'<BR>\n",
    ">    7 -> '111'<BR>"
   ]
  },
  {
   "cell_type": "code",
   "execution_count": null,
   "metadata": {},
   "outputs": [],
   "source": [
    "var = 7\n",
    "# votre code ici"
   ]
  },
  {
   "cell_type": "markdown",
   "metadata": {
    "slideshow": {
     "slide_type": "subslide"
    }
   },
   "source": [
    "# Les compréhensions de listes (suite)\n",
    "\n",
    "Python a introduit une facilité d'écriture pour les listes qui permet de rendre le code plus lisible car plus concis."
   ]
  },
  {
   "cell_type": "code",
   "execution_count": null,
   "metadata": {},
   "outputs": [],
   "source": [
    "# Ce code construit une liste ne contenant que les éléments pairs de la liste Liste1\n",
    "Liste1 = list(range(10))\n",
    "print(Liste1)\n",
    "ListePaire = []\n",
    "for i in Liste1:\n",
    "    if (i % 2) == 0:\n",
    "        ListePaire.append(i)\n",
    "print(ListePaire)"
   ]
  },
  {
   "cell_type": "code",
   "execution_count": null,
   "metadata": {
    "slideshow": {
     "slide_type": "fragment"
    }
   },
   "outputs": [],
   "source": [
    "# Ici, on fait la même chose, en liste...\n",
    "ListePaire = [i for i in Liste1 if (i % 2) == 0]\n",
    "print(ListePaire)"
   ]
  },
  {
   "cell_type": "markdown",
   "metadata": {},
   "source": [
    "Cette concision peut être utile, mais n'en abusez pas, si vous commencez a avoir une compréhension de liste trop complexe a écrire en une simple ligne, faites le \"normalement\", avec les boucles et conditions explicites.  \n",
    "Plus d'informations [ici](https://docs.python.org/3/tutorial/datastructures.html#list-comprehensions)."
   ]
  },
  {
   "cell_type": "markdown",
   "metadata": {
    "slideshow": {
     "slide_type": "slide"
    }
   },
   "source": [
    "# Les expressions génératrices\n",
    "\n",
    "C'est une forme d'écriture, très proche des compréhensions de listes, mais qui ne crée pas de nouvel objet liste immédiatement. \n",
    "\n",
    "Les items sont produits à la demande."
   ]
  },
  {
   "cell_type": "code",
   "execution_count": null,
   "metadata": {},
   "outputs": [],
   "source": [
    "tuplePairs = (i for i in Liste1 if (i % 2) == 0)\n",
    "print(tuplePairs)\n",
    "print(list(tuplePairs))"
   ]
  },
  {
   "cell_type": "markdown",
   "metadata": {},
   "source": [
    "Plus d'informations [ici](https://docs.python.org/3/tutorial/classes.html#generator-expressions)."
   ]
  }
 ],
 "metadata": {
  "kernelspec": {
   "display_name": "Python 3 (ipykernel)",
   "language": "python",
   "name": "python3"
  },
  "language_info": {
   "codemirror_mode": {
    "name": "ipython",
    "version": 3
   },
   "file_extension": ".py",
   "mimetype": "text/x-python",
   "name": "python",
   "nbconvert_exporter": "python",
   "pygments_lexer": "ipython3",
   "version": "3.12.2"
  }
 },
 "nbformat": 4,
 "nbformat_minor": 4
}
