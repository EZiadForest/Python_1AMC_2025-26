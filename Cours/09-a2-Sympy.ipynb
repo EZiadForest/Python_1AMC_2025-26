{
 "cells": [
  {
   "cell_type": "markdown",
   "metadata": {},
   "source": [
    "# Sympy (ou le calcul formel en python)\n",
    "\n",
    "Il est aussi conseillé d'étudier le module `scipy`.\n",
    " "
   ]
  },
  {
   "cell_type": "code",
   "execution_count": 4,
   "metadata": {},
   "outputs": [],
   "source": [
    "# importer tout de sympy\n",
    "from  sympy import *\n",
    "\n",
    "# On peut ameliorer l'affichage par\n",
    "# init_printing(use_unicode=False, wrap_line=False, no_global=True)"
   ]
  },
  {
   "cell_type": "code",
   "execution_count": 5,
   "metadata": {},
   "outputs": [],
   "source": [
    "# Ou bien mieux par\n",
    "from sympy import init_printing\n",
    "init_printing(use_latex=True)"
   ]
  },
  {
   "cell_type": "markdown",
   "metadata": {},
   "source": [
    "SymPy possède trois types numériques natifs : Float (Flottant), Rational (Rationnel) et Integer (Entier).\n",
    "\n",
    "La classe Rational représente un nombre rationnel en tant que paire de deux Integers : le numérateur et le dénominateur. Donc Rational(1, 2) représente 1/2, Rational(5, 2) représente 5/2, et ainsi de suite."
   ]
  },
  {
   "cell_type": "code",
   "execution_count": 6,
   "metadata": {},
   "outputs": [
    {
     "data": {
      "image/png": "[encoded data removed]",
      "text/latex": [
       "$\\displaystyle \\frac{2}{3}$"
      ],
      "text/plain": [
       "2/3"
      ]
     },
     "execution_count": 6,
     "metadata": {},
     "output_type": "execute_result"
    }
   ],
   "source": [
    "a=Rational(6,9)\n",
    "a # grace à init_printin() un meilleur affichage.\n",
    "#print(a)"
   ]
  },
  {
   "cell_type": "code",
   "execution_count": 7,
   "metadata": {},
   "outputs": [
    {
     "data": {
      "image/png": "[encoded data removed]",
      "text/latex": [
       "$\\displaystyle \\frac{29}{21}$"
      ],
      "text/plain": [
       "29\n",
       "──\n",
       "21"
      ]
     },
     "execution_count": 7,
     "metadata": {},
     "output_type": "execute_result"
    }
   ],
   "source": [
    "a=Rational(6,9)+Rational(5,7)\n",
    "a"
   ]
  },
  {
   "cell_type": "code",
   "execution_count": 8,
   "metadata": {},
   "outputs": [
    {
     "name": "stdout",
     "output_type": "stream",
     "text": [
      "25\n"
     ]
    }
   ],
   "source": [
    "x=4\n",
    "y=x**2 + 2*x +1\n",
    "print(y)\n",
    "# comment faire pour avoir l'expression formelle"
   ]
  },
  {
   "cell_type": "code",
   "execution_count": 9,
   "metadata": {},
   "outputs": [
    {
     "data": {
      "image/png": "[encoded data removed]",
      "text/latex": [
       "$\\displaystyle x^{2} + 2 x + 1$"
      ],
      "text/plain": [
       " 2          \n",
       "x  + 2⋅x + 1"
      ]
     },
     "execution_count": 9,
     "metadata": {},
     "output_type": "execute_result"
    }
   ],
   "source": [
    "# On définie x comme symbol.\n",
    "x=Symbol('x')\n",
    "y= x**2 +2*x +1\n",
    "y"
   ]
  },
  {
   "cell_type": "code",
   "execution_count": 10,
   "metadata": {},
   "outputs": [
    {
     "data": {
      "image/png": "[encoded data removed]",
      "text/latex": [
       "$\\displaystyle \\left( a, \\  b, \\  c\\right)$"
      ],
      "text/plain": [
       "(a, b, c)"
      ]
     },
     "execution_count": 10,
     "metadata": {},
     "output_type": "execute_result"
    }
   ],
   "source": [
    "from sympy import *\n",
    "a, b, c = symbols('a,b,c')\n",
    "a,b,c"
   ]
  },
  {
   "cell_type": "code",
   "execution_count": 11,
   "metadata": {},
   "outputs": [
    {
     "data": {
      "image/png": "[encoded data removed]",
      "text/latex": [
       "$\\displaystyle \\left( x, \\  y, \\  z\\right)$"
      ],
      "text/plain": [
       "(x, y, z)"
      ]
     },
     "execution_count": 11,
     "metadata": {},
     "output_type": "execute_result"
    }
   ],
   "source": [
    "x, y, z = symbols('x:z')\n",
    "x,y,z"
   ]
  },
  {
   "cell_type": "markdown",
   "metadata": {},
   "source": [
    "Certains symboles prédefinis (dont les symboles portant un nom grec) sont disponibles après importation :"
   ]
  },
  {
   "cell_type": "code",
   "execution_count": 12,
   "metadata": {},
   "outputs": [
    {
     "data": {
      "image/png": "[encoded data removed]",
      "text/latex": [
       "$\\displaystyle x_{3}$"
      ],
      "text/plain": [
       "x₃"
      ]
     },
     "execution_count": 12,
     "metadata": {},
     "output_type": "execute_result"
    }
   ],
   "source": [
    "# x indice i \n",
    "i=3 # i peut etre un entier aussi\n",
    "i=str(i)\n",
    "s='x_'+i\n",
    "y=Symbol(s)\n",
    "y"
   ]
  },
  {
   "cell_type": "code",
   "execution_count": 13,
   "metadata": {},
   "outputs": [
    {
     "data": {
      "image/png": "[encoded data removed]",
      "text/latex": [
       "$\\displaystyle x^{5.3}$"
      ],
      "text/plain": [
       "x__5.3"
      ]
     },
     "execution_count": 13,
     "metadata": {},
     "output_type": "execute_result"
    }
   ],
   "source": [
    "# x^i ou i est l'exposant\n",
    "i=5.3  # idem i peut être un entier\n",
    "i=str(i)\n",
    "x=Symbol('x')\n",
    "s='x^'+i\n",
    "y=Symbol(s)\n",
    "y\n",
    "#print(y)"
   ]
  },
  {
   "cell_type": "code",
   "execution_count": 14,
   "metadata": {},
   "outputs": [
    {
     "data": {
      "image/png": "[encoded data removed]",
      "text/latex": [
       "$\\displaystyle x^{6}_{6}$"
      ],
      "text/plain": [
       "x_6^6"
      ]
     },
     "execution_count": 14,
     "metadata": {},
     "output_type": "execute_result"
    }
   ],
   "source": [
    "from sympy import *\n",
    "init_printing(use_unicode=False, wrap_line=False, no_global=True)\n",
    "# Representer xi^i ou i est un entier, x indice i et exposant i\n",
    "i=6\n",
    "#x=Symbol('x')\n",
    "i=str(i)\n",
    "e=str(i)\n",
    "s='x_'+i+'^'+e  \n",
    "y=Symbol(s)\n",
    "#y=Symbol('x^'+str(2))\n",
    "y"
   ]
  },
  {
   "cell_type": "markdown",
   "metadata": {
    "collapsed": true
   },
   "source": [
    "Exercice: Implementer l'expression x1^1 + x2^2 + ...+xn^n."
   ]
  },
  {
   "cell_type": "code",
   "execution_count": 15,
   "metadata": {},
   "outputs": [
    {
     "data": {
      "image/png": "[encoded data removed]",
      "text/latex": [
       "$\\displaystyle x^{1}_{1} + x^{2}_{2} + x^{3}_{3} + x^{4}_{4} + x^{5}_{5} + x^{6}_{6} + x^{7}_{7} + x^{8}_{8}$"
      ],
      "text/plain": [
       "x_1^1 + x_2^2 + x_3^3 + x_4^4 + x_5^5 + x_6^6 + x_7^7 + x_8^8"
      ]
     },
     "execution_count": 15,
     "metadata": {},
     "output_type": "execute_result"
    }
   ],
   "source": [
    "def f(n):\n",
    "    if n==1:\n",
    "        return Symbol('x_1^1')\n",
    "    else:\n",
    "        e=str(n)\n",
    "        i=str(n)\n",
    "        s='x_'+ i+'^'+e\n",
    "        return (Symbol(s)+f(n-1))\n",
    "f(8)"
   ]
  },
  {
   "cell_type": "markdown",
   "metadata": {},
   "source": [
    "Plusieurs symboles peuvent également être déclarés en utilisant une seule commande avec les fonctions symbols ou var. Ces fonctions acceptent une chaîne de texte contenant une liste ou un interval de symboles à déclarer, la variante var ajoutant également les symboles à la liste de noms courante (namespace) :"
   ]
  },
  {
   "cell_type": "code",
   "execution_count": 16,
   "metadata": {},
   "outputs": [
    {
     "data": {
      "image/png": "[encoded data removed]",
      "text/latex": [
       "$\\displaystyle \\left( x, \\  y\\right)$"
      ],
      "text/plain": [
       "(x, y)"
      ]
     },
     "execution_count": 16,
     "metadata": {},
     "output_type": "execute_result"
    }
   ],
   "source": [
    "#var('g:h')\n",
    "z=var('x:y')\n",
    "z"
   ]
  },
  {
   "cell_type": "code",
   "execution_count": 17,
   "metadata": {},
   "outputs": [
    {
     "data": {
      "image/png": "[encoded data removed]",
      "text/latex": [
       "$\\displaystyle \\left( g_{0}, \\  g_{1}\\right)$"
      ],
      "text/plain": [
       "(g0, g1)"
      ]
     },
     "execution_count": 17,
     "metadata": {},
     "output_type": "execute_result"
    }
   ],
   "source": [
    "var('g:2')"
   ]
  },
  {
   "cell_type": "code",
   "execution_count": 18,
   "metadata": {},
   "outputs": [
    {
     "data": {
      "image/png": "[encoded data removed]",
      "text/latex": [
       "$\\displaystyle x y + 2 x + 4 y$"
      ],
      "text/plain": [
       "x*y + 2*x + 4*y"
      ]
     },
     "execution_count": 18,
     "metadata": {},
     "output_type": "execute_result"
    }
   ],
   "source": [
    "x,y=symbols('x y')\n",
    "2*x + 4*y +x*y"
   ]
  },
  {
   "cell_type": "code",
   "execution_count": 19,
   "metadata": {},
   "outputs": [
    {
     "data": {
      "image/png": "[encoded data removed]",
      "text/latex": [
       "$\\displaystyle \\left(x + y\\right)^{2}$"
      ],
      "text/plain": [
       "       2\n",
       "(x + y) "
      ]
     },
     "execution_count": 19,
     "metadata": {},
     "output_type": "execute_result"
    }
   ],
   "source": [
    "# expand(a,force=True)\n",
    "x,y=symbols('x y')\n",
    "(x+y)*(x+y)\n",
    "#expand((x+y)*(x+y)) # developper le produit"
   ]
  },
  {
   "cell_type": "code",
   "execution_count": null,
   "metadata": {},
   "outputs": [],
   "source": []
  },
  {
   "cell_type": "code",
   "execution_count": 20,
   "metadata": {},
   "outputs": [
    {
     "data": {
      "image/png": "[encoded data removed]",
      "text/latex": [
       "$\\displaystyle \\log{\\left(x \\right)} + \\log{\\left(y \\right)}$"
      ],
      "text/plain": [
       "log(x) + log(y)"
      ]
     },
     "execution_count": 20,
     "metadata": {},
     "output_type": "execute_result"
    }
   ],
   "source": [
    "e=log(x*y)\n",
    "# cette expression ne sera pas simplifier elle donnelog(xy)\n",
    "# car x*y >0 ne veut pas dire \n",
    "# en principe il ne peut pas expand\n",
    "expand(e, force=True)\n"
   ]
  },
  {
   "cell_type": "code",
   "execution_count": 21,
   "metadata": {},
   "outputs": [
    {
     "data": {
      "image/png": "[encoded data removed]",
      "text/latex": [
       "$\\displaystyle \\frac{x^{2} - 1}{x - 1}$"
      ],
      "text/plain": [
       " 2    \n",
       "x  - 1\n",
       "------\n",
       "x - 1 "
      ]
     },
     "execution_count": 21,
     "metadata": {},
     "output_type": "execute_result"
    }
   ],
   "source": [
    "from sympy import *\n",
    "x=Symbol('x')\n",
    "e=(x**2-1)/(x-1)\n",
    "e\n",
    "#t=e.expand(basic=True)\n",
    "#t\n",
    "#t=expand(e, force=True)\n",
    "#t\n"
   ]
  },
  {
   "cell_type": "code",
   "execution_count": 22,
   "metadata": {},
   "outputs": [
    {
     "data": {
      "image/png": "[encoded data removed]",
      "text/latex": [
       "$\\displaystyle 3$"
      ],
      "text/plain": [
       "3"
      ]
     },
     "execution_count": 22,
     "metadata": {},
     "output_type": "execute_result"
    }
   ],
   "source": [
    "#subs(a,b)\n",
    "x=Symbol('x')\n",
    "e=(x**2-1)/(x-1)\n",
    "\n",
    "e.subs(x,2)"
   ]
  },
  {
   "cell_type": "code",
   "execution_count": 23,
   "metadata": {},
   "outputs": [
    {
     "data": {
      "image/png": "[encoded data removed]",
      "text/latex": [
       "$\\displaystyle \\left(x + y\\right)^{2}$"
      ],
      "text/plain": [
       "       2\n",
       "(x + y) "
      ]
     },
     "execution_count": 23,
     "metadata": {},
     "output_type": "execute_result"
    }
   ],
   "source": [
    "x=Symbol('x')\n",
    "y=Symbol('y')\n",
    "z=(x+y)**2\n",
    "z\n",
    "#z.subs(x, 1)"
   ]
  },
  {
   "cell_type": "code",
   "execution_count": 24,
   "metadata": {},
   "outputs": [
    {
     "data": {
      "image/png": "[encoded data removed]",
      "text/latex": [
       "$\\displaystyle 64$"
      ],
      "text/plain": [
       "64"
      ]
     },
     "execution_count": 24,
     "metadata": {},
     "output_type": "execute_result"
    }
   ],
   "source": [
    "(((x+y)**2).subs(x,2)).subs(y,6)"
   ]
  },
  {
   "cell_type": "code",
   "execution_count": 25,
   "metadata": {},
   "outputs": [
    {
     "data": {
      "image/png": "[encoded data removed]",
      "text/latex": [
       "$\\displaystyle 1$"
      ],
      "text/plain": [
       "1"
      ]
     },
     "execution_count": 25,
     "metadata": {},
     "output_type": "execute_result"
    }
   ],
   "source": [
    "((x + y)**2).subs(x, 1 - y)"
   ]
  },
  {
   "cell_type": "markdown",
   "metadata": {},
   "source": [
    "Les opérations arithmétiques. +,*, -,/, ** utilisent Add, Mul, Pow."
   ]
  },
  {
   "cell_type": "code",
   "execution_count": 26,
   "metadata": {},
   "outputs": [
    {
     "data": {
      "image/png": "[encoded data removed]",
      "text/latex": [
       "$\\displaystyle x + y$"
      ],
      "text/plain": [
       "x + y"
      ]
     },
     "execution_count": 26,
     "metadata": {},
     "output_type": "execute_result"
    }
   ],
   "source": [
    "from sympy import *\n",
    "x=Symbol('x')\n",
    "y=Symbol('y')\n",
    "\n",
    "e=x+y # utilise e=__add__(x,y), e=x.__add__(y)\n",
    "e\n",
    "#e=x-y # utilise e=__sub__(x,y) \n",
    "\n",
    "#e=x*y # utilise e=__mul__(x,y)\n",
    "#e\n",
    "\n",
    "#e=x**y # utilise e=Pow(x,y)\n",
    "#e\n",
    "\n",
    "#e= x/y # utilise e=Div(x,y)\n",
    "#e=x.__div__(y) \n",
    "#e\n",
    "#z=Symbol('z')\n",
    "#Add(x, y, z)\n",
    " \n",
    "#Mul(x, y, z)\n",
    "\n",
    "#Pow(x, y)\n",
    "\n",
    "#Or(x, y, z)\n",
    " \n",
    "#And(x, y, z)\n",
    "#y=Symbol('x_1')\n",
    "#z=y**Symbol('1')\n",
    "\n",
    "#z\n"
   ]
  },
  {
   "cell_type": "code",
   "execution_count": 27,
   "metadata": {},
   "outputs": [
    {
     "data": {
      "image/png": "[encoded data removed]",
      "text/latex": [
       "$\\displaystyle x \\vee y \\vee z$"
      ],
      "text/plain": [
       "Or(x, y, z)"
      ]
     },
     "execution_count": 27,
     "metadata": {},
     "output_type": "execute_result"
    }
   ],
   "source": [
    "\n",
    "x,y,z=symbols('x,y,z')\n",
    "r=Or(x, y, z)\n",
    "r\n"
   ]
  },
  {
   "cell_type": "markdown",
   "metadata": {},
   "source": [
    "Exercice3:\n",
    "    Construire l'expression:1+x+x^2+…+x^n. \n",
    "    avec n entier quelconque.\n",
    "    Ecrire une fonction f(n) qui retourne cette expression.\n",
    "    \n",
    "Exerice 4:\n",
    "Ecrire une fonction g(n) et retourne x^x pour n=1\n",
    "et x^(x^x) pour n=2. x^x^x^x "
   ]
  },
  {
   "cell_type": "code",
   "execution_count": 28,
   "metadata": {},
   "outputs": [
    {
     "data": {
      "image/png": "[encoded data removed]",
      "text/latex": [
       "$\\displaystyle x^{2} + x + 1$"
      ],
      "text/plain": [
       " 2        \n",
       "x  + x + 1"
      ]
     },
     "execution_count": 28,
     "metadata": {},
     "output_type": "execute_result"
    }
   ],
   "source": [
    "x=Symbol('x')   \n",
    "def f(n):\n",
    "    if n>0:\n",
    "        return sum([ x**i for i in range(0, n+1) ])\n",
    "    else:\n",
    "        return sum([ x**i for i in range(0, n-1, -1) ])\n",
    "y=f(2)\n",
    "y"
   ]
  },
  {
   "cell_type": "code",
   "execution_count": 29,
   "metadata": {},
   "outputs": [
    {
     "data": {
      "image/png": "[encoded data removed]",
      "text/latex": [
       "$\\displaystyle x^{6}$"
      ],
      "text/plain": [
       " 6\n",
       "x "
      ]
     },
     "execution_count": 29,
     "metadata": {},
     "output_type": "execute_result"
    }
   ],
   "source": [
    "x=Symbol('x')\n",
    "z=x**6\n",
    "z"
   ]
  },
  {
   "cell_type": "code",
   "execution_count": 30,
   "metadata": {},
   "outputs": [
    {
     "data": {
      "image/png": "[encoded data removed]",
      "text/latex": [
       "$\\displaystyle x^{4} + x^{3} + x^{2} + x + 1$"
      ],
      "text/plain": [
       " 4    3    2        \n",
       "x  + x  + x  + x + 1"
      ]
     },
     "execution_count": 30,
     "metadata": {},
     "output_type": "execute_result"
    }
   ],
   "source": [
    "#y=Add(x,y)\n",
    "#y\n",
    "#y = [x**i for i in range(0,5)]\n",
    "z=Add(*[x**i for i in range(0,5)])\n",
    "z"
   ]
  },
  {
   "cell_type": "code",
   "execution_count": 31,
   "metadata": {},
   "outputs": [
    {
     "data": {
      "image/png": "[encoded data removed]",
      "text/latex": [
       "$\\displaystyle x^{x^{x^{x}}}$"
      ],
      "text/plain": [
       " / / x\\\\\n",
       " | \\x /|\n",
       " \\x    /\n",
       "x       "
      ]
     },
     "execution_count": 31,
     "metadata": {},
     "output_type": "execute_result"
    }
   ],
   "source": [
    "def g(expr, n):\n",
    "    if n==0:\n",
    "        return expr\n",
    "    else:\n",
    "        return expr**g(expr,n-1)\n",
    "x=Symbol('x') # tester avec x=2 \n",
    "g(x,3)"
   ]
  },
  {
   "cell_type": "markdown",
   "metadata": {},
   "source": [
    "Algèbre\n",
    "\n",
    "Pour la décomposition en éléments simples des fractions, utilisez apart(expr, x) :\n"
   ]
  },
  {
   "cell_type": "code",
   "execution_count": 32,
   "metadata": {},
   "outputs": [
    {
     "data": {
      "image/png": "[encoded data removed]",
      "text/latex": [
       "$\\displaystyle \\frac{1}{\\left(x + 1\\right) \\left(x + 2\\right)}$"
      ],
      "text/plain": [
       "       1       \n",
       "---------------\n",
       "(x + 1)*(x + 2)"
      ]
     },
     "execution_count": 32,
     "metadata": {},
     "output_type": "execute_result"
    }
   ],
   "source": [
    "#apart()\n",
    "1/((x+1)*(x+2))"
   ]
  },
  {
   "cell_type": "code",
   "execution_count": 33,
   "metadata": {},
   "outputs": [
    {
     "data": {
      "image/png": "[encoded data removed]",
      "text/latex": [
       "$\\displaystyle - \\frac{1}{x + 2} + \\frac{1}{x + 1}$"
      ],
      "text/plain": [
       "    1       1  \n",
       "- ----- + -----\n",
       "  x + 2   x + 1"
      ]
     },
     "execution_count": 33,
     "metadata": {},
     "output_type": "execute_result"
    }
   ],
   "source": [
    "apart(1/((x+1)*(x+2)),x)"
   ]
  },
  {
   "cell_type": "code",
   "execution_count": 34,
   "metadata": {},
   "outputs": [
    {
     "data": {
      "image/png": "[encoded data removed]",
      "text/latex": [
       "$\\displaystyle 1 - \\frac{1}{x + 2}$"
      ],
      "text/plain": [
       "      1  \n",
       "1 - -----\n",
       "    x + 2"
      ]
     },
     "execution_count": 34,
     "metadata": {},
     "output_type": "execute_result"
    }
   ],
   "source": [
    "apart((x+1)/(x+2),x)"
   ]
  },
  {
   "cell_type": "markdown",
   "metadata": {},
   "source": [
    "Pour remettre tout ensemble, utilisez together(expr, x) :"
   ]
  },
  {
   "cell_type": "code",
   "execution_count": 35,
   "metadata": {},
   "outputs": [
    {
     "data": {
      "image/png": "[encoded data removed]",
      "text/latex": [
       "$\\displaystyle \\frac{x y + x z + y z}{x y z}$"
      ],
      "text/plain": [
       "x*y + x*z + y*z\n",
       "---------------\n",
       "     x*y*z     "
      ]
     },
     "execution_count": 35,
     "metadata": {},
     "output_type": "execute_result"
    }
   ],
   "source": [
    "x,y,z=symbols('x y z')\n",
    "1/x+1/y+1/z\n",
    "together(1/x+1/y+1/z)"
   ]
  },
  {
   "cell_type": "code",
   "execution_count": 36,
   "metadata": {},
   "outputs": [
    {
     "data": {
      "image/png": "[encoded data removed]",
      "text/latex": [
       "$\\displaystyle \\frac{1}{\\left(x + 1\\right) \\left(x + 2\\right)}$"
      ],
      "text/plain": [
       "       1       \n",
       "---------------\n",
       "(x + 1)*(x + 2)"
      ]
     },
     "execution_count": 36,
     "metadata": {},
     "output_type": "execute_result"
    }
   ],
   "source": [
    "together(apart(1/( (x + 2)*(x + 1) ), x), x)"
   ]
  },
  {
   "cell_type": "markdown",
   "metadata": {},
   "source": [
    "Infini dans sympy"
   ]
  },
  {
   "cell_type": "code",
   "execution_count": 37,
   "metadata": {},
   "outputs": [
    {
     "data": {
      "image/png": "[encoded data removed]",
      "text/latex": [
       "$\\displaystyle \\text{True}$"
      ],
      "text/plain": [
       "True"
      ]
     },
     "execution_count": 37,
     "metadata": {},
     "output_type": "execute_result"
    }
   ],
   "source": [
    "oo>999999"
   ]
  },
  {
   "cell_type": "code",
   "execution_count": 38,
   "metadata": {},
   "outputs": [
    {
     "data": {
      "image/png": "[encoded data removed]",
      "text/latex": [
       "$\\displaystyle \\text{False}$"
      ],
      "text/plain": [
       "False"
      ]
     },
     "execution_count": 38,
     "metadata": {},
     "output_type": "execute_result"
    }
   ],
   "source": [
    "oo<999999999999999999999999999999999999999999999999999999999999999999"
   ]
  },
  {
   "cell_type": "code",
   "execution_count": 39,
   "metadata": {},
   "outputs": [
    {
     "data": {
      "image/png": "[encoded data removed]",
      "text/latex": [
       "$\\displaystyle \\infty$"
      ],
      "text/plain": [
       "oo"
      ]
     },
     "execution_count": 39,
     "metadata": {},
     "output_type": "execute_result"
    }
   ],
   "source": [
    "oo+3"
   ]
  },
  {
   "cell_type": "code",
   "execution_count": 40,
   "metadata": {},
   "outputs": [
    {
     "data": {
      "image/png": "[encoded data removed]",
      "text/latex": [
       "$\\displaystyle -\\infty$"
      ],
      "text/plain": [
       "-oo"
      ]
     },
     "execution_count": 40,
     "metadata": {},
     "output_type": "execute_result"
    }
   ],
   "source": [
    "-oo"
   ]
  },
  {
   "cell_type": "code",
   "execution_count": 41,
   "metadata": {},
   "outputs": [
    {
     "data": {
      "image/png": "[encoded data removed]",
      "text/latex": [
       "$\\displaystyle \\text{True}$"
      ],
      "text/plain": [
       "True"
      ]
     },
     "execution_count": 41,
     "metadata": {},
     "output_type": "execute_result"
    }
   ],
   "source": [
    "-oo<-99999999999999999999999999999999999999999999999999999"
   ]
  },
  {
   "cell_type": "code",
   "execution_count": 42,
   "metadata": {},
   "outputs": [
    {
     "data": {
      "image/png": "[encoded data removed]",
      "text/latex": [
       "$\\displaystyle \\left( \\pi^{2}, \\  e\\right)$"
      ],
      "text/plain": [
       "   2    \n",
       "(pi , E)"
      ]
     },
     "execution_count": 42,
     "metadata": {},
     "output_type": "execute_result"
    }
   ],
   "source": [
    "from sympy import pi, E\n",
    "pi**2, E"
   ]
  },
  {
   "cell_type": "code",
   "execution_count": 43,
   "metadata": {},
   "outputs": [
    {
     "data": {
      "image/png": "[encoded data removed]",
      "text/latex": [
       "$\\displaystyle \\pi^{2}$"
      ],
      "text/plain": [
       "  2\n",
       "pi "
      ]
     },
     "execution_count": 43,
     "metadata": {},
     "output_type": "execute_result"
    }
   ],
   "source": [
    "from sympy import pi, E\n",
    "pi**2"
   ]
  },
  {
   "cell_type": "code",
   "execution_count": 44,
   "metadata": {},
   "outputs": [
    {
     "data": {
      "image/png": "[encoded data removed]",
      "text/latex": [
       "$\\displaystyle 3.14159265358979$"
      ],
      "text/plain": [
       "3.14159265358979"
      ]
     },
     "execution_count": 44,
     "metadata": {},
     "output_type": "execute_result"
    }
   ],
   "source": [
    "from sympy import *\n",
    "pi.evalf()\n",
    "\n",
    "#x=Symbol('x')\n",
    "\n",
    "# Simplifier \n",
    "#y= (x**2-1)/(x-1)\n",
    "#simplify(y)\n",
    "\n",
    "#e=simplify(sin(x)**2 + cos(x)**2)\n",
    "#print(e)\n",
    "\n",
    "# Factoriser \n",
    "#factor(x**3 - x**2 + x - 1)\n"
   ]
  },
  {
   "cell_type": "markdown",
   "metadata": {},
   "source": [
    "Limites "
   ]
  },
  {
   "cell_type": "code",
   "execution_count": 45,
   "metadata": {},
   "outputs": [
    {
     "data": {
      "image/png": "[encoded data removed]",
      "text/latex": [
       "$\\displaystyle 1$"
      ],
      "text/plain": [
       "1"
      ]
     },
     "execution_count": 45,
     "metadata": {},
     "output_type": "execute_result"
    }
   ],
   "source": [
    "# limit quand x tend vers 0 de sin(x)/x.\n",
    "x = Symbol(\"x\")\n",
    "limit(sin(x)/x, x, 0)\n"
   ]
  },
  {
   "cell_type": "code",
   "execution_count": 46,
   "metadata": {},
   "outputs": [
    {
     "data": {
      "image/png": "[encoded data removed]",
      "text/latex": [
       "$\\displaystyle \\infty$"
      ],
      "text/plain": [
       "oo"
      ]
     },
     "execution_count": 46,
     "metadata": {},
     "output_type": "execute_result"
    }
   ],
   "source": [
    "limit(x**2, x, oo)"
   ]
  },
  {
   "cell_type": "code",
   "execution_count": 47,
   "metadata": {},
   "outputs": [
    {
     "data": {
      "image/png": "[encoded data removed]",
      "text/latex": [
       "$\\displaystyle \\infty$"
      ],
      "text/plain": [
       "oo"
      ]
     },
     "execution_count": 47,
     "metadata": {},
     "output_type": "execute_result"
    }
   ],
   "source": [
    "limit(1/x, x, 0)"
   ]
  },
  {
   "cell_type": "code",
   "execution_count": 48,
   "metadata": {},
   "outputs": [
    {
     "data": {
      "image/png": "[encoded data removed]",
      "text/latex": [
       "$\\displaystyle \\infty$"
      ],
      "text/plain": [
       "oo"
      ]
     },
     "execution_count": 48,
     "metadata": {},
     "output_type": "execute_result"
    }
   ],
   "source": [
    "limit(1/x, x, 0)"
   ]
  },
  {
   "cell_type": "code",
   "execution_count": 49,
   "metadata": {},
   "outputs": [
    {
     "data": {
      "image/png": "[encoded data removed]",
      "text/latex": [
       "$\\displaystyle -\\infty$"
      ],
      "text/plain": [
       "-oo"
      ]
     },
     "execution_count": 49,
     "metadata": {},
     "output_type": "execute_result"
    }
   ],
   "source": [
    "limit(log(x)/x, x, 0)"
   ]
  },
  {
   "cell_type": "code",
   "execution_count": 50,
   "metadata": {},
   "outputs": [
    {
     "data": {
      "image/png": "[encoded data removed]",
      "text/latex": [
       "$\\displaystyle -\\infty$"
      ],
      "text/plain": [
       "-oo"
      ]
     },
     "execution_count": 50,
     "metadata": {},
     "output_type": "execute_result"
    }
   ],
   "source": [
    "limit(1/x,x,0,'-')"
   ]
  },
  {
   "cell_type": "code",
   "execution_count": 51,
   "metadata": {},
   "outputs": [
    {
     "data": {
      "image/png": "[encoded data removed]",
      "text/latex": [
       "$\\displaystyle \\infty$"
      ],
      "text/plain": [
       "oo"
      ]
     },
     "execution_count": 51,
     "metadata": {},
     "output_type": "execute_result"
    }
   ],
   "source": [
    "limit(1/x,x,0,'+')\n"
   ]
  },
  {
   "cell_type": "code",
   "execution_count": 52,
   "metadata": {},
   "outputs": [
    {
     "data": {
      "image/png": "[encoded data removed]",
      "text/latex": [
       "$\\displaystyle -\\infty$"
      ],
      "text/plain": [
       "-oo"
      ]
     },
     "execution_count": 52,
     "metadata": {},
     "output_type": "execute_result"
    }
   ],
   "source": [
    "limit(log(x),x,0)"
   ]
  },
  {
   "cell_type": "markdown",
   "metadata": {},
   "source": [
    "Expression non evaluées:"
   ]
  },
  {
   "cell_type": "code",
   "execution_count": 53,
   "metadata": {},
   "outputs": [
    {
     "data": {
      "image/png": "[encoded data removed]",
      "text/latex": [
       "$\\displaystyle \\frac{d}{d x} \\frac{1}{x}$"
      ],
      "text/plain": [
       "d /1\\\n",
       "--|-|\n",
       "dx\\x/"
      ]
     },
     "execution_count": 53,
     "metadata": {},
     "output_type": "execute_result"
    }
   ],
   "source": [
    "# Pour avoir le symobl de dérivé.\n",
    "Derivative(1/x, x)"
   ]
  },
  {
   "cell_type": "code",
   "execution_count": 54,
   "metadata": {},
   "outputs": [
    {
     "data": {
      "image/png": "[encoded data removed]",
      "text/latex": [
       "$\\displaystyle \\int \\frac{1}{x}\\, dx$"
      ],
      "text/plain": [
       "  /    \n",
       " |     \n",
       " | 1   \n",
       " | - dx\n",
       " | x   \n",
       " |     \n",
       "/      "
      ]
     },
     "execution_count": 54,
     "metadata": {},
     "output_type": "execute_result"
    }
   ],
   "source": [
    "# Pour avoir le symbol d'integral\n",
    "#\n",
    "x=Symbol('x')\n",
    "Integral(1/x,x)\n",
    " "
   ]
  },
  {
   "cell_type": "code",
   "execution_count": 55,
   "metadata": {},
   "outputs": [
    {
     "data": {
      "image/png": "[encoded data removed]",
      "text/latex": [
       "$\\displaystyle \\int \\frac{\\sqrt{x^{3} + 1} \\log{\\left(x \\right)}}{x - 1}\\, dx$"
      ],
      "text/plain": [
       "  /                     \n",
       " |                      \n",
       " |    ________          \n",
       " |   /  3               \n",
       " | \\/  x  + 1 *log(x)   \n",
       " | ------------------ dx\n",
       " |       x - 1          \n",
       " |                      \n",
       "/                       "
      ]
     },
     "execution_count": 55,
     "metadata": {},
     "output_type": "execute_result"
    }
   ],
   "source": [
    "x=Symbol('x')\n",
    "f=(sqrt(x**3+1)*log(x))/(x-1)\n",
    "f\n",
    "#Derivative(f,x)\n",
    "Integral(f,x)"
   ]
  },
  {
   "cell_type": "code",
   "execution_count": 56,
   "metadata": {},
   "outputs": [
    {
     "data": {
      "image/png": "[encoded data removed]",
      "text/latex": [
       "$\\displaystyle \\int\\limits_{a}^{b} \\frac{1}{x}\\, dx$"
      ],
      "text/plain": [
       "  b     \n",
       "  /     \n",
       " |      \n",
       " |  1   \n",
       " |  - dx\n",
       " |  x   \n",
       " |      \n",
       "/       \n",
       "a       "
      ]
     },
     "execution_count": 56,
     "metadata": {},
     "output_type": "execute_result"
    }
   ],
   "source": [
    "x=Symbol('x')\n",
    "a=Symbol('a')\n",
    "b=Symbol('b')\n",
    "Integral(1/x, (x,a,b))"
   ]
  },
  {
   "cell_type": "code",
   "execution_count": 57,
   "metadata": {},
   "outputs": [
    {
     "data": {
      "image/png": "[encoded data removed]",
      "text/latex": [
       "$\\displaystyle \\int\\limits_{2}^{10} \\sqrt{x^{3} + 1}\\, dx$"
      ],
      "text/plain": [
       " 10               \n",
       "  /               \n",
       " |                \n",
       " |     ________   \n",
       " |    /  3        \n",
       " |  \\/  x  + 1  dx\n",
       " |                \n",
       "/                 \n",
       "2                 "
      ]
     },
     "execution_count": 57,
     "metadata": {},
     "output_type": "execute_result"
    }
   ],
   "source": [
    "e = Integral(sqrt(x**3+1), (x, 2, 10))\n",
    "e"
   ]
  },
  {
   "cell_type": "code",
   "execution_count": 58,
   "metadata": {},
   "outputs": [
    {
     "data": {
      "image/png": "[encoded data removed]",
      "text/latex": [
       "$\\displaystyle \\sum_{k=1}^{n} \\frac{1}{k}$"
      ],
      "text/plain": [
       "  n    \n",
       " ___   \n",
       " \\  `  \n",
       "  \\   1\n",
       "   )  -\n",
       "  /   k\n",
       " /__,  \n",
       "k = 1  "
      ]
     },
     "execution_count": 58,
     "metadata": {},
     "output_type": "execute_result"
    }
   ],
   "source": [
    "k=symbols('k')\n",
    "n=symbols('n')\n",
    "Sum(1/k, (k, 1, n))"
   ]
  },
  {
   "cell_type": "code",
   "execution_count": 59,
   "metadata": {},
   "outputs": [
    {
     "data": {
      "image/png": "[encoded data removed]",
      "text/latex": [
       "$\\displaystyle f{\\left(x \\right)}$"
      ],
      "text/plain": [
       "f(x)"
      ]
     },
     "execution_count": 59,
     "metadata": {},
     "output_type": "execute_result"
    }
   ],
   "source": [
    "from sympy  import *\n",
    "f=Function('f')\n",
    "f(x)"
   ]
  },
  {
   "cell_type": "markdown",
   "metadata": {},
   "source": [
    "Dérivation\n",
    "\n",
    "Vous pouvez dériver n’importe quelle expression SymPy en utilisant diff(func, var). Exemples :"
   ]
  },
  {
   "cell_type": "code",
   "execution_count": 60,
   "metadata": {},
   "outputs": [
    {
     "data": {
      "image/png": "[encoded data removed]",
      "text/latex": [
       "$\\displaystyle \\cos{\\left(x \\right)}$"
      ],
      "text/plain": [
       "cos(x)"
      ]
     },
     "execution_count": 60,
     "metadata": {},
     "output_type": "execute_result"
    }
   ],
   "source": [
    "from sympy import diff, Symbol, sin, tan\n",
    "x = Symbol('x')\n",
    "diff(sin(x), x)"
   ]
  },
  {
   "cell_type": "code",
   "execution_count": 61,
   "metadata": {},
   "outputs": [
    {
     "data": {
      "image/png": "[encoded data removed]",
      "text/latex": [
       "$\\displaystyle 2 \\cos{\\left(2 x \\right)}$"
      ],
      "text/plain": [
       "2*cos(2*x)"
      ]
     },
     "execution_count": 61,
     "metadata": {},
     "output_type": "execute_result"
    }
   ],
   "source": [
    "diff(sin(2*x), x)"
   ]
  },
  {
   "cell_type": "code",
   "execution_count": 62,
   "metadata": {},
   "outputs": [
    {
     "data": {
      "image/png": "[encoded data removed]",
      "text/latex": [
       "$\\displaystyle \\tan^{2}{\\left(x \\right)} + 1$"
      ],
      "text/plain": [
       "   2       \n",
       "tan (x) + 1"
      ]
     },
     "execution_count": 62,
     "metadata": {},
     "output_type": "execute_result"
    }
   ],
   "source": [
    "diff(tan(x), x)"
   ]
  },
  {
   "cell_type": "code",
   "execution_count": 63,
   "metadata": {},
   "outputs": [
    {
     "data": {
      "image/png": "[encoded data removed]",
      "text/latex": [
       "$\\displaystyle - \\sin{\\left(x \\right)}$"
      ],
      "text/plain": [
       "-sin(x)"
      ]
     },
     "execution_count": 63,
     "metadata": {},
     "output_type": "execute_result"
    }
   ],
   "source": [
    "diff(cos(x),x)"
   ]
  },
  {
   "cell_type": "code",
   "execution_count": 64,
   "metadata": {},
   "outputs": [
    {
     "data": {
      "image/png": "[encoded data removed]",
      "text/latex": [
       "$\\displaystyle \\tan^{2}{\\left(x \\right)} + 1$"
      ],
      "text/plain": [
       "   2       \n",
       "tan (x) + 1"
      ]
     },
     "execution_count": 64,
     "metadata": {},
     "output_type": "execute_result"
    }
   ],
   "source": [
    "from sympy import limit, cos\n",
    "from sympy.abc import delta\n",
    "limit((tan(x + delta) - tan(x))/delta, delta, 0)"
   ]
  },
  {
   "cell_type": "markdown",
   "metadata": {},
   "source": [
    "Des dérivées d’ordre supérieur peuvent être calculées en utilisant la méthode diff(func, var, n) :"
   ]
  },
  {
   "cell_type": "code",
   "execution_count": 65,
   "metadata": {},
   "outputs": [
    {
     "data": {
      "image/png": "[encoded data removed]",
      "text/latex": [
       "$\\displaystyle - \\cos{\\left(x \\right)}$"
      ],
      "text/plain": [
       "-cos(x)"
      ]
     },
     "execution_count": 65,
     "metadata": {},
     "output_type": "execute_result"
    }
   ],
   "source": [
    "diff(cos(x),x,2)"
   ]
  },
  {
   "cell_type": "code",
   "execution_count": 66,
   "metadata": {},
   "outputs": [
    {
     "data": {
      "image/png": "[encoded data removed]",
      "text/latex": [
       "$\\displaystyle \\sin{\\left(x \\right)}$"
      ],
      "text/plain": [
       "sin(x)"
      ]
     },
     "execution_count": 66,
     "metadata": {},
     "output_type": "execute_result"
    }
   ],
   "source": [
    "diff(cos(x),x,3)"
   ]
  },
  {
   "cell_type": "code",
   "execution_count": 67,
   "metadata": {},
   "outputs": [
    {
     "data": {
      "image/png": "[encoded data removed]",
      "text/latex": [
       "$\\displaystyle 2 \\cos{\\left(2 x \\right)}$"
      ],
      "text/plain": [
       "2*cos(2*x)"
      ]
     },
     "execution_count": 67,
     "metadata": {},
     "output_type": "execute_result"
    }
   ],
   "source": [
    "diff(sin(2*x), x, 1)"
   ]
  },
  {
   "cell_type": "code",
   "execution_count": 68,
   "metadata": {},
   "outputs": [
    {
     "data": {
      "image/png": "[encoded data removed]",
      "text/latex": [
       "$\\displaystyle - 8 \\cos{\\left(2 x \\right)}$"
      ],
      "text/plain": [
       "-8*cos(2*x)"
      ]
     },
     "execution_count": 68,
     "metadata": {},
     "output_type": "execute_result"
    }
   ],
   "source": [
    "diff(sin(2*x), x, 3)"
   ]
  },
  {
   "cell_type": "markdown",
   "metadata": {},
   "source": [
    "Developpement en serie\n",
    "Utilisez .series(var, point, order) :"
   ]
  },
  {
   "cell_type": "code",
   "execution_count": 69,
   "metadata": {},
   "outputs": [
    {
     "data": {
      "image/png": "[encoded data removed]",
      "text/latex": [
       "$\\displaystyle x - \\frac{x^{3}}{6} + \\frac{x^{5}}{120} - \\frac{x^{7}}{5040} + \\frac{x^{9}}{362880} + O\\left(x^{10}\\right)$"
      ],
      "text/plain": [
       "     3     5     7       9           \n",
       "    x     x     x       x       / 10\\\n",
       "x - -- + --- - ---- + ------ + O\\x  /\n",
       "    6    120   5040   362880         "
      ]
     },
     "execution_count": 69,
     "metadata": {},
     "output_type": "execute_result"
    }
   ],
   "source": [
    "x=symbols('x')\n",
    "(sin(x)).series(x,0,10)"
   ]
  },
  {
   "cell_type": "code",
   "execution_count": 70,
   "metadata": {},
   "outputs": [
    {
     "data": {
      "image/png": "[encoded data removed]",
      "text/latex": [
       "$\\displaystyle 1 + \\frac{x^{2}}{2} + \\frac{5 x^{4}}{24} + \\frac{61 x^{6}}{720} + \\frac{277 x^{8}}{8064} + O\\left(x^{10}\\right)$"
      ],
      "text/plain": [
       "     2      4       6        8         \n",
       "    x    5*x    61*x    277*x     / 10\\\n",
       "1 + -- + ---- + ----- + ------ + O\\x  /\n",
       "    2     24     720     8064          "
      ]
     },
     "execution_count": 70,
     "metadata": {},
     "output_type": "execute_result"
    }
   ],
   "source": [
    "(1/cos(x)).series(x, 0, 10)"
   ]
  },
  {
   "cell_type": "code",
   "execution_count": 71,
   "metadata": {},
   "outputs": [
    {
     "data": {
      "image/png": "[encoded data removed]",
      "text/latex": [
       "$\\displaystyle \\frac{1}{y} - \\frac{x}{y^{2}} + \\frac{x^{2}}{y^{3}} - \\frac{x^{3}}{y^{4}} + \\frac{x^{4}}{y^{5}} + O\\left(x^{5}\\right)$"
      ],
      "text/plain": [
       "          2    3    4        \n",
       "1   x    x    x    x     / 5\\\n",
       "- - -- + -- - -- + -- + O\\x /\n",
       "y    2    3    4    5        \n",
       "    y    y    y    y         "
      ]
     },
     "execution_count": 71,
     "metadata": {},
     "output_type": "execute_result"
    }
   ],
   "source": [
    "y = Symbol(\"y\")\n",
    "e = 1/(x + y)\n",
    "s = e.series(x, 0, 5)\n",
    "s"
   ]
  },
  {
   "cell_type": "markdown",
   "metadata": {},
   "source": [
    "Sommes\n",
    "\n",
    "Calcule la somme de f indexée sur la variable muette donnée entre les limites données.\n",
    "\n",
    "summation(f, (i, a, b)) calcule la somme de f sur la variable muette i entre les limites a et b, c’est-à-dire :\n",
    "                                           b\n",
    "                                         ____\n",
    "                                         \\   `\n",
    "            summation(f, (i, a, b)) =    /___, f(i)\n",
    "                                        i = a\n"
   ]
  },
  {
   "cell_type": "code",
   "execution_count": 72,
   "metadata": {},
   "outputs": [
    {
     "data": {
      "image/png": "[encoded data removed]",
      "text/latex": [
       "$\\displaystyle \\frac{n \\left(n + 1\\right)}{2}$"
      ],
      "text/plain": [
       "n*(n + 1)\n",
       "---------\n",
       "    2    "
      ]
     },
     "execution_count": 72,
     "metadata": {},
     "output_type": "execute_result"
    }
   ],
   "source": [
    "from sympy import summation, oo, symbols, log\n",
    "\n",
    "i, n, m = symbols('i n m', integer=True)\n",
    "\n",
    "summation(2*i - 1, (i, 1, n))\n",
    "together(summation(i, (i,1,n)))\n",
    " "
   ]
  },
  {
   "cell_type": "code",
   "execution_count": 73,
   "metadata": {},
   "outputs": [
    {
     "data": {
      "image/png": "[encoded data removed]",
      "text/latex": [
       "$\\displaystyle 2$"
      ],
      "text/plain": [
       "2"
      ]
     },
     "execution_count": 73,
     "metadata": {},
     "output_type": "execute_result"
    }
   ],
   "source": [
    "summation(1/2**i, (i, 0, oo))"
   ]
  },
  {
   "cell_type": "code",
   "execution_count": 74,
   "metadata": {},
   "outputs": [
    {
     "data": {
      "image/png": "[encoded data removed]",
      "text/latex": [
       "$\\displaystyle \\sum_{n=2}^{\\infty} \\log{\\left(n \\right)}^{- n}$"
      ],
      "text/plain": [
       "  oo          \n",
       " ___          \n",
       " \\  `         \n",
       "  \\      -n   \n",
       "  /   log  (n)\n",
       " /__,         \n",
       "n = 2         "
      ]
     },
     "execution_count": 74,
     "metadata": {},
     "output_type": "execute_result"
    }
   ],
   "source": [
    "summation(1/log(n)**n, (n, 2, oo))"
   ]
  },
  {
   "cell_type": "code",
   "execution_count": 75,
   "metadata": {},
   "outputs": [
    {
     "data": {
      "image/png": "[encoded data removed]",
      "text/latex": [
       "$\\displaystyle \\frac{m^{3}}{6} + \\frac{m^{2}}{2} + \\frac{m}{3}$"
      ],
      "text/plain": [
       " 3    2    \n",
       "m    m    m\n",
       "-- + -- + -\n",
       "6    2    3"
      ]
     },
     "execution_count": 75,
     "metadata": {},
     "output_type": "execute_result"
    }
   ],
   "source": [
    "summation(i, (i, 0, n), (n, 0, m))\n"
   ]
  },
  {
   "cell_type": "code",
   "execution_count": 76,
   "metadata": {},
   "outputs": [
    {
     "data": {
      "image/png": "[encoded data removed]",
      "text/latex": [
       "$\\displaystyle e^{x}$"
      ],
      "text/plain": [
       " x\n",
       "e "
      ]
     },
     "execution_count": 76,
     "metadata": {},
     "output_type": "execute_result"
    }
   ],
   "source": [
    "from sympy import *\n",
    "n= Symbol('n')\n",
    "summation(x**n/factorial(n), (n, 0, oo))\n"
   ]
  },
  {
   "cell_type": "markdown",
   "metadata": {},
   "source": [
    "Intégration\n",
    "\n",
    "SymPy supporte l’intégration définie et indéfinie de fonctions élémentaires et spéciales avec integrate(), qui utilise le puissant algorithme de Risch-Norman étendu et quelques heuristiques ainsi que le filtrage par motif :"
   ]
  },
  {
   "cell_type": "code",
   "execution_count": 77,
   "metadata": {},
   "outputs": [
    {
     "data": {
      "image/png": "[encoded data removed]",
      "text/latex": [
       "$\\displaystyle x \\log{\\left(x \\right)} - x$"
      ],
      "text/plain": [
       "x*log(x) - x"
      ]
     },
     "execution_count": 77,
     "metadata": {},
     "output_type": "execute_result"
    }
   ],
   "source": [
    "#from sympy import integrate, erf, exp, sin, log, oo, pi, sinh, symbols\n",
    "from sympy import  *\n",
    "x=Symbol('x')\n",
    "integrate(log(x), x)"
   ]
  },
  {
   "cell_type": "code",
   "execution_count": 78,
   "metadata": {},
   "outputs": [
    {
     "data": {
      "image/png": "[encoded data removed]",
      "text/latex": [
       "$\\displaystyle - \\cos{\\left(x \\right)}$"
      ],
      "text/plain": [
       "-cos(x)"
      ]
     },
     "execution_count": 78,
     "metadata": {},
     "output_type": "execute_result"
    }
   ],
   "source": [
    "integrate(sin(x), x)"
   ]
  },
  {
   "cell_type": "code",
   "execution_count": 79,
   "metadata": {},
   "outputs": [
    {
     "data": {
      "image/png": "[encoded data removed]",
      "text/latex": [
       "$\\displaystyle x \\log{\\left(x \\right)} - x$"
      ],
      "text/plain": [
       "x*log(x) - x"
      ]
     },
     "execution_count": 79,
     "metadata": {},
     "output_type": "execute_result"
    }
   ],
   "source": [
    "integrate(log(x), x)"
   ]
  },
  {
   "cell_type": "code",
   "execution_count": 80,
   "metadata": {},
   "outputs": [
    {
     "data": {
      "image/png": "[encoded data removed]",
      "text/latex": [
       "$\\displaystyle x^{2} + \\cosh{\\left(x \\right)}$"
      ],
      "text/plain": [
       " 2          \n",
       "x  + cosh(x)"
      ]
     },
     "execution_count": 80,
     "metadata": {},
     "output_type": "execute_result"
    }
   ],
   "source": [
    "integrate(2*x + sinh(x), x)"
   ]
  },
  {
   "cell_type": "markdown",
   "metadata": {},
   "source": [
    "Les fonctions spéciales sont aussi facilement gérées :"
   ]
  },
  {
   "cell_type": "markdown",
   "metadata": {},
   "source": [
    "Les fonctions spéciales sont aussi facilement gérées :"
   ]
  },
  {
   "cell_type": "code",
   "execution_count": 81,
   "metadata": {},
   "outputs": [
    {
     "data": {
      "image/png": "[encoded data removed]",
      "text/latex": [
       "$\\displaystyle \\frac{\\sqrt{\\pi} \\operatorname{erf}^{2}{\\left(x \\right)}}{4}$"
      ],
      "text/plain": [
       "  ____    2   \n",
       "\\/ pi *erf (x)\n",
       "--------------\n",
       "      4       "
      ]
     },
     "execution_count": 81,
     "metadata": {},
     "output_type": "execute_result"
    }
   ],
   "source": [
    "integrate(exp(-x**2)*erf(x), x)"
   ]
  },
  {
   "cell_type": "markdown",
   "metadata": {},
   "source": [
    "Il est possible de calculer l’intégrale définie :"
   ]
  },
  {
   "cell_type": "code",
   "execution_count": 82,
   "metadata": {},
   "outputs": [
    {
     "data": {
      "image/png": "[encoded data removed]",
      "text/latex": [
       "$\\displaystyle \\left( 0, \\  1, \\  2\\right)$"
      ],
      "text/plain": [
       "(0, 1, 2)"
      ]
     },
     "execution_count": 82,
     "metadata": {},
     "output_type": "execute_result"
    }
   ],
   "source": [
    "y=integrate(x**3, (x, -1, 1))\n",
    "\n",
    "z=integrate(sin(x), (x, 0, pi/2))\n",
    "\n",
    "t=integrate(cos(x), (x, -pi/2, pi/2))\n",
    "y,z,t\n"
   ]
  },
  {
   "cell_type": "markdown",
   "metadata": {},
   "source": [
    "Les intégrales impropres sont aussi supportées :"
   ]
  },
  {
   "cell_type": "code",
   "execution_count": 83,
   "metadata": {},
   "outputs": [
    {
     "data": {
      "image/png": "[encoded data removed]",
      "text/latex": [
       "$\\displaystyle \\left( 1, \\  -1\\right)$"
      ],
      "text/plain": [
       "(1, -1)"
      ]
     },
     "execution_count": 83,
     "metadata": {},
     "output_type": "execute_result"
    }
   ],
   "source": [
    "y=integrate(exp(-x), (x, 0, oo))\n",
    "\n",
    "z=integrate(log(x), (x, 0, 1))\n",
    "y,z"
   ]
  },
  {
   "cell_type": "markdown",
   "metadata": {},
   "source": [
    "Nombres complexes\n",
    "\n",
    "Outre l’unité imaginaire, I, qui est imaginaire, les symboles peuvent être créés avec certains attributs (par exemple réel, positif, complexe, etc.) affectant leur comportement :"
   ]
  },
  {
   "cell_type": "code",
   "execution_count": 84,
   "metadata": {},
   "outputs": [
    {
     "data": {
      "image/png": "[encoded data removed]",
      "text/latex": [
       "$\\displaystyle e^{i x}$"
      ],
      "text/plain": [
       " I*x\n",
       "e   "
      ]
     },
     "execution_count": 84,
     "metadata": {},
     "output_type": "execute_result"
    }
   ],
   "source": [
    "from sympy import Symbol, exp, I\n",
    "x = Symbol(\"x\") # a plain x with no attributes\n",
    "exp(I*x).expand()"
   ]
  },
  {
   "cell_type": "code",
   "execution_count": 85,
   "metadata": {},
   "outputs": [
    {
     "data": {
      "image/png": "[encoded data removed]",
      "text/latex": [
       "$\\displaystyle i e^{- \\operatorname{im}{\\left(x\\right)}} \\sin{\\left(\\operatorname{re}{\\left(x\\right)} \\right)} + e^{- \\operatorname{im}{\\left(x\\right)}} \\cos{\\left(\\operatorname{re}{\\left(x\\right)} \\right)}$"
      ],
      "text/plain": [
       "   -im(x)               -im(x)           \n",
       "I*e      *sin(re(x)) + e      *cos(re(x))"
      ]
     },
     "execution_count": 85,
     "metadata": {},
     "output_type": "execute_result"
    }
   ],
   "source": [
    "exp(I*x).expand(complex=True)"
   ]
  },
  {
   "cell_type": "code",
   "execution_count": 86,
   "metadata": {},
   "outputs": [
    {
     "data": {
      "image/png": "[encoded data removed]",
      "text/latex": [
       "$\\displaystyle i \\sin{\\left(x \\right)} + \\cos{\\left(x \\right)}$"
      ],
      "text/plain": [
       "I*sin(x) + cos(x)"
      ]
     },
     "execution_count": 86,
     "metadata": {},
     "output_type": "execute_result"
    }
   ],
   "source": [
    "x = Symbol(\"x\", real=True)\n",
    "exp(I*x).expand(complex=True)"
   ]
  },
  {
   "cell_type": "markdown",
   "metadata": {},
   "source": [
    "Fonctions: trigonométrie"
   ]
  },
  {
   "cell_type": "code",
   "execution_count": 87,
   "metadata": {},
   "outputs": [],
   "source": [
    "from sympy import asin, asinh, cos, sin, sinh, symbols, I\n",
    "x, y = symbols('x,y')"
   ]
  },
  {
   "cell_type": "code",
   "execution_count": 88,
   "metadata": {},
   "outputs": [
    {
     "data": {
      "image/png": "[encoded data removed]",
      "text/latex": [
       "$\\displaystyle \\sin{\\left(x \\right)} \\cos{\\left(y \\right)} - \\sin{\\left(y \\right)} \\cos{\\left(x \\right)}$"
      ],
      "text/plain": [
       "sin(x)*cos(y) - sin(y)*cos(x)"
      ]
     },
     "execution_count": 88,
     "metadata": {},
     "output_type": "execute_result"
    }
   ],
   "source": [
    "x=Symbol('x')\n",
    "y= Symbol('y')\n",
    "sin(x - y).expand(trig=True)"
   ]
  },
  {
   "cell_type": "code",
   "execution_count": 89,
   "metadata": {},
   "outputs": [
    {
     "data": {
      "image/png": "[encoded data removed]",
      "text/latex": [
       "$\\displaystyle - \\sin{\\left(x \\right)} \\sin{\\left(y \\right)} + \\cos{\\left(x \\right)} \\cos{\\left(y \\right)}$"
      ],
      "text/plain": [
       "-sin(x)*sin(y) + cos(x)*cos(y)"
      ]
     },
     "execution_count": 89,
     "metadata": {},
     "output_type": "execute_result"
    }
   ],
   "source": [
    "cos(x+y).expand(trig=True)"
   ]
  },
  {
   "cell_type": "code",
   "execution_count": 90,
   "metadata": {},
   "outputs": [
    {
     "data": {
      "image/png": "[encoded data removed]",
      "text/latex": [
       "$\\displaystyle x + \\frac{x^{3}}{6} + \\frac{x^{5}}{120} + \\frac{x^{7}}{5040} + \\frac{x^{9}}{362880} + O\\left(x^{10}\\right)$"
      ],
      "text/plain": [
       "     3     5     7       9           \n",
       "    x     x     x       x       / 10\\\n",
       "x + -- + --- + ---- + ------ + O\\x  /\n",
       "    6    120   5040   362880         "
      ]
     },
     "execution_count": 90,
     "metadata": {},
     "output_type": "execute_result"
    }
   ],
   "source": [
    "sinh(x).series(x, 0, 10)"
   ]
  },
  {
   "cell_type": "markdown",
   "metadata": {},
   "source": [
    "harmoniques sphériques"
   ]
  },
  {
   "cell_type": "code",
   "execution_count": 91,
   "metadata": {},
   "outputs": [
    {
     "data": {
      "image/png": "[encoded data removed]",
      "text/latex": [
       "$\\displaystyle Y_{1}^{0}\\left(\\theta,\\phi\\right)$"
      ],
      "text/plain": [
       "Ynm(1, 0, theta, phi)"
      ]
     },
     "execution_count": 91,
     "metadata": {},
     "output_type": "execute_result"
    }
   ],
   "source": [
    "from sympy import Ynm\n",
    "from sympy.abc import theta, phi\n",
    "\n",
    "Ynm(1, 0, theta, phi)\n"
   ]
  },
  {
   "cell_type": "code",
   "execution_count": 92,
   "metadata": {},
   "outputs": [
    {
     "data": {
      "image/png": "[encoded data removed]",
      "text/latex": [
       "$\\displaystyle Y_{1}^{1}\\left(\\theta,\\phi\\right)$"
      ],
      "text/plain": [
       "Ynm(1, 1, theta, phi)"
      ]
     },
     "execution_count": 92,
     "metadata": {},
     "output_type": "execute_result"
    }
   ],
   "source": [
    "Ynm(1, 1, theta, phi)\n"
   ]
  },
  {
   "cell_type": "code",
   "execution_count": 93,
   "metadata": {},
   "outputs": [
    {
     "data": {
      "image/png": "[encoded data removed]",
      "text/latex": [
       "$\\displaystyle Y_{2}^{1}\\left(\\theta,\\phi\\right)$"
      ],
      "text/plain": [
       "Ynm(2, 1, theta, phi)"
      ]
     },
     "execution_count": 93,
     "metadata": {},
     "output_type": "execute_result"
    }
   ],
   "source": [
    "Ynm(2, 1, theta, phi)"
   ]
  },
  {
   "cell_type": "markdown",
   "metadata": {},
   "source": [
    "factorielles et fonction gamma\n",
    "\n",
    "\n",
    "fonction zeta\n"
   ]
  },
  {
   "cell_type": "code",
   "execution_count": 94,
   "metadata": {},
   "outputs": [
    {
     "data": {
      "image/png": "[encoded data removed]",
      "text/latex": [
       "$\\displaystyle x!$"
      ],
      "text/plain": [
       "x!"
      ]
     },
     "execution_count": 94,
     "metadata": {},
     "output_type": "execute_result"
    }
   ],
   "source": [
    "from sympy import factorial, gamma, Symbol\n",
    "x = Symbol(\"x\")\n",
    "#n = Symbol(\"n\", integer=True)\n",
    "factorial(x)"
   ]
  },
  {
   "cell_type": "code",
   "execution_count": 95,
   "metadata": {},
   "outputs": [
    {
     "data": {
      "image/png": "[encoded data removed]",
      "text/latex": [
       "$\\displaystyle 40320$"
      ],
      "text/plain": [
       "40320"
      ]
     },
     "execution_count": 95,
     "metadata": {},
     "output_type": "execute_result"
    }
   ],
   "source": [
    "n=8\n",
    "factorial(n)"
   ]
  },
  {
   "cell_type": "code",
   "execution_count": 96,
   "metadata": {},
   "outputs": [
    {
     "data": {
      "image/png": "[encoded data removed]",
      "text/latex": [
       "$\\displaystyle 1 - \\gamma x + x^{2} \\left(\\frac{\\gamma^{2}}{2} + \\frac{\\pi^{2}}{12}\\right) + O\\left(x^{3}\\right)$"
      ],
      "text/plain": [
       "                      /          2     2\\        \n",
       "                    2 |EulerGamma    pi |    / 3\\\n",
       "1 - EulerGamma*x + x *|----------- + ---| + O\\x /\n",
       "                      \\     2         12/        "
      ]
     },
     "execution_count": 96,
     "metadata": {},
     "output_type": "execute_result"
    }
   ],
   "source": [
    "gamma(x + 1).series(x, 0, 3) \n"
   ]
  },
  {
   "cell_type": "code",
   "execution_count": 97,
   "metadata": {},
   "outputs": [
    {
     "data": {
      "image/png": "[encoded data removed]",
      "text/latex": [
       "$\\displaystyle \\zeta\\left(4, x\\right)$"
      ],
      "text/plain": [
       "zeta(4, x)"
      ]
     },
     "execution_count": 97,
     "metadata": {},
     "output_type": "execute_result"
    }
   ],
   "source": [
    "from sympy import zeta\n",
    "zeta(4, x)"
   ]
  },
  {
   "cell_type": "code",
   "execution_count": 98,
   "metadata": {},
   "outputs": [
    {
     "data": {
      "image/png": "[encoded data removed]",
      "text/latex": [
       "$\\displaystyle \\frac{\\pi^{4}}{90}$"
      ],
      "text/plain": [
       "  4\n",
       "pi \n",
       "---\n",
       " 90"
      ]
     },
     "execution_count": 98,
     "metadata": {},
     "output_type": "execute_result"
    }
   ],
   "source": [
    "zeta(4, 1)"
   ]
  },
  {
   "cell_type": "code",
   "execution_count": 99,
   "metadata": {},
   "outputs": [
    {
     "data": {
      "image/png": "[encoded data removed]",
      "text/latex": [
       "$\\displaystyle -1 + \\frac{\\pi^{4}}{90}$"
      ],
      "text/plain": [
       "       4\n",
       "     pi \n",
       "-1 + ---\n",
       "      90"
      ]
     },
     "execution_count": 99,
     "metadata": {},
     "output_type": "execute_result"
    }
   ],
   "source": [
    "zeta(4, 2)    "
   ]
  },
  {
   "cell_type": "code",
   "execution_count": 100,
   "metadata": {},
   "outputs": [
    {
     "data": {
      "image/png": "[encoded data removed]",
      "text/latex": [
       "$\\displaystyle - \\frac{17}{16} + \\frac{\\pi^{4}}{90}$"
      ],
      "text/plain": [
       "         4\n",
       "  17   pi \n",
       "- -- + ---\n",
       "  16    90"
      ]
     },
     "execution_count": 100,
     "metadata": {},
     "output_type": "execute_result"
    }
   ],
   "source": [
    "zeta(4, 3)"
   ]
  },
  {
   "cell_type": "markdown",
   "metadata": {},
   "source": [
    "polynômes"
   ]
  },
  {
   "cell_type": "code",
   "execution_count": 101,
   "metadata": {},
   "outputs": [
    {
     "data": {
      "image/png": "[encoded data removed]",
      "text/latex": [
       "$\\displaystyle 2 x^{2} - 1$"
      ],
      "text/plain": [
       "   2    \n",
       "2*x  - 1"
      ]
     },
     "execution_count": 101,
     "metadata": {},
     "output_type": "execute_result"
    }
   ],
   "source": [
    "from sympy import assoc_legendre, chebyshevt, legendre, hermite\n",
    "chebyshevt(2, x)"
   ]
  },
  {
   "cell_type": "code",
   "execution_count": 102,
   "metadata": {},
   "outputs": [
    {
     "data": {
      "image/png": "[encoded data removed]",
      "text/latex": [
       "$\\displaystyle 8 x^{4} - 8 x^{2} + 1$"
      ],
      "text/plain": [
       "   4      2    \n",
       "8*x  - 8*x  + 1"
      ]
     },
     "execution_count": 102,
     "metadata": {},
     "output_type": "execute_result"
    }
   ],
   "source": [
    "chebyshevt(4, x)"
   ]
  },
  {
   "cell_type": "code",
   "execution_count": 103,
   "metadata": {},
   "outputs": [
    {
     "data": {
      "image/png": "[encoded data removed]",
      "text/latex": [
       "$\\displaystyle \\frac{3 x^{2}}{2} - \\frac{1}{2}$"
      ],
      "text/plain": [
       "   2    \n",
       "3*x    1\n",
       "---- - -\n",
       " 2     2"
      ]
     },
     "execution_count": 103,
     "metadata": {},
     "output_type": "execute_result"
    }
   ],
   "source": [
    "legendre(2, x)"
   ]
  },
  {
   "cell_type": "code",
   "execution_count": 104,
   "metadata": {},
   "outputs": [
    {
     "data": {
      "image/png": "[encoded data removed]",
      "text/latex": [
       "$\\displaystyle \\frac{6435 x^{8}}{128} - \\frac{3003 x^{6}}{32} + \\frac{3465 x^{4}}{64} - \\frac{315 x^{2}}{32} + \\frac{35}{128}$"
      ],
      "text/plain": [
       "      8         6         4        2      \n",
       "6435*x    3003*x    3465*x    315*x     35\n",
       "------- - ------- + ------- - ------ + ---\n",
       "  128        32        64       32     128"
      ]
     },
     "execution_count": 104,
     "metadata": {},
     "output_type": "execute_result"
    }
   ],
   "source": [
    "legendre(8, x)"
   ]
  },
  {
   "cell_type": "code",
   "execution_count": 105,
   "metadata": {},
   "outputs": [
    {
     "data": {
      "image/png": "[encoded data removed]",
      "text/latex": [
       "$\\displaystyle - 3 x \\sqrt{1 - x^{2}}$"
      ],
      "text/plain": [
       "        ________\n",
       "       /      2 \n",
       "-3*x*\\/  1 - x  "
      ]
     },
     "execution_count": 105,
     "metadata": {},
     "output_type": "execute_result"
    }
   ],
   "source": [
    " assoc_legendre(2, 1, x)"
   ]
  },
  {
   "cell_type": "code",
   "execution_count": 106,
   "metadata": {},
   "outputs": [
    {
     "data": {
      "image/png": "[encoded data removed]",
      "text/latex": [
       "$\\displaystyle 3 - 3 x^{2}$"
      ],
      "text/plain": [
       "       2\n",
       "3 - 3*x "
      ]
     },
     "execution_count": 106,
     "metadata": {},
     "output_type": "execute_result"
    }
   ],
   "source": [
    "assoc_legendre(2, 2, x)"
   ]
  },
  {
   "cell_type": "code",
   "execution_count": 107,
   "metadata": {},
   "outputs": [
    {
     "data": {
      "image/png": "[encoded data removed]",
      "text/latex": [
       "$\\displaystyle 8 x^{3} - 12 x$"
      ],
      "text/plain": [
       "   3       \n",
       "8*x  - 12*x"
      ]
     },
     "execution_count": 107,
     "metadata": {},
     "output_type": "execute_result"
    }
   ],
   "source": [
    " hermite(3, x)"
   ]
  },
  {
   "cell_type": "markdown",
   "metadata": {},
   "source": [
    "Comparing expressions with =="
   ]
  },
  {
   "cell_type": "code",
   "execution_count": 108,
   "metadata": {},
   "outputs": [
    {
     "data": {
      "text/plain": [
       "False"
      ]
     },
     "execution_count": 108,
     "metadata": {},
     "output_type": "execute_result"
    }
   ],
   "source": [
    "x=Symbol('x')\n",
    "f = (x + 1)**2\n",
    "g= x**2 +2*x+1\n",
    "f==g # retourne False pourquoi?"
   ]
  },
  {
   "cell_type": "code",
   "execution_count": 109,
   "metadata": {},
   "outputs": [
    {
     "data": {
      "text/plain": [
       "True"
      ]
     },
     "execution_count": 109,
     "metadata": {},
     "output_type": "execute_result"
    }
   ],
   "source": [
    "import sympy  as sp\n",
    "sp.expand(f)==sp.expand(g)"
   ]
  },
  {
   "cell_type": "code",
   "execution_count": 110,
   "metadata": {},
   "outputs": [
    {
     "data": {
      "text/plain": [
       "True"
      ]
     },
     "execution_count": 110,
     "metadata": {},
     "output_type": "execute_result"
    }
   ],
   "source": [
    "u=sp.sin(x)**2-1\n",
    "v=sp.cos(x)**2\n",
    "sp.simplify(u+v)==0"
   ]
  },
  {
   "cell_type": "code",
   "execution_count": 111,
   "metadata": {},
   "outputs": [
    {
     "data": {
      "text/plain": [
       "False"
      ]
     },
     "execution_count": 111,
     "metadata": {},
     "output_type": "execute_result"
    }
   ],
   "source": [
    "u=sin(x)**2-1\n",
    "v=cos(x)**2\n",
    "expand(u+v)==0"
   ]
  },
  {
   "cell_type": "markdown",
   "metadata": {
    "collapsed": true
   },
   "source": [
    "http://docs.sympy.org/latest/tutorial/solvers.html\n",
    "Les solvers.\n"
   ]
  },
  {
   "cell_type": "code",
   "execution_count": 112,
   "metadata": {},
   "outputs": [
    {
     "data": {
      "image/png": "[encoded data removed]",
      "text/latex": [
       "$\\displaystyle \\left[ \\right]$"
      ],
      "text/plain": [
       "[]"
      ]
     },
     "execution_count": 112,
     "metadata": {},
     "output_type": "execute_result"
    }
   ],
   "source": [
    "from sympy import *\n",
    "x = Symbol('x')\n",
    "# Definir une equatiion x**2-1=0, \n",
    "e=Eq(x**2-1,0)\n",
    "\n",
    "#solve(x**2 - 1, x)# ou solve(e)\n",
    "solve(e) \n",
    "\n",
    "# Autres exemples \n",
    "#solve(Eq(x**3-1,0)) # ou solve (x**3-1,x)\n",
    "\n",
    "#solve (sin(x)/x,x)\n",
    "\n",
    "\n",
    "\n",
    "e = root(x**3 - 3*x**2, 3) + 1 - x # racine cubique\n",
    "eq= Eq(e,0)\n",
    "solve(eq)\n",
    "#solve(eq, x, check=False)\n",
    " \n",
    "# Eq\n",
    "#e=Eq(x,3) # x-3=0\n",
    "#solve(e)\n",
    "\n",
    "#solve (Eq(x**2,1)) # Eq(x**2,1)veut dire l'eqaution x**2=1\n"
   ]
  },
  {
   "cell_type": "markdown",
   "metadata": {
    "collapsed": true
   },
   "source": [
    "Résoudre un système d'équations\n"
   ]
  },
  {
   "cell_type": "code",
   "execution_count": 113,
   "metadata": {},
   "outputs": [
    {
     "name": "stdout",
     "output_type": "stream",
     "text": [
      "Eq(x + y + 2*z, 47)\n",
      "Eq(x - y + 5*z, 33)\n",
      "Eq(x + 2*y + 2*z, 8)\n"
     ]
    },
    {
     "data": {
      "image/png": "[encoded data removed]",
      "text/latex": [
       "$\\displaystyle \\left\\{ x : \\frac{442}{3}, \\  y : -39, \\  z : - \\frac{92}{3}\\right\\}$"
      ],
      "text/plain": [
       "{x: 442/3, y: -39, z: -92/3}"
      ]
     },
     "execution_count": 113,
     "metadata": {},
     "output_type": "execute_result"
    }
   ],
   "source": [
    "x=Symbol('x')\n",
    "y=Symbol('y')\n",
    "z=Symbol('z')\n",
    "eq1 = Eq(x + y+2*z, 47)\n",
    "print(eq1)\n",
    "eq2 = Eq(x - y+ 5*z, 33)\n",
    "print(eq2)\n",
    "eq3= Eq(x+2*y +2*z, 8)\n",
    "print(eq3)\n",
    "\n",
    "solve([eq1,eq2, eq3])\n",
    "\n"
   ]
  },
  {
   "cell_type": "code",
   "execution_count": 114,
   "metadata": {},
   "outputs": [
    {
     "name": "stdout",
     "output_type": "stream",
     "text": [
      "Eq(0.75*x + 0.25*y, 12.0)\n"
     ]
    },
    {
     "data": {
      "image/png": "[encoded data removed]",
      "text/latex": [
       "$\\displaystyle \\left[ \\right]$"
      ],
      "text/plain": [
       "[]"
      ]
     },
     "execution_count": 114,
     "metadata": {},
     "output_type": "execute_result"
    }
   ],
   "source": [
    "eq1= Eq(0.75*x+0.25*y,12.0 )\n",
    "print(eq1)\n",
    "eq2= Eq(0.75*x+0.25*y, 18.0)\n",
    "solve([eq1,eq2])\n",
    "\n"
   ]
  },
  {
   "cell_type": "code",
   "execution_count": 115,
   "metadata": {},
   "outputs": [
    {
     "data": {
      "image/png": "[encoded data removed]",
      "text/latex": [
       "$\\displaystyle \\left[ \\left\\{ x : 17, \\  y : 30\\right\\}, \\  \\left\\{ x : 30, \\  y : 17\\right\\}\\right]$"
      ],
      "text/plain": [
       "[{x: 17, y: 30}, {x: 30, y: 17}]"
      ]
     },
     "execution_count": 115,
     "metadata": {},
     "output_type": "execute_result"
    }
   ],
   "source": [
    "eq1 = Eq(x + y, 47)\n",
    "eq2 = Eq(x * y, 510)\n",
    "solve([eq1,eq2])"
   ]
  },
  {
   "cell_type": "code",
   "execution_count": 116,
   "metadata": {},
   "outputs": [
    {
     "data": {
      "image/png": "[encoded data removed]",
      "text/latex": [
       "$\\displaystyle \\left[ -1, \\  - \\frac{1}{2} + \\frac{\\sqrt{5}}{2}, \\  - \\frac{\\sqrt{5}}{2} - \\frac{1}{2}\\right]$"
      ],
      "text/plain": [
       "             ___      ___     \n",
       "       1   \\/ 5     \\/ 5    1 \n",
       "[-1, - - + -----, - ----- - -]\n",
       "       2     2        2     2 "
      ]
     },
     "execution_count": 116,
     "metadata": {},
     "output_type": "execute_result"
    }
   ],
   "source": [
    "solve(x**3 + 2*x**2 - 1, x)"
   ]
  },
  {
   "cell_type": "code",
   "execution_count": 117,
   "metadata": {},
   "outputs": [
    {
     "data": {
      "image/png": "[encoded data removed]",
      "text/latex": [
       "$\\displaystyle \\left\\{0, 1\\right\\}$"
      ],
      "text/plain": [
       "{0, 1}"
      ]
     },
     "execution_count": 117,
     "metadata": {},
     "output_type": "execute_result"
    }
   ],
   "source": [
    "#from  numpy  import *\n",
    "from sympy import *\n",
    "x=Symbol('x')\n",
    "solveset(x**2-x,x)\n"
   ]
  },
  {
   "cell_type": "markdown",
   "metadata": {
    "collapsed": true
   },
   "source": [
    " Trouver les racines d'une fonction polynomiale "
   ]
  },
  {
   "cell_type": "code",
   "execution_count": 118,
   "metadata": {},
   "outputs": [
    {
     "data": {
      "image/png": "[encoded data removed]",
      "text/latex": [
       "$\\displaystyle \\left\\{ 7 : 1, \\  - i : 2, \\  i : 2\\right\\}$"
      ],
      "text/plain": [
       "{7: 1, -I: 2, I: 2}"
      ]
     },
     "execution_count": 118,
     "metadata": {},
     "output_type": "execute_result"
    }
   ],
   "source": [
    "roots(x**5 - 7*x**4 + 2*x**3 - 14*x**2 + x - 7, x)"
   ]
  },
  {
   "cell_type": "code",
   "execution_count": 119,
   "metadata": {},
   "outputs": [
    {
     "data": {
      "image/png": "[encoded data removed]",
      "text/latex": [
       "$\\displaystyle \\left\\{ - \\frac{b}{a} : 1\\right\\}$"
      ],
      "text/plain": [
       " -b     \n",
       "{---: 1}\n",
       "  a     "
      ]
     },
     "execution_count": 119,
     "metadata": {},
     "output_type": "execute_result"
    }
   ],
   "source": [
    "a=Symbol('a')\n",
    "b=Symbol('b')\n",
    "\n",
    "roots(a*x + b, x)\n",
    "#roots([a,b])\n"
   ]
  },
  {
   "cell_type": "code",
   "execution_count": 120,
   "metadata": {},
   "outputs": [
    {
     "data": {
      "image/png": "[encoded data removed]",
      "text/latex": [
       "$\\displaystyle \\left\\{ - \\frac{b}{2 a} - \\frac{\\sqrt{- 4 a c + b^{2}}}{2 a} : 1, \\  - \\frac{b}{2 a} + \\frac{\\sqrt{- 4 a c + b^{2}}}{2 a} : 1\\right\\}$"
      ],
      "text/plain": [
       "            _____________                _____________    \n",
       "           /           2                /           2     \n",
       "    b    \\/  -4*a*c + b          b    \\/  -4*a*c + b      \n",
       "{- --- - ----------------: 1, - --- + ----------------: 1}\n",
       "   2*a         2*a              2*a         2*a           "
      ]
     },
     "execution_count": 120,
     "metadata": {},
     "output_type": "execute_result"
    }
   ],
   "source": [
    "c=Symbol('c')\n",
    "roots(a*x**2 + b*x + c, x)\n",
    "roots([a,b,c])"
   ]
  },
  {
   "cell_type": "markdown",
   "metadata": {},
   "source": [
    "Équations différentielles"
   ]
  },
  {
   "cell_type": "code",
   "execution_count": 121,
   "metadata": {},
   "outputs": [
    {
     "data": {
      "image/png": "[encoded data removed]",
      "text/latex": [
       "$\\displaystyle f{\\left(x \\right)} = C_{1} e^{- x}$"
      ],
      "text/plain": [
       "           -x\n",
       "f(x) = C1*e  "
      ]
     },
     "execution_count": 121,
     "metadata": {},
     "output_type": "execute_result"
    }
   ],
   "source": [
    "from sympy import Function, Symbol, dsolve\n",
    "f = Function('f')\n",
    "x = Symbol('x')\n",
    "\n",
    "e=f(x)+diff(f(x),x)\n",
    "e\n",
    "#e=diff(f(x),x) +f(x)+2*x\n",
    "dsolve(e)"
   ]
  },
  {
   "cell_type": "code",
   "execution_count": 122,
   "metadata": {},
   "outputs": [
    {
     "data": {
      "image/png": "[encoded data removed]",
      "text/latex": [
       "$\\displaystyle f{\\left(x \\right)} = C_{1} e^{- x}$"
      ],
      "text/plain": [
       "           -x\n",
       "f(x) = C1*e  "
      ]
     },
     "execution_count": 122,
     "metadata": {},
     "output_type": "execute_result"
    }
   ],
   "source": [
    "x=Symbol('x')\n",
    "f=Function('f')\n",
    "e=diff(f(x),x)+f(x)\n",
    "dsolve(e)"
   ]
  },
  {
   "cell_type": "code",
   "execution_count": 123,
   "metadata": {},
   "outputs": [
    {
     "data": {
      "image/png": "[encoded data removed]",
      "text/latex": [
       "$\\displaystyle f{\\left(x \\right)} = C_{1} + C_{2} e^{2 x} - \\frac{\\sin{\\left(x \\right)}}{5} + \\frac{2 \\cos{\\left(x \\right)}}{5}$"
      ],
      "text/plain": [
       "                2*x   sin(x)   2*cos(x)\n",
       "f(x) = C1 + C2*e    - ------ + --------\n",
       "                        5         5    "
      ]
     },
     "execution_count": 123,
     "metadata": {},
     "output_type": "execute_result"
    }
   ],
   "source": [
    "x=Symbol('x')\n",
    "f=Function('f')\n",
    "#e=diff(f(x),x,2) # ou f(x).diff(x,x)\n",
    "# e= diff(f(x), x, 3) ou f(x).diff(x,x,x)\n",
    "\n",
    "\n",
    "e=diff(f(x),x,2) -2*diff(f(x),x)\n",
    "\n",
    "y= Eq (e , sin(x))\n",
    "y\n",
    "#e\n",
    "#diffeq = Eq(f(x).diff(x,x) - 2*f(x).diff(x) + f(x), sin(x))\n",
    "#diffeq  \n",
    "\n",
    "dsolve(y)"
   ]
  },
  {
   "cell_type": "code",
   "execution_count": 124,
   "metadata": {},
   "outputs": [
    {
     "data": {
      "image/png": "[encoded data removed]",
      "text/latex": [
       "$\\displaystyle f{\\left(x \\right)} = C_{1}$"
      ],
      "text/plain": [
       "f(x) = C1"
      ]
     },
     "execution_count": 124,
     "metadata": {},
     "output_type": "execute_result"
    }
   ],
   "source": [
    "dsolve(f(x).diff(x)*(1 - sin(f(x))), f(x))\n"
   ]
  },
  {
   "cell_type": "code",
   "execution_count": null,
   "metadata": {},
   "outputs": [],
   "source": []
  },
  {
   "cell_type": "code",
   "execution_count": null,
   "metadata": {},
   "outputs": [],
   "source": []
  },
  {
   "cell_type": "code",
   "execution_count": null,
   "metadata": {},
   "outputs": [],
   "source": []
  },
  {
   "cell_type": "code",
   "execution_count": null,
   "metadata": {},
   "outputs": [],
   "source": []
  },
  {
   "cell_type": "code",
   "execution_count": null,
   "metadata": {},
   "outputs": [],
   "source": []
  },
  {
   "cell_type": "code",
   "execution_count": null,
   "metadata": {},
   "outputs": [],
   "source": []
  },
  {
   "cell_type": "code",
   "execution_count": null,
   "metadata": {},
   "outputs": [],
   "source": []
  },
  {
   "cell_type": "code",
   "execution_count": null,
   "metadata": {},
   "outputs": [],
   "source": []
  },
  {
   "cell_type": "code",
   "execution_count": null,
   "metadata": {},
   "outputs": [],
   "source": []
  },
  {
   "cell_type": "code",
   "execution_count": null,
   "metadata": {},
   "outputs": [],
   "source": []
  },
  {
   "cell_type": "code",
   "execution_count": null,
   "metadata": {},
   "outputs": [],
   "source": []
  },
  {
   "cell_type": "code",
   "execution_count": null,
   "metadata": {},
   "outputs": [],
   "source": []
  },
  {
   "cell_type": "code",
   "execution_count": null,
   "metadata": {},
   "outputs": [],
   "source": []
  },
  {
   "cell_type": "code",
   "execution_count": null,
   "metadata": {},
   "outputs": [],
   "source": []
  },
  {
   "cell_type": "code",
   "execution_count": null,
   "metadata": {},
   "outputs": [],
   "source": []
  },
  {
   "cell_type": "code",
   "execution_count": null,
   "metadata": {},
   "outputs": [],
   "source": []
  },
  {
   "cell_type": "code",
   "execution_count": null,
   "metadata": {},
   "outputs": [],
   "source": []
  },
  {
   "cell_type": "code",
   "execution_count": null,
   "metadata": {},
   "outputs": [],
   "source": []
  },
  {
   "cell_type": "code",
   "execution_count": null,
   "metadata": {},
   "outputs": [],
   "source": []
  },
  {
   "cell_type": "code",
   "execution_count": null,
   "metadata": {},
   "outputs": [],
   "source": []
  },
  {
   "cell_type": "code",
   "execution_count": null,
   "metadata": {},
   "outputs": [],
   "source": []
  },
  {
   "cell_type": "code",
   "execution_count": null,
   "metadata": {},
   "outputs": [],
   "source": []
  },
  {
   "cell_type": "code",
   "execution_count": null,
   "metadata": {},
   "outputs": [],
   "source": []
  },
  {
   "cell_type": "code",
   "execution_count": null,
   "metadata": {},
   "outputs": [],
   "source": []
  },
  {
   "cell_type": "code",
   "execution_count": 125,
   "metadata": {},
   "outputs": [
    {
     "name": "stdout",
     "output_type": "stream",
     "text": [
      "⎡1  0⎤\n",
      "⎢    ⎥\n",
      "⎣0  1⎦\n"
     ]
    }
   ],
   "source": [
    "from sympy import Matrix, Symbol\n",
    "pprint(Matrix([[1, 0], [0, 1]]))"
   ]
  },
  {
   "cell_type": "code",
   "execution_count": 126,
   "metadata": {},
   "outputs": [
    {
     "name": "stdout",
     "output_type": "stream",
     "text": [
      "⎡1  x⎤\n",
      "⎢    ⎥\n",
      "⎣y  1⎦\n",
      "⎡x⋅y + 1    2⋅x  ⎤\n",
      "⎢                ⎥\n",
      "⎣  2⋅y    x⋅y + 1⎦\n"
     ]
    }
   ],
   "source": [
    "x=Symbol('x')\n",
    "y=Symbol('y')\n",
    "A = Matrix([[1, x], [y, 1]])\n",
    "pprint(A)\n",
    "pprint(A**2)"
   ]
  },
  {
   "cell_type": "code",
   "execution_count": 127,
   "metadata": {},
   "outputs": [
    {
     "name": "stdout",
     "output_type": "stream",
     "text": [
      "⎡x⋅y + 1    2⋅x  ⎤\n",
      "⎢                ⎥\n",
      "⎣  2⋅y    x⋅y + 1⎦\n"
     ]
    }
   ],
   "source": [
    "B=A**2\n",
    "pprint(B)"
   ]
  },
  {
   "cell_type": "markdown",
   "metadata": {},
   "source": [
    "Filtrage par motif\n",
    "\n",
    "Utilisez la méthode .match(), accompagnée de la classe Wild, pour effectuer un filtrage par motif sur des expressions. La méthode renvoit un dictionnaire avec les substitutions requises, comme suit :"
   ]
  },
  {
   "cell_type": "code",
   "execution_count": 128,
   "metadata": {},
   "outputs": [
    {
     "data": {
      "image/png": "[encoded data removed]",
      "text/latex": [
       "$\\displaystyle \\left\\{ p : 5\\right\\}$"
      ],
      "text/plain": [
       "{p: 5}"
      ]
     },
     "execution_count": 128,
     "metadata": {},
     "output_type": "execute_result"
    }
   ],
   "source": [
    "from sympy import Symbol, Wild\n",
    "x = Symbol('x')\n",
    "p = Wild('p')\n",
    "(5*x**2).match(p*x**2)\n"
   ]
  },
  {
   "cell_type": "code",
   "execution_count": 129,
   "metadata": {},
   "outputs": [
    {
     "data": {
      "image/png": "[encoded data removed]",
      "text/latex": [
       "$\\displaystyle \\left\\{ p : 1, \\  q : 2\\right\\}$"
      ],
      "text/plain": [
       "{p: 1, q: 2}"
      ]
     },
     "execution_count": 129,
     "metadata": {},
     "output_type": "execute_result"
    }
   ],
   "source": [
    "q = Wild('q')\n",
    "(x**2).match(p*x**q)\n"
   ]
  },
  {
   "cell_type": "code",
   "execution_count": 130,
   "metadata": {},
   "outputs": [
    {
     "name": "stdout",
     "output_type": "stream",
     "text": [
      "None\n"
     ]
    }
   ],
   "source": [
    "print((x + 1).match(p**x))"
   ]
  },
  {
   "cell_type": "markdown",
   "metadata": {},
   "source": [
    "On peut aussi utiliser le paramètre exclude de la classe Wild pour s’assurer que certaines choses ne figurent pas dans le résultat :"
   ]
  },
  {
   "cell_type": "code",
   "execution_count": 131,
   "metadata": {},
   "outputs": [],
   "source": [
    "p = Wild('p', exclude=[1, x])\n",
    "(x + 1).match(x + p) # 1 is excluded\n"
   ]
  },
  {
   "cell_type": "code",
   "execution_count": 132,
   "metadata": {},
   "outputs": [],
   "source": [
    "(x + 1).match(p + 1) # x is excluded"
   ]
  },
  {
   "cell_type": "code",
   "execution_count": 133,
   "metadata": {},
   "outputs": [
    {
     "data": {
      "image/png": "[encoded data removed]",
      "text/latex": [
       "$\\displaystyle \\left\\{ p : -1\\right\\}$"
      ],
      "text/plain": [
       "{p: -1}"
      ]
     },
     "execution_count": 133,
     "metadata": {},
     "output_type": "execute_result"
    }
   ],
   "source": [
    "(x + 1).match(x + 2 + p) # -1 is not excluded"
   ]
  },
  {
   "cell_type": "markdown",
   "metadata": {},
   "source": [
    "Affichage\n",
    "\n",
    "Les expressions peuvent être affichées de plusieures façons.\n",
    "\n",
    "Affichage standard\n",
    "\n",
    "C’est ce que str(expression) renvoit et ça ressemble à ça :"
   ]
  },
  {
   "cell_type": "code",
   "execution_count": 134,
   "metadata": {},
   "outputs": [
    {
     "data": {
      "image/png": "[encoded data removed]",
      "text/latex": [
       "$\\displaystyle \\frac{x^{3}}{3}$"
      ],
      "text/plain": [
       " 3\n",
       "x \n",
       "--\n",
       "3 "
      ]
     },
     "execution_count": 134,
     "metadata": {},
     "output_type": "execute_result"
    }
   ],
   "source": [
    "from sympy import Integral\n",
    "from sympy.abc import x\n",
    "#print(x**2)\n",
    "\n",
    "#print(1/x)\n",
    "\n",
    "e=integrate(x**2, x)\n",
    "e"
   ]
  },
  {
   "cell_type": "markdown",
   "metadata": {},
   "source": [
    "Affichage amélioré\n",
    "\n",
    "Ceci est un affichage amélioré en art ASCII produit par la fonction pprint :"
   ]
  },
  {
   "cell_type": "code",
   "execution_count": 135,
   "metadata": {},
   "outputs": [
    {
     "name": "stdout",
     "output_type": "stream",
     "text": [
      " 2\n",
      "x \n",
      "1\n",
      "─\n",
      "x\n",
      " 3\n",
      "x \n",
      "──\n",
      "3 \n"
     ]
    }
   ],
   "source": [
    "from sympy import Integral, pprint\n",
    "from sympy.abc import x\n",
    "\n",
    "pprint(x**2)\n",
    "pprint(1/x)\n",
    "\n",
    "pprint(integrate(x**2, x))"
   ]
  },
  {
   "cell_type": "markdown",
   "metadata": {},
   "source": [
    "Si vous avez une police unicode installée, l’affichage amélioré l’utilisera par défaut. Vous pouvez outrepasser ce comportement en utilisant l’option use_unicode :"
   ]
  },
  {
   "cell_type": "code",
   "execution_count": 136,
   "metadata": {},
   "outputs": [
    {
     "name": "stdout",
     "output_type": "stream",
     "text": [
      "⌠      \n",
      "⎮  2   \n",
      "⎮ x  dx\n",
      "⌡      \n"
     ]
    }
   ],
   "source": [
    "pprint(Integral(x**2, x), use_unicode=True)"
   ]
  },
  {
   "cell_type": "markdown",
   "metadata": {},
   "source": [
    "Voyez aussi la page wiki Pretty Printing pour plus d’exemples concernant l’affichage amélioré et l’option unicode.\n",
    "\n",
    "Astuce : pour activer l’affichage amélioré par défaut dans l’interpréteur Python, utilisez :"
   ]
  },
  {
   "cell_type": "code",
   "execution_count": 137,
   "metadata": {},
   "outputs": [],
   "source": [
    "from sympy import init_printing, var, Integral\n",
    "init_printing(use_unicode=False, wrap_line=False, no_global=True)"
   ]
  },
  {
   "cell_type": "code",
   "execution_count": 138,
   "metadata": {},
   "outputs": [
    {
     "data": {
      "text/plain": [
       "<Figure size 640x480 with 1 Axes>"
      ]
     },
     "metadata": {},
     "output_type": "display_data"
    }
   ],
   "source": [
    "from  scipy  import *\n",
    "from  scipy.integrate  import  odeint\n",
    "#Pour résoudre l’équation différentielle\n",
    "import  matplotlib.pyplot  as  plt\n",
    "\n",
    "def deriv (y , x ) :\n",
    "    return y*sin(y)+sin (x)\n",
    "\n",
    "#Choix de l’intervalle d’intégration\n",
    "x0 = 0\n",
    "xmax = 20\n",
    "npoints = 1000\n",
    "x = linspace(x0 , xmax , npoints )\n",
    "\n",
    "#Condition initiale\n",
    "y0 =2\n",
    "# y(x0) = y0\n",
    "\n",
    "solution = odeint(deriv,y0 ,x)\n",
    "y = solution [ : , 0 ]\n",
    "plt.plot (x , y)\n",
    "plt.show ()"
   ]
  },
  {
   "cell_type": "markdown",
   "metadata": {},
   "source": [
    "Resolutio de système lineaire\n"
   ]
  },
  {
   "cell_type": "code",
   "execution_count": 139,
   "metadata": {},
   "outputs": [
    {
     "name": "stdout",
     "output_type": "stream",
     "text": [
      "[x + 10⋅y - 3⋅z - 5, 2⋅x - y + 2⋅z - 2, -x + y + z + 3]\n"
     ]
    },
    {
     "data": {
      "text/plain": [
       "array([ 2.00000000e+00, -1.20797142e-17, -1.00000000e+00])"
      ]
     },
     "execution_count": 139,
     "metadata": {},
     "output_type": "execute_result"
    }
   ],
   "source": [
    "from sympy import * \n",
    "from scipy.optimize import fsolve\n",
    "#x=Symbol('x')\n",
    "#y=Symbol('y')\n",
    "#z=Symbol('z')\n",
    " \n",
    "#\"x,y,z=symbols('xyz')\n",
    "\n",
    "# on veut résoudre le syteme \n",
    "#x+10*y-3*z-5=0\n",
    "#2*x-y+2*z\n",
    "#print(-x+y+z,'=-3')\n",
    "\n",
    "def syst(var): # définition du système\n",
    "    \n",
    "        x, y, z = var[0], var[1], var[2] # définition des variables\n",
    "        eq1 = x +10*y-3*z-5\n",
    "        eq2 = 2*x-y+2*z-2\n",
    "        eq3 = -x+y+z+3\n",
    "        res = [eq1, eq2, eq3]\n",
    "        return res\n",
    " \n",
    "\n",
    "x0, y0, z0 = 0, 0, 0 # Initialisation de la recherche des solutions numériques\n",
    "sol_ini = [x0, y0, z0]\n",
    "\n",
    "r=syst(var('x:z'))\n",
    "pprint(r)\n",
    "     \n",
    "fsolve(syst, sol_ini)"
   ]
  },
  {
   "cell_type": "code",
   "execution_count": 140,
   "metadata": {},
   "outputs": [
    {
     "name": "stdout",
     "output_type": "stream",
     "text": [
      "But resoudre equation g(x) = x**4 - 5*x**2 + 4 =0\n",
      "-2.0\n",
      "-1.0\n",
      "1.0\n",
      "2.0\n"
     ]
    },
    {
     "data": {
      "image/png": "[encoded data removed]",
      "text/plain": [
       "<Figure size 432x288 with 1 Axes>"
      ]
     },
     "metadata": {
      "needs_background": "light"
     },
     "output_type": "display_data"
    }
   ],
   "source": [
    "\n",
    "from __future__ import division\n",
    "import sympy \n",
    "import numpy \n",
    "from scipy import *\n",
    "from pylab import *\n",
    "\n",
    "from scipy.optimize import bisect # Module de recherche des zéros\n",
    "x=Symbol('x')\n",
    "g=Function('g')\n",
    "\n",
    "print ('But resoudre equation', g(x),'=', x**4-5*x**2+4, '=0')\n",
    "\n",
    "x=linspace(-2.5,2.5,300)                      # Abscisses\n",
    "\n",
    "def f(x):                                       # Fonction à étudier\n",
    "    res = x**4-5*x**2+4\n",
    "    return res\n",
    "    \n",
    "zero1 = bisect(f, -2.5, -1.5)   # Recherche du premier zéro\n",
    "print(zero1)\n",
    "zero2 = bisect(f, -1.5, -0.5)   # Recherche du second zéro\n",
    "print(zero2)\n",
    "zero3 = bisect(f, -0.5,  1.5)   # Recherche du troisième zéro\n",
    "print(zero3)\n",
    "zero4 = bisect(f,  1.5,  2.5)   # Recherche du quatrième zéro\n",
    "print(zero4)\n",
    "\n",
    "plot(x, f(x))                   # Graphique\n",
    "\n",
    "# Annotations\n",
    "plot([zero1,zero2,zero3,zero4],[f(zero1),f(zero2),f(zero3),f(zero4)],'or')\n",
    "\n",
    "                                        \n",
    "xlim(-2.5, 2.5)         # Limites de l'axe des abscisses\n",
    "xlabel(r\"$x \\, (\\varnothing)$\", fontsize=16)   # Label de l'axe des abscisses\n",
    "\n",
    "ylim(-3, 12)                                    # Limites de l'axe des ordonnées\n",
    "ylabel(r\"$f(x) \\, (\\varnothing)$\", fontsize=16)# Label de l'axe des ordonnées\n",
    "\n",
    "show()\n"
   ]
  },
  {
   "cell_type": "code",
   "execution_count": 142,
   "metadata": {},
   "outputs": [
    {
     "ename": "ValueError",
     "evalue": "Invalid limits given: (array([-2.5       , -2.48327759, -2.46655518, -2.44983278, -2.43311037,\n       -2.41638796, -2.39966555, -2.38294314, -2.36622074, -2.34949833,\n       -2.33277592, -2.31605351, -2.2993311 , -2.2826087 , -2.26588629,\n       -2.24916388, -2.23244147, -2.21571906, -2.19899666, -2.18227425,\n       -2.16555184, -2.14882943, -2.13210702, -2.11538462, -2.09866221,\n       -2.0819398 , -2.06521739, -2.04849498, -2.03177258, -2.01505017,\n       -1.99832776, -1.98160535, -1.96488294, -1.94816054, -1.93143813,\n       -1.91471572, -1.89799331, -1.8812709 , -1.86454849, -1.84782609,\n       -1.83110368, -1.81438127, -1.79765886, -1.78093645, -1.76421405,\n       -1.74749164, -1.73076923, -1.71404682, -1.69732441, -1.68060201,\n       -1.6638796 , -1.64715719, -1.63043478, -1.61371237, -1.59698997,\n       -1.58026756, -1.56354515, -1.54682274, -1.53010033, -1.51337793,\n       -1.49665552, -1.47993311, -1.4632107 , -1.44648829, -1.42976589,\n       -1.41304348, -1.39632107, -1.37959866, -1.36287625, -1.34615385,\n       -1.32943144, -1.31270903, -1.29598662, -1.27926421, -1.26254181,\n       -1.2458194 , -1.22909699, -1.21237458, -1.19565217, -1.17892977,\n       -1.16220736, -1.14548495, -1.12876254, -1.11204013, -1.09531773,\n       -1.07859532, -1.06187291, -1.0451505 , -1.02842809, -1.01170569,\n       -0.99498328, -0.97826087, -0.96153846, -0.94481605, -0.92809365,\n       -0.91137124, -0.89464883, -0.87792642, -0.86120401, -0.84448161,\n       -0.8277592 , -0.81103679, -0.79431438, -0.77759197, -0.76086957,\n       -0.74414716, -0.72742475, -0.71070234, -0.69397993, -0.67725753,\n       -0.66053512, -0.64381271, -0.6270903 , -0.61036789, -0.59364548,\n       -0.57692308, -0.56020067, -0.54347826, -0.52675585, -0.51003344,\n       -0.49331104, -0.47658863, -0.45986622, -0.44314381, -0.4264214 ,\n       -0.409699  , -0.39297659, -0.37625418, -0.35953177, -0.34280936,\n       -0.32608696, -0.30936455, -0.29264214, -0.27591973, -0.25919732,\n       -0.24247492, -0.22575251, -0.2090301 , -0.19230769, -0.17558528,\n       -0.15886288, -0.14214047, -0.12541806, -0.10869565, -0.09197324,\n       -0.07525084, -0.05852843, -0.04180602, -0.02508361, -0.0083612 ,\n        0.0083612 ,  0.02508361,  0.04180602,  0.05852843,  0.07525084,\n        0.09197324,  0.10869565,  0.12541806,  0.14214047,  0.15886288,\n        0.17558528,  0.19230769,  0.2090301 ,  0.22575251,  0.24247492,\n        0.25919732,  0.27591973,  0.29264214,  0.30936455,  0.32608696,\n        0.34280936,  0.35953177,  0.37625418,  0.39297659,  0.409699  ,\n        0.4264214 ,  0.44314381,  0.45986622,  0.47658863,  0.49331104,\n        0.51003344,  0.52675585,  0.54347826,  0.56020067,  0.57692308,\n        0.59364548,  0.61036789,  0.6270903 ,  0.64381271,  0.66053512,\n        0.67725753,  0.69397993,  0.71070234,  0.72742475,  0.74414716,\n        0.76086957,  0.77759197,  0.79431438,  0.81103679,  0.8277592 ,\n        0.84448161,  0.86120401,  0.87792642,  0.89464883,  0.91137124,\n        0.92809365,  0.94481605,  0.96153846,  0.97826087,  0.99498328,\n        1.01170569,  1.02842809,  1.0451505 ,  1.06187291,  1.07859532,\n        1.09531773,  1.11204013,  1.12876254,  1.14548495,  1.16220736,\n        1.17892977,  1.19565217,  1.21237458,  1.22909699,  1.2458194 ,\n        1.26254181,  1.27926421,  1.29598662,  1.31270903,  1.32943144,\n        1.34615385,  1.36287625,  1.37959866,  1.39632107,  1.41304348,\n        1.42976589,  1.44648829,  1.4632107 ,  1.47993311,  1.49665552,\n        1.51337793,  1.53010033,  1.54682274,  1.56354515,  1.58026756,\n        1.59698997,  1.61371237,  1.63043478,  1.64715719,  1.6638796 ,\n        1.68060201,  1.69732441,  1.71404682,  1.73076923,  1.74749164,\n        1.76421405,  1.78093645,  1.79765886,  1.81438127,  1.83110368,\n        1.84782609,  1.86454849,  1.8812709 ,  1.89799331,  1.91471572,\n        1.93143813,  1.94816054,  1.96488294,  1.98160535,  1.99832776,\n        2.01505017,  2.03177258,  2.04849498,  2.06521739,  2.0819398 ,\n        2.09866221,  2.11538462,  2.13210702,  2.14882943,  2.16555184,\n        2.18227425,  2.19899666,  2.21571906,  2.23244147,  2.24916388,\n        2.26588629,  2.2826087 ,  2.2993311 ,  2.31605351,  2.33277592,\n        2.34949833,  2.36622074,  2.38294314,  2.39966555,  2.41638796,\n        2.43311037,  2.44983278,  2.46655518,  2.48327759,  2.5       ]),)",
     "output_type": "error",
     "traceback": [
      "\u001b[0;31m---------------------------------------------------------------------------\u001b[0m",
      "\u001b[0;31mValueError\u001b[0m                                Traceback (most recent call last)",
      "\u001b[0;32m<ipython-input-142-04dfe66ac6a4>\u001b[0m in \u001b[0;36m<module>\u001b[0;34m\u001b[0m\n\u001b[0;32m----> 1\u001b[0;31m \u001b[0my\u001b[0m\u001b[0;34m=\u001b[0m\u001b[0mIntegral\u001b[0m\u001b[0;34m(\u001b[0m\u001b[0mx\u001b[0m\u001b[0;34m**\u001b[0m\u001b[0;36m2\u001b[0m\u001b[0;34m,\u001b[0m \u001b[0mx\u001b[0m\u001b[0;34m)\u001b[0m\u001b[0;34m\u001b[0m\u001b[0;34m\u001b[0m\u001b[0m\n\u001b[0m\u001b[1;32m      2\u001b[0m \u001b[0my\u001b[0m\u001b[0;34m\u001b[0m\u001b[0;34m\u001b[0m\u001b[0m\n",
      "\u001b[0;32m/Applications/anaconda3/lib/python3.7/site-packages/sympy/integrals/integrals.py\u001b[0m in \u001b[0;36m__new__\u001b[0;34m(cls, function, *symbols, **assumptions)\u001b[0m\n\u001b[1;32m     78\u001b[0m             \u001b[0;32mreturn\u001b[0m \u001b[0mfunction\u001b[0m\u001b[0;34m.\u001b[0m\u001b[0m_eval_Integral\u001b[0m\u001b[0;34m(\u001b[0m\u001b[0;34m*\u001b[0m\u001b[0msymbols\u001b[0m\u001b[0;34m,\u001b[0m \u001b[0;34m**\u001b[0m\u001b[0massumptions\u001b[0m\u001b[0;34m)\u001b[0m\u001b[0;34m\u001b[0m\u001b[0;34m\u001b[0m\u001b[0m\n\u001b[1;32m     79\u001b[0m \u001b[0;34m\u001b[0m\u001b[0m\n\u001b[0;32m---> 80\u001b[0;31m         \u001b[0mobj\u001b[0m \u001b[0;34m=\u001b[0m \u001b[0mAddWithLimits\u001b[0m\u001b[0;34m.\u001b[0m\u001b[0m__new__\u001b[0m\u001b[0;34m(\u001b[0m\u001b[0mcls\u001b[0m\u001b[0;34m,\u001b[0m \u001b[0mfunction\u001b[0m\u001b[0;34m,\u001b[0m \u001b[0;34m*\u001b[0m\u001b[0msymbols\u001b[0m\u001b[0;34m,\u001b[0m \u001b[0;34m**\u001b[0m\u001b[0massumptions\u001b[0m\u001b[0;34m)\u001b[0m\u001b[0;34m\u001b[0m\u001b[0;34m\u001b[0m\u001b[0m\n\u001b[0m\u001b[1;32m     81\u001b[0m         \u001b[0;32mreturn\u001b[0m \u001b[0mobj\u001b[0m\u001b[0;34m\u001b[0m\u001b[0;34m\u001b[0m\u001b[0m\n\u001b[1;32m     82\u001b[0m \u001b[0;34m\u001b[0m\u001b[0m\n",
      "\u001b[0;32m/Applications/anaconda3/lib/python3.7/site-packages/sympy/concrete/expr_with_limits.py\u001b[0m in \u001b[0;36m__new__\u001b[0;34m(cls, function, *symbols, **assumptions)\u001b[0m\n\u001b[1;32m    354\u001b[0m \u001b[0;34m\u001b[0m\u001b[0m\n\u001b[1;32m    355\u001b[0m     \u001b[0;32mdef\u001b[0m \u001b[0m__new__\u001b[0m\u001b[0;34m(\u001b[0m\u001b[0mcls\u001b[0m\u001b[0;34m,\u001b[0m \u001b[0mfunction\u001b[0m\u001b[0;34m,\u001b[0m \u001b[0;34m*\u001b[0m\u001b[0msymbols\u001b[0m\u001b[0;34m,\u001b[0m \u001b[0;34m**\u001b[0m\u001b[0massumptions\u001b[0m\u001b[0;34m)\u001b[0m\u001b[0;34m:\u001b[0m\u001b[0;34m\u001b[0m\u001b[0;34m\u001b[0m\u001b[0m\n\u001b[0;32m--> 356\u001b[0;31m         \u001b[0mpre\u001b[0m \u001b[0;34m=\u001b[0m \u001b[0m_common_new\u001b[0m\u001b[0;34m(\u001b[0m\u001b[0mcls\u001b[0m\u001b[0;34m,\u001b[0m \u001b[0mfunction\u001b[0m\u001b[0;34m,\u001b[0m \u001b[0;34m*\u001b[0m\u001b[0msymbols\u001b[0m\u001b[0;34m,\u001b[0m \u001b[0;34m**\u001b[0m\u001b[0massumptions\u001b[0m\u001b[0;34m)\u001b[0m\u001b[0;34m\u001b[0m\u001b[0;34m\u001b[0m\u001b[0m\n\u001b[0m\u001b[1;32m    357\u001b[0m         \u001b[0;32mif\u001b[0m \u001b[0mtype\u001b[0m\u001b[0;34m(\u001b[0m\u001b[0mpre\u001b[0m\u001b[0;34m)\u001b[0m \u001b[0;32mis\u001b[0m \u001b[0mtuple\u001b[0m\u001b[0;34m:\u001b[0m\u001b[0;34m\u001b[0m\u001b[0;34m\u001b[0m\u001b[0m\n\u001b[1;32m    358\u001b[0m             \u001b[0mfunction\u001b[0m\u001b[0;34m,\u001b[0m \u001b[0mlimits\u001b[0m\u001b[0;34m,\u001b[0m \u001b[0morientation\u001b[0m \u001b[0;34m=\u001b[0m \u001b[0mpre\u001b[0m\u001b[0;34m\u001b[0m\u001b[0;34m\u001b[0m\u001b[0m\n",
      "\u001b[0;32m/Applications/anaconda3/lib/python3.7/site-packages/sympy/concrete/expr_with_limits.py\u001b[0m in \u001b[0;36m_common_new\u001b[0;34m(cls, function, *symbols, **assumptions)\u001b[0m\n\u001b[1;32m     36\u001b[0m \u001b[0;34m\u001b[0m\u001b[0m\n\u001b[1;32m     37\u001b[0m     \u001b[0;32mif\u001b[0m \u001b[0msymbols\u001b[0m\u001b[0;34m:\u001b[0m\u001b[0;34m\u001b[0m\u001b[0;34m\u001b[0m\u001b[0m\n\u001b[0;32m---> 38\u001b[0;31m         \u001b[0mlimits\u001b[0m\u001b[0;34m,\u001b[0m \u001b[0morientation\u001b[0m \u001b[0;34m=\u001b[0m \u001b[0m_process_limits\u001b[0m\u001b[0;34m(\u001b[0m\u001b[0;34m*\u001b[0m\u001b[0msymbols\u001b[0m\u001b[0;34m)\u001b[0m\u001b[0;34m\u001b[0m\u001b[0;34m\u001b[0m\u001b[0m\n\u001b[0m\u001b[1;32m     39\u001b[0m     \u001b[0;32melse\u001b[0m\u001b[0;34m:\u001b[0m\u001b[0;34m\u001b[0m\u001b[0;34m\u001b[0m\u001b[0m\n\u001b[1;32m     40\u001b[0m         \u001b[0;31m# symbol not provided -- we can still try to compute a general form\u001b[0m\u001b[0;34m\u001b[0m\u001b[0;34m\u001b[0m\u001b[0;34m\u001b[0m\u001b[0m\n",
      "\u001b[0;32m/Applications/anaconda3/lib/python3.7/site-packages/sympy/concrete/expr_with_limits.py\u001b[0m in \u001b[0;36m_process_limits\u001b[0;34m(*symbols)\u001b[0m\n\u001b[1;32m    121\u001b[0m                     \u001b[0;32mcontinue\u001b[0m\u001b[0;34m\u001b[0m\u001b[0;34m\u001b[0m\u001b[0m\n\u001b[1;32m    122\u001b[0m \u001b[0;34m\u001b[0m\u001b[0m\n\u001b[0;32m--> 123\u001b[0;31m         \u001b[0;32mraise\u001b[0m \u001b[0mValueError\u001b[0m\u001b[0;34m(\u001b[0m\u001b[0;34m'Invalid limits given: %s'\u001b[0m \u001b[0;34m%\u001b[0m \u001b[0mstr\u001b[0m\u001b[0;34m(\u001b[0m\u001b[0msymbols\u001b[0m\u001b[0;34m)\u001b[0m\u001b[0;34m)\u001b[0m\u001b[0;34m\u001b[0m\u001b[0;34m\u001b[0m\u001b[0m\n\u001b[0m\u001b[1;32m    124\u001b[0m \u001b[0;34m\u001b[0m\u001b[0m\n\u001b[1;32m    125\u001b[0m     \u001b[0;32mreturn\u001b[0m \u001b[0mlimits\u001b[0m\u001b[0;34m,\u001b[0m \u001b[0morientation\u001b[0m\u001b[0;34m\u001b[0m\u001b[0;34m\u001b[0m\u001b[0m\n",
      "\u001b[0;31mValueError\u001b[0m: Invalid limits given: (array([-2.5       , -2.48327759, -2.46655518, -2.44983278, -2.43311037,\n       -2.41638796, -2.39966555, -2.38294314, -2.36622074, -2.34949833,\n       -2.33277592, -2.31605351, -2.2993311 , -2.2826087 , -2.26588629,\n       -2.24916388, -2.23244147, -2.21571906, -2.19899666, -2.18227425,\n       -2.16555184, -2.14882943, -2.13210702, -2.11538462, -2.09866221,\n       -2.0819398 , -2.06521739, -2.04849498, -2.03177258, -2.01505017,\n       -1.99832776, -1.98160535, -1.96488294, -1.94816054, -1.93143813,\n       -1.91471572, -1.89799331, -1.8812709 , -1.86454849, -1.84782609,\n       -1.83110368, -1.81438127, -1.79765886, -1.78093645, -1.76421405,\n       -1.74749164, -1.73076923, -1.71404682, -1.69732441, -1.68060201,\n       -1.6638796 , -1.64715719, -1.63043478, -1.61371237, -1.59698997,\n       -1.58026756, -1.56354515, -1.54682274, -1.53010033, -1.51337793,\n       -1.49665552, -1.47993311, -1.4632107 , -1.44648829, -1.42976589,\n       -1.41304348, -1.39632107, -1.37959866, -1.36287625, -1.34615385,\n       -1.32943144, -1.31270903, -1.29598662, -1.27926421, -1.26254181,\n       -1.2458194 , -1.22909699, -1.21237458, -1.19565217, -1.17892977,\n       -1.16220736, -1.14548495, -1.12876254, -1.11204013, -1.09531773,\n       -1.07859532, -1.06187291, -1.0451505 , -1.02842809, -1.01170569,\n       -0.99498328, -0.97826087, -0.96153846, -0.94481605, -0.92809365,\n       -0.91137124, -0.89464883, -0.87792642, -0.86120401, -0.84448161,\n       -0.8277592 , -0.81103679, -0.79431438, -0.77759197, -0.76086957,\n       -0.74414716, -0.72742475, -0.71070234, -0.69397993, -0.67725753,\n       -0.66053512, -0.64381271, -0.6270903 , -0.61036789, -0.59364548,\n       -0.57692308, -0.56020067, -0.54347826, -0.52675585, -0.51003344,\n       -0.49331104, -0.47658863, -0.45986622, -0.44314381, -0.4264214 ,\n       -0.409699  , -0.39297659, -0.37625418, -0.35953177, -0.34280936,\n       -0.32608696, -0.30936455, -0.29264214, -0.27591973, -0.25919732,\n       -0.24247492, -0.22575251, -0.2090301 , -0.19230769, -0.17558528,\n       -0.15886288, -0.14214047, -0.12541806, -0.10869565, -0.09197324,\n       -0.07525084, -0.05852843, -0.04180602, -0.02508361, -0.0083612 ,\n        0.0083612 ,  0.02508361,  0.04180602,  0.05852843,  0.07525084,\n        0.09197324,  0.10869565,  0.12541806,  0.14214047,  0.15886288,\n        0.17558528,  0.19230769,  0.2090301 ,  0.22575251,  0.24247492,\n        0.25919732,  0.27591973,  0.29264214,  0.30936455,  0.32608696,\n        0.34280936,  0.35953177,  0.37625418,  0.39297659,  0.409699  ,\n        0.4264214 ,  0.44314381,  0.45986622,  0.47658863,  0.49331104,\n        0.51003344,  0.52675585,  0.54347826,  0.56020067,  0.57692308,\n        0.59364548,  0.61036789,  0.6270903 ,  0.64381271,  0.66053512,\n        0.67725753,  0.69397993,  0.71070234,  0.72742475,  0.74414716,\n        0.76086957,  0.77759197,  0.79431438,  0.81103679,  0.8277592 ,\n        0.84448161,  0.86120401,  0.87792642,  0.89464883,  0.91137124,\n        0.92809365,  0.94481605,  0.96153846,  0.97826087,  0.99498328,\n        1.01170569,  1.02842809,  1.0451505 ,  1.06187291,  1.07859532,\n        1.09531773,  1.11204013,  1.12876254,  1.14548495,  1.16220736,\n        1.17892977,  1.19565217,  1.21237458,  1.22909699,  1.2458194 ,\n        1.26254181,  1.27926421,  1.29598662,  1.31270903,  1.32943144,\n        1.34615385,  1.36287625,  1.37959866,  1.39632107,  1.41304348,\n        1.42976589,  1.44648829,  1.4632107 ,  1.47993311,  1.49665552,\n        1.51337793,  1.53010033,  1.54682274,  1.56354515,  1.58026756,\n        1.59698997,  1.61371237,  1.63043478,  1.64715719,  1.6638796 ,\n        1.68060201,  1.69732441,  1.71404682,  1.73076923,  1.74749164,\n        1.76421405,  1.78093645,  1.79765886,  1.81438127,  1.83110368,\n        1.84782609,  1.86454849,  1.8812709 ,  1.89799331,  1.91471572,\n        1.93143813,  1.94816054,  1.96488294,  1.98160535,  1.99832776,\n        2.01505017,  2.03177258,  2.04849498,  2.06521739,  2.0819398 ,\n        2.09866221,  2.11538462,  2.13210702,  2.14882943,  2.16555184,\n        2.18227425,  2.19899666,  2.21571906,  2.23244147,  2.24916388,\n        2.26588629,  2.2826087 ,  2.2993311 ,  2.31605351,  2.33277592,\n        2.34949833,  2.36622074,  2.38294314,  2.39966555,  2.41638796,\n        2.43311037,  2.44983278,  2.46655518,  2.48327759,  2.5       ]),)"
     ]
    }
   ],
   "source": [
    "y=Integral(x**2, x)\n",
    "y"
   ]
  },
  {
   "cell_type": "code",
   "execution_count": 143,
   "metadata": {},
   "outputs": [
    {
     "name": "stdout",
     "output_type": "stream",
     "text": [
      "x = Symbol('x')\n",
      "e = x**2\n"
     ]
    }
   ],
   "source": [
    "from sympy.printing.python import python\n",
    "from sympy import Integral\n",
    "from sympy.abc import x\n",
    "print(python(x**2))\n"
   ]
  },
  {
   "cell_type": "code",
   "execution_count": 145,
   "metadata": {},
   "outputs": [
    {
     "name": "stdout",
     "output_type": "stream",
     "text": [
      "x = Symbol('x')\n",
      "e = 1/x\n"
     ]
    }
   ],
   "source": [
    "print(python(1/x))"
   ]
  },
  {
   "cell_type": "code",
   "execution_count": 144,
   "metadata": {},
   "outputs": [
    {
     "name": "stdout",
     "output_type": "stream",
     "text": [
      "x = Symbol('x')\n",
      "e = Integral(x**2, x)\n"
     ]
    }
   ],
   "source": [
    "print(python(Integral(x**2, x)))"
   ]
  },
  {
   "cell_type": "markdown",
   "metadata": {},
   "source": [
    "LaTeX"
   ]
  },
  {
   "cell_type": "code",
   "execution_count": null,
   "metadata": {},
   "outputs": [],
   "source": [
    "from sympy import Integral, latex\n",
    "from sympy.abc import x\n",
    "latex(x**2)\n"
   ]
  },
  {
   "cell_type": "code",
   "execution_count": 146,
   "metadata": {},
   "outputs": [
    {
     "data": {
      "text/plain": [
       "'$x^{2}$'"
      ]
     },
     "execution_count": 146,
     "metadata": {},
     "output_type": "execute_result"
    }
   ],
   "source": [
    "latex(x**2, mode='inline')"
   ]
  },
  {
   "cell_type": "code",
   "execution_count": 147,
   "metadata": {},
   "outputs": [
    {
     "data": {
      "text/plain": [
       "'\\\\begin{equation}x^{2}\\\\end{equation}'"
      ]
     },
     "execution_count": 147,
     "metadata": {},
     "output_type": "execute_result"
    }
   ],
   "source": [
    "latex(x**2, mode='equation')"
   ]
  },
  {
   "cell_type": "code",
   "execution_count": 148,
   "metadata": {},
   "outputs": [
    {
     "data": {
      "text/plain": [
       "'\\\\frac{1}{x}'"
      ]
     },
     "execution_count": 148,
     "metadata": {},
     "output_type": "execute_result"
    }
   ],
   "source": [
    "latex(1/x)"
   ]
  },
  {
   "cell_type": "code",
   "execution_count": null,
   "metadata": {},
   "outputs": [],
   "source": [
    "latex(Integral(x**2, x))"
   ]
  },
  {
   "cell_type": "markdown",
   "metadata": {},
   "source": [
    "Pyglet"
   ]
  },
  {
   "cell_type": "code",
   "execution_count": 149,
   "metadata": {},
   "outputs": [
    {
     "name": "stdout",
     "output_type": "stream",
     "text": [
      "racine pour x= 1.0\n"
     ]
    }
   ],
   "source": [
    "import numpy as np\n",
    "from  scipy  import *\n",
    "from scipy.optimize import brentq\n",
    "    \n",
    "def f (x ) :\n",
    "    return x**2 -1  # log(x)**3-3\n",
    "\n",
    "sol = brentq ( f ,1 ,100)\n",
    "print(\"racine pour x=\",sol )\n"
   ]
  },
  {
   "cell_type": "markdown",
   "metadata": {
    "collapsed": true
   },
   "source": [
    "SciPy permet d’intégrer (de résoudre) numériquement des équations différentielles. Le code ci-dessous\n",
    "permet de résoudre l’équation différentielle du premier ordre suivante :\n",
    "    y est fonction de x.\n",
    " y'= y*sin(y) + sin(x) avec y(0) = 2"
   ]
  },
  {
   "cell_type": "code",
   "execution_count": 150,
   "metadata": {},
   "outputs": [
    {
     "name": "stdout",
     "output_type": "stream",
     "text": [
      "Optimization terminated successfully.\n",
      "         Current function value: -0.180587\n",
      "         Iterations: 13\n",
      "         Function evaluations: 26\n",
      "[-0.68066406]\n",
      "[-0.18058697]\n",
      "Optimization terminated successfully.\n",
      "         Current function value: -0.321919\n",
      "         Iterations: 14\n",
      "         Function evaluations: 28\n",
      "[0.73085938]\n",
      "[-0.32191934]\n"
     ]
    },
    {
     "data": {
      "image/png": "[encoded data removed]",
      "text/plain": [
       "<Figure size 432x288 with 1 Axes>"
      ]
     },
     "metadata": {
      "needs_background": "light"
     },
     "output_type": "display_data"
    }
   ],
   "source": [
    "from __future__ import division\n",
    "from scipy import *\n",
    "from pylab import *\n",
    "from scipy.optimize import fmin                 # Module de recherche des minima\n",
    "\n",
    "x = linspace(-2.,2.,300)                        # Abscisses\n",
    "\n",
    "\n",
    "def f(x):                                       # Fonction à étudier\n",
    "    res = x**4 - x**2 - 0.1*x\n",
    "    return res\n",
    "    \n",
    "minimum1 = fmin(f, -0.5)                        # Recherche du premier minimum local\n",
    "print(minimum1)\n",
    "print(f(minimum1))\n",
    "minimum2 = fmin(f, 0.5)                         # Recherche du premier minimum local\n",
    "print(minimum2)\n",
    "print(f(minimum2))\n",
    "\n",
    "plot(x, f(x))                                   # Graphique\n",
    "\n",
    "# Annotations\n",
    "annotate(r\"$Minimum \\,1$\", fontsize=16,color='r',xy=(minimum1,f(minimum1)), xycoords='data',xytext=(minimum1+0.05,f(minimum1)+0.5), textcoords='data',arrowprops=dict(arrowstyle=\"->\",connectionstyle=\"arc3\",color='r'), )\n",
    "annotate(r\"$Minimum \\,2$\", fontsize=16,color='g',xy=(minimum2,f(minimum2)), xycoords='data',xytext=(minimum2-0.65,f(minimum2)+0.5), textcoords='data',arrowprops=dict(arrowstyle=\"->\",connectionstyle=\"arc3\",color='g'), )\n",
    "plot([minimum1],[f(minimum1)],'or')\n",
    "plot([minimum2],[f(minimum2)],'og')\n",
    "                                        \n",
    "xlim(-2, 2)                                     # Limites de l'axe des abscisses\n",
    "xlabel(r\"$x \\, (\\varnothing)$\", fontsize=16)   # Label de l'axe des abscisses\n",
    "\n",
    "ylim(-0.5, 1.5)                                 # Limites de l'axe des ordonnées\n",
    "ylabel(r\"$f(x) \\, (\\varnothing)$\", fontsize=16)# Label de l'axe des ordonnées\n",
    "\n",
    "show()"
   ]
  },
  {
   "cell_type": "code",
   "execution_count": 151,
   "metadata": {},
   "outputs": [
    {
     "name": "stdout",
     "output_type": "stream",
     "text": [
      "x + 10*y - 3*z =5\n",
      "2*x - y + 2*z =2\n",
      "-x + y + z =-3\n"
     ]
    },
    {
     "data": {
      "text/plain": [
       "array([ 2.00000000e+00, -1.20797142e-17, -1.00000000e+00])"
      ]
     },
     "execution_count": 151,
     "metadata": {},
     "output_type": "execute_result"
    }
   ],
   "source": [
    "import sympy \n",
    "x=Symbol('x')\n",
    "y=Symbol('y')\n",
    "z=Symbol('z')\n",
    "#\"x,y,z=symbols('xyz')\n",
    "\n",
    "# on veut résoudre le syteme \n",
    "print(x+10*y-3*z,'=5')\n",
    "print(2*x-y+2*z, '=2')\n",
    "print(-x+y+z,'=-3')\n",
    "from scipy.optimize import fsolve\n",
    "def syst(var): # définition du système\n",
    "        x, y, z = var[0], var[1], var[2] # définition des variables\n",
    "        eq1 = x +10*y-3*z-5\n",
    "        eq2 = 2*x-y+2*z-2\n",
    "        eq3 = -x+y+z+3\n",
    "        res = [eq1, eq2, eq3]\n",
    "        return res\n",
    " \n",
    "\n",
    "x0, y0, z0 = 0, 0, 0 # Initialisation de la recherche des solutions numériques\n",
    "sol_ini = [x0, y0, z0]\n",
    "fsolve(syst, sol_ini)\n",
    "\n"
   ]
  },
  {
   "cell_type": "code",
   "execution_count": 156,
   "metadata": {},
   "outputs": [
    {
     "data": {
      "image/png": "[encoded data removed]",
      "text/latex": [
       "$\\displaystyle 1e+300$"
      ],
      "text/plain": [
       "1e+300"
      ]
     },
     "execution_count": 156,
     "metadata": {},
     "output_type": "execute_result"
    }
   ],
   "source": [
    "10**300."
   ]
  },
  {
   "cell_type": "code",
   "execution_count": 157,
   "metadata": {},
   "outputs": [
    {
     "ename": "OverflowError",
     "evalue": "(34, 'Result too large')",
     "output_type": "error",
     "traceback": [
      "\u001b[0;31m---------------------------------------------------------------------------\u001b[0m",
      "\u001b[0;31mOverflowError\u001b[0m                             Traceback (most recent call last)",
      "\u001b[0;32m<ipython-input-157-5d701e1fa38c>\u001b[0m in \u001b[0;36m<module>\u001b[0;34m\u001b[0m\n\u001b[0;32m----> 1\u001b[0;31m \u001b[0;36m10\u001b[0m\u001b[0;34m**\u001b[0m\u001b[0;36m310.\u001b[0m\u001b[0;34m\u001b[0m\u001b[0;34m\u001b[0m\u001b[0m\n\u001b[0m",
      "\u001b[0;31mOverflowError\u001b[0m: (34, 'Result too large')"
     ]
    }
   ],
   "source": [
    "10**310."
   ]
  },
  {
   "cell_type": "code",
   "execution_count": 161,
   "metadata": {},
   "outputs": [
    {
     "name": "stdout",
     "output_type": "stream",
     "text": [
      "norm:  1.000000000000001\n"
     ]
    }
   ],
   "source": [
    "from scipy.integrate import quad    \n",
    "import numpy as np\n",
    "\n",
    "xmin = 0.0\n",
    "xmax = 9.0 * ( np.pi / 2.0 )\n",
    "\n",
    "def function(x): \n",
    "    return np.cos(x)\n",
    "\n",
    "res, err = quad(function, xmin, xmax) \n",
    "print ('norm: ', res)"
   ]
  },
  {
   "cell_type": "code",
   "execution_count": 154,
   "metadata": {},
   "outputs": [
    {
     "data": {
      "text/plain": [
       "array([-1.41421356])"
      ]
     },
     "execution_count": 154,
     "metadata": {},
     "output_type": "execute_result"
    }
   ],
   "source": [
    "import numpy as np \n",
    "import scipy.optimize as resol \n",
    "import scipy.integrate as integr \n",
    "import matplotlib.pyplot as plt\n",
    "\n",
    "# permet de résoudre f(x)=0 avec x0 condition de départ.\n",
    "def f(x): \n",
    "    return x**2 - 2\n",
    "\n",
    "resol.fsolve(f, -2.0)  # condition de départ -2. C'est important le x0\n",
    "\n"
   ]
  },
  {
   "cell_type": "code",
   "execution_count": 155,
   "metadata": {},
   "outputs": [
    {
     "data": {
      "text/plain": [
       "True"
      ]
     },
     "execution_count": 155,
     "metadata": {},
     "output_type": "execute_result"
    }
   ],
   "source": [
    "#Dans le cas d’une fonction𝑓à valeurs vectorielles, on utilise la fonction root.\n",
    "\n",
    "#Par exemple, pour résoudre le système non linéaire { 𝑥*x −𝑦*y=1\n",
    "#                                                      𝑥+2*y−3=0\n",
    "#                                                   }\n",
    "\n",
    "def f(v): \n",
    "    return v[0]**2 - v[1]**2 - 1, v[0] + 2*v[1] - 3\n",
    "\n",
    "sol = resol.root(f, [0,0]) \n",
    "sol.x\n",
    "sol.success\n",
    "                                                                                                                                     "
   ]
  },
  {
   "cell_type": "code",
   "execution_count": null,
   "metadata": {},
   "outputs": [],
   "source": []
  }
 ],
 "metadata": {
  "anaconda-cloud": {},
  "kernelspec": {
   "display_name": "Python 3",
   "language": "python",
   "name": "python3"
  },
  "language_info": {
   "codemirror_mode": {
    "name": "ipython",
    "version": 3
   },
   "file_extension": ".py",
   "mimetype": "text/x-python",
   "name": "python",
   "nbconvert_exporter": "python",
   "pygments_lexer": "ipython3",
   "version": "3.7.3"
  }
 },
 "nbformat": 4,
 "nbformat_minor": 1
}
