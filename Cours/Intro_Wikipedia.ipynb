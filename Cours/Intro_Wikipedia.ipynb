{
 "cells": [
  {
   "cell_type": "markdown",
   "id": "ef0eae94-0928-44c2-ab4a-005f8358f30f",
   "metadata": {},
   "source": [
    "# Syntaxe\n",
    "\n",
    "Python a été conçu pour être un langage lisible. Il vise à être visuellement épuré. \n",
    "Par exemple, il possède moins de constructions syntaxiques que de nombreux langages structurés tels que C, Perl, ou Pascal. \n",
    "Les commentaires sont indiqués par le caractère croisillon (#).\n",
    "\n",
    "Les blocs sont identifiés par l'indentation, au lieu d'accolades comme en C ou C++ ; ou de begin ... end comme en Pascal ou Ruby. \n",
    "\n",
    "Une augmentation de l'indentation marque le début d'un bloc, et une réduction de l'indentation marque la fin du bloc courant. \n",
    "\n",
    "Par convention (actuellement PEP8), l'indentation est habituellement de quatre espaces en Python.\n"
   ]
  },
  {
   "cell_type": "code",
   "execution_count": null,
   "id": "5c6cbfe0-b49f-4413-bbce-9abc64bb8539",
   "metadata": {},
   "outputs": [],
   "source": [
    "#Fonction factorielle en Python (itérative)\n",
    "\n",
    "def factorielle(n):\n",
    "    if n < 2:\n",
    "        return 1\n",
    "    else:\n",
    "        return n * factorielle(n - 1)"
   ]
  },
  {
   "cell_type": "markdown",
   "id": "b776c096-cb2e-46cc-b673-3d367d28d898",
   "metadata": {},
   "source": [
    "- Remarque : L'indentation pourrait être modifiée ou supprimée dans la version en C sans modifier son comportement. \n",
    "\n",
    "De même, la fonction Python peut être écrite avec une expression conditionnelle.   \n",
    "Cependant, une indentation correcte permet de détecter plus aisément des erreurs en cas d'imbrication de plusieurs \n",
    "blocs et facilite donc l'élimination de ces erreurs. "
   ]
  },
  {
   "cell_type": "code",
   "execution_count": null,
   "id": "787bbf95-fdaa-445a-8fe6-78e0faa4bfaa",
   "metadata": {},
   "outputs": [],
   "source": [
    "# Fonction factorielle en Python (récursive)\n",
    "\n",
    "def factorielle(n):\n",
    "    return n * factorielle(n - 1) if n > 1 else 1"
   ]
  },
  {
   "cell_type": "markdown",
   "id": "32de6693-b025-43f0-b7e2-0eb53719bccf",
   "metadata": {},
   "source": [
    "# Mots-clés du langage\n",
    "\n",
    "Les mots-clés réservés du langage Python sont fournis dans la liste `keyword.kwlist`\n",
    "du module keyword."
   ]
  },
  {
   "cell_type": "code",
   "execution_count": 7,
   "id": "e51fe2db-93c8-4747-906d-07ccae1a9dc1",
   "metadata": {},
   "outputs": [
    {
     "name": "stdout",
     "output_type": "stream",
     "text": [
      "['False', 'None', 'True', 'and', 'as', 'assert', 'async', 'await', 'break', 'class', 'continue', 'def', 'del', 'elif', 'else', 'except', 'finally', 'for', 'from', 'global', 'if', 'import', 'in', 'is', 'lambda', 'nonlocal', 'not', 'or', 'pass', 'raise', 'return', 'try', 'while', 'with', 'yield']\n"
     ]
    }
   ],
   "source": [
    "import keyword\n",
    "print(keyword.kwlist)"
   ]
  },
  {
   "cell_type": "markdown",
   "id": "d109029c-d7d7-4ca8-bb9d-faf78799fb3f",
   "metadata": {},
   "source": [
    "`nonlocal` a été introduit, et permet, dans une fonction définie à l'intérieur d'une autre fonction, de modifier une variable d'un niveau supérieur de portée. Avant cela, seules les variables locales à la fonction, et globales (niveau module) étaient modifiables. Toutefois, il était possible, et ça l'est toujours sans le mot-clé `nonlocal`, de modifier un objet affecté à une variable d'un niveau de portée supérieur, par exemple une liste avec la méthode `append`, c'est évidemment impossible pour un objet immuable.\n",
    "\n",
    "À partir de Python 3.10, il y a 3 mots-clés contextuels (« soft keywords » en anglais) : `match`, `case`, `_` identique à l’instruction switch-case."
   ]
  },
  {
   "cell_type": "code",
   "execution_count": null,
   "id": "15567b8a-517a-4c42-b885-edcbea40828b",
   "metadata": {},
   "outputs": [],
   "source": [
    "match valeur: \n",
    "    case condition_1:\n",
    "        expression_1\n",
    "    case condition_2:\n",
    "        expression_2\n",
    "    case _: # `case _´ est accédé si toutes les autres conditions sont fausses.\n",
    "        expression_par_défaut"
   ]
  },
  {
   "cell_type": "markdown",
   "id": "85f94343-bc69-4cd9-a740-c9634b00bbdd",
   "metadata": {},
   "source": [
    "## Types de base\n",
    "\n",
    "Les types de base en Python sont relativement complets et puissants. \n",
    "\n",
    "Il y a, entre autres :\n",
    "\n",
    "### Les objets numériques\n",
    "        int est le type des entiers relatifs. Avant la version 3.0, ce type était dénommé long, et le type int correspondait à un entier de 32 ou 64 bits. Néanmoins, une conversion automatique en type long évitait tout débordement. Maintenant, ce type correspond aux entiers relatifs avec une précision illimitée sans restriction de taille.\n",
    "        long est le type des entiers relatifs, illimités de plus de 32 bits en Python 2, remplacé par le type int en Python 3\n",
    "        float est le type flottant équivalent au type double du C, soit tout nombre entre −1,7 × 10308 et 1,7 × 10308 sur les plateformes conforme à l'IEEE 754.\n",
    "        complex est le type des approximations des nombres complexes (c'est-à-dire deux float).\n",
    "        \n",
    "### Les objets « itérables »\n",
    "        Les objets tuple (n-uplet) sont des listes immuables d'objets hétérogènes.\n",
    "        Les objets typename obtenus avec la fonction namedtuple() sont des variantes des tuple permettant d'accéder à un élément du tuple avec un nom se comportant comme une variable. Contrairement aux dict, ils sont immuables[32],[33].\n",
    "        Les objets list sont des tableaux dynamiques (ils étendent automatiquement leur taille lorsque nécessaire) et acceptent des types de données hétérogènes.\n",
    "        Les objets set sont des ensembles non ordonnés d'objets.\n",
    "        Les objets frozenset forment une variante immuable des set.\n",
    "        Les objets dict sont des tableaux associatifs (ou dictionnaires) permettant d'associer un objet (une clef) à un autre.\n",
    "        Les objets str sont des chaînes de caractères. À partir de la version 3.0, les caractères sont en Unicode sur 16 ou 32 bits ; les chaines d'octets sont des objets bytes[34]. Dans les versions précédentes, ces objets étaient respectivement de type unicode et str. Les objets str et bytes sont immuables.\n",
    "        Les objets bytearray sont des chaînes d'octets modifiables. La version d'Unicode employée par Python peut être déterminée à l'aide de la variable unidata_version du module unicodedata.\n",
    "        Les objets file correspondent à un fichier obtenu grâce à la méthode open()\n",
    "        Il existe aussi d'autres types d'objets itérables, notamment range obtenu via la méthode range()et enumerate obtenu via la méthode enumerate()[35] et les types liés aux méthodes de dictionnaires .keys(), .values() et .items(). La plupart d'entre eux sont immuables.\n",
    "        \n",
    "### Les autres objets, n'étant ni numériques ni itérables\n",
    "None est simplement le type d'un « vide ». Il sert à dénoter qu'une variable est vide.\n",
    "type est le type du type des objets, obtenu grâce à la méthode type().\n",
    "        object est le type basique dont tous les autres types « héritent »\n",
    "        slice est une partie de type ou un objet extensible\n",
    "        NotImplementedType est, comme son nom l'indique, une absence d'implémentation du type auquel on essaie d'accéder.\n",
    "        bool est un booléen, soit le type de True et False renvoyés par exemple lors de comparaisons hors de l'utilisation de méthodes is_x().\n",
    "        exception est le type d'un message d'erreur lancé lorsque le code lève une exception.\n",
    "        function est le type d'une fonction, utilisé lors de l'appel des mots-clef def et lambda.\n",
    "        module est le type d'un module, utilisé lors de l'appel des mots-clef import et from."
   ]
  },
  {
   "cell_type": "markdown",
   "id": "98cfc03c-aa3c-4f05-b91d-1b8f54c77f9f",
   "metadata": {},
   "source": [
    "Les objets itérables sont parcourus à l'aide d'une boucle for de la manière suivante :"
   ]
  },
  {
   "cell_type": "code",
   "execution_count": null,
   "id": "a5afbdbe-27c5-4947-957a-db7163b29aaa",
   "metadata": {},
   "outputs": [],
   "source": [
    "for element in objet_iterable:\n",
    "    traiter(element)"
   ]
  },
  {
   "cell_type": "code",
   "execution_count": null,
   "id": "25813cdc-55a4-47c7-8502-1566559eca8e",
   "metadata": {},
   "outputs": [],
   "source": [
    "Pour une chaîne de caractères, l'itération procède caractère par caractère.\n",
    "\n",
    "Il est possible de dériver les classes des types de base pour créer ses propres types. On peut également fabriquer ses propres types d'objets itérables sans hériter des itérables de base en utilisant le protocole d'itération du langage.\n",
    "Programmation fonctionnelle\n",
    "\n",
    "Python permet de programmer dans un style fonctionnel. \n",
    "\n",
    "Il dispose également des compréhensions de listes, et plus généralement les compréhensions peuvent produire des générateurs, des dictionnaires ou des ensembles[36]. Par exemple, pour construire la liste des carrés des entiers naturels plus petits que 10, on peut utiliser l'expression :"
   ]
  },
  {
   "cell_type": "code",
   "execution_count": null,
   "id": "7b12b218-df64-4e01-ac65-f4d061f096b8",
   "metadata": {},
   "outputs": [],
   "source": [
    "liste = [x**2 for x in range(10)]\n",
    "# liste = [0, 1, 4, 9, 16, 25, 36, 49, 64, 81]\n",
    "\n",
    "La liste des nombres pairs :\n",
    "\n",
    "liste = [entier for entier in range(10) if entier % 2 == 0]\n",
    "# liste = [0, 2, 4, 6, 8]\n",
    "\n",
    "Une table de passage des lettres de l'alphabet vers leur code ASCII :\n",
    "\n",
    "{chr(n): n for n in range(65, 91)}\n",
    "# {'A': 65, 'B': 66, 'C': 67, ..., 'X': 88, 'Y': 89, 'Z': 90}"
   ]
  },
  {
   "cell_type": "code",
   "execution_count": null,
   "id": "7309d220-76dc-4e5b-be8c-278163fd1690",
   "metadata": {},
   "outputs": [],
   "source": [
    "L'ensemble des lettres d'un mot (produit l'ensemble {'r', 'c', 'd', 'b', 'a'}) :"
   ]
  },
  {
   "cell_type": "code",
   "execution_count": null,
   "id": "f27da830-6ad4-4def-bbc1-cbb32d2f636c",
   "metadata": {},
   "outputs": [],
   "source": [
    "s = \"abracadabra\"\n",
    "{c for c in s}"
   ]
  },
  {
   "cell_type": "code",
   "execution_count": null,
   "id": "28042c80-8347-4dfb-8378-8fcf240454fa",
   "metadata": {},
   "outputs": [],
   "source": [
    "Une compréhension peut comprendre plusieurs boucles et filtres, et il existe une correspondance avec le code réalisant le même calcul à l'aide d'instructions for et if :\n",
    "Compréhension \tCode équivalent"
   ]
  },
  {
   "cell_type": "code",
   "execution_count": null,
   "id": "ca7f7826-bbf9-4c97-bc0a-9fa06568f302",
   "metadata": {},
   "outputs": [],
   "source": [
    "[ i + j if i != j else 0\n",
    "    for i in range(n)\n",
    "        if i % 2 != 0\n",
    "            for j in range(n)\n",
    "                if j % 3 != 0 ]\n",
    "\n",
    "\t\n",
    "\n",
    "a = []\n",
    "for i in range(n):\n",
    "    if i % 2 != 0:\n",
    "        for j in range(n):\n",
    "            if j % 3 != 0:\n",
    "                a.append(i + j if i != j else 0)"
   ]
  },
  {
   "cell_type": "code",
   "execution_count": null,
   "id": "570371bd-3fcd-4426-943f-bbf1811f4296",
   "metadata": {},
   "outputs": [],
   "source": [
    "Cependant, une différence notable dans la version sans compréhension est que les variables i et j existent, avec la valeur qu'elles avaient lors de leur dernier tour de boucle. Ce n'est pas le cas pour des constructions par compréhension.\n",
    "\n",
    "Une forme limitée de fonction anonyme est possible :"
   ]
  },
  {
   "cell_type": "code",
   "execution_count": null,
   "id": "c38d8fc0-bae3-40a6-9aff-22fd7f85d42b",
   "metadata": {},
   "outputs": [],
   "source": [
    "lambda x: x + 2"
   ]
  },
  {
   "cell_type": "code",
   "execution_count": null,
   "id": "4f0a1168-15d2-4c76-a402-2e39d856213d",
   "metadata": {},
   "outputs": [],
   "source": [
    "Les fonctions lambda peuvent être définies en ligne et utilisées comme arguments dans des expressions fonctionnelles :"
   ]
  },
  {
   "cell_type": "code",
   "execution_count": null,
   "id": "1c3df228-1971-42a3-9659-26053ae01604",
   "metadata": {},
   "outputs": [],
   "source": [
    " filter(lambda x: x < 5, une_liste)"
   ]
  },
  {
   "cell_type": "code",
   "execution_count": null,
   "id": "254a047b-aa38-46d3-b003-3d48cd866e48",
   "metadata": {},
   "outputs": [],
   "source": [
    "retournera une liste constituée des éléments de une_liste inférieurs à 5. Le même résultat peut être obtenu avec"
   ]
  },
  {
   "cell_type": "code",
   "execution_count": null,
   "id": "bb9f788b-7f40-4d93-a953-dd0b37e6039b",
   "metadata": {},
   "outputs": [],
   "source": [
    " [x for x in une_liste if x < 5]"
   ]
  },
  {
   "cell_type": "code",
   "execution_count": null,
   "id": "1fff18aa-0d96-4d5b-9802-77b6ab339858",
   "metadata": {},
   "outputs": [],
   "source": [
    "Les lambdas de Python n'admettent que des expressions et ne peuvent être utilisées comme fonctions anonymes généralisées ; mais en Python, toutes les fonctions sont des objets, elles peuvent donc être passées en arguments à d'autres fonctions, et appelées lorsque c'est nécessaire. En effet, une fonction définie avec def peut être créée à l'intérieur d'une autre fonction et on obtient ainsi une définition de fonction dans une variable locale, par exemple :"
   ]
  },
  {
   "cell_type": "code",
   "execution_count": null,
   "id": "a9253fa4-a89f-4038-8260-38cfd6218256",
   "metadata": {},
   "outputs": [],
   "source": [
    "def filtre_inferieur_a_5(une_liste):\n",
    "    def mon_filtre(x): # variable locale mon_filtre\n",
    "        return x < 5\n",
    "    return filter(mon_filtre, une_liste)"
   ]
  },
  {
   "cell_type": "code",
   "execution_count": null,
   "id": "bb17db30-9e46-4220-bc77-c79cf80ca1aa",
   "metadata": {},
   "outputs": [],
   "source": [
    "Une fonction locale peut modifier l'environnement de la fonction qui l'a créée, grâce au mot-clé nonlocal (voir Fermeture (informatique)) :"
   ]
  },
  {
   "cell_type": "code",
   "execution_count": null,
   "id": "a37a59a5-5903-49a7-b5a9-f92f160ae56e",
   "metadata": {},
   "outputs": [],
   "source": [
    "from typing import Callable # type le retour de fonction\n",
    "def accum(pas) -> Callable[[int], int]: # retourne une fonction appelable\n",
    "    total = 0 # initialise une fois l'accumulateur\n",
    "    def ajoute(germe) -> int:\n",
    "        nonlocal total # accède à l'accumulateur de la fonction accum\n",
    "        total += germe * pas # incrémente l'accumulateur du germe fois le pas\n",
    "        return total # retourne la valeur accumulée\n",
    "    return ajoute # retourne la fonction accumulateur paramétrée par le pas\n",
    "\n",
    "paire = accum(2) # retourne la fonction ajoute avec un pas de 2\n",
    "assert isinstance(paire, Callable)   # paire est une fonction appelable\n",
    "print([cell.cell_contents for cell in paire.__closure__]) # environnement initial : [2, 0]\n",
    "\n",
    "print ([paire(1) for _ in range(5)]) # affiche la liste des cinq premiers nombres paires\n",
    "# [2, 4, 6, 8, 10]\n",
    "print ([paire(1) for _ in range(3)]) # affiche la suite à partir du dernier compteur précédent\n",
    "# [12, 14, 16]\n",
    "print([cell.cell_contents for cell in paire.__closure__]) # environnement final : [2, 16]"
   ]
  },
  {
   "cell_type": "markdown",
   "id": "aae77620-98e5-43da-b7bb-9708e692a11a",
   "metadata": {},
   "source": [
    "On peut ainsi créer plusieurs accumulateurs, faisant chacun référence à son propre total. Il est possible d'accéder à l'environnement d'une fonction locale à l'aide de l'attribut __closure__.\n",
    "Programmation objet\n",
    "\n",
    "Tous les types de base, les fonctions, les instances de classes (les objets « classiques » des langages C++ et Java) et les classes elles-mêmes (qui sont des instances de méta-classes) sont des objets.\n",
    "\n",
    "Une classe se définit avec le mot-clé class. Les classes Python supportent l'héritage multiple ; il n'y a pas de surcharge statique comme en C++, ou de restrictions sur l'héritage comme c'est le cas en Java (une classe implémente plusieurs interfaces et hérite d'une seule classe) mais le mécanisme des arguments optionnels et par mot-clé est plus général et plus flexible. En Python, l'attribut d'un objet peut référencer une variable d'instance ou de classe (le plus souvent une méthode). Il est possible de lire ou de modifier un attribut dynamiquement avec les fonctions :"
   ]
  },
  {
   "cell_type": "code",
   "execution_count": 3,
   "id": "9a264d1e-8c9b-4a1c-a5e2-4ce89673d0f0",
   "metadata": {},
   "outputs": [
    {
     "ename": "NameError",
     "evalue": "name 'objet' is not defined",
     "output_type": "error",
     "traceback": [
      "\u001b[0;31m---------------------------------------------------------------------------\u001b[0m",
      "\u001b[0;31mNameError\u001b[0m                                 Traceback (most recent call last)",
      "Cell \u001b[0;32mIn[3], line 1\u001b[0m\n\u001b[0;32m----> 1\u001b[0m \u001b[38;5;28mgetattr\u001b[39m(objet, \u001b[38;5;124m\"\u001b[39m\u001b[38;5;124mnom_attribut\u001b[39m\u001b[38;5;124m\"\u001b[39m)\n\u001b[1;32m      2\u001b[0m \u001b[38;5;28msetattr\u001b[39m(objet, \u001b[38;5;124m\"\u001b[39m\u001b[38;5;124mnom_attribut\u001b[39m\u001b[38;5;124m\"\u001b[39m, nouvel_attribut)\n",
      "\u001b[0;31mNameError\u001b[0m: name 'objet' is not defined"
     ]
    }
   ],
   "source": [
    "getattr(objet, \"nom_attribut\")\n",
    "setattr(objet, \"nom_attribut\", nouvel_attribut)"
   ]
  },
  {
   "cell_type": "code",
   "execution_count": null,
   "id": "c0c12eb5-21e9-42e9-a53c-8ce4e487668d",
   "metadata": {},
   "outputs": [],
   "source": [
    "# \n",
    "Exemple de deux classes simples :\n",
    "\n",
    "class Personne:\n",
    "    def __init__(self, nom, prenom):\n",
    "        self.nom = nom\n",
    "        self.prenom = prenom\n",
    "    def presenter(self):\n",
    "        return self.nom + \" \" + self.prenom\n",
    "\n",
    "class Etudiant(Personne):\n",
    "    def __init__(self, niveau, nom, prenom):\n",
    "        Personne.__init__(self, nom, prenom)\n",
    "        self.niveau = niveau\n",
    "    def presenter(self):\n",
    "        return self.niveau + \" \" + Personne.presenter(self)\n",
    "\n",
    "e = Etudiant(\"Licence INFO\", \"Dupontel\", \"Albert\")\n",
    "assert e.nom == \"Dupontel\""
   ]
  },
  {
   "cell_type": "markdown",
   "id": "6cba9cbb-6a32-4e16-9148-fde0a1a48fd8",
   "metadata": {},
   "source": [
    "### Méthodes spéciales et définition des opérateurs\n",
    "\n",
    "Python fournit un mécanisme élégant et orienté objet pour définir un ensemble prédéfini d'opérateurs : tout objet Python peut se voir doté de méthodes dites spéciales.\n",
    "\n",
    "Ces méthodes, commençant et finissant par deux tirets de soulignement (underscores), sont appelées lors de l'utilisation d'un opérateur sur l'objet :\n",
    "+ (méthode __add__), += (méthode __iadd__), [] (méthode __getitem__), () (méthode __call__), etc.   \n",
    "+ Des méthodes comme __repr__ et __str__ permettent de définir la représentation d'un objet dans l'interpréteur interactif et son rendu avec la fonction `print`.\n",
    "\n",
    "Les possibilités sont nombreuses et sont décrites dans la documentation du langage.\n",
    "\n",
    "Par exemple, on peut définir l'addition de deux vecteurs à deux dimensions avec la classe suivante :"
   ]
  },
  {
   "cell_type": "code",
   "execution_count": null,
   "id": "8af0ddd1-5cec-4838-8b76-3916550f2417",
   "metadata": {},
   "outputs": [],
   "source": [
    "class Vector2D:\n",
    "    def __init__(self, x, y):\n",
    "        # On utilise un tuple pour stocker les coordonnées\n",
    "        self.coords = (x, y)\n",
    "\n",
    "    def __add__(self, other):\n",
    "        # L'instruction a+b sera résolue comme a.__add__(b)\n",
    "        # On construit un objet Vector2D à partir des coordonnées propres à l'objet, et à l'autre opérande\n",
    "        return Vector2D(self.coords[0]+other.coords[0], self.coords[1]+other.coords[1])\n",
    "\n",
    "    def __repr__(self):\n",
    "        # L'affichage de l'objet dans l'interpréteur\n",
    "        return \"Vector2D(%s, %s)\" %self.coords\n",
    "\n",
    "a = Vector2D(1, 2)\n",
    "b = Vector2D(3, 4)\n",
    "print(a + b) # Vector2D(4, 6)"
   ]
  }
 ],
 "metadata": {
  "kernelspec": {
   "display_name": "Python 3 (ipykernel)",
   "language": "python",
   "name": "python3"
  },
  "language_info": {
   "codemirror_mode": {
    "name": "ipython",
    "version": 3
   },
   "file_extension": ".py",
   "mimetype": "text/x-python",
   "name": "python",
   "nbconvert_exporter": "python",
   "pygments_lexer": "ipython3",
   "version": "3.12.7"
  }
 },
 "nbformat": 4,
 "nbformat_minor": 5
}
