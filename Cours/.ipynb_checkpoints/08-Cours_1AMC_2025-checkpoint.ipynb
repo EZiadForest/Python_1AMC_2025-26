{
 "cells": [
  {
   "cell_type": "markdown",
   "metadata": {
    "slideshow": {
     "slide_type": "slide"
    }
   },
   "source": [
    "![](fig/logoENSI.png)\n",
    "![](fig/logoPython.png)\n",
    " ***\n",
    "\n",
    "# Introduction à la Programmation \n",
    "# Langage Python (cours 6)\n",
    "***\n",
    "**ENSICAEN  1A MC** \n",
    "vendredi 22 Nov 2019\n",
    "## Eric Ziad-Forest\n",
    "***\n",
    "\n",
    "## Sommaire\n",
    "\n",
    "- Modules\n",
    "- Bibliothèques\n",
    "    - Numpy\n",
    "    - Matplotlib\n",
    "    - Pylab\n",
    "    - Scipy\n",
    "    - Sympy\n",
    "    - Panda\n",
    "\n",
    "\n",
    "***\n",
    "\n",
    "**Auteur :**\n",
    "\n",
    "- Eric Ziad-Forest ([ziad@ensicaen.fr](mailto: ziad@ensicaen.fr))\n",
    "***\n",
    "*Contenu sous licence [CC BY-SA 4.0](https://creativecommons.org/licenses/by-sa/4.0)*"
   ]
  },
  {
   "cell_type": "markdown",
   "metadata": {},
   "source": [
    "https://courspython.com/introduction-pylab.htm\n"
   ]
  },
  {
   "cell_type": "markdown",
   "metadata": {},
   "source": [
    "Pour le cours Numpy et Matplotlib\n",
    "Voir : 06-Numpy-Matplotlib-Cours_1AMC_2019.ipynb"
   ]
  },
  {
   "cell_type": "code",
   "execution_count": null,
   "metadata": {},
   "outputs": [],
   "source": []
  }
 ],
 "metadata": {
  "kernelspec": {
   "display_name": "Python 3",
   "language": "python",
   "name": "python3"
  },
  "language_info": {
   "codemirror_mode": {
    "name": "ipython",
    "version": 3
   },
   "file_extension": ".py",
   "mimetype": "text/x-python",
   "name": "python",
   "nbconvert_exporter": "python",
   "pygments_lexer": "ipython3",
   "version": "3.7.3"
  }
 },
 "nbformat": 4,
 "nbformat_minor": 1
}
