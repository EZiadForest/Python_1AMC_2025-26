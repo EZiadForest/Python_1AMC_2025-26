{
 "cells": [
  {
   "cell_type": "markdown",
   "metadata": {},
   "source": [
    "# Exemples de Slicing en Python\n",
    "\n",
    "Voici un notebook détaillant toutes les possibilités d’utilisation du slicing sur les listes en Python, avec des exemples basés sur le mémo."
   ]
  },
  {
   "cell_type": "markdown",
   "metadata": {},
   "source": [
    "<img src=\"fig/memo_slicing.png\" alt=\"Portée des variables\" width=\"500\" />"
   ]
  },
  {
   "cell_type": "markdown",
   "metadata": {},
   "source": [
    "## Introduction\n",
    "\n",
    "Ce notebook illustre les différentes façons d'utiliser le slicing sur les listes en Python.\n",
    "\n",
    "On utilise la liste suivante pour les exemples :\n",
    "```python\n",
    "L = [10, 20, 30, 40, 50, 60, 70]\n",
    "```"
   ]
  },
  {
   "cell_type": "markdown",
   "metadata": {},
   "source": [
    "## 1. Accès à un élément par son index\n",
    "\n",
    "| Syntax       | Description                     | Exemple (avec `L = [10, 20, 30, 40, 50, 60, 70]`) | Résultat |\n",
    "|--------------|---------------------------------|--------------------------------------------------|----------|\n",
    "| `L[index]`   | Accède à l’élément à l’index donné. | `L[0]`                                      | 10       |\n",
    "|              |                                 | `L[1]`                                      | 20       |\n",
    "|              |                                 | `L[-1]`                                     | 70       |\n",
    "|              |                                 | `L[-2]`                                     | 60       |"
   ]
  },
  {
   "cell_type": "code",
   "execution_count": 2,
   "metadata": {},
   "outputs": [
    {
     "name": "stdout",
     "output_type": "stream",
     "text": [
      "L[0]: 10\n",
      "L[1]: 20\n",
      "L[-1]: 70\n",
      "L[-2]: 60\n"
     ]
    }
   ],
   "source": [
    "L = [10, 20, 30, 40, 50, 60, 70]\n",
    "print(\"L[0]:\", L[0])\n",
    "print(\"L[1]:\", L[1])\n",
    "print(\"L[-1]:\", L[-1])\n",
    "print(\"L[-2]:\", L[-2])"
   ]
  },
  {
   "cell_type": "markdown",
   "metadata": {},
   "source": [
    "## 2. Accès à une partie de la liste (slicing)\n",
    "\n",
    "### a. Syntaxe de base : `L[déb_incl : fin_excl : pas]`\n",
    "\n",
    "| Syntax       | Description                     | Exemple (avec `L = [10, 20, 30, 40, 50, 60, 70]`) | Résultat          |\n",
    "|--------------|---------------------------------|--------------------------------------------------|-------------------|\n",
    "| `L[2:5]`     | Éléments des indices 2 à 4.      | `L[2:5]`                                     | `[30, 40, 50]`    |\n",
    "| `L[:4]`      | Éléments du début à l’index 3.   | `L[:4]`                                      | `[10, 20, 30, 40]`|\n",
    "| `L[4:]`      | Éléments de l’index 4 à la fin.  | `L[4:]`                                      | `[50, 60, 70]`    |\n",
    "| `L[-4:]`     | 4 derniers éléments.            | `L[-4:]`                                     | `[40, 50, 60, 70]`|\n",
    "| `L[:-2]`     | Tous les éléments sauf les 2 derniers. | `L[:-2]`                              | `[10, 20, 30, 40, 50]` |"
   ]
  },
  {
   "cell_type": "code",
   "execution_count": 4,
   "metadata": {},
   "outputs": [
    {
     "name": "stdout",
     "output_type": "stream",
     "text": [
      "L[2:5] [30, 40, 50]\n",
      "L[:4] [10, 20, 30, 40]\n",
      "L[4:] [50, 60, 70]\n",
      "L[-4:] [40, 50, 60, 70]\n",
      "L[:-2] [10, 20, 30, 40, 50]\n"
     ]
    }
   ],
   "source": [
    "print('L[2:5]',L[2:5])    \n",
    "print('L[:4]',L[:4])   \n",
    "print('L[4:]',L[4:])   \n",
    "print('L[-4:]',L[-4:])   \n",
    "print('L[:-2]',L[:-2])   "
   ]
  },
  {
   "cell_type": "markdown",
   "metadata": {},
   "source": [
    "### b. Avec un pas différent de 1\n",
    "\n",
    "| Syntax       | Description                     | Exemple (avec `L = [10, 20, 30, 40, 50, 60, 70]`) | Résultat          |\n",
    "|--------------|---------------------------------|--------------------------------------------------|-------------------|\n",
    "| `L[::2]`     | Un élément sur deux.            | `L[::2]`                                      | `[10, 30, 50, 70]`|\n",
    "| `L[1::2]`    | Un élément sur deux en commençant à l’index 1. | `L[1::2]`                     | `[20, 40, 60]`    |\n",
    "| `L[::-1]`    | Tous les éléments à l’envers.   | `L[::-1]`                                     | `[70, 60, 50, 40, 30, 20, 10]` |\n",
    "| `L[::-2]`    | Un élément sur deux à l’envers. | `L[::-2]`                                     | `[70, 50, 30, 10]`|\n",
    "| `L[-2::-2]`  | Un élément sur deux à l’envers en commençant à l’index -2. | `L[-2::-2]`           | `[60, 40, 20]`    |"
   ]
  },
  {
   "cell_type": "markdown",
   "metadata": {},
   "source": [
    "### c. Cas particuliers\n",
    "\n",
    "| Syntax       | Description                     | Exemple (avec `L = [10, 20, 30, 40, 50, 60, 70]`) | Résultat          |\n",
    "|--------------|---------------------------------|--------------------------------------------------|-------------------|\n",
    "| `L[-2:2:-1]` | De l’index -2 à l’index 2 (exclus) en reculant. | `L[-2:2:-1]`                              | `[60, 50, 40, 30]`|\n",
    "| `L[-2::-2]`  | De l’index -2 au début en reculant de 2 en 2. | `L[-2::-2]`                            | `[60, 40, 20]`    |"
   ]
  },
  {
   "cell_type": "code",
   "execution_count": null,
   "metadata": {},
   "outputs": [],
   "source": [
    "print(\"L[2:5]:\", L[2:5])\n",
    "print(\"L[:4]:\", L[:4])\n",
    "print(\"L[4:]:\", L[4:])\n",
    "print(\"L[-4:]:\", L[-4:])\n",
    "print(\"L[:-2]:\", L[:-2])\n",
    "print(\"L[::2]:\", L[::2])\n",
    "print(\"L[1::2]:\", L[1::2])\n",
    "print(\"L[::-1]:\", L[::-1])\n",
    "print(\"L[::-2]:\", L[::-2])\n",
    "print(\"L[-2:2:-1]:\", L[-2:2:-1])\n",
    "print(\"L[-2::-2]:\", L[-2::-2])"
   ]
  },
  {
   "cell_type": "markdown",
   "metadata": {},
   "source": [
    "## 3. Suppression d’éléments avec `del`\n",
    "\n",
    "| Syntax       | Description                     | Exemple (avec `L = [10, 20, 30, 40, 50, 60, 70]`) | Résultat après suppression |\n",
    "|--------------|---------------------------------|--------------------------------------------------|----------------------------|\n",
    "| `del L[4]`   | Supprime l’élément à l’index 4. | `del L[4]`                                      | `[10, 20, 30, 40, 60, 70]` |\n",
    "| `del L[1:3]` | Supprime les éléments des indices 1 et 2. | `del L[1:3]`                              | `[10, 40, 50, 60, 70]`     |"
   ]
  },
  {
   "cell_type": "code",
   "execution_count": null,
   "metadata": {},
   "outputs": [],
   "source": [
    "L_del_example = L.copy()\n",
    "del L_del_example[4]\n",
    "print(\"del L[4]:\", L_del_example)\n",
    "\n",
    "L_del_example = L.copy()\n",
    "del L_del_example[1:3]\n",
    "print(\"del L[1:3]:\", L_del_example)"
   ]
  },
  {
   "cell_type": "markdown",
   "metadata": {},
   "source": [
    "## 4. Remplacement d’éléments\n",
    "\n",
    "| Syntax       | Description                     | Exemple (avec `L = [10, 20, 30, 40, 50, 60, 70]`) | Résultat après remplacement |\n",
    "|--------------|---------------------------------|--------------------------------------------------|--------------------------------|\n",
    "| `L[4] = 99`  | Remplace l’élément à l’index 4. | `L[4] = 99`                                     | `[10, 20, 30, 40, 99, 60, 70]` |\n",
    "| `L[1:3] = [\\\"a\\\", \\\"b\\\"]` | Remplace les indices 1 et 2 par une itérable. | `L[1:3] = [\\\"a\\\", \\\"b\\\"]` | `[10, \\\"a\\\", \\\"b\\\", 40, 50, 60, 70]` |\n",
    "| `L[1:-1] = range(2)` | Remplace les éléments des indices 1 à -2 (exclus) par un itérable. | `L[1:-1] = range(2)` | `[10, 0, 1, 70]` |"
   ]
  },
  {
   "cell_type": "code",
   "execution_count": null,
   "metadata": {},
   "outputs": [],
   "source": [
    "L_replace_example = L.copy()\n",
    "L_replace_example[4] = 99\n",
    "print(\"L[4] = 99:\", L_replace_example)\n",
    "\n",
    "L_replace_example = L.copy()\n",
    "L_replace_example[1:3] = [\"a\", \"b\"]\n",
    "print('L[1:3] = [\\\"a\\\", \\\"b\\\"]:', L_replace_example)\n",
    "\n",
    "L_replace_example = L.copy()\n",
    "L_replace_example[1:-1] = range(2)\n",
    "print('L[1:-1] = range(2):', L_replace_example)"
   ]
  },
  {
   "cell_type": "markdown",
   "metadata": {},
   "source": [
    "## 5. Copie superficielle de la liste\n",
    "\n",
    "| Syntax       | Description                     | Exemple (avec `L = [10, 20, 30, 40, 50, 60, 70]`) | Résultat |\n",
    "|--------------|---------------------------------|--------------------------------------------------|----------|\n",
    "| `L[:]`       | Copie superficielle de la liste. | `L_copy = L[:]`                                 | `[10, 20, 30, 40, 50, 60, 70]` |"
   ]
  },
  {
   "cell_type": "code",
   "execution_count": null,
   "metadata": {},
   "outputs": [],
   "source": [
    "L_copy = L[:]\n",
    "print(\"L_copy = L[:]:\", L_copy)"
   ]
  },
  {
   "cell_type": "markdown",
   "metadata": {},
   "source": [
    "## 6. Cas avancés\n",
    "\n",
    "| Syntax       | Description                     | Exemple (avec `L = [10, 20, 30, 40, 50, 60, 70]`) | Résultat          |\n",
    "|--------------|---------------------------------|--------------------------------------------------|-------------------|\n",
    "| `L[1::2] = \\\"abc\\\"` | Remplace les éléments d’indices impairs par un itérable. | `L[1::2] = \\\"abc\\\"` | `[10, \\\"a\\\", 30, \\\"b\\\", 50, \\\"c\\\", 70]` |"
   ]
  },
  {
   "cell_type": "code",
   "execution_count": 5,
   "metadata": {},
   "outputs": [
    {
     "name": "stdout",
     "output_type": "stream",
     "text": [
      "L[1::2] = \"abc\": [10, 'a', 30, 'b', 50, 'c', 70]\n"
     ]
    }
   ],
   "source": [
    "L_advanced_example = L.copy()\n",
    "L_advanced_example[1::2] = \"abc\"\n",
    "print('L[1::2] = \\\"abc\\\":', L_advanced_example)"
   ]
  },
  {
   "cell_type": "code",
   "execution_count": null,
   "metadata": {},
   "outputs": [],
   "source": []
  }
 ],
 "metadata": {
  "kernelspec": {
   "display_name": "Python 3 (ipykernel)",
   "language": "python",
   "name": "python3"
  },
  "language_info": {
   "codemirror_mode": {
    "name": "ipython",
    "version": 3
   },
   "file_extension": ".py",
   "mimetype": "text/x-python",
   "name": "python",
   "nbconvert_exporter": "python",
   "pygments_lexer": "ipython3",
   "version": "3.12.2"
  }
 },
 "nbformat": 4,
 "nbformat_minor": 4
}
