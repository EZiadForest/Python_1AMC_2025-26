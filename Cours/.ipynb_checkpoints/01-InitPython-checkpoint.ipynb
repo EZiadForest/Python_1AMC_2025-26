{
 "cells": [
  {
   "cell_type": "markdown",
   "metadata": {},
   "source": [
    "![](fig/logoPython.png)\n",
    " ![](fig/logoENSI.png)\n",
    "***\n",
    "# FORMATION AU LANGAGE PYTHON -1-\n",
    "## INTRODUCTION ET BASES\n",
    "***\n",
    "**ENSICAEN  1A MC** \n",
    " 2025-2026\n",
    "\n",
    "## Eric Ziad-Forest\n",
    "***\n",
    "## Sommaire\n",
    "-   Présentation et installations\n",
    "-   Bases du langage\n",
    "-   Structures de données\n",
    "-   Structures de contrôle\n",
    "-   Pythonismes\n",
    "-   Entrées - Sorties Fonctions\n",
    "-   Classes et objets Interactions graphiques\n",
    "-   ...\n",
    "***\n",
    "**Auteurs :**\n",
    "\n",
    "- JeremyLaforet ([jeremy.laforet@utc.fr](mailto: jeremy.laforet@utc.fr)\n",
    "- Eric Ziad-Forest ([ziad@ensicaen.fr](mailto: ziad@ensicaen.fr))\n",
    "***\n",
    "*Contenu sous licence [CC BY-SA 4.0](https://creativecommons.org/licenses/by-sa/4.0)*\n",
    "\n",
    "\n",
    "https://fr.wikipedia.org/wiki/Python_(langage)\n"
   ]
  },
  {
   "cell_type": "markdown",
   "metadata": {},
   "source": [
    "# La programmation, qu'est-ce que c'est ?\n",
    "\n",
    "\n",
    "- On \"parle\" à l'ordinateur pour lui \"demander\" de faire quelque chose\n",
    "\n",
    "- Un programme : [algorithme](https://fr.wikipedia.org/wiki/Algorithme), [formules mathématiques](https://fr.wikipedia.org/wiki/Formule_%28math%C3%A9matiques%29), [logique](https://fr.wikipedia.org/wiki/Logique), [recette de cuisine](http://www.marmiton.org/)\n",
    "\n",
    "- Les ingrédients pour la recette ⇒ les données : fichiers, mouvements de la souris, des touches entrées au clavier, des données en provenance du réseau...\n",
    "\n",
    "- On utilise un (des) langage(s) de programmation. Langage dans le sens linguistique : vocabulaire, orthographe, syntaxe et dialectes, sémantique…\n",
    "\n",
    "\n",
    "\n",
    "- Un programme est écrit sous forme de texte structuré : ensemble de phrases ordonnées qui expriment la recette\n"
   ]
  },
  {
   "cell_type": "markdown",
   "metadata": {},
   "source": [
    "## POURQUOI PYTHON pour une initiation à l'informatique ? \n",
    "\n",
    "Comment et pourquoi choisir un langage de programmation parmis tous ceux existants ?\n",
    "\n",
    "Faites votre choix ...\n",
    "https://fr.wikipedia.org/wiki/Liste_de_langages_de_programmation\n",
    "\n",
    "\n",
    "Donc pourquoi Python ?\n",
    "\n",
    "-   Il est multi-paradigme ...\n",
    "-   Langage de haut niveau\n",
    "-   Ipython (jupyter) Notebook\n",
    "-   Transition directe vers un code stable\n",
    "-   Script exécutables / multiplateforme\n",
    "-   De nombreux formats de fichiers lisibles\n",
    "-   Possible interface graphique\n",
    "-   Ratio temps de programmeur/résultat !\n",
    "-   Écosysteme scientifique riche\n",
    "-   Outils de débug/profiling"
   ]
  },
  {
   "cell_type": "markdown",
   "metadata": {},
   "source": [
    "## Qui utilise Python ?\n",
    "\n",
    "https://learn.onemonth.com/fr/10-sites-web-celebres-construits-avec-python/\n"
   ]
  },
  {
   "cell_type": "markdown",
   "metadata": {},
   "source": [
    "## INSTALLATION Python, IPython, Jupyter\n",
    "\n",
    "### Protocole d'installation de Jupyter sur Windows 10\n",
    "\n",
    "#### 1. Installation de Python\n",
    "Jupyter nécessite Python. Si Python n'est pas installé sur ton ordinateur, commence par l'installer :\n",
    "\n",
    "\n",
    "**Télécharger Python :**\n",
    "\n",
    "Rends-toi sur le site officiel de Python.  \n",
    "Télécharge la dernière version de Python pour Windows https://www.python.org/downloads/release/python-3137/.(les fichiers sont tout en bas !)\n",
    "\n",
    "**Installer Python :**\n",
    "\n",
    "Ouvre le fichier d'installation téléchargé.  \n",
    "Coche la case \"Add Python to PATH\" avant de cliquer sur \"Install Now\".  \n",
    "Suis les instructions à l'écran pour terminer l'installation.  \n",
    "\n",
    "**Vérifier l'installation :**\n",
    "\n",
    "Ouvre l'invite de commandes (`cmd`).    \n",
    "Tape  \n",
    "```cmd\n",
    "python3 --version \n",
    "```\n",
    "Pour vérifier que `Python` est bien installé.\n",
    "\n",
    "#### 2. Installation de Jupyter\n",
    "\n",
    "**Cas 1 : Si `pip` est déjà installé**\n",
    "\n",
    "Ouvrir de nouveau l'invite de commandes (cmd) pour installer Jupyter :\n",
    "\n",
    "- Tape la commande suivante :\n",
    "```cmd\n",
    "pip install jupyterlab\n",
    "```\n",
    "\n",
    "- Attends que l'installation se termine.  \n",
    "- Lancer JupyterLab :  \n",
    "\n",
    "Tape la commande suivante pour démarrer JupyterLab :  \n",
    "```cmd\n",
    "jupyter-lab\n",
    "```\n",
    "\n",
    "Un navigateur web s'ouvrira automatiquement avec `JupyterLab`.\n",
    "\n",
    "**Cas 2 : Si pip n'est pas installé**\n",
    "\n",
    "Vérifier si `pip` est installé :\n",
    "\n",
    "Dans l'invite de commandes (cmd), tape :\n",
    "```cmd\n",
    "pip --version\n",
    "```\n",
    "\n",
    "Si tu vois un message d'erreur, pip n'est pas installé.\n",
    "\n",
    "**Installer pip :**\n",
    "\n",
    "Télécharge le script `get-pip.py`. https://bootstrap.pypa.io/get-pip.py   \n",
    "Navigue jusqu'au dossier où se trouve `get-pip.py` (par exemple, dans `Téléchargements`).\n",
    "Exécute le script avec Python :\n",
    "```cmd\n",
    "python get-pip.py\n",
    "```\n",
    "\n",
    "**Vérifier l'installation de pip :**\n",
    "\n",
    "Tape \n",
    "```cmd\n",
    "pip --version \n",
    "```\n",
    "Pour confirmer que pip est maintenant installé.\n",
    "\n",
    "**Installer Jupyter :**\n",
    "\n",
    "Une fois `pip` installé, suis les étapes du **Cas 1** pour installer `JupyterLab`.\n",
    "\n",
    "\n",
    "#### 3. Utilisation de JupyterLab\n",
    "\n",
    "Une fois JupyterLab lancé, tu peux créer un nouveau notebook en cliquant sur \"Python 3\" sous l'onglet \"Notebook\".\n",
    "Pour arrêter JupyterLab, retourne dans l'invite de commandes et appuie sur Ctrl + C.\n",
    "\n",
    "\n",
    "4. Mise à jour (optionnel)\n",
    "Pour mettre à jour JupyterLab plus tard, utilise la commande suivante :\n",
    "pip install --upgrade jupyterlab\n",
    "\n",
    "Résumé des commandes utiles\n",
    "pip install jupyterlabInstalle JupyterLab.jupyter-labLance JupyterLab dans ton navigateur.pip install --upgrade jupyterlabMet à jour JupyterLab.\n",
    "\n",
    "### ANACONDA, PYCHARM, VsCode ...\n",
    "\n",
    "#### Téléchargement\n",
    "https://www.anaconda.com/products/individual\n",
    "\n",
    "Orienté sciences (Data Scientist)\n",
    "\n",
    "Une fois installée `Anaconda`, vous aurez accès à `Jupyter` notre logiciel de travail durant tout ce cours \n",
    "\n",
    "\n",
    "### ÉXECUTION\n",
    "\n",
    "-   Interactive\n",
    "-   python shell Ipython\n",
    "-   Jupyter Notebook\n",
    "-   Batch:\n",
    "-   script executables\n",
    "\n",
    "## PRÉSENTATION *STRUCTURE*\n",
    "\n",
    "-   script \n",
    "-   fonction \n",
    "-   module \n",
    "-   package \n",
    "\n",
    "\n",
    "### IMPORTS \n",
    "\n",
    "Utilisation de modules (ou de fonctions des modules)(Bibliothèques )"
   ]
  },
  {
   "cell_type": "code",
   "execution_count": null,
   "metadata": {},
   "outputs": [],
   "source": [
    "import sys\n",
    "import numpy as np \n",
    "from os import rename"
   ]
  },
  {
   "cell_type": "markdown",
   "metadata": {},
   "source": [
    "-    Un module entier\n",
    "-    Un module entier avec un nom personnalisé \n",
    "-    Une fonction d'un module\n",
    "\n",
    "# Documentation Python\n",
    "\n",
    "- https://docs.python.org/fr/3.13/tutorial/index.html\n",
    "- https://docs.python.org/fr/3.13/library/\n",
    "\n",
    "\n",
    "\n",
    "## BASES DU LANGAGE "
   ]
  },
  {
   "cell_type": "markdown",
   "metadata": {},
   "source": [
    "### PEP8 (Ou les bonnes pratiques de codage en Python...)\n",
    "Site de référence\n",
    "https://www.python.org/dev/peps/pep-0008/\n",
    "\n",
    "#### Ce qu'il faut retenir (à lire et à relire et à re relire et à ...)\n",
    "\n",
    "- Utilisez un retrait de 4 espaces et aucune tabulation.\n",
    "- Enveloppez les lignes de manière à ce qu'elles ne dépassent pas 79 caractères.\n",
    "- Utilisez des lignes vides pour séparer les fonctions et les classes, et des blocs de code plus volumineux à l'intérieur des fonctions.\n",
    "- Dans la mesure du possible, mettez les commentaires sur une ligne qui leur est propre.\n",
    "- Utilisez des docstrings.(Commentaires)\n",
    "- Utilisez des espaces autour des opérateurs et après les virgules, mais pas directement à l'intérieur des constructions entre crochets : a = f(1, 2) + g(3, 4).\n",
    "- Nommez vos classes et fonctions de manière cohérente ;\n",
    "- la convention est d'utiliser CamelCase pour les classes et lower_case_with_underscores pour les fonctions\n",
    "- N'utilisez pas d'encodages fantaisistes si votre code est destiné à être utilisé dans des environnements internationaux.\n",
    "- L'ASCII simple fonctionne mieux dans tous les cas.\n",
    "- Comment your code in English ! \n",
    "\n",
    "Et je complète par : \n",
    "-    https://python.iutsf.org/wp-content/uploads/2015/07/PEP8_PEP257_KAIDKASBAH__BESSON.pdf\n",
    "-    un vérificateur de PEP8 en ligne http://pep8online.com/"
   ]
  },
  {
   "cell_type": "markdown",
   "metadata": {
    "slideshow": {
     "slide_type": "slide"
    }
   },
   "source": [
    "![](fig/logoPython.png)\n",
    "\n",
    "# Historique\n",
    "\n",
    "La genèse du langage date de la fin des années 80. [Guido van Rossum](https://fr.wikipedia.org/wiki/Guido_van_Rossum), alors à l'Institut de Recherche en Mathématiques et Informatique hollandais ([CWI](http://www.cwi.nl)) à Amsterdam a publié la version 0.9.0 de l'interpréteur en Février 1991. Il travaille maintenant pour dropbox après 7 ans chez google.\n",
    "\n",
    "Plus d'histoire sur [wikipedia](https://en.wikipedia.org/wiki/History_of_Python).\n",
    "\n",
    "L'histoire racontée par le créateur lui-même sur [son blog](http://python-history.blogspot.fr) sous forme d'anecdotes."
   ]
  },
  {
   "cell_type": "markdown",
   "metadata": {
    "slideshow": {
     "slide_type": "slide"
    }
   },
   "source": [
    "# Qu'est-ce qu'un langage interprété ?\n",
    "\n",
    "- Ordinateur => CPU => jeu d'instructions (ISA) => langage binaire\n",
    "- Un langage de programmation permet d'écrire des programmes dans des langages mieux adaptés aux humains, mais nécessite une étape de traduction.\n",
    "- Comme pour une langue étrangère, il nous faut un traducteur ou un interprète...\n",
    "    - Le traducteur va lire le texte et en produire une version dans la langue étrangère.\n",
    "    - L'interprète va lire le texte, et pendant sa lecture, effectuer la traduction en direct.\n",
    "- Pour un langage informatique, c'est quasiment pareil, nous avons des [compilateurs](https://fr.wikipedia.org/wiki/Compilateur) et des [interpréteurs](https://fr.wikipedia.org/wiki/Interpr%C3%A8te_(informatique)).\n",
    "    - Les compilateurs, traduisent tout le code source en langage binaire utilisable directement par le CPU.\n",
    "    - L'interpréteur lit une partie du code source et exécute directement les instructions binaires qui correspondent et passe à la suite."
   ]
  },
  {
   "cell_type": "markdown",
   "metadata": {
    "slideshow": {
     "slide_type": "subslide"
    }
   },
   "source": [
    "Un langage interprété sera souvent moins rapide qu'un langage compilé, car les optimisations sont plus faciles a réaliser lors d'une compilation.\n",
    "\n",
    "Cette différence a tendance a s'estomper avec l'apparition des techniques suivantes:\n",
    "\n",
    "- [JIT](https://fr.wikipedia.org/wiki/Compilation_%C3%A0_la_vol%C3%A9e): compilation à la volée (Just In Time compilation)\n",
    "- [RTTS](https://en.wikipedia.org/wiki/Run-time_algorithm_specialisation): spécialisation de types au moment de l'exécution (Run Time Type Specialization)\n",
    "\n",
    "Une autre possibilité pour contourner la lenteur d'exécution d'un langage est de faire appel a des librairies externes programmées dans un langage compilé et optimisées. Cela est très efficace pour les parties du code qui sont utilisées de manière répétitive."
   ]
  },
  {
   "cell_type": "markdown",
   "metadata": {
    "slideshow": {
     "slide_type": "subslide"
    }
   },
   "source": [
    "# Quelques interpréteurs Python\n",
    "\n",
    "- [CPython](https://www.python.org) => Implémentation de référence\n",
    "- [Jython](http://www.jython.org) => Java byte code, accès aux classes java\n",
    "- [IronPython](http://ironpython.net) => CLR byte code, accès aux classes [.NET](https://en.wikipedia.org/wiki/.NET_Framework)\n",
    "- [Pyjamas](http://pyjs.org) => JavaScript, Ajax, [GWT](http://www.gwtproject.org)\n",
    "- [Stackless Python](http://www.stackless.com) => pas de pile, microthreads, coroutines\n",
    "- [Shed Skin](http://shedskin.github.io) => C++, typage statique\n",
    "- [Cython](http://cython.org) => C, créer des modules python\n",
    "- [Pyrex](http://www.cosc.canterbury.ac.nz/~greg/python/Pyrex) => langage proche de python, C\n",
    "- [Unladen Swallow](https://code.google.com/p/unladen-swallow) => origine google, JIT, [LLVM](http://llvm.org)\n",
    "- [Pypy](http://pypy.org) => JIT, RTTS, RPython -> C, Java byte code, CLR byte code\n",
    "- [Psyco](http://psyco.sourceforge.net) => JIT, RTTS, x86, n'est plus maintenu\n",
    "- [Nuitka](http://nuitka.net/pages/overview.html) => C, fortement compatible\n",
    "- [Pyston](https://blog.pyston.org/about) => JIT, origine dropbox, n'est plus maintenu"
   ]
  },
  {
   "cell_type": "markdown",
   "metadata": {
    "slideshow": {
     "slide_type": "slide"
    }
   },
   "source": [
    "# Exécution d'un programme Python\n",
    "\n",
    "## Dans la console Python interactive\n",
    "\n",
    "On peut exécuter le code directement à l'invite de l'interpréteur.\n",
    "   \n",
    "    $ python3\n",
    "    Python 3.5.2+ (default, Sep 22 2016, 12:18:14)\n",
    "    [GCC 6.2.0 20160927] on linux\n",
    "    Type \"help\", \"copyright\", \"credits\" or \"license\" for more information.\n",
    "    >>> a = 2\n",
    "    >>> print(a)\n",
    "    2\n",
    "    >>> \n",
    "\n",
    "### Note\n",
    "\n",
    "Le caractère '$ ' est l'invite de commande typique d'un système d'exploitation linux, si vous utilisez une version de windows, l'invite de commande de cmd.exe sera plutot 'C:\\\\> '."
   ]
  },
  {
   "cell_type": "markdown",
   "metadata": {
    "slideshow": {
     "slide_type": "subslide"
    }
   },
   "source": [
    "## Depuis la console système\n",
    "\n",
    "On peut l'exécuter en paramètre de la ligne de commande\n",
    "\n",
    "    $ python -c 'a=3;print(a)'\n",
    "\n",
    "Sous windows:\n",
    "\n",
    "    C:\\> python.exe -c 'a=3;print(a)'\n",
    "\n",
    "On peut exécuter un fichier (par exemple test.py) contenant notre code\n",
    "\n",
    "    $ python test.py"
   ]
  },
  {
   "cell_type": "markdown",
   "metadata": {
    "slideshow": {
     "slide_type": "subslide"
    }
   },
   "source": [
    "On peut exécuter directement un fichier python contenant notre code, grâce à l'utilisation du mode script avec, en rajoutant en première ligne du fichier:\n",
    "\n",
    "    #! python\n",
    "\n",
    "Après avoir rendu le fichier exécutable\n",
    "\n",
    "    $ chmod a+x test.py\n",
    "\n",
    "Ensuite il peut être exécuté sans donner l'interpréteur:\n",
    "\n",
    "    $ ./test.py"
   ]
  },
  {
   "cell_type": "markdown",
   "metadata": {
    "slideshow": {
     "slide_type": "subslide"
    }
   },
   "source": [
    "## Dans la console iPython\n",
    "\n",
    "Le terminal interactif [iPython](http://ipython.org) peut s'utiliser comme alternative à la console Python classique pour ses fonctionnalités :\n",
    "\n",
    "- syntaxe additionnelle\n",
    "- complétion\n",
    "- commandes système\n",
    "- historique enrichi\n",
    "\n",
    "Aperçu du terminal ipython :\n",
    "\n",
    "    $ ipython\n",
    "    Python 3.5.2+ (default, Sep 22 2016, 12:18:14) \n",
    "    Type \"copyright\", \"credits\" or \"license\" for more information.\n",
    "\n",
    "    IPython 2.4.1 -- An enhanced Interactive Python.\n",
    "    ?         -> Introduction and overview of IPython's features.\n",
    "    %quickref -> Quick reference.\n",
    "    help      -> Python's own help system.\n",
    "    object?   -> Details about 'object', use 'object??' for extra details.\n",
    "\n",
    "    In [1]: "
   ]
  },
  {
   "cell_type": "markdown",
   "metadata": {
    "slideshow": {
     "slide_type": "subslide"
    }
   },
   "source": [
    "### Un exemple d'utilisation\n",
    "\n",
    "Sauvegarde de l'historique des commandes avec la *magic function* ``%save``\n",
    "\n",
    "    $ ipython\n",
    "    Python 3.5.2+ (default, Sep 22 2016, 12:18:14) \n",
    "    Type \"copyright\", \"credits\" or \"license\" for more information.\n",
    "\n",
    "    IPython 2.4.1 -- An enhanced Interactive Python.\n",
    "    ?         -> Introduction and overview of IPython's features.\n",
    "    %quickref -> Quick reference.\n",
    "    help      -> Python's own help system.\n",
    "    object?   -> Details about 'object', use 'object??' for extra details.\n",
    "\n",
    "    In [1]: print('- Hello world!')\n",
    "    - Hello world!\n",
    "\n",
    "    In [2]: R = 'Hello you! '\n",
    "\n",
    "    In [3]: print(R*6)\n",
    "    Hello you! Hello you! Hello you! Hello you! Hello you! Hello you! \n",
    "\n",
    "    In [4]: %save hello.py 1-3\n",
    "    The following commands were written to file `hello.py`:\n",
    "    print('- Hello world!')\n",
    "    R = 'Hello you! '\n",
    "    print(R*6)\n",
    "\n",
    "    In [5]: quit\n",
    "\n"
   ]
  },
  {
   "cell_type": "markdown",
   "metadata": {
    "slideshow": {
     "slide_type": "subslide"
    }
   },
   "source": [
    "## Au sein d'un notebook iPython\n",
    "\n",
    "Les cellules de type *code* vous donnent accès à une console qui inclut la plupart des fonctionnalités de la console iPython.\n",
    "\n",
    "> **Exercice :**\n",
    ">\n",
    "> 1. Exécuter la cellule de code ci-dessous et observez le résultat\n",
    "> 2. Exécuter cette cellule une deuxième fois les deux cellules suivantes, observez la différence."
   ]
  },
  {
   "cell_type": "code",
   "execution_count": null,
   "metadata": {},
   "outputs": [],
   "source": [
    "print('- Hello world!')\n",
    "R = '- Hello you!\\n'\n",
    "print(R*6)"
   ]
  },
  {
   "cell_type": "code",
   "execution_count": null,
   "metadata": {},
   "outputs": [],
   "source": [
    "%history"
   ]
  },
  {
   "cell_type": "markdown",
   "metadata": {
    "slideshow": {
     "slide_type": "subslide"
    }
   },
   "source": [
    "## Intérêt pour les sciences\n",
    "\n",
    "Pour un usage scientifique, Python est intéressant à plusieurs titres. En effet, il est capable de réaliser de manière automatique et efficace un certain nombre de tâches qui sont le quotidien des scientifiques :\n",
    "- Manipuler et traiter des données de simulations ou d'expériences\n",
    "- Visualiser des résultats\n",
    "- Communiquer ses résultats sous la forme de données numériques formatées, de figures ou d'animations\n",
    "\n",
    "Dans le domaine du **calcul scientifique**, Python est particulièrement riche en fonctionnalités grâce à la contribution importante de la communauté des mathématiques et du calcul à travers le projet [SciPy](http://www.scipy.org/)."
   ]
  },
  {
   "cell_type": "markdown",
   "metadata": {
    "slideshow": {
     "slide_type": "subslide"
    }
   },
   "source": [
    "## Le Python scientifique\n",
    "\n",
    "#### 1. Développement de code de simulation\n",
    "\n",
    "Bien que généralement moins performant que les langages compilés (C, C++ ou Fortran), Python est particulièrement intéressant et agréable à programmer dans les phases de développement pour tester rapidement de nouvelles méthodes. Une fois le prototypage terminé, il est posible de porter les parties critiques du code vers un langage compilé plus rapide, tout en gardant le reste en python."
   ]
  },
  {
   "cell_type": "markdown",
   "metadata": {
    "slideshow": {
     "slide_type": "fragment"
    }
   },
   "source": [
    "#### 2. Traitement de données\n",
    "\n",
    "- langage de haut niveau produisant du code agréable à lire (par opposition à excel, par exemple...)\n",
    "- nombreux modules spécialisés (algèbre, statistique, traitement d'images, etc.)\n",
    "- le concept assez novateur des **notebooks iPython** qui combinent de l'exécution de code, du texte formaté, des formules mathématiques (via LaTeX), des tracés et du contenu média"
   ]
  },
  {
   "cell_type": "markdown",
   "metadata": {
    "slideshow": {
     "slide_type": "fragment"
    }
   },
   "source": [
    "#### 3. Tracés graphiques (avec Matplotlib) :\n",
    "- tracés 1D, 2D voire 3D\n",
    "- animations"
   ]
  },
  {
   "cell_type": "markdown",
   "metadata": {
    "slideshow": {
     "slide_type": "subslide"
    }
   },
   "source": [
    "- On dispose ainsi d'un outil très complet et performant qui représente une alternative sérieuse aux outils commerciaux tels que Matlab, Maple, Mathematica, etc."
   ]
  },
  {
   "cell_type": "markdown",
   "metadata": {
    "slideshow": {
     "slide_type": "fragment"
    }
   },
   "source": [
    "### Les principaux paquets dédiés au Python scientifique :\n",
    "\n",
    "- [NumPy](http://www.numpy.org) : calcul numérique, opérations mathématiques sur tableaux et matrices de grandes dimensions\n",
    "- [SciPy](https://www.scipy.org) : ensemble d'outils scientifiques pour le traitement de signal, d'images, algèbre lineaire, etc...\n",
    "- [Sympy](http://sympy.org) and [SAGE](http://www.sagemath.org) : librairies et outils mathématiques pour le calcul symbolique\n",
    "- [Matplotlib](http://matplotlib.org) : tracer et visualiser des données sous forme graphique, à la matlab ou mathematica\n",
    "- [Pandas](http://pandas.pydata.org) : analyser vos données\n",
    "- [BioPython](http://biopython.org) : problèmes de biologie : génomique, modélisation moléculaire, etc...\n",
    "- [AstroPy](http://www.astropy.org) : librairie communautaire dédiée à l'astronomie"
   ]
  },
  {
   "cell_type": "markdown",
   "metadata": {},
   "source": [
    "STRUCTURES DE DONNÉES \n",
    "----------------------\n",
    "\n",
    "-   variables\n",
    "-   Conteneurs\n",
    "\n",
    "    -   liste\n",
    "    -   tuple\n",
    "    -   set\n",
    "    -   dictionnaire (tableau associatif)\n",
    "\n",
    "### VARIABLES "
   ]
  },
  {
   "cell_type": "code",
   "execution_count": null,
   "metadata": {},
   "outputs": [],
   "source": [
    "a = 2\n",
    "b = 'test'\n",
    "c = 3.14"
   ]
  },
  {
   "cell_type": "code",
   "execution_count": null,
   "metadata": {},
   "outputs": [],
   "source": [
    "a, b,c"
   ]
  },
  {
   "cell_type": "markdown",
   "metadata": {},
   "source": [
    "\n",
    "### LISTES "
   ]
  },
  {
   "cell_type": "code",
   "execution_count": null,
   "metadata": {},
   "outputs": [],
   "source": [
    "l = ['a', 2, 1, 2]\n",
    "l[0]"
   ]
  },
  {
   "cell_type": "markdown",
   "metadata": {},
   "source": [
    "-   types quelconques (mélanges de types possibles)\n",
    "-   conversation de l'ordre\n",
    "-   indexable\n",
    "-   mutable\n",
    "-   les chaines de caractères sont des listes\n",
    "\n",
    "### TUPLE "
   ]
  },
  {
   "cell_type": "code",
   "execution_count": null,
   "metadata": {},
   "outputs": [],
   "source": [
    "t = ('a', 2, 1, 2)\n",
    "t[0]"
   ]
  },
  {
   "cell_type": "markdown",
   "metadata": {},
   "source": [
    "-   types quelconques (mélanges possibles)\n",
    "-   conversation de l'ordre\n",
    "-   indexable\n",
    "-   immutable\n",
    "\n",
    "### SET "
   ]
  },
  {
   "cell_type": "code",
   "execution_count": null,
   "metadata": {},
   "outputs": [],
   "source": [
    "s = {'a', 2, 1, 2}\n",
    "s"
   ]
  },
  {
   "cell_type": "markdown",
   "metadata": {},
   "source": [
    "-   types quelconques (mélanges possibles)\n",
    "-   elements uniques et triés\n",
    "-   immutable"
   ]
  },
  {
   "cell_type": "markdown",
   "metadata": {},
   "source": [
    "### DICTIONNAIRES "
   ]
  },
  {
   "cell_type": "code",
   "execution_count": null,
   "metadata": {},
   "outputs": [],
   "source": [
    "d = {'a':1, 2:3.14}\n",
    "d['a']"
   ]
  },
  {
   "cell_type": "markdown",
   "metadata": {},
   "source": [
    "-   types quelconques (mélanges possibles)\n",
    "-   Ensemble de paires clé:valeur\n",
    "-   trié par clés\n",
    "-   mutable"
   ]
  },
  {
   "cell_type": "markdown",
   "metadata": {},
   "source": [
    "## STRUCTURES DE CONTRÔLE \n",
    "\n",
    "-   if / else\n",
    "-   while\n",
    "-   for\n",
    "-   iterate"
   ]
  },
  {
   "cell_type": "markdown",
   "metadata": {},
   "source": [
    "### TESTS \n",
    "\n",
    "if... elif... else..."
   ]
  },
  {
   "cell_type": "code",
   "execution_count": null,
   "metadata": {},
   "outputs": [],
   "source": [
    "if a > 1:\n",
    " print('ok')\n",
    "elif a < -1:\n",
    "    print('ko')\n",
    "else:\n",
    "    pass"
   ]
  },
  {
   "cell_type": "markdown",
   "metadata": {},
   "source": [
    "### BOUCLES \n",
    "\n",
    "#### while "
   ]
  },
  {
   "cell_type": "code",
   "execution_count": null,
   "metadata": {},
   "outputs": [],
   "source": [
    "a=0\n",
    "while a <= 4:\n",
    "    print(a)\n",
    "    a+=2"
   ]
  },
  {
   "cell_type": "markdown",
   "metadata": {},
   "source": [
    "#### for "
   ]
  },
  {
   "cell_type": "code",
   "execution_count": null,
   "metadata": {},
   "outputs": [],
   "source": [
    "for i in [7,3,8]:\n",
    "    print(i)"
   ]
  },
  {
   "cell_type": "code",
   "execution_count": null,
   "metadata": {},
   "outputs": [],
   "source": [
    "for j in range(3):\n",
    "    print(j)"
   ]
  },
  {
   "cell_type": "markdown",
   "metadata": {
    "jupyter": {
     "source_hidden": true
    }
   },
   "source": [
    "#### enumerate(...) "
   ]
  },
  {
   "cell_type": "code",
   "execution_count": null,
   "metadata": {},
   "outputs": [],
   "source": [
    "for idx, lettre in enumerate('chaine'):\n",
    " print(idx, lettre)"
   ]
  },
  {
   "cell_type": "markdown",
   "metadata": {},
   "source": [
    "### PYTHONISMES \n",
    "\n",
    "#### is "
   ]
  },
  {
   "cell_type": "code",
   "execution_count": null,
   "metadata": {},
   "outputs": [],
   "source": [
    "if a is b:  \n",
    "    print(\"a et b sont le même objet.\")"
   ]
  },
  {
   "cell_type": "markdown",
   "metadata": {},
   "source": [
    "#### Range: "
   ]
  },
  {
   "cell_type": "code",
   "execution_count": null,
   "metadata": {},
   "outputs": [],
   "source": [
    "for a in range(0,10,3):\n",
    "    print(a)"
   ]
  },
  {
   "cell_type": "markdown",
   "metadata": {},
   "source": [
    "#### Permutation:"
   ]
  },
  {
   "cell_type": "code",
   "execution_count": null,
   "metadata": {},
   "outputs": [],
   "source": [
    "x,y=1,9\n",
    "print('x=',x)\n",
    "print('y=',y)\n",
    "x,y=y,x\n",
    "print(\"Après l'instruction x,y=y,x : \")\n",
    "print('x=',x)\n",
    "print('y=',y)"
   ]
  },
  {
   "cell_type": "markdown",
   "metadata": {},
   "source": [
    "### COMPRÉHENSIONS \n",
    "\n",
    "#### Liste en compréhensions : "
   ]
  },
  {
   "cell_type": "code",
   "execution_count": null,
   "metadata": {},
   "outputs": [],
   "source": [
    "squares = [nb**2 for nb in range(0,10)]"
   ]
  },
  {
   "cell_type": "markdown",
   "metadata": {},
   "source": [
    "#### Dictionnaire en compréhensions : "
   ]
  },
  {
   "cell_type": "code",
   "execution_count": null,
   "metadata": {},
   "outputs": [],
   "source": [
    "odd_squares = {nb:nb**2 for nb in range(0,10) if nb**2%2}"
   ]
  },
  {
   "cell_type": "markdown",
   "metadata": {},
   "source": [
    "### EXCEPTIONS \n",
    "\n",
    "*It's easier to ask forgiveness than it is to get permission.*\n",
    "\n",
    "-   raise\n",
    "-   try / except\n",
    "\n",
    "#### RAISE "
   ]
  },
  {
   "cell_type": "code",
   "execution_count": null,
   "metadata": {},
   "outputs": [],
   "source": [
    "denominateur = 0\n",
    "if denominateur == 0:\n",
    "    raise ValueError, \"Le dénominateur ne peut être nul.\""
   ]
  },
  {
   "cell_type": "markdown",
   "metadata": {},
   "source": [
    "#### TRY... EXCEPT... "
   ]
  },
  {
   "cell_type": "code",
   "execution_count": null,
   "metadata": {},
   "outputs": [],
   "source": [
    "numerateur = 3.14\n",
    "denominateur = 0.0\n",
    "try:\n",
    "    resultat = numerateur / denominateur\n",
    "except ZeroDivisionError:\n",
    "    print(\"Le dénominateur est nul.\")\n",
    "else:\n",
    "    print(\"La division vaut\", resultat)\n",
    "finally:\n",
    "    print(\"Calcul terminé.\")"
   ]
  },
  {
   "cell_type": "markdown",
   "metadata": {},
   "source": [
    "### ENTRÉES / SORTIES \n",
    "\n",
    "-   input\n",
    "-   print\n",
    "-   format\n",
    "-   fichiers\n",
    "\n",
    "#### PRINT \n",
    "\n",
    "Affiche la chaine de caractère passée en argument"
   ]
  },
  {
   "cell_type": "code",
   "execution_count": null,
   "metadata": {},
   "outputs": [],
   "source": [
    "print(\"Bonjour!\")"
   ]
  },
  {
   "cell_type": "markdown",
   "metadata": {},
   "source": [
    "en Python 2: `print` n'est pas une fonction"
   ]
  },
  {
   "cell_type": "markdown",
   "metadata": {},
   "source": [
    "#### INPUT \n",
    "\n",
    "-   Permet de poser une question\n",
    "-   Renvoie une chaine de caractères\n",
    "-   Conversion nécessaire ensuite pour les autres types"
   ]
  },
  {
   "cell_type": "code",
   "execution_count": null,
   "metadata": {},
   "outputs": [],
   "source": [
    "nom=input(\"Quel est votre nom?\")\n",
    "print(nom)"
   ]
  },
  {
   "cell_type": "markdown",
   "metadata": {},
   "source": [
    "#### FORMAT \n",
    "\n",
    "Mise en forme d'une chaine de caractères"
   ]
  },
  {
   "cell_type": "code",
   "execution_count": null,
   "metadata": {},
   "outputs": [],
   "source": [
    "print('Bonjour {} !'.format(nom))\n",
    "print('Bonjour {} {} !'.format('Sir',nom))\n",
    "print('Bonjour {ti} {name} ou {name} !'.format(ti=\"Sir\",name=nom))"
   ]
  },
  {
   "cell_type": "markdown",
   "metadata": {},
   "source": [
    "### FICHIERS TEXTE \n",
    "\n",
    "#### Lecture "
   ]
  },
  {
   "cell_type": "code",
   "execution_count": null,
   "metadata": {},
   "outputs": [],
   "source": [
    "with open('monfichier.txt','r') as myfile:\n",
    "    for line in myfile:\n",
    "print(line)"
   ]
  },
  {
   "cell_type": "code",
   "execution_count": null,
   "metadata": {},
   "outputs": [],
   "source": [
    "with open('monfichier.txt','r') as myfile:\n",
    "    contenu = myfile.readlines()"
   ]
  },
  {
   "cell_type": "markdown",
   "metadata": {},
   "source": [
    "#### Écriture"
   ]
  },
  {
   "cell_type": "code",
   "execution_count": null,
   "metadata": {},
   "outputs": [],
   "source": [
    "with open('monfichier.txt','w') as myfile:\n",
    "    myfile.write('mon texte à sauvegarder.n')"
   ]
  },
  {
   "cell_type": "markdown",
   "metadata": {},
   "source": [
    "#### FONCTIONS \n",
    "\n",
    "-   Définition et Arguments\n",
    "-   Valeur de retour\n",
    "-   Documentation\n",
    "-   Décorateurs\n",
    "-   Lambdas\n",
    "\n",
    "#### Définition et Arguments "
   ]
  },
  {
   "cell_type": "code",
   "execution_count": null,
   "metadata": {},
   "outputs": [],
   "source": [
    "def calcul_milieu(pt_a, pt_b, precision='int', affiche_pts=False):\n",
    "    # votre code ici"
   ]
  },
  {
   "cell_type": "code",
   "execution_count": null,
   "metadata": {},
   "outputs": [],
   "source": [
    "calcul_milieu((3.5, 2.9), (-1.04, -8.32))"
   ]
  },
  {
   "cell_type": "code",
   "execution_count": null,
   "metadata": {},
   "outputs": [],
   "source": [
    "calcul_milieu((3.5, 2.9), (-1.04, -8.32), affiche_pts=True)"
   ]
  },
  {
   "cell_type": "code",
   "execution_count": null,
   "metadata": {},
   "outputs": [],
   "source": [
    "calcul_milieu((3.5, 2.9), (-1.04, -8.32), 'float')"
   ]
  },
  {
   "cell_type": "markdown",
   "metadata": {},
   "source": [
    "### VALEURS DE RETOUR \n",
    "\n",
    "#### Retourner une valeur:"
   ]
  },
  {
   "cell_type": "code",
   "execution_count": null,
   "metadata": {},
   "outputs": [],
   "source": [
    "def dis_non():\n",
    "    return \"non\"\n",
    "\n",
    "dis_non()"
   ]
  },
  {
   "cell_type": "markdown",
   "metadata": {},
   "source": [
    "#### Retourner un ensemble de valeurs: "
   ]
  },
  {
   "cell_type": "code",
   "execution_count": null,
   "metadata": {},
   "outputs": [],
   "source": [
    "def calcul_milieu(point_a, point_b):\n",
    "    return ((point_a[0]-point_b[0])/2. ,(point_a[1]-point_b[1])/2.)\n",
    "\n",
    "calcul_milieu((0.,1.),(1.,0.))"
   ]
  },
  {
   "cell_type": "markdown",
   "metadata": {},
   "source": [
    "### DOCUMENTATION ( DocString)"
   ]
  },
  {
   "cell_type": "code",
   "execution_count": null,
   "metadata": {},
   "outputs": [],
   "source": [
    "def calcul_milieu(point_a, point_b):\n",
    "\"\"\"\n",
    "Compute the middle of the (a,b) segment.\n",
    ":param point_a: tuple or list (xa, ya)\n",
    ":param point_b: tuple or list (xb, yb)\n",
    ":return: tuple (xm, ym)\n",
    "\"\"\"\n",
    "return (point_a[0]-point_b[0])/2. ,(point_a[1]-point_b[1])/2.\n",
    "\n",
    "calcul_milieu?"
   ]
  },
  {
   "cell_type": "markdown",
   "metadata": {},
   "source": [
    "### DÉCORATEURS "
   ]
  },
  {
   "cell_type": "markdown",
   "metadata": {},
   "source": [
    "```python\n",
    "@decorator\n",
    "function(arg)\n",
    "```\n",
    "\n",
    "```python\n",
    "decorator(function(arg))\n",
    "```"
   ]
  },
  {
   "cell_type": "markdown",
   "metadata": {},
   "source": [
    "-   Permet de faire une composition de fonction simplement\n",
    "-   ou de modifier l'execution d'une fonction"
   ]
  },
  {
   "cell_type": "markdown",
   "metadata": {},
   "source": [
    "### LAMBDA (paradigme fonctionnel)\n",
    "\n",
    "#### fonction anonyme "
   ]
  },
  {
   "cell_type": "code",
   "execution_count": null,
   "metadata": {},
   "outputs": [],
   "source": [
    "square = lambda x:x**2"
   ]
  },
  {
   "cell_type": "markdown",
   "metadata": {},
   "source": [
    "Permet de définir localement une fonction simple (dans un appel de\n",
    "fonction par exemple)"
   ]
  },
  {
   "cell_type": "markdown",
   "metadata": {},
   "source": [
    "### OBJETS ET CLASSES  (paradigme objet)\n",
    "\n",
    "En python, tout est objet"
   ]
  },
  {
   "cell_type": "code",
   "execution_count": null,
   "metadata": {},
   "outputs": [],
   "source": [
    "l = [5, 2, 1, 2]\n",
    "l.sort()\n",
    "print(l)"
   ]
  },
  {
   "cell_type": "code",
   "execution_count": null,
   "metadata": {},
   "outputs": [],
   "source": [
    "l.__class__"
   ]
  },
  {
   "cell_type": "markdown",
   "metadata": {},
   "source": [
    "#### VOCABULAIRE \n",
    "\n",
    "Classe: Objet:\n",
    "\n",
    "Attribut: variable propre à un objet\n",
    "\n",
    "Méthode: fonction propre à une classe\n",
    "\n",
    "#### SYNTAXE "
   ]
  },
  {
   "cell_type": "code",
   "execution_count": null,
   "metadata": {},
   "outputs": [],
   "source": [
    "class point:\n",
    "    def __init__(self, coord_x,coord_y):\n",
    "        self.x = coord_x\n",
    "        self.y = coord_y\n",
    "\n",
    "    def __repr__(self):\n",
    "        return \"X:{} Y:{}\".format(self.x, self.y)"
   ]
  },
  {
   "cell_type": "code",
   "execution_count": null,
   "metadata": {},
   "outputs": [],
   "source": [
    "pt_a=point(3.4,7.8)\n",
    "print(pt_a)"
   ]
  },
  {
   "cell_type": "markdown",
   "metadata": {},
   "source": [
    "# INTERACTIONS GRAPHIQUES\n",
    "\n",
    "#### JUPYTER NOTEBOOK \n",
    "\n",
    "Narrative computations Interactions\n",
    "\n",
    "#### NARRATIVISME \n",
    "\n",
    "Créer un document regroupant narration et calculs en utilisant les\n",
    "capacités du notebook: fusionner un cours et des exercices en un seul\n",
    "document, proposer une documentation exécutable...\n",
    "\n"
   ]
  },
  {
   "cell_type": "markdown",
   "metadata": {
    "slideshow": {
     "slide_type": "slide"
    }
   },
   "source": [
    "# Documentation et sources\n",
    "\n",
    "## La documentation\n",
    "\n",
    "- Officielle :\n",
    "  - [L'index](https://www.python.org/doc/)\n",
    "  - [La FAQ](https://docs.python.org/faq/)\n",
    "  - [La librairie standard](https://docs.python.org/3/library/index.html)\n",
    "  - [Des tutoriels](https://docs.python.org/3/tutorial/index.html)\n",
    "- [Stackoverflow](https://stackoverflow.com/questions/tagged/python) : Forum de questions / réponses"
   ]
  },
  {
   "cell_type": "markdown",
   "metadata": {
    "slideshow": {
     "slide_type": "slide"
    }
   },
   "source": [
    "## Les sources de ce support\n",
    "\n",
    "Quelques ressources qui ont inspiré le contenu de cette formation et qui pourront vous servir pour aller plus loin :\n",
    "\n",
    "- **avec le langage**\n",
    "    \n",
    "    - La formation du groupe Calcul [ANF \"Python avancé en calcul scientifique\"](http://calcul.math.cnrs.fr/spip.php?rubrique102)\n",
    "    - Le livre de Gérard Swinnen : [Apprendre à programmer en Python](https://inforef.be/swi/download/apprendre_python3_5.pdf)\n",
    "    - Le cours de python scientifique de l'institut de science du téléscope spatial: [STSCI's Scientific Python Course 2015](https://github.com/spacetelescope/scientific-python-training-2015) (en anglais)\n",
    "\n",
    "- **avec les notebooks Jupyter**\n",
    "    - Ce qu'on peut écrire en Markdown et en LaTeX dans les notebooks [Jupyter](http://jupyter.org/) et ce qu'on peut faire dans les cellules de code dans cette [série de tutoriels](https://www.youtube.com/playlist?list=PLRJx8WOUx5XcDMOxSQegCJUjTJePTlF9Z)\n",
    "    - Pour mettre vos notebooks en ligne : [nbviewer](http://nbviewer.ipython.org)"
   ]
  },
  {
   "cell_type": "markdown",
   "metadata": {},
   "source": []
  }
 ],
 "metadata": {
  "kernelspec": {
   "display_name": "Python 3 (ipykernel)",
   "language": "python",
   "name": "python3"
  },
  "language_info": {
   "codemirror_mode": {
    "name": "ipython",
    "version": 3
   },
   "file_extension": ".py",
   "mimetype": "text/x-python",
   "name": "python",
   "nbconvert_exporter": "python",
   "pygments_lexer": "ipython3",
   "version": "3.12.7"
  }
 },
 "nbformat": 4,
 "nbformat_minor": 4
}
