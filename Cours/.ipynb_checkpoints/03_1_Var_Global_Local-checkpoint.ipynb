{
 "cells": [
  {
   "cell_type": "markdown",
   "id": "36128dbd-5178-46dc-acce-8aba03e5fd0d",
   "metadata": {},
   "source": [
    "# Variables globale et locale"
   ]
  },
  {
   "cell_type": "markdown",
   "id": "73deb2a7-5e5c-49f8-9df5-014c4c44fe98",
   "metadata": {},
   "source": [
    "<img src=\"fig/Porte_des_variables.png\" alt=\"Portée des variables\" width=\"400\" />"
   ]
  },
  {
   "cell_type": "code",
   "execution_count": null,
   "id": "4589a718-28ac-4818-b53a-d92a6bbcd6c7",
   "metadata": {},
   "outputs": [],
   "source": [
    "x=7\n",
    "print('x=7',id(x))"
   ]
  },
  {
   "cell_type": "code",
   "execution_count": null,
   "id": "fba29846-4e50-45e8-9232-a92c66deedf6",
   "metadata": {},
   "outputs": [],
   "source": [
    "def plus_un(x):\n",
    "    print('x',id(x))\n",
    "    x=x+1\n",
    "    print('x=x+1',id(x))\n",
    "    return x"
   ]
  },
  {
   "cell_type": "code",
   "execution_count": null,
   "id": "2efdc271-72b7-4362-b34c-70b15624fe2b",
   "metadata": {},
   "outputs": [],
   "source": [
    "def double(x):\n",
    "    print('x',id(x))\n",
    "    x=x*2\n",
    "    print('x=x*2',id(x))\n",
    "    return x"
   ]
  },
  {
   "cell_type": "code",
   "execution_count": null,
   "id": "82df7a64-6429-4fcf-90f4-084acd5ca72b",
   "metadata": {},
   "outputs": [],
   "source": [
    "print('x',x)\n",
    "print(plus_un(x))\n",
    "print(double(x))\n",
    "print('x',x)"
   ]
  },
  {
   "cell_type": "markdown",
   "id": "be736100-0fcb-4551-88bb-e7004b1053d6",
   "metadata": {},
   "source": [
    "## Avec PythonTutor"
   ]
  },
  {
   "cell_type": "code",
   "execution_count": 15,
   "id": "860812b2-f692-45bf-a2d3-6d98b61fda7b",
   "metadata": {},
   "outputs": [
    {
     "data": {
      "text/html": [
       "<a href=\"https://pythontutor.com/render.html#code=x%3D7%0Aprint%28'x%3D7',id%28x%29%29%0A%0Adef%20plus_un%28x%29%3A%0A%20%20%20%20print%28id%28x%29%29%0A%20%20%20%20x%3Dx%2B1%0A%20%20%20%20print%28'x%3Dx%2B1',id%28x%29%29%0A%20%20%20%20return%20x%0A%20%20%20%20%0Adef%20double%28x%29%3A%0A%20%20%20%20print%28id%28x%29%29%0A%20%20%20%20x%3Dx*2%0A%20%20%20%20print%28'x%3Dx*2',id%28x%29%29%0A%20%20%20%20return%20x%0A%0Aprint%28x%29%0Aprint%28plus_un%28x%29%29%0Aprint%28double%28x%29%29%0Aprint%28x%29&cumulative=false&curInstr=20&heapPrimitives=nevernest&mode=display&origin=opt-frontend.js&py=311&rawInputLstJSON=%5B%5D&textReferences=false\" target=\"_blank\">Ouvrir la visualisation PythonTutor pour ce code</a>"
      ],
      "text/plain": [
       "<IPython.core.display.HTML object>"
      ]
     },
     "execution_count": 15,
     "metadata": {},
     "output_type": "execute_result"
    }
   ],
   "source": [
    "from IPython.display import HTML\n",
    "\n",
    "url = \"https://pythontutor.com/render.html#code=x%3D7%0Aprint%28'x%3D7',id%28x%29%29%0A%0Adef%20plus_un%28x%29%3A%0A%20%20%20%20print%28id%28x%29%29%0A%20%20%20%20x%3Dx%2B1%0A%20%20%20%20print%28'x%3Dx%2B1',id%28x%29%29%0A%20%20%20%20return%20x%0A%20%20%20%20%0Adef%20double%28x%29%3A%0A%20%20%20%20print%28id%28x%29%29%0A%20%20%20%20x%3Dx*2%0A%20%20%20%20print%28'x%3Dx*2',id%28x%29%29%0A%20%20%20%20return%20x%0A%0Aprint%28x%29%0Aprint%28plus_un%28x%29%29%0Aprint%28double%28x%29%29%0Aprint%28x%29&cumulative=false&curInstr=20&heapPrimitives=nevernest&mode=display&origin=opt-frontend.js&py=311&rawInputLstJSON=%5B%5D&textReferences=false\"\n",
    "\n",
    "HTML(f'<a href=\"{url}\" target=\"_blank\">Ouvrir la visualisation PythonTutor pour ce code</a>')\n"
   ]
  },
  {
   "cell_type": "code",
   "execution_count": null,
   "id": "8d2298d1-cdbd-4761-9084-678fcc7e5681",
   "metadata": {},
   "outputs": [],
   "source": []
  }
 ],
 "metadata": {
  "kernelspec": {
   "display_name": "Python 3 (ipykernel)",
   "language": "python",
   "name": "python3"
  },
  "language_info": {
   "codemirror_mode": {
    "name": "ipython",
    "version": 3
   },
   "file_extension": ".py",
   "mimetype": "text/x-python",
   "name": "python",
   "nbconvert_exporter": "python",
   "pygments_lexer": "ipython3",
   "version": "3.12.2"
  }
 },
 "nbformat": 4,
 "nbformat_minor": 5
}
