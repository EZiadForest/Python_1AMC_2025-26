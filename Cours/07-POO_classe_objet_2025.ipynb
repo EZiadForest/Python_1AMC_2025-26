{
 "cells": [
  {
   "cell_type": "markdown",
   "id": "7307a963",
   "metadata": {},
   "source": [
    "![](fig/logoENSI.png)\n",
    "![](fig/logoPython.png)\n",
    "\n",
    "\n",
    "# Introduction à la Programmation \n",
    "# Langage Python \n",
    "***\n",
    "**ENSICAEN  1A MC** \n",
    "Octobre 2025\n",
    "## Eric Ziad-Forest\n",
    "***\n",
    "\n",
    "## Sommaire\n",
    "- Programmation Orienté Objet (POO)\n",
    "- Classe\n",
    "- Objets\n",
    "- Méthodes\n",
    "- Polymorphisme\n",
    "- Hierarchie\n",
    "- ...\n",
    "\n",
    "\n",
    "***\n",
    "\n",
    "**Auteurs :**\n",
    "\n",
    "- Romain Tavenard  Copyright 2022.\n",
    "- Eric Ziad-Forest ([ziad@ensicaen.fr](mailto: ziad@ensicaen.fr))\n",
    " [CC BY-SA 4.0](https://creativecommons.org/licenses/by-sa/4.0)*"
   ]
  },
  {
   "cell_type": "markdown",
   "id": "05f20118",
   "metadata": {},
   "source": [
    "# Les classes en Python\n",
    "\n",
    "d'après le site [colab.research.google.com](https://colab.research.google.com/github/linogaliana/python-datascientist/blob/master/notebooks/course/getting-started/07_rappels_classes.ipynb?pli=1)"
   ]
  },
  {
   "cell_type": "markdown",
   "id": "5ec56f9a",
   "metadata": {},
   "source": [
    "# Qu’est-ce que la programmation orientée objet ?\n",
    "\n",
    "Le langage `Python` se base sur des objets et définit pour eux des actions.\n",
    "Selon le type d’objet, les actions seront différentes.\n",
    "On parle à ce propos de **langage orienté objet** ce qui signifie\n",
    "que la syntaxe du langage `Python` permet de définir de manière conceptuelle\n",
    "des objets et appliquer des traitements cohérents avec leur structure interne.\n",
    "\n",
    "Par exemple,\n",
    "pour manipuler des données textuelles ou numériques, on aura\n",
    "besoin d’appliquer des méthodes différentes. Prenons l’exemple\n",
    "de l’opération `+`. Pour des données numériques, il s’agit\n",
    "de l’addition. Pour des données textuelles, l’addition n’a pas de sens\n",
    "mais on peut envisager d’appliquer cette opération pour faire de la\n",
    "concaténation.\n",
    "\n",
    "Chaque type d’objet se verra donc appliquer des actions\n",
    "adaptées. Cela offre une grande flexibilité au langage `Python` car on\n",
    "peut définir une méthode générique (par exemple l’addition) et l’adapter\n",
    "à différents types d’objets.\n",
    "\n",
    "Le fait que `Python` soit un langage orienté objet a une influence sur la\n",
    "syntaxe. On retrouvera régulière la syntaxe `objet.method` qui est au coeur\n",
    "de `Python`. Par exemple `pd.DataFrame.mean` se traduit par\n",
    "appliquer la méthode `mean` a un objet de type `pd.DataFrame`.\n",
    "\n",
    "\n",
    "\n",
    "# La définition d’un objet\n",
    "\n",
    "Pour définir un objet, il faut lui donner des caractéristiques et des actions, ce qu’il est, ce qu’il peut faire.\n",
    "\n",
    "Avec une liste, on peut ajouter des éléments par exemple avec l’action .append(). On peut créer autant d’objets “liste” qu’on le souhaite.\n",
    "\n",
    "**Une classe regroupe des fonctions et des attributs qui définissent un objet.**\n",
    "Un objet est une instance d’une classe, c’est-à-dire un exemplaire issu de la classe. L’objet avec un comportement et un état, tous deux définis par la classe. On peut créer autant d’objets que l’on désire avec une classe donnée.\n",
    "\n",
    "Ici nous allons essayer de créer une classe chat, avec des attributs pour caractériser le chat et des actions, pour voir ce qu’il peut faire avec un objet de la classe chat.\n",
    "\n",
    "# Exemple : la Classe chat()\n",
    "\n",
    "Cette exemple est uniquement à lire et à comprendre, il ne contient en fait qu'un seul exercice\n",
    "\n",
    "## Les attributs de la classe chat\n",
    "Plusieurs constructions de la classe chat qui vont nous permettre de créer des objets (ou l'on dit des intances de chat).\n",
    "\n",
    "### Classe chat version 1 - premiers attributs\n",
    "\n",
    "On veut pouvoir créer un objet chat() qui nous permettra à terme de créer une colonie de chats (on sait\n",
    "jamais ca peut servir …).\n",
    "Pour commencer, on va définir un chat avec des attributs de base : une couleur et un nom."
   ]
  },
  {
   "cell_type": "code",
   "execution_count": 2,
   "id": "9771d342",
   "metadata": {},
   "outputs": [],
   "source": [
    "class chat: # Définition de notre classe chat\n",
    "    \"\"\"Classe définissant un chat caractérisé par :\n",
    "    - son nom\n",
    "    - sa couleur \"\"\"\n",
    "    \n",
    "    def __init__(self): # Notre méthode constructeur - \n",
    "        # self c'est notre objet qu'on est en train de créer\n",
    "        \"\"\"Pour l'instant, on ne va définir que deux attributs - nom et couleur \"\"\"\n",
    "        self.couleur = \"Noir\"   \n",
    "        self.nom = \"Aucun nom\""
   ]
  },
  {
   "cell_type": "code",
   "execution_count": 3,
   "id": "41df9f79",
   "metadata": {},
   "outputs": [
    {
     "name": "stdout",
     "output_type": "stream",
     "text": [
      "<class '__main__.chat'> Noir , Aucun nom"
     ]
    }
   ],
   "source": [
    "mon_chat = chat()\n",
    "\n",
    "print(type(mon_chat), mon_chat.couleur ,\",\", mon_chat.nom) "
   ]
  },
  {
   "cell_type": "markdown",
   "id": "738c77b6",
   "metadata": {},
   "source": [
    "On nous dit bien que Mon chat est défini à partir de la classe chat,\n",
    "c’est ce que nous apprend la fonction type.\n",
    "Pour l’instant il n’a pas de nom\n",
    "\n",
    "### Classe chat version 2 - autres attributs\n",
    "\n",
    "Avec un nom et une couleur, on ne va pas loin. On peut continuer à définir des attributs pour la classe chat\n",
    "de la même façon que précédemment."
   ]
  },
  {
   "cell_type": "code",
   "execution_count": 4,
   "id": "19a14ff8",
   "metadata": {},
   "outputs": [],
   "source": [
    "class chat: # Définition de notre classe chat\n",
    "    \"\"\"Classe définissant un chat caractérisé par :\n",
    "    - sa couleur\n",
    "    - son âge\n",
    "    - son caractère\n",
    "    - son poids\n",
    "    - son maitre\n",
    "    - son nom \"\"\"\n",
    "\n",
    "    \n",
    "    def __init__(self): # Notre méthode constructeur - \n",
    "        #self c'est notre objet qu'on est en train de créer\n",
    "        self.couleur = \"Noir\"    \n",
    "        self.age = 10\n",
    "        self.caractere = \"Joueur\"\n",
    "        self.poids = 3\n",
    "        self.maitre = \"Jeanne\"\n",
    "        self.nom = \"Aucun nom\""
   ]
  },
  {
   "cell_type": "code",
   "execution_count": 5,
   "id": "ad15ccec",
   "metadata": {},
   "outputs": [
    {
     "name": "stdout",
     "output_type": "stream",
     "text": [
      "Help on class chat in module __main__:\n",
      "\n",
      "class chat(builtins.object)\n",
      " |  Classe définissant un chat caractérisé par :\n",
      " |  - sa couleur\n",
      " |  - son âge\n",
      " |  - son caractère\n",
      " |  - son poids\n",
      " |  - son maitre\n",
      " |  - son nom\n",
      " |  \n",
      " |  Methods defined here:\n",
      " |  \n",
      " |  __init__(self)\n",
      " |      Initialize self.  See help(type(self)) for accurate signature.\n",
      " |  \n",
      " |  ----------------------------------------------------------------------\n",
      " |  Data descriptors defined here:\n",
      " |  \n",
      " |  __dict__\n",
      " |      dictionary for instance variables (if defined)\n",
      " |  \n",
      " |  __weakref__\n",
      " |      list of weak references to the object (if defined)\n"
     ]
    }
   ],
   "source": [
    "help(chat) \n",
    "# si on veut savoir ce que fait la classe \"chat\" on appelle l'aide"
   ]
  },
  {
   "cell_type": "code",
   "execution_count": 6,
   "id": "3759c903",
   "metadata": {},
   "outputs": [
    {
     "name": "stdout",
     "output_type": "stream",
     "text": [
      "L'âge du chat est 10 ans"
     ]
    }
   ],
   "source": [
    "mon_chat = chat()\n",
    "print(\"L'âge du chat est\", mon_chat.age,\"ans\") \n",
    "# on avait défini l'attribut age de la classe chat comme étant égal à 10\n",
    "#, si on demande l'attribut age de mon_chat on obtient 10"
   ]
  },
  {
   "cell_type": "markdown",
   "id": "f7ea80a6",
   "metadata": {},
   "source": [
    "Par défaut, les attributs de la classe Chat seront toujours les mêmes à chaque création de chat à partir\n",
    "de la classe Chat.\n",
    "\n",
    "Mais une fois qu’une `instance`(*aller chercher sur internet ce que signifie ce mot important en POO*) de classe est créée (*ici mon chat est une instance de classe*) on peut décider\n",
    "de changer la valeur de ses attributs.\n",
    "\n",
    "#### Un nouveau poids"
   ]
  },
  {
   "cell_type": "code",
   "execution_count": 7,
   "id": "08d08e00",
   "metadata": {},
   "outputs": [
    {
     "name": "stdout",
     "output_type": "stream",
     "text": [
      "3\n",
      "3.5"
     ]
    }
   ],
   "source": [
    "print(mon_chat.poids)\n",
    "# si on veut changer le poids de mon chat, parce qu'il a un peu grossi après les fêtes\n",
    "mon_chat.poids = 3.5\n",
    "print(mon_chat.poids) # maintenant le poids est 3.5"
   ]
  },
  {
   "cell_type": "markdown",
   "id": "6ef5a90b",
   "metadata": {},
   "source": [
    "#### Un nouveau nom"
   ]
  },
  {
   "cell_type": "code",
   "execution_count": 8,
   "id": "013d078e",
   "metadata": {},
   "outputs": [
    {
     "data": {
      "text/plain": [
       "'Martin'"
      ]
     },
     "metadata": {},
     "output_type": "display_data"
    }
   ],
   "source": [
    "# on veut aussi lui donner un nom \n",
    "mon_chat.nom = \"Martin\"\n",
    "mon_chat.nom"
   ]
  },
  {
   "cell_type": "markdown",
   "id": "90edbe14",
   "metadata": {},
   "source": [
    "#### Une autre instance de la classe Chat\n",
    "\n",
    "On peut aussi créer d’autres objets chat à partir de la classe chat :"
   ]
  },
  {
   "cell_type": "code",
   "execution_count": 9,
   "id": "21a0e18d",
   "metadata": {},
   "outputs": [
    {
     "name": "stdout",
     "output_type": "stream",
     "text": [
      "Noir"
     ]
    }
   ],
   "source": [
    "# on appelle la classe\n",
    "l_autre_chat = chat()\n",
    "# on change les attributs qui nous intéressent\n",
    "l_autre_chat.nom = \"Ginette\"\n",
    "l_autre_chat.maitre = \"Roger\"\n",
    "# les attributs inchangés donnent la même chose \n",
    "# que ceux définis par défaut pour la classe\n",
    "print(l_autre_chat.couleur)"
   ]
  },
  {
   "cell_type": "markdown",
   "id": "2a538a5f",
   "metadata": {},
   "source": [
    "#### Exercice\n",
    "Creer un `nouveau_chat` (une nouvelle intance de l'objet `chat`) ayant les caractéristiques suivantes:\n",
    "couleur = \"Roux & blanc\", age = 5, caractere = \"Calin\",poids = 2.5\n",
    "nom = \"Chiffon\""
   ]
  },
  {
   "cell_type": "markdown",
   "id": "7f57db8f",
   "metadata": {},
   "source": [
    "## Les méthodes de la classe chat\n",
    "\n",
    "Les attributs sont des variables propres à notre objet, qui servent à le caractériser.\n",
    "\n",
    "Les méthodes sont plutôt des actions, comme nous l’avons vu dans la partie précédente, agissant sur l’objet.\n",
    "\n",
    "Par exemple, la méthode append de la classe list permet d’ajouter un élément dans l’objet list manipulé.\n",
    "\n",
    "### Classe chat version 3 - première méthode\n",
    "\n",
    "On peut définir une première méthode : nourrir"
   ]
  },
  {
   "cell_type": "code",
   "execution_count": 10,
   "id": "a42e829e",
   "metadata": {},
   "outputs": [],
   "source": [
    "class chat: # Définition de notre classe chat\n",
    "    \"\"\"Classe définissant un chat caractérisé par :\n",
    "    - sa couleur\n",
    "    - son âge\n",
    "    - son caractère\n",
    "    - son poids\n",
    "    - son maitre\n",
    "    - son nom \n",
    "    \n",
    "    L'objet chat a une méthode : nourrir \"\"\"\n",
    "\n",
    "    \n",
    "    def __init__(self): # Notre méthode constructeur - \n",
    "        #self c'est notre objet qu'on est en train de créer\n",
    "        self.couleur = \"Noir\"    \n",
    "        self.age = 10\n",
    "        self.caractere = \"Joueur\"\n",
    "        self.poids = 3\n",
    "        self.maitre = \"Jeanne\"\n",
    "        self.nom = \"Aucun nom\"\n",
    "        \n",
    "        \"\"\"Par défaut, notre ventre est vide\"\"\"\n",
    "        self.ventre = \"\"\n",
    "        \n",
    "    def nourrir(self, nourriture):\n",
    "        \"\"\"Méthode permettant de donner à manger au chat.\n",
    "        Si le ventre n'est pas vide, on met une virgule avant de rajouter\n",
    "        la nourriture\"\"\"       \n",
    "        if self.ventre != \"\":\n",
    "            self.ventre += \",\"\n",
    "        self.ventre += nourriture"
   ]
  },
  {
   "cell_type": "code",
   "execution_count": 11,
   "id": "b8d5fe85",
   "metadata": {},
   "outputs": [
    {
     "data": {
      "text/plain": [
       "''"
      ]
     },
     "metadata": {},
     "output_type": "display_data"
    }
   ],
   "source": [
    "mon_chat = chat()\n",
    "mon_chat.nom = \"Martin\"\n",
    "mon_chat.ventre # On n'a rien donné à Martin, son ventre est vide"
   ]
  },
  {
   "cell_type": "code",
   "execution_count": 12,
   "id": "84adc971",
   "metadata": {},
   "outputs": [
    {
     "name": "stdout",
     "output_type": "stream",
     "text": [
      "Le contenu du ventre de martin :  Croquettes"
     ]
    }
   ],
   "source": [
    "# on appelle la méthode \"nourrir\" de la classe chat, \n",
    "# on lui donne un élément, ici des croquettes\n",
    "mon_chat.nourrir('Croquettes')\n",
    "print(\"Le contenu du ventre de martin : \",mon_chat.ventre)"
   ]
  },
  {
   "cell_type": "code",
   "execution_count": 13,
   "id": "c1394d46",
   "metadata": {},
   "outputs": [
    {
     "name": "stdout",
     "output_type": "stream",
     "text": [
      "Le contenu du ventre de martin :  Croquettes,Saumon"
     ]
    }
   ],
   "source": [
    "mon_chat.nourrir('Saumon')\n",
    "print(\"Le contenu du ventre de martin : \",mon_chat.ventre)"
   ]
  },
  {
   "cell_type": "markdown",
   "id": "be45bc35",
   "metadata": {},
   "source": [
    "### Classe chat version 4 - autre méthode\n",
    "\n",
    "Avec un chat, on peut imaginer plein de méthodes. Ici on va définir une action “nourrir” et une autre action\n",
    "“litiere”, qui consiste à vider l’estomac du chat."
   ]
  },
  {
   "cell_type": "code",
   "execution_count": 14,
   "id": "452a1029",
   "metadata": {},
   "outputs": [],
   "source": [
    "class chat: # Définition de notre classe Personne\n",
    "    \"\"\"Classe définissant un chat caractérisé par :\n",
    "    - sa couleur\n",
    "    - son âge\n",
    "    - son caractère\n",
    "    - son poids\n",
    "    - son maitre\n",
    "    - son nom \n",
    "    \n",
    "    L'objet chat a deux méthodes : nourrir et litiere \"\"\"\n",
    "\n",
    "    \n",
    "    def __init__(self): # Notre méthode constructeur - \n",
    "        #self c'est notre objet qu'on est en train de créer\n",
    "        self.nom = \"\"\n",
    "        self.couleur = \"Roux\"    \n",
    "        self.age = 10\n",
    "        self.caractere = \"Joueur\"\n",
    "        self.poids = 3\n",
    "        self.maitre = \"Jeanne\"\n",
    "        \"\"\"Par défaut, notre ventre est vide\"\"\"\n",
    "        self.ventre = \"\"\n",
    "        \n",
    "    def nourrir(self, nourriture):\n",
    "        \"\"\"Méthode permettant de donner à manger au chat.\n",
    "        Si le ventre n'est pas vide, on met une virgule avant de rajouter\n",
    "        la nourriture\"\"\"       \n",
    "        if self.ventre != \"\":\n",
    "            self.ventre += \",\"\n",
    "        self.ventre += nourriture\n",
    "\n",
    "    def litiere(self) : \n",
    "        \"\"\" Méthode permettant au chat d'aller à sa litière : \n",
    "        en conséquence son ventre est vide \"\"\"       \n",
    "        self.ventre = \"\"\n",
    "        print(self.nom,\"a le ventre vide\")"
   ]
  },
  {
   "cell_type": "code",
   "execution_count": 15,
   "id": "603d52c2",
   "metadata": {},
   "outputs": [
    {
     "name": "stdout",
     "output_type": "stream",
     "text": [
      "Le contenu du ventre de martin croquettes\n",
      "Martin a le ventre vide"
     ]
    }
   ],
   "source": [
    "# on définit Martin le chat\n",
    "mon_chat = chat()\n",
    "mon_chat.nom = \"Martin\"\n",
    "# on le nourrit avec des croquettes\n",
    "mon_chat.nourrir('croquettes')\n",
    "print(\"Le contenu du ventre de martin\", mon_chat.ventre)\n",
    "\n",
    "\n",
    "# Il va dans sa litiere\n",
    "mon_chat.litiere()"
   ]
  },
  {
   "cell_type": "code",
   "execution_count": 16,
   "id": "22aee32d",
   "metadata": {},
   "outputs": [
    {
     "name": "stdout",
     "output_type": "stream",
     "text": [
      "Help on method nourrir in module __main__:\n",
      "\n",
      "nourrir(nourriture) method of __main__.chat instance\n",
      "    Méthode permettant de donner à manger au chat.\n",
      "    Si le ventre n'est pas vide, on met une virgule avant de rajouter\n",
      "    la nourriture\n",
      "\n",
      "Help on method litiere in module __main__:\n",
      "\n",
      "litiere() method of __main__.chat instance\n",
      "    Méthode permettant au chat d'aller à sa litière : \n",
      "    en conséquence son ventre est vide\n"
     ]
    }
   ],
   "source": [
    "help(mon_chat.nourrir)\n",
    "help(mon_chat.litiere)"
   ]
  },
  {
   "cell_type": "markdown",
   "id": "05d826ad",
   "metadata": {},
   "source": [
    "### ***facultatif*** Les méthodes spéciales\n",
    "\n",
    "Si on reprend notre classe chat, il y a en réalité des méthodes spéciales que nous n’avons pas définies mais\n",
    "qui sont implicites.\n",
    "\n",
    "Python comprend seul ce que doivent faire ces méthodes. Il a une idée préconcue de ce qu’elles doivent\n",
    "effectuer comme opération. Si vous ne redéfinissez par une méthode spéciale pour qu’elle fasse ce que vous\n",
    "souhaitez, ca peut donner des r\u0013esultats inattendus.\n",
    "\n",
    "Elles servent à plusieurs choses :\n",
    "\n",
    "-   à initialiser l’objet instancié : \\_\\_init\\_\\_\n",
    "-   à modifier son affichage : \\_\\_repr\\_\\_"
   ]
  },
  {
   "cell_type": "raw",
   "id": "5a6b6f91",
   "metadata": {
    "raw_mimetype": "text/html"
   },
   "source": [
    "<!-- #endregion -->"
   ]
  },
  {
   "cell_type": "code",
   "execution_count": 17,
   "id": "e448eb1c",
   "metadata": {},
   "outputs": [
    {
     "name": "stdout",
     "output_type": "stream",
     "text": [
      "Martin\n",
      "Martin"
     ]
    }
   ],
   "source": [
    "# pour avoir la valeur de l'attribut \"nom\"\n",
    "\n",
    "print(mon_chat.__getattribute__(\"nom\"))\n",
    "# on aurait aussi pu faire plus simple :\n",
    "print(mon_chat.nom)"
   ]
  },
  {
   "cell_type": "markdown",
   "id": "32ae00d7",
   "metadata": {},
   "source": [
    "``` python\n",
    "# si l'attribut n'existe pas : on a une erreur\n",
    "# Python recherche l'attribut et, s'il ne le trouve pas dans l'objet et si une méthode __getattr__ est spécifiée, \n",
    "# il va l'appeler en lui passant en paramètre le nom de l'attribut recherché, sous la forme d'une chaîne de caractères.\n",
    "\n",
    "print(mon_chat.origine)\n",
    "```\n",
    "\n",
    "    ## Error in py_call_impl(callable, dots$args, dots$keywords): AttributeError: 'chat' object has no attribute 'origine'\n",
    "    ## \n",
    "    ## Detailed traceback: \n",
    "    ##   File \"<string>\", line 1, in <module>\n",
    "\n",
    "Mais on peut modifier les méthodes spéciales de notre classe chat pour éviter d’avoir des erreurs d’attributs. On va aussi en profiter pour modifier la représentation de l’instance chat qui pour l’instant donne \\<\\_*main\\_*.chat object at 0x0000000005AB4C50\\>\n",
    "\n",
    "### Classe chat version 5 - méthode spéciale"
   ]
  },
  {
   "cell_type": "code",
   "execution_count": 18,
   "id": "db54d7b2",
   "metadata": {},
   "outputs": [],
   "source": [
    "class chat: # Définition de notre classe Personne\n",
    "    \"\"\"Classe définissant un chat caractérisé par :\n",
    "    - sa couleur\n",
    "    - son âge\n",
    "    - son caractère\n",
    "    - son poids\n",
    "    - son maitre\n",
    "    - son nom \n",
    "    \n",
    "    L'objet chat a deux méthodes : nourrir et litiere \"\"\"\n",
    "\n",
    "    \n",
    "    def __init__(self): # Notre méthode constructeur - \n",
    "        #self c'est notre objet qu'on est en train de créer\n",
    "        self.nom = \"\"\n",
    "        self.couleur = \"Roux\"    \n",
    "        self.age = 10\n",
    "        self.caractere = \"Joueur\"\n",
    "        self.poids = 3\n",
    "        self.maitre = \"Jeanne\"\n",
    "        \"\"\"Par défaut, notre ventre est vide\"\"\"\n",
    "        self.ventre = \"\"\n",
    "        \n",
    "    def nourrir(self, nourriture):\n",
    "        \"\"\"Méthode permettant de donner à manger au chat.\n",
    "        Si le ventre n'est pas vide, on met une virgule avant de rajouter\n",
    "        la nourriture\"\"\"       \n",
    "        if self.ventre != \"\":\n",
    "            self.ventre += \",\"\n",
    "        self.ventre += nourriture\n",
    "\n",
    "    def litiere(self) : \n",
    "        \"\"\" Méthode permettant au chat d'aller à sa litière : \n",
    "        en conséquence son ventre est vide \"\"\"       \n",
    "        self.ventre = \"\"\n",
    "        print(self.nom,\"a le ventre vide\")\n",
    "    \n",
    "    def __getattribute__(self, key):\n",
    "            return print(key,\"n'est pas un attribut de la classe chat\")   \n",
    "            \n",
    "    def __repr__(self):\n",
    "            return \"Je suis une instance de la classe chat\""
   ]
  },
  {
   "cell_type": "code",
   "execution_count": 19,
   "id": "5fe0f983",
   "metadata": {},
   "outputs": [
    {
     "name": "stdout",
     "output_type": "stream",
     "text": [
      "Martin\n",
      "origine n'est pas un attribut de la classe chat\n",
      "<__main__.chat object at 0x7f2f50492580>\n",
      "Je suis une instance de la classe chat"
     ]
    }
   ],
   "source": [
    "# j'ai gardé l'exemple chat défini selon la classe version 4\n",
    "# Martin, le chat\n",
    "# on a vu précédemment qu'il n'avait pas d'attribut origine\n",
    "# et que cela levait une erreur AttributeError\n",
    "print(mon_chat.nom)\n",
    "\n",
    "\n",
    "# on va définir un nouveau chat avec la version 5\n",
    "# on appelle à nouveau un attribut qui n'existe pas \"origine\"\n",
    "# on a bien le message défini par la méthode spéciale _gettattribute\n",
    "\n",
    "mon_chat_nouvelle_version = chat()\n",
    "mon_chat_nouvelle_version.origine\n",
    "\n",
    "# Maintenant on a aussi une définition de l'objet plus clair\n",
    "print(mon_chat)\n",
    "print(mon_chat_nouvelle_version)"
   ]
  },
  {
   "cell_type": "markdown",
   "id": "46c1599f",
   "metadata": {},
   "source": [
    "------------------------------------------------------------------------\n",
    "\n",
    "### Conclusion sur les classes : ce qu’on retient\n",
    "\n",
    "-   Les méthodes se définissent comme des fonctions, sauf qu’elles se trouvent dans le corps de la classe.\n",
    "\n",
    "-   On définit les attributs d’une instance dans le constructeur de sa classe, en suivant cette syntaxe : self.nom_attribut = valeur.\n",
    "\n",
    "-   *facultatif* : Les méthodes d’instance prennent en premier paramètre “self”, l’instance de l’objet manipulé.\n",
    "\n",
    "-   *facultatif* : On construit une instance de classe en appelant son constructeur, une méthode d’instance appelée **init**."
   ]
  }
 ],
 "metadata": {
  "kernelspec": {
   "display_name": "Python 3 (ipykernel)",
   "language": "python",
   "name": "python3"
  },
  "language_info": {
   "codemirror_mode": {
    "name": "ipython",
    "version": 3
   },
   "file_extension": ".py",
   "mimetype": "text/x-python",
   "name": "python",
   "nbconvert_exporter": "python",
   "pygments_lexer": "ipython3",
   "version": "3.12.2"
  }
 },
 "nbformat": 4,
 "nbformat_minor": 5
}
