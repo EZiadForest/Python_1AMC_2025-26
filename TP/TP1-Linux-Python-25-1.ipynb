{
  "metadata": {
    "kernelspec": {
      "name": "python",
      "display_name": "Python (Pyodide)",
      "language": "python"
    },
    "language_info": {
      "codemirror_mode": {
        "name": "python",
        "version": 3
      },
      "file_extension": ".py",
      "mimetype": "text/x-python",
      "name": "python",
      "nbconvert_exporter": "python",
      "pygments_lexer": "ipython3",
      "version": "3.8"
    }
  },
  "nbformat_minor": 4,
  "nbformat": 4,
  "cells": [
    {
      "cell_type": "markdown",
      "source": "![](images/python-logo.png)\n![](images/LogoENSICAEN_rectangle_couleurs.png)\n***\n# Travaux Dirigés & Pratiques \n## TP 1 – Environnement Linux pour la programmation\n***\n#### ENSICAEN  1A MC  Septembre 2025\n\n#### Eric Ziad-Forest\n***",
      "metadata": {}
    },
    {
      "cell_type": "markdown",
      "source": "### Sommaire\n-   Objectifs\n-   Présentation et connexion sur les machines de l'ENSICAEN\n-   Le shell\n-   Python\n-   Approfondissement Linux\n***",
      "metadata": {}
    },
    {
      "cell_type": "markdown",
      "source": "### Auteurs :\n- Jalal Fadili [jalal.fadili@ensicaen.fr]\n- Philippe Lefebvre [philippe.lefebvre@ensicaen.fr]\n- Alain Lebret [alain.lebret@ensicaen.fr]\n- Regis Clouard [regis.clouard@ensicaen.fr]\n- Eric Ziad-Forest [ziad@ensicaen.fr]\n***",
      "metadata": {}
    },
    {
      "cell_type": "markdown",
      "source": "### Enseignants des groupes de TD/TP\n- Groupe 1: Eric Ziad-Forest [ziad@ensicaen.fr]\n- Groupe 2: Julien Rabin [julien.rabin@ensicaen.fr]\n- Groupe 3: Eric Ziad-Forest [ziad@ensicaen.fr]\n- Groupe 4: Philippe Lefebvre [lefebvre@ensicaen.fr]\n\n***",
      "metadata": {}
    },
    {
      "cell_type": "markdown",
      "source": "***\n*Contenu sous licence [CC BY-SA 4.0](https://creativecommons.org/licenses/by-sa/4.0)*",
      "metadata": {}
    },
    {
      "cell_type": "markdown",
      "source": ">**Labor omnia vincit improbus**\n>(un travail opiniâtre vient à bout de tout)\n**Virgile**",
      "metadata": {}
    },
    {
      "cell_type": "markdown",
      "source": "# PARTIE I \n#### ( pas plus d'1 heure en suivant les conseils de votre enseignant )\n",
      "metadata": {}
    },
    {
      "cell_type": "markdown",
      "source": "# I - Objectif\n\nLe but de ce TD/TP est de se familiariser avec l'environnement *Linux*. Votre environnement de travail informatique dans vos futurs entreprise ne sera pas toujours un environnement *Windows*.\n\nComme tout système d'exploitation, *Linux* est le logiciel permettant la gestion de la machine. Il offre des\nfonctionnalités pouvant être appelées depuis l'interface graphique ou par programme. *Linux* est une des\nversions libres de *Unix*. « Libre » voulant dire, libre de droit quant à son exploitation et libre de droit quant à la modification de son code source, tant que les modifications sont diffusées.\n\nDans les salles de TP de l'école, nous utilisons `Ubuntu`, qui est un ensemble de logiciels (appelée distribution) basé sur *Linux*.\n\nPour interagir avec le système d'exploitation il existe plusieurs méthodes :\n\n- l'interface graphique dont les détails peuvent être retrouvés sur ce document : \n[http://ubuntu](http://ubuntu-manual.org/) ;\n- la programmation par le biais d'un langage comme le Python. C'est ce que nous verrons dans les TP suivants. \n- l'utilisation de commandes, par le biais d'un interpréteur de commandes (`Shell`), qui est l'objet entre autre de ce TP.",
      "metadata": {}
    },
    {
      "cell_type": "markdown",
      "source": "> **Remarque**  \n> Ce premier travail, essentiellement de lecture et d'apprentissage, est assez long pour les débutants, nous les invitons néanmoins à le finir pour une meilleure pratique dans les futurs TP...  \n\n>**Il n'est pas demandé de compte-rendu pour ce TD/TP.**\n",
      "metadata": {}
    },
    {
      "cell_type": "markdown",
      "source": "# II - Connexion à l'ordinateur \n\nLes ordinateurs installés dans les salles machines de l'ENSICAEN permettent d'exécuter les systèmes d'exploitation Ms-Windows et Ubuntu Linux. Quelques secondes après avoir allumé l'ordinateur, un menu devrait s'afficher afin de vous permettre de choisir le système que vous souhaitez utiliser la sélection de l'un des deux étant réalisée au moyen des flèches  et du clavier puis en appuyant sur  Si vous n'agissez pas suffisamment rapidement, c'est le système d'exploitation Ms-Windows qui sera lancé par défaut. \nSélectionnez le système Ubuntu. ",
      "metadata": {}
    },
    {
      "cell_type": "markdown",
      "source": "## II-1 Connexion \nUne fois démarré, le système d'exploitation vous invite à renseigner votre identifiant et votre mot de passe. L'identifiant est un mot qui vous distingue des autres utilisateurs sur le système. En principe, celui que l'on vous a attribué devrait être constitué de l'initiale de votre prénom suivi de votre nom de famille, le tout en minuscules. Le mot de passe, quant à lui, garantira que vous serez le seul à pouvoir accéder à vos données. \nAprès la procédure de connexion, votre session s'ouvre et vous avez alors accès à votre espace de travail ainsi qu'à vos données. Il est à noter qu'une session est personnelle et n'interfère pas avec celles des autres utilisateurs éventuellement connectés. ",
      "metadata": {}
    },
    {
      "cell_type": "markdown",
      "source": "##  II-2 Verrouillage, déconnexion, arrêt Verrouillage \nUne fois votre session ouverte, vous pouvez la verrouiller en cliquant sur le menu qui se trouve à droite de la barre supérieure de votre espace de travail (on parlera du bureau), puis en sélectionnant le bouton de verrouillage comme l'indique la figure ci-dessous.",
      "metadata": {}
    },
    {
      "cell_type": "markdown",
      "source": "![Bureau Ubuntu](images/ecran_linux4.jpg)",
      "metadata": {}
    },
    {
      "cell_type": "markdown",
      "source": "Une fois votre session verrouillée, vous devez appuyer sur une touche quelconque pour la déverrouiller. Il est alors nécessaire de vous identifier de nouveau pour retrouver votre espace de travail tel que vous l'aviez laissé. ",
      "metadata": {}
    },
    {
      "cell_type": "markdown",
      "source": "##  II-3 Fonctionnalités utiles \nCette section présente quelques fonctionnalités utiles des gestionnaires de fenêtres Unix. \n### Lancement d'application\n#### Le Dock\nLa barre de lancement rapide appelée aussi `«dock»` (*dash en anglais*) est placée par défaut à gauche du bureau. Elle contient vos applications favorites. Vous voyez très certainement Firefox (un navigateur, le gestionnaire de fichier,...\n#### Les applications\nDans la barre supérieure du bureau, on trouve sur la gauche le bouton ` Activités` qui permet d'accéder à la vue des activités (*applications ouvertes sur le bureau*), mais aussi de rechercher des applications que l'on souhaiterait lancer. ",
      "metadata": {}
    },
    {
      "cell_type": "markdown",
      "source": "> **Exercice 1**\n> 1. Cliquez sur le bouton `Activités`, puis dans le champ de recherche qui s'ouvre, entrez le nom : `ter`  et cliquez sur l'icône correspondante au `Terminal` qui apparaît en dessous. \nRemarquez que l'icône du `Terminal` apparaît dans le `dock` une fois l'application ouverte. \nEn cliquant sur l'icône avec le bouton droit de la souris, on fait apparaître un menu contextuel qui permet d'ajouter l'application au `dock`. \n> 2. Ajoutez l'application au `dock` \n> 3. Fermer l'aplication. ",
      "metadata": {}
    },
    {
      "cell_type": "markdown",
      "source": "> **Remarque**  \n>Il est aussi possible de lancer des applications à l'aide de la combinaison de touches `Alt`+`F2` On obtient une fenêtre avec une invite dans laquelle on peut alors entrer le nom d'une application pour peu que l'on connaisse précisément celui-ci. ",
      "metadata": {}
    },
    {
      "cell_type": "markdown",
      "source": "> **Exercice 2**  \nLancer le navigateur `Firefox`  (tapez: **firefox**)  \nPuis aller sur Moodle [ https://foad.ensicaen.fr/] et ouvrez ce document TP1 .",
      "metadata": {}
    },
    {
      "cell_type": "markdown",
      "source": "### Souris et copier-coller \n\nLa plupart des applications Unix graphiques acceptent un copier-coller identique à celui qui existe sous Ms-Windows: \n1.  Sélectionnez à la souris ce que vous voulez copier. \n2.  Appuyez sur `Ctrl`+`[C]` , ou faites «Copier» dans le menu de l'application. \n3. Placez la souris à l'endroit où vous souhaitez coller. \n4. Cliquez avec le bouton gauche de la souris afin de mettre le curseur de l'application à l'endroit souhaité. \n5. Entrez la combinaison de touches `Ctrl`+`V` ou faites« Coller» à l'aide du menu de l'application. ",
      "metadata": {}
    },
    {
      "cell_type": "markdown",
      "source": "Sous Unix, le copier-coller avec la souris peut aussi s'obtenir avec le bouton droit, du milieu ou de la molette : \n\n1. Sélectionnez à la souris ce que vous voulez copier. \n2. Placez la souris à l'endroit où vous souhaitez coller. \n3. Cliquez avec le bouton du milieu de la souris ou la molette. ",
      "metadata": {}
    },
    {
      "cell_type": "markdown",
      "source": "> **Exercice 4**\n> 1. Lancez `Firefox` ainsi que l'éditeur de texte `geany` \n> 2. Essayez de `copier/coller` une zone de texte depuis une page web `Firefox` vers `geany`, en utilisant les deux méthodes précédentes. ",
      "metadata": {}
    },
    {
      "cell_type": "markdown",
      "source": "### Gestion des fenêtres \nCertaines touches ou combinaisons de touches permettent de modifier le comportement des interactions de la souris avec les applications ou avec le gestionnaire de fenêtres. ",
      "metadata": {}
    },
    {
      "cell_type": "markdown",
      "source": "> **Exercice 5**\n> 1. Déplacez une fenêtre en maintenant enfoncée la touche **Super** `win Key` (deuxième touche à gauche de la barre d'espace), et en cliquant avec le bouton gauche n'importe où sur la fenêtre (pas uniquement sur le bandeau). \n> 2. Redimensionnez une fenêtre en appuyant sur `win Key` et le bouton du milieu (ou la molette), ce sans avoir besoin d'attraper un des coins. \n> 3. Maximiser une fenêtre en double-cliquant sur son bandeau, ou bien en faisant glisser ce bandeau vers le haut de l'écran. \n> 4. Passer d'une fenêtre ouverte à l'autre en appuyant sur les touches `Alt` et $\\to$ (Tab en haut à gauche) ",
      "metadata": {}
    },
    {
      "cell_type": "markdown",
      "source": "Il existe encore de nombreuses manipulations possibles. Nous vous renvoyons aux documentations de Gnome ainsi qu'à la documentation francophone dUbuntu pour les découvrir (voir en fin de document). ",
      "metadata": {}
    },
    {
      "cell_type": "markdown",
      "source": "### Bureaux virtuels \nLes bureaux virtuels (workspace en anglais) permettent de grouper les fenêtres et de pouvoir passer facilement d'un groupe de fenêtres à l'autre. Par exemple, il est possible d'utiliser un bureau pour naviguer sur Internet et lire son courriel, et un autre bureau pour développer etc. \nSous Gnome (environement graphique Ubuntu), les différents bureaux virtuels sont accessibles en cliquant sur le bouton `Activités`. Les bureaux apparaissent alors en miniature à droite de l'écran. \nPar défaut, le nombre de bureaux est fixé à deux. La sélection d'un bureau en particulier est réalisable à l'aide des raccourcis clavier `Ctrl` +`Alt`+  $\\uparrow ou \\downarrow\\$ . \nAfin de déplacer une fenêtre d'un bureau à l'autre, il suffit de réaliser un clic droit sur le bandeau de la fenêtre qui fait alors apparaître un menu contextuel. \n",
      "metadata": {}
    },
    {
      "cell_type": "markdown",
      "source": "> **Exercice 6**  \n> Essayez d'ouvrir plusieurs applications et placez-les dans des bureaux différents.",
      "metadata": {}
    },
    {
      "cell_type": "markdown",
      "source": "# III - Le shell\n\n## III - 1 Terminal et interpréteur de commandes \nUn des principes d'Unix consiste à avoir un programme pour chaque tâche de manière à ce que chaque tâche soit réalisée au mieux. Ces programmes sont appelés des« commandes». \nAfin d'exécuter ces commandes, il faut utiliser un programme spécifique appelé interpréteur de commande (`shell`). L'interpréteur de commande présente une interface textuelle qui lit, interprète et exécute les commandes entrées au clavier. Concrètement, l'interpréteur de commande apparaît dans une fenêtre qui affiche une invite de commande (début de ligne non modifiable à la suite duquel vous entrez vos commandes). \nL'interpréteur de commande s'exécute à l'intérieur d'une application que l'on appelle `terminal` et exécute vos ordres. ",
      "metadata": {}
    },
    {
      "cell_type": "markdown",
      "source": "## III - 2 Première commande\n\nLe shell est le nom donné au programme qui interprète les commandes écrites par un utilisateur, puis\nappelle les fonctionnalités adéquates du système d'exploitation (ou tout autre programme). Une commande\nest composée d'un *nom et d'arguments* permettant de préciser la commande. Le nom et les arguments\nsont séparés par des espaces.\nPar exemple, dans \n\n``` Shell\nls -l \n```\n`ls` est la commande,`-l ` est le premier argument. Souvent, les arguments commençant par un tiret, comme dans l'exemple ` -l `. Les\narguments sont des options permettant de modifier l'exécution de la commande.\n\nLors de l'exécution d'un programme, celui-ci utilise des entrées et produit des sorties normales ou des\nerreurs. Par défaut, l'entrée est le clavier et la sortie normale et les erreurs sont produites sur l'écran.\n\nDans ce qui suit, chaque fois que vous verrez des lignes commençant par un dollar et écrite en police fixe,\ncela voudra dire qu'il faut taper la commande. Par exemple :\n``` Shell\n$ ls\n```",
      "metadata": {}
    },
    {
      "cell_type": "markdown",
      "source": "Pour taper des commandes, vous devez au préalable ouvrir un `terminal` (appelé aussi console). Cela se fait en cliquant sur l’icône d'un « écran noir ». \nSi celui-ci n'est pas disponible, vous pouvez appuyer simultanément sur les touches `Ctrl`+`[Alt]`+`[t]`.\nUne fois la fenêtre du `terminal` entrez les 1ère commandes suivante:  \n\n> **Exercice 7**  \n> 1. `ls` (***list***) suivi de la touche « Entrée ». Que constatez-vous?\n> 2. Maintenant tapez :\n``` Shell\n$ lzs\n``` \nun message d'erreur devrait apparaître à l'écran car le shell n'a pas trouvé la commande.",
      "metadata": {}
    },
    {
      "cell_type": "markdown",
      "source": "Peut-être vous demandez vous à quoi cela peut bien servir de taper des commandes alors qu'il existe, à\nl'instar de Windows, une **I**nterface **H**omme-**M**achine (**IHM**) permettant d’effectuer la plupart des opérations\nen quelques clics?   \nLe `shell` permet de coupler les commandes entre elles et d'exécuter des actions complexes qui ne sont pas possibles par de simples clics. Aussi, Linux est un système utilisé dans des box\ninternet, des robots ... Sur de tels dispositifs, il n'y a pas d'écran et la seule solution pour communiquer\navec `Linux` est d'utiliser le `shell` par l'intermédiaire d'un `terminal` en mode texte.\n\nLa suite de ce texte est une version adaptée du document suivant :\n[Documentation d'Ubuntu](http://doc.ubuntu.org/projets/ecole/scripting/initiation_au_shell)\n\nDernier argument et non des moidres.\n\nLes commandes emboités suivantes :\n```shell\nfind /chemin/du/repertoire -type f -exec grep -l 'mot_a_rechercher' {} + | xargs du -h | sort -rh | zip fichiers_recherches.zip -@\n\n```\nPermettent de réaliser les actions suivantes, irréalisable (comme précisé dans le cours) avec le gestionnaire de fichier et du clique souris...\n\nRechercher tous les fichiers dans un repertoire contenant un mot spécifique, puis les trier par taille décroissante et enfin créer une archive ZIP contenant dans l'ordre tous ces fichiers.",
      "metadata": {}
    },
    {
      "cell_type": "markdown",
      "source": "Pour les plus avancés en Python, cela ce ferait également avec le script python suivant:\n(Choisissez votre camp !)",
      "metadata": {}
    },
    {
      "cell_type": "code",
      "source": "import os\nimport zipfile\n\n# Définir le chemin du répertoire de recherche et le mot à rechercher\nrepertoire = '/chemin/du/repertoire'\nmot_a_rechercher = 'mot_a_rechercher'\n\n# Créer un répertoire temporaire pour stocker les fichiers trouvés\nrepertoire_temporaire = '/chemin/du/repertoire_temporaire'\nos.makedirs(repertoire_temporaire, exist_ok=True)\n\n# Recherche de fichiers contenant le mot spécifié et copie dans le répertoire temporaire\nfor root, dirs, files in os.walk(repertoire):\n    for file in files:\n        file_path = os.path.join(root, file)\n        with open(file_path, 'r', encoding='utf-8', errors='ignore') as f:\n            if mot_a_rechercher in f.read():\n                # Copie manuelle du fichier\n                with open(os.path.join(repertoire_temporaire, file), 'wb') as dest_file:\n                    with open(file_path, 'rb') as src_file:\n                        dest_file.write(src_file.read())\n\n# Trier les fichiers par taille décroissante\nfichiers_trouves = [os.path.join(repertoire_temporaire, file) for file in os.listdir(repertoire_temporaire)]\nfichiers_trouves.sort(key=os.path.getsize, reverse=True)\n\n# Création de l'archive ZIP\nwith zipfile.ZipFile('fichiers_recherches.zip', 'w', zipfile.ZIP_DEFLATED) as archive:\n    for fichier in fichiers_trouves:\n        archive.write(fichier, os.path.basename(fichier))\n\n# Suppression des fichiers temporaires\nfor fichier in fichiers_trouves:\n    os.remove(fichier)\n\n# Suppression du répertoire temporaire\nos.rmdir(repertoire_temporaire)\n\n# Suppression du répertoire source si nécessaire\nos.rmdir(repertoire)\n",
      "metadata": {},
      "outputs": [],
      "execution_count": null
    },
    {
      "cell_type": "markdown",
      "source": "## III - 3  Le système de fichiers\n\nComme *Windows, Linux* organise ses fichiers sur le disque dur par un système de répertoires. Le\nrépertoire contenant tous les autres est appelé  `/ ` ou répertoire racine.\n\nVoici un exemple simplifié du système de fichier *Linux* :",
      "metadata": {}
    },
    {
      "cell_type": "markdown",
      "source": "![Bureau Ubuntu](images/arbor2.jpg)",
      "metadata": {}
    },
    {
      "cell_type": "markdown",
      "source": "`bin` : contient les commandes *Unix* de base ;  \n`home` : contient les répertoires des différents utilisateurs ;  \n`sbin` : contient les commandes *Unix* de base pour l'administration du système ;  \n`tmp` : contient des fichiers créés temporairement ;  \n`usr` : contient des commandes et des répertoires optionnels au fonctionnement de *Unix*.",
      "metadata": {}
    },
    {
      "cell_type": "markdown",
      "source": "### Chemins relatifs / absolus et raccourcis\n\nLors de l’exécution d’un programme, il lui est attribué, par le système Linux, un répertoire de travail\n( **working directory** ). Nous verrons comment le changer.\nUn fichier peut être référencé de manière **relative** , par rapport au répertoire de travail, ou de manière\n**absolue** par rapport à la racine. Par exemple,\n\n- pour accéder au programme gedit de manière relative à partir du répertoire /usr : \n```shell\nbin/geany\n```\n- pour y accéder de manière absolue quel que soit le répertoire de travail : \n```shell\n/usr/bin/geany\n```\n\n\nLe premier caractère de la référence permet d'effectuer la distinction : les références absolues\ncommencent toujours par le caractère ` / ` , alors que les références relatives commencent par tout autre\ncaractère valide pour un nom de fichier.\n\nLe `shell` est dit « *sensible à la casse* ».  \nCe qui signifie que le répertoire «toTo» n'est pas le même que le répertoire «toto».  \nLes caractères spéciaux **`~`**, **`.`** et **`..`** ont des significations particulières :  \n`~` (*tilde*) : **répertoire personnel** de l'utilisateur ;  \n**`.`**  : **répertoire de travail** ;  \n**`..`**  : **répertoire parent**.    \nIls permettent tous les trois de simplifier l'expression de références absolues.  \nDe plus pour continuer sur les `jokers` \n**`?`** désigne un unique caractère    \n**`[]`** correspond à une liste de caractères précisés entre les crochets;  \n**`-`** désigne un intervalle de caractères",
      "metadata": {}
    },
    {
      "cell_type": "markdown",
      "source": "### Commandes de manipulation de fichiers et répertoires : \n\n> **Exercice 8**.   \n> Essayez les 4 premières commandes commandes suivantes dans le 'terminal'.\n",
      "metadata": {}
    },
    {
      "cell_type": "markdown",
      "source": " \n**`pwd`** : (**p** ath of **w** orking **d** irectory) affiche le répertoire de travail  dans lequel les commandes\ntapées sont exécutées.  \n**`ls`** : **list**e le contenu du répertoire de travail.  \n**`ls -l`** : liste détaillée du contenu d’un répertoire (idem **ll)**.  \n**`ls -al`** : liste détaillée du contenu d’un répertoire y compris les fichiers cachés.  \n**`cd`** _nomDeRep_ : (**c**hange **d**irectory) change le répertoire  courant pour se placer dans le répertoire _nomDeRep_.  \n**`cd ..`** : remonte au répertoire parent  \n**`cd`** : sans paramètre, se place dans le répertoire personnel",
      "metadata": {}
    },
    {
      "cell_type": "markdown",
      "source": "**`mkdir`** _nomDeRep_ : crée un répertoire nommé _nomDeRep_ (**m**a**k**e **dir**ectory)  \n**`rmdir`** _nomDeRep_ : efface le répertoire _nomDeRep_ si vide (**r**e**m**ove **dir**ectory)  \n**`rm`** _nomFich_ : efface un fichier _nomFich_ (**r**e**m**ove). \n\n>**Attention**  \n>La commande `rm` ne met pas à la poubelle. L'effacement est **définitif**!  \n\n**`rm -i`** *.c : efface tous les fichiers dont l'extension est ` .c`  # voir man de **rm**  \n**`mv`** _toto_ _titi_ : renomme le fichier _toto_ en _titi_ (**m**o**v**e)  \n**`mv /tmp/toto ~ `** : déplace le fichier _toto_  de `/tmp`  au répertoire personnel \n**`cp`** _toto_ _titi_ : copie le fichier « toto » et nomme la copie _titi_  \n**`more toto.txt`** : affiche page par page le fichier _toto.txt_.  \n> l'appui sur `q` quitte \n> l'appui sur `espace` affiche la page d'après\n> l'appui sur `/` suivi d'un mot permet de faire une recherche du mot dans le fichier...  ",
      "metadata": {}
    },
    {
      "cell_type": "markdown",
      "source": "Pour en savoir plus, vous pouvez utiliser le manuel en ligne :  \n```shell\n# pour se documenter sur la commande ls (# commentaire)\nman ls\n```\ntapez `q` pour quitter_",
      "metadata": {}
    },
    {
      "cell_type": "markdown",
      "source": "> **Remarque**   \n> D'autres raccourcis claviers sous linux sont **extrêmement utiles**.   \n> - **rappel de commandes linux**  \nLes flèches $\\uparrow ou \\downarrow\\$ permettent de naviguer dans les commandes déjà entrées.\n> - **complétion automatique**.  \nLa touche `->|` permet de compléter un nom de commande ou un nom de fichier automatiquement. S'il y a ambiguïté, un deuxième appui propose la liste des possibles.\n> - **arrêt en cas de problème**.   \nLa combinaisons `ctrl`+`c` arrête une commande en cours.",
      "metadata": {}
    },
    {
      "cell_type": "markdown",
      "source": "> **Exercice 9**  Création d'un dossier de TP.  \n> 1. Regarder quel est votre dossier de travail. (**pwd**)\n> 2. Lister les dossiers du répertoire courrant (**ls**)\n> 3. Déplacer vous dans le dossier */Document* (**cd Doc** # complétion automatique (_tab_)\n> 4. Créer un répertoire _InfoPython_\n> 5. Dans ce répertoire créer deux répertoires *tp1* et *tp*\n> 6. Comment afficher les répertoires dans l'ordre chronologique de création avec **ls** ? (lire le ***man*** de la commande **ls**)\n> 7. Supprimer le répertoire *tp*\n\n***Vous pourrez regarder dans le gestionnaire de fichier le résultat de vos manipulations***",
      "metadata": {}
    },
    {
      "cell_type": "markdown",
      "source": "## III - 4 Les éditeurs de fichiers textes\n\nIls servent à créer des fichiers textes comme le logiciel Notepad sous windows. Il en existe de nombreux\nsous `linux` : `vi, emacs, geany, kedit`...\nPour ce TP nous utiliserons `geany` qui n'offre pas toutes les possibilités de `vim`ou d'`emacs` mais qui\nen revanche est très simple d'utilisation. Pour le lancer :\n```shell\n$ geany fichier.txt & \n```\n> - l'espeluette **&** est important car elle rend le `terminal` disponible pour entrer de nouvelles commandes!",
      "metadata": {}
    },
    {
      "cell_type": "markdown",
      "source": "> **Exercice 10**   \n> 1. Quelle(s) différence(s) faites-vous entre un éditeur et un traitement de texte?\n> 2. Lancer `geany` une fois _sans_ **&** à la fin et essayez d'entrer la commande `ls`.\n> 3. Fermez `geany` lancer-le _avec_ **&** à la fin et essayez d'entrer la commande `ls`.",
      "metadata": {}
    },
    {
      "cell_type": "markdown",
      "source": "PARTIE 2\n========",
      "metadata": {}
    },
    {
      "cell_type": "markdown",
      "source": "# IV - Python\n\n## IV - 1 Introduction\n\nDans cette introduction, nous rappelons ici plusieurs points qui vous seront utiles :  \n1. Comme, il vous sera demandé dans un premier temps, d’entrer les instructions à l’interpréteur `Python`, notez ce que vous constatez sur les résultats obtenus et servez-vous-en pour répondre aux questions, voir résoudre les problèmes proposés par la suite.\n2. Aucun des exercices suivant ne nécessite l’utilisation de fonctions.\n3. Les exercices suivants ont pour vocation de vous familiariser avec **l’interpréteur** de Python et avec les commandes les plus élémentaires, n’hésitez pas à vous reporter au cours disponible sur Moodle.\n\n> J'insiste une nouvelle fois, nous utiliserons pour cette partie uniquement l’interpréteur de `Python`, qui est déjà par lui-même et comme\nvous allez pouvoir en juger, un outil fort puissant.",
      "metadata": {}
    },
    {
      "cell_type": "markdown",
      "source": "## IV - 2  Lancement de l'interpreteur Python\n\nDans le `terminal` ouvrez un onglet supplémentaires\n(touche `Ctrl`+`Maj`+`t`) puis lancez l’interpréteur `Python` en\ntapant tout simplement dans celui-ci:\n```shell\npython\n```\nPour quitter l'interpréteur `Python` taper `Ctrl`+`d`\n\n> **Exercice 11**  \n>Commencer par calculer quelques valeurs : 2+2, ’Tin’+’tin’ , 2\\*\\*1000 \n\n...\n_Vous êtes prêt maintenant pour la suite ..._",
      "metadata": {}
    },
    {
      "cell_type": "markdown",
      "source": "## IV - 3  Premières instructions\n\n### Compréhension d’instructions et premières astuces\nDans les sous-chapitres de cette section, entrez les instructions demandées afin d’expliquer, par des commentaires sur\nune feuille ou un cahier, les résultats obtenus. Par la suite, certaines instructions et astuces seront utilisés. Revenez-y si besoin!\n\nDonc, toutes les séquences d’instructions suivantes sont à entrer dans l’interpréteur (lui même dans le `terminal`) et sont à analyser.\n\n### Les types numériques\n\n> Utilisation du mot clé `type`\n\n```Python\ntype(1)\ntype(1.0)\ntype(11111111111111111111)\ns=1+1j\ntype(s)\ntype(1e10)\n```\n\n### Conversion des types numériques\n\n- `int()` pour convertir en entier;\n- `float()` pour convertir en flottant;\n- `complex()` pour convertir en complexe;\n- `str()` pour convertir sous forme de chaîne de caractères\n\n>**Exercice 12**  \n> 1. Essayer de convertir différent type de nombre pour en voir les effets.\n> 2. Que vaut str(123)+str(321)? Pourquoi?",
      "metadata": {}
    },
    {
      "cell_type": "markdown",
      "source": "### A propos des flottants\n\n> Utilisation de la fonction `print` (mot clé)\n\n```Python\nx=2**(1/2.0) # Racine carré de 2!\nx\nprint (\"%.50f\" %x)\nprint (\"%.80f\" %x)\n```\n\n> **Exercice 13**  \n> 1. Que signifie %.50f ?\n> 2. Faire calculer à Python 1+1+1-3 puis 0.1+0.1+0.1-0.3\n> 3. Comment expliquez-vous la différence?\n\n> **Remarque**. \n> Ainsi, avant d’utiliser les résultats d’un programme informatique      > donnés sous forme de \"floats\" , mieux vaut réfléchir\n> à comment \"pense\" l’ordinateur ... Nous y reviendrons plus tard._",
      "metadata": {}
    },
    {
      "cell_type": "markdown",
      "source": "### Calcul avec des grands nombres\n \n>Utilisation des puissances. `**`\n\n```Python\n457**15\n457**231\n(5**5)**5\n7**7**7\n```\n_Alors vos impressions?_\n\n> **Exercice 14** (*Vue en cours*)  \n> Vous rappelez-vous, comment obtenir le nombre de chiffres des résultats de ces calculs?",
      "metadata": {}
    },
    {
      "cell_type": "markdown",
      "source": "### Calcul avec des nombres complexes\n\n```Python\nz1=complex(2,1)\nz=2+1j # j représente imaginaire pur i, ie j**2=-1\nz*z\nz**2\nz*(3+4j)\nabs(1+1j)\n(1+1j).conjugate()\n```\n*Pas besoin d'interface compliquée pour effectuer des calculs \"complexes\"!*",
      "metadata": {}
    },
    {
      "cell_type": "markdown",
      "source": "Pour connaître d’autres fonctions et méthodes appliquées aux nombres complexes entrez :\n```shell\n dir(complex)\n```\n>**Remarque**   \nUtiliser la commande `dir( )` avec le type dont vous souhaitez connaître les méthodes et fonctions.",
      "metadata": {}
    },
    {
      "cell_type": "markdown",
      "source": ">**Exercice 15**  \n> Vérifiez , sur au moins, un exemple non trivial (*par exemple 1-1j*) que l’inverse d’un nombre complexe est égale à son conjugué divisé par son module au carré!\n\n\n>**Remarque**  \nNous venons d’utiliser déjà beaucoup de fonctionnalités mathématiques sans jamais avoir eu besoin d’importer\nquoique ce soit!\n\n\n*Poursuivons...*",
      "metadata": {}
    },
    {
      "cell_type": "markdown",
      "source": "### Ne pas confondre : affectation ( = ) et égalité ( == )\n\n```shell\nk=1+1+1;k\nk==2\nprint(’La valeur de k est: ’,k)\n```\n\n_Dans les 2 prochains sous-chapitres ci-dessous, nous continuons à utiliser la variable k._\n\n### Encore des calculs et des précisions sur les types...\n(***Pour les plus aguéris***)\n\n```shell\nk+=k\nk*=k\nk=[k/5,k/0.5]\ntype(k)\n```\n> Expliquer ici, pourquoi il y a une erreur, si l’on répète la commande précédente :\nk=\\[k/5,k/0.5\\]\n\n>Et pour finir\n```shell\nh=4*\"Na\"+\" Nere\" ; h\ntype(h)\ntype(’16’)\ntype(int(’16’))\n```",
      "metadata": {}
    },
    {
      "cell_type": "markdown",
      "source": "PARTIE 3\n========",
      "metadata": {}
    },
    {
      "cell_type": "markdown",
      "source": "***\nS'il vous reste du temps, poursuivez vers d'autres commande `linux`\n\n***",
      "metadata": {}
    },
    {
      "cell_type": "markdown",
      "source": "# V - Approfondissement Linux\n## V - 1 Les droits \n(***peut-être sauté en 1er lecture***)\n\n`Unix` est un système multi utilisateurs. Les fichiers appartiennent donc à des utilisateurs. Les utilisateurs\nappartiennent également à des groupes. On peut donc donner l'accès en lecture **r**, en écriture **w** et/ou\nen exécution **x** à un utilisateur, à un groupe ou aux autres utilisateurs de la machine.   \nLa machine utilise une base de données des utilisateurs hébergée sur un serveur.\nLa commande `ls -l` donne des informations sur les droits sous cette forme « rwxrwxrwx ». \nPar exemple : \n```shell\nls -l\ndrwxr-xr--  7 toto bde            4096 oct.  14  2022 savDoc\n-r--------  7 toto bde            4096 oct.  14  2022 mail.txt\n```",
      "metadata": {}
    },
    {
      "cell_type": "markdown",
      "source": "Pour le répertoire *savDoc*,\n\n- le propriétaire _toto_ a les droits « rwx » c'est-à-dire tous les droits ;  \n- les utilisateurs du groupe _bde_ ont les droits « r-x », c'est-à-dire tous sauf écriture ;\n- les autres n'ont que les droits de lecture.\n- Le premier caractère est la lettre « d » ce qui signifie que _savDoc_ est un répertoire.  \nLe « x » signifie, dans le cas des répertoires, « cross », c'est-à-dire droits de traverser avec la commande « cd ».\n- Pour le fichier « _mail.txt_ » l'utilisateur _hubert_ ne peut que lire le fichier. S'il veut l'effacer, il doit d'abord changer les droits.\n-Pour changer les droits on utilise la commande `chmod` suivi de la valeur en octal des droits. **r**  a le\npoids 4, **w** 2 et **x** 1.\n```shell\nchmod 741 mail.txt\n```\ndonne les droits « rwxr----x » au fichier mail.txt.\n\n> **Exercice 16**   \n> Changez les droits du répertoire *tp1* pour que seul le propriétaire ait les droits **rwx**.",
      "metadata": {}
    },
    {
      "cell_type": "markdown",
      "source": "## V - 2  Les redirections\nOn l'a vu précédemment les commandes agissent sur des entrées (fichiers, clavier) et produisent des\nsorties (fichiers, écran). Le clavier et l'écran sont respectivement l'entrée standard (stdin) et la sortie\nstandard (stdout). Mais on peut les rediriger.  \nPar exemple, \n```shell\nls > toto.txt\n```\ncrée le fichier _toto.txt_ contenant le résultat de la commande `ls`.  \nLes redirections sont :  \n-  `>` sortie redirigée vers un nouveau fichier  \n-  `>>`  sortie redirigée en ajout.\n  \nplus délicat:\n- <  entrée est prise à partir d'un fichier\n- << `EOF` l'entrée reste « stdin » mais la commande se termine lorsqu'elle rencontre la ligne contenant les trois caractères `EOF` (**E**nd **O**f **F**ile). \n- _commande1_ **`|`** _commande2_ Avec le caractère **`|`** (pipe), la sortie de _commande1_ est redirigée sur l'entrée de _commande2_.",
      "metadata": {}
    },
    {
      "cell_type": "markdown",
      "source": "## V - 3  D'autres commandes\n\n> **Exercice 17** : Manipulation d'autre commande `linux`   \nExécutez la suite de commandes suivantes et interprétez à chaque étape ce que vous observez :  \n> **Remarque**  \n> Ce qui suit le caractère `#` sont des commentaires à ne pas taper.  \n> Ne pas taper `$`, il correspond au prompt de l'interpréteur `shell`\n\n```shell\n$ cd  \n$ mkdir temp; cd temp \n$ ls -l ..\n$ ls -l > fichier0.txt\n$ cat fichier0.txt\n$ cat > fichier1 << EOF \nMon texte 1 \nEOF \n$ more fichier1 \n$ cat fichier\n$ ls -al \n$ nomVar=\"le monde\"\n$ echo Bonjour $nomVar\n$ echo \"Mon texte 2\" > fichier2 \n$ cat * # Concaténation de tous les fichiers vers la\n        # sortie standard. \n$ cat fichier1 fichier2 > resultat # Concaténation et redirection. \n$ more resultat \n$ echo \"separateur\" | cat - fichier1 fichier2 >> resultat \n# Concaténation et ajout. \n# ici le tiret – en argument de cat siginifie entrée standard\n$ more resultat \n$ diff -w -y fichier1 resultat # compare les deux fichiers. \n$ tail -n 2 resultat # Affiche la fin d’un fichier. \n$ tail -c 4 resultat # Le caractère de fin de ligne compte \n                     # pour un caractère. \n$ hexdump -C resultat\n$ head -1 resultat # Affiche le début d’un fichier. \n$ head -2 < resultat\n$ wc -l resultat # Compte les lignes, caractères, mots. \n$ cat resultat | wc -l \n$ wc -c resultat \n$ wc -w resultat \n```",
      "metadata": {}
    },
    {
      "cell_type": "markdown",
      "source": "```shell\n$ cat > annuaire.txt << EOF \nNom1:Prenom1:num1:adresse1 \nNom2:Prenom2:num2:adresse2 \nNom3:Prenom3:num3:adresse3 \nEOF \n$ cat annuaire.txt | cut -d\":\" -f 2 # Sélection de colonnes \n                                    # (ici celle des prénoms). \n$ phrase=\"toto titi tutu\"\n$ for i in $phrase ; do echo $i ; done\n$ for i in `cat resultat` ; do echo $i ;done \n# notez les quotes inversés (accent grave) qui exécutent \n# la commande précédente.\n```",
      "metadata": {}
    },
    {
      "cell_type": "markdown",
      "source": "> **Exercice 18**  \n> Écrire une commande qui écrit dans le fichier _resultat2.txt_ tous les mots des 2 dernières lignes du fichier _resultat.txt_ de l'exercice précédent.  \n*Il n'y aura qu'un mot par ligne.*\n\nComme quoi, pas besoin de tout programmer avec Python, le `shell` peu souvent suffire...",
      "metadata": {}
    },
    {
      "cell_type": "markdown",
      "source": "## V - 4  Le filtre grep et les expressions régulières\n\n> **Exercice 19**. \n> 1. Exécutez la suite de commandes suivantes et interprétez à chaque étape ce que vous observez : \n\n```shell\n$ grep \" 1\" resultat # ligne contenant la chaine \" 1\".\n$ grep -n \" 1\" resultat # numérote les lignes.\n$ grep -v sepa resultat # exclut les lignes avec \"sepa\".\n$ grep \"e.t\" < resultat # . n’importe quel caractère.\n$ grep \"e.*t\" resultat # * répète le caractère précédant \n                       # n fois (avec n>=0).\n$ grep \"^t\" resultat # lignes débutant par \"t\".\n$ grep \"1$\" resultat # lignes finissant par \"1\".\n$ grep \"[a-z]$\" resultat # lignes finissant par une lettre\n                         # (donc pas un numéro).\n$ grep -e \"1\" -e \"2\" resultat # lignes contenant 1 ou 2.```\n> 2. Écrivez une ligne de commande qui affiche les mots contenant 2 lettres **a** et pas de lettre **x**, et une autre ligne\nqui compte le nombre de mots commençant par **T**.",
      "metadata": {}
    },
    {
      "cell_type": "markdown",
      "source": "## V - 5  Commande find\n\nLa commande find recherche un fichier dans un dossier et ses sous-dossiers en appliquant l’expression donnée. \n\n> **Exercice**. \n> 1. Essayez les commandes suivantes pour vous familiariser avec celle-ci :\n```shell\n$ find . -name \"*.c\" # recherche les fichiers dont le nom se termine ~par c.\n$ find . -type d # recherche uniquement les réper- toires.\n$ find . -name \"*.c\" -o -type d # -o pour faire un OU.\n$ find . -name \"*.c\" -o -name \"r*\" #  se terminant par c OU commençant par un r.\n$ find . -perm 755 # fichiers dont les droits sont positionnés  à 755.\n$ find . -name \"*.c\" -exec ls -l {} \\; # exécute la commmande « ls -l » sur chaque fichier trouvé par  find.\n```",
      "metadata": {}
    },
    {
      "cell_type": "markdown",
      "source": "> **Remarque**  \nLa dernière commande ci-dessus doit se terminer par un point virgule. Cependant, comme le `shell` interprète le ` ; ` comme un séparateur de commandes `shell`, il faut préfixer le ` ; ` par un ` \\ ` afin qu'il ne soit pas interprété.  \n(` \\ ` est appelé **caractère d'échappement**.)\n\n",
      "metadata": {}
    },
    {
      "cell_type": "code",
      "source": "ls",
      "metadata": {},
      "outputs": [
        {
          "name": "stdout",
          "output_type": "stream",
          "text": "TP1-Linux-Python-23.ipynb  \u001b[34mimages\u001b[m\u001b[m/\r\n"
        }
      ],
      "execution_count": 1
    },
    {
      "cell_type": "markdown",
      "source": "Pour aller plus loin:  \nhttp://www.linux-france.org/article/memo/memo.html",
      "metadata": {}
    }
  ]
}