{
 "cells": [
  {
   "cell_type": "markdown",
   "metadata": {},
   "source": [
    "![](fig/logoENSI.png)\n",
    "![](fig/logopython.png)\n",
    "***"
   ]
  },
  {
   "cell_type": "markdown",
   "metadata": {},
   "source": [
    "# TP2  \n",
    "## Compte-rendu de       (*votre nom & votre groupe*)"
   ]
  },
  {
   "cell_type": "markdown",
   "metadata": {},
   "source": [
    "# Chaînes de caractères, listes, tuples, dictionnaires\n",
    "\n",
    "# Structures conditionnelles et de boucles\n",
    "***"
   ]
  },
  {
   "cell_type": "markdown",
   "metadata": {},
   "source": [
    "**ENSICAEN  1A MC** \n",
    " 2025-2026\n",
    "\n",
    "## Eric Ziad-Forest\n",
    "***"
   ]
  },
  {
   "cell_type": "markdown",
   "metadata": {},
   "source": [
    "### Enseignants des groupes de TD/TP\n",
    "- Groupe 1: Eric Ziad-Forest [ziad@ensicaen.fr]\n",
    "- Groupe 2: Julien \n",
    "- Groupe 3: Eric Ziad-Forest [ziad@ensicaen.fr]\n",
    "- Groupe 4: Philippe Lefebvre [lefebvre@ensicaen.fr]\n",
    "***"
   ]
  },
  {
   "cell_type": "markdown",
   "metadata": {},
   "source": [
    "**Auteurs :**\n",
    "- Fabrice Dumont (*Institut Cardinal Mercier de Schaerbeek*) pour la partie I.\n",
    "- Eric Ziad-Forest (mailto: ziad@ensicaen.fr))\n",
    "***\n",
    "*Contenu sous licence [CC BY-SA 4.0](https://creativecommons.org/licenses/by-sa/4.0)*"
   ]
  },
  {
   "cell_type": "markdown",
   "metadata": {},
   "source": [
    "# Objectifs\n",
    " \n",
    "- Utilisation raisonnée de l'interpréteur *Python*\n",
    "- Conversions de types\n",
    "- Savoir utiliser les principales méthodes sur les listes, tuples, chaînes de caractères, dictionnaires."
   ]
  },
  {
   "cell_type": "markdown",
   "metadata": {},
   "source": [
    "# Rendu\n",
    "\n",
    ">**Vous allez au cours de ce TP, compléter ce document qui servira de compte-rendu en fin de séance et sera déposé sur la plateforme Moodle.**  \n",
    "N'oubliez pas d'inscrire votre nom et prénom  à côté de compte-rendu, juste en dessous de TP2.\n",
    "\n",
    "# Liens pour toutes questions sur Python\n",
    "https://docs.python.org/fr/3.10/tutorial/index.html\n",
    "\n",
    "# Dernière recommandation \n",
    "- Ce TP est relativement long à faire en une séance. Aller simplement le plus loin possible.\n",
    "- Les élèves ayant déjà un bon niveau en python pourront commencer par les parties V et VI puis remonter progressivement vers les parties IV, III, et II.\n",
    "- Pensez à commenter les cellules pour comprendre ce quel font"
   ]
  },
  {
   "cell_type": "markdown",
   "metadata": {},
   "source": [
    "PARTIE I\n",
    "========="
   ]
  },
  {
   "cell_type": "markdown",
   "metadata": {},
   "source": [
    "# Mise en bouche..."
   ]
  },
  {
   "cell_type": "markdown",
   "metadata": {
    "collapsed": true,
    "jupyter": {
     "outputs_hidden": true
    }
   },
   "source": [
    "### Rappel : Les méthodes de la classe str\n",
    "\n",
    "**Evaluer les cellules suivantes**"
   ]
  },
  {
   "cell_type": "code",
   "execution_count": null,
   "metadata": {},
   "outputs": [],
   "source": [
    "help (\"str\")"
   ]
  },
  {
   "cell_type": "code",
   "execution_count": null,
   "metadata": {},
   "outputs": [],
   "source": [
    "ma_chaine = \"BONJOUR\"\n",
    "print (ma_chaine)"
   ]
  },
  {
   "cell_type": "markdown",
   "metadata": {},
   "source": [
    "**En commentaire dans la cellule *(# commentaire)* écrire ce que font les méthodes suivantes:**"
   ]
  },
  {
   "cell_type": "code",
   "execution_count": null,
   "metadata": {},
   "outputs": [],
   "source": [
    "ma_chaine.lower ()"
   ]
  },
  {
   "cell_type": "code",
   "execution_count": null,
   "metadata": {},
   "outputs": [],
   "source": [
    "ma_chaine_2 = \"bonjour\"\n",
    "print (ma_chaine_2)"
   ]
  },
  {
   "cell_type": "code",
   "execution_count": null,
   "metadata": {},
   "outputs": [],
   "source": [
    "ma_chaine_2.upper ()"
   ]
  },
  {
   "cell_type": "code",
   "execution_count": null,
   "metadata": {},
   "outputs": [],
   "source": [
    "ma_chaine_2.capitalize ()"
   ]
  },
  {
   "cell_type": "code",
   "execution_count": null,
   "metadata": {},
   "outputs": [],
   "source": [
    "ma_chaine_3 = \"   Bonjour   \"\n",
    "print (ma_chaine_3)"
   ]
  },
  {
   "cell_type": "code",
   "execution_count": null,
   "metadata": {},
   "outputs": [],
   "source": [
    "ma_chaine_3.strip ()"
   ]
  },
  {
   "cell_type": "code",
   "execution_count": null,
   "metadata": {},
   "outputs": [],
   "source": [
    "ma_chaine_3.strip ().center (40)"
   ]
  },
  {
   "cell_type": "markdown",
   "metadata": {},
   "source": [
    "### Formater une chaîne"
   ]
  },
  {
   "cell_type": "code",
   "execution_count": null,
   "metadata": {},
   "outputs": [],
   "source": [
    "langage = \"Python\"\n",
    "prenom = \"Guido\"\n",
    "nom = \"Van Rossum\"\n",
    "print (\"{} est un langage de programmation {}\".format(langage,\"multi-paradigme\"))\n",
    "print (\"Dixit : {} {}\".format(prenom,nom))"
   ]
  },
  {
   "cell_type": "code",
   "execution_count": null,
   "metadata": {},
   "outputs": [],
   "source": [
    "print (\"{1} {2} {0}\".format(langage,prenom,nom))"
   ]
  },
  {
   "cell_type": "code",
   "execution_count": null,
   "metadata": {},
   "outputs": [],
   "source": [
    "print (\"{2} {1} {0}\".format(langage,prenom,nom.upper()))"
   ]
  },
  {
   "cell_type": "code",
   "execution_count": null,
   "metadata": {},
   "outputs": [],
   "source": [
    "cours = \"TP 1A MC\"\n",
    "prenom = \"Eric\"\n",
    "nom = \"Ziad-Forest\""
   ]
  },
  {
   "cell_type": "code",
   "execution_count": null,
   "metadata": {},
   "outputs": [],
   "source": [
    "print (\"{2} {3} {1} {0}\".format(langage,cours,prenom,nom.upper()))"
   ]
  },
  {
   "cell_type": "markdown",
   "metadata": {},
   "source": [
    "***\n",
    "**Après avoir évalué les instructions proposées, vous êtes armés(es) pour répondre aux exercices suivants.**"
   ]
  },
  {
   "cell_type": "markdown",
   "metadata": {},
   "source": [
    "## Les chaînes de caractères"
   ]
  },
  {
   "cell_type": "code",
   "execution_count": null,
   "metadata": {},
   "outputs": [],
   "source": [
    "# Notre chaine de caractères pour cette partie\n",
    "une_chaine = \"Joyeux Anniversaire\""
   ]
  },
  {
   "cell_type": "markdown",
   "metadata": {},
   "source": [
    "### Quel est le type de la variable  *une_chaine*?"
   ]
  },
  {
   "cell_type": "code",
   "execution_count": null,
   "metadata": {},
   "outputs": [],
   "source": [
    "# Votre instruction ici pour vérifier\n"
   ]
  },
  {
   "cell_type": "markdown",
   "metadata": {},
   "source": [
    "### Quelle est la longueur de cette chaîne de caractères ?"
   ]
  },
  {
   "cell_type": "code",
   "execution_count": null,
   "metadata": {},
   "outputs": [],
   "source": [
    "# Votre instruction Python ici\n"
   ]
  },
  {
   "cell_type": "markdown",
   "metadata": {},
   "source": [
    "J|o|y|e|u|x| |A|n|n|i|v|e|r|s|a|i|r|e \n",
    "-|-|-|-|-|-|-|-|-|-|-|-|-|-|-|-|-|-|-\n",
    "1|2|3|4|5|6|7|8|9|10|11|12|13|14|15|16|17|18|19"
   ]
  },
  {
   "cell_type": "markdown",
   "metadata": {},
   "source": [
    "### Rappels sur les indices dans une chaîne de caractères"
   ]
  },
  {
   "cell_type": "markdown",
   "metadata": {},
   "source": [
    "#### Evaluez rapidement les instructions suivantes:"
   ]
  },
  {
   "cell_type": "code",
   "execution_count": null,
   "metadata": {},
   "outputs": [],
   "source": [
    "une_chaine[0]"
   ]
  },
  {
   "cell_type": "code",
   "execution_count": null,
   "metadata": {},
   "outputs": [],
   "source": [
    "une_chaine[7]"
   ]
  },
  {
   "cell_type": "markdown",
   "metadata": {},
   "source": [
    "J|o|y|e|u|x| |A|n|n|i|v|e|r|s|a|i|r|e \n",
    "-|-|-|-|-|-|-|-|-|-|-|-|-|-|-|-|-|-|-\n",
    "0|1|2|3|4|5|6|7|8|9|10|11|12|13|14|15|16|17|18\n",
    "-19|-18|-17|-16|-15|-14|-13|-12|-11|-10|-9|-8|-7|-6|-5|-4|-3|-2|-1"
   ]
  },
  {
   "cell_type": "markdown",
   "metadata": {},
   "source": [
    "<p style=\"text-align:center\";><b>Très souvent en programamtion, on commence à compter à partir de ZERO !!!!!!!</b></p>"
   ]
  },
  {
   "cell_type": "code",
   "execution_count": null,
   "metadata": {},
   "outputs": [],
   "source": [
    "une_chaine.index(\"J\") # donne l'indice du premier J (majuscule) rencontré dans la chaîne"
   ]
  },
  {
   "cell_type": "code",
   "execution_count": null,
   "metadata": {},
   "outputs": [],
   "source": [
    "une_chaine.index(\"e\") # donne l'indice du premier e (minuscule) rencontré dans la chaîne"
   ]
  },
  {
   "cell_type": "code",
   "execution_count": null,
   "metadata": {},
   "outputs": [],
   "source": [
    "une_chaine[-1] # la première valeur en commençant par la fin"
   ]
  },
  {
   "cell_type": "code",
   "execution_count": null,
   "metadata": {},
   "outputs": [],
   "source": [
    "une_chaine[-19] # == une_chaine[1]"
   ]
  },
  {
   "cell_type": "code",
   "execution_count": null,
   "metadata": {},
   "outputs": [],
   "source": [
    "une_chaine [-len(une_chaine)] # Vous avez compris ?"
   ]
  },
  {
   "cell_type": "markdown",
   "metadata": {},
   "source": [
    "#### Slicing"
   ]
  },
  {
   "cell_type": "code",
   "execution_count": null,
   "metadata": {},
   "outputs": [],
   "source": [
    "une_chaine [1:5] # de l'indice 1 inclus à l'indice 5 exclus"
   ]
  },
  {
   "cell_type": "code",
   "execution_count": null,
   "metadata": {},
   "outputs": [],
   "source": [
    "une_chaine [2:] # de l'indice 2 inclus jusqu'à la fin"
   ]
  },
  {
   "cell_type": "code",
   "execution_count": null,
   "metadata": {},
   "outputs": [],
   "source": [
    "une_chaine [:-1] # du début à l'indice -1 exclus"
   ]
  },
  {
   "cell_type": "code",
   "execution_count": null,
   "metadata": {},
   "outputs": [],
   "source": [
    "une_chaine [::-1] # en partant de la fin et à l'envers vers le début"
   ]
  },
  {
   "cell_type": "code",
   "execution_count": null,
   "metadata": {},
   "outputs": [],
   "source": [
    "une_chaine [::2] # afficher tout par pas de 2"
   ]
  },
  {
   "cell_type": "markdown",
   "metadata": {},
   "source": [
    "### Les indices en pratique avec une boucle while"
   ]
  },
  {
   "cell_type": "markdown",
   "metadata": {},
   "source": [
    "> **Exercice**   \n",
    "Comment obtenir une impression à l'écran comme ci-dessous avec   \n",
    "*une_chaine = \"Joyeux Anniversaire\"*    \n",
    "en utilisant une boucle while:    \n",
    ">> A l'indice 0 se trouve la lettre  J  \n",
    ">> A l'indice 1 se trouve la lettre  o  \n",
    "A l'indice 2 se trouve la lettre  y  \n",
    "A l'indice 3 se trouve la lettre  e  \n",
    "A l'indice 4 se trouve la lettre  u  \n",
    "A l'indice 5 se trouve la lettre  x  \n",
    "A l'indice 6 se trouve la lettre   \n",
    "A l'indice 7 se trouve la lettre  A  \n",
    "A l'indice 8 se trouve la lettre  n  \n",
    "A l'indice 9 se trouve la lettre  n  \n",
    "A l'indice 10 se trouve la lettre  i  \n",
    "A l'indice 11 se trouve la lettre  v  \n",
    "A l'indice 12 se trouve la lettre  e  \n",
    "A l'indice 13 se trouve la lettre  r  \n",
    "A l'indice 14 se trouve la lettre  s  \n",
    "A l'indice 15 se trouve la lettre  a  \n",
    "A l'indice 16 se trouve la lettre  i   \n",
    "A l'indice 17 se trouve la lettre  r  \n",
    "A l'indice 18 se trouve la lettre  e  "
   ]
  },
  {
   "cell_type": "code",
   "execution_count": null,
   "metadata": {},
   "outputs": [],
   "source": [
    "# Vos instructions Python ici\n"
   ]
  },
  {
   "cell_type": "markdown",
   "metadata": {},
   "source": [
    "### Parcours de chaîne avec la boucle for  "
   ]
  },
  {
   "cell_type": "markdown",
   "metadata": {},
   "source": [
    "> **Exercice**   \n",
    "Même exercice que précédemment, mais en utilisant une boucle *for*.   \n",
    "*une_chaine = \"Joyeux Anniversaire\"*    "
   ]
  },
  {
   "cell_type": "code",
   "execution_count": null,
   "metadata": {},
   "outputs": [],
   "source": [
    "# Vos instructions Python ici\n"
   ]
  },
  {
   "cell_type": "markdown",
   "metadata": {},
   "source": [
    "### Script permettant de distinguer les voyelles, les consonnes et les espaces"
   ]
  },
  {
   "cell_type": "markdown",
   "metadata": {},
   "source": [
    "> **Exercice**   \n",
    "Comment obtenir l'impression à l'écran comme ci-dessous avec   \n",
    "*une_chaine = \"Joyeux Anniversaire\"* \n",
    "-    on pourra utiliser *Voyelles = \"aeiouyAEIOUY\"*\n",
    "-    les structures conditionnelles : *if elif else*:    \n",
    ">>    J est une consonne  \n",
    ">>    o est une voyelle  \n",
    "y est une voyelle  \n",
    "e est une voyelle  \n",
    "u est une voyelle  \n",
    "x est une consonne  \n",
    "  est un espace  \n",
    "A est une voyelle  \n",
    "n est une consonne  \n",
    "n est une consonne  \n",
    "i est une voyelle  \n",
    "v est une consonne  \n",
    "e est une voyelle  \n",
    "r est une consonne  \n",
    "s est une consonne  \n",
    "a est une voyelle  \n",
    "i est une voyelle  \n",
    "r est une consonne  \n",
    "e est une voyelle  "
   ]
  },
  {
   "cell_type": "code",
   "execution_count": null,
   "metadata": {},
   "outputs": [],
   "source": [
    "# Vos instructions Python ici\n"
   ]
  },
  {
   "cell_type": "markdown",
   "metadata": {},
   "source": [
    "### Script permettant de compter les voyelles, les consonnes et les espaces"
   ]
  },
  {
   "cell_type": "markdown",
   "metadata": {},
   "source": [
    "> **Exercice**  \n",
    "> De la même manière que dans les exercices précédents écrire les instructions qui permettront de compter les voyelles, les consonnes et les espaces.\n",
    ">> J est une consonne  \n",
    "o est une voyelle  \n",
    "y est une voyelle  \n",
    "e est une voyelle  \n",
    "u est une voyelle  \n",
    "x est une consonne  \n",
    "  est un espace  \n",
    "A est une voyelle  \n",
    "n est une consonne  \n",
    "n est une consonne  \n",
    "i est une voyelle   \n",
    "v est une consonne  \n",
    "e est une voyelle  \n",
    "r est une consonne  \n",
    "s est une consonne  \n",
    "a est une voyelle  \n",
    "i est une voyelle  \n",
    "r est une consonne  \n",
    "e est une voyelle  \n",
    "Il y a, dans cette phrase, 10 voyelle(s), 8 consonne(s), 1 espace(s)  "
   ]
  },
  {
   "cell_type": "markdown",
   "metadata": {
    "collapsed": true,
    "jupyter": {
     "outputs_hidden": true
    }
   },
   "source": [
    "***\n",
    "\n",
    "## Une chaîne de caractères est immutable (non modifiable) !!!!"
   ]
  },
  {
   "cell_type": "markdown",
   "metadata": {},
   "source": [
    "Nous allons néanmoins changer \"chien\" en \"Chine\" par permutation de 2 lettres."
   ]
  },
  {
   "cell_type": "code",
   "execution_count": null,
   "metadata": {},
   "outputs": [],
   "source": [
    "une_chaine='chien' "
   ]
  },
  {
   "cell_type": "markdown",
   "metadata": {},
   "source": [
    "> **Exercice**   \n",
    "Permuter les lettres *e* et *n* de *chien* afin que *une_chaine* reste de type `str`et quelle prenne la valeur *Chine*."
   ]
  },
  {
   "cell_type": "code",
   "execution_count": null,
   "metadata": {},
   "outputs": [],
   "source": [
    "# Remarque\n",
    "une_chaine[0] = \"C\" \n",
    "# ne fonctionne évidemment pas, les chaînes de caractères et \n",
    "# les tuples sont des types immutables ! "
   ]
  },
  {
   "cell_type": "code",
   "execution_count": null,
   "metadata": {},
   "outputs": [],
   "source": [
    "# Vos instructions Python ici\n"
   ]
  },
  {
   "cell_type": "code",
   "execution_count": null,
   "metadata": {},
   "outputs": [],
   "source": []
  },
  {
   "cell_type": "markdown",
   "metadata": {},
   "source": [
    "# Opérations et méthodes sur les listes \n",
    "\n",
    "## Quelques méthodes sur les listes :\n",
    "\n",
    "\n",
    "```python\n",
    "L.count(x)    #compte le nombre d’éléments égaux à x dans L\n",
    "L.reverse()   #inverse les éléments de la liste\n",
    "s.join (L)    #joint les éléments de L séparées par la chaine s\n",
    "L.append(x)   #ajoute x à la liste L\n",
    "L.sort()      #trie la liste L\n",
    "```\n",
    "Voir d’autres encore : extend, insert, remove, pop... "
   ]
  },
  {
   "cell_type": "markdown",
   "metadata": {},
   "source": [
    "> **Remarque**.  \n",
    "Pour obtenir celle-ci dans `IPython`, une fois une liste entrée et suivie d’un point utiliser la touche `Tab` de complétion automatique. Vous verrez alors toutes les possibilités de fonctions et de méthodes disponibles avec les listes.  \n",
    "Vous pouvez aussi utiliser l’instruction:\n",
    "```python \n",
    "print(dir(list))\n",
    "``` \n",
    "comme vu en cours.  \n",
    "Et avoir des renseignements sur leur utilisation en tapant:\n",
    "```python\n",
    "help(list)\n",
    "```"
   ]
  },
  {
   "cell_type": "markdown",
   "metadata": {},
   "source": [
    "## Les primitives\n",
    "**Il existe aussi des primitives (fonctions) telles que**: `len` ,`min`, `max`, `del` \n",
    "\n",
    "Exemple :\n",
    "```python\n",
    "len(L)        # donne la taille (le nombre d’éléments dans L).\n",
    "del(L[i:j])   #supprime les éléments de i à j exclus.\n",
    "```"
   ]
  },
  {
   "cell_type": "markdown",
   "metadata": {},
   "source": [
    "Je vous propose 3 enchainements d’instructions pour mieux appréhender ce que l’on peut faire avec les listes.   \n",
    "Evaluez les et commentez-les. (Un commentaire commence par `#`)"
   ]
  },
  {
   "cell_type": "code",
   "execution_count": null,
   "metadata": {},
   "outputs": [],
   "source": [
    "#Liste de caractères\n",
    "id = ['Elève', 'prof', 'MM314']\n",
    "'prof' in id"
   ]
  },
  {
   "cell_type": "code",
   "execution_count": null,
   "metadata": {},
   "outputs": [],
   "source": [
    "len(id)"
   ]
  },
  {
   "cell_type": "code",
   "execution_count": null,
   "metadata": {},
   "outputs": [],
   "source": [
    "min(id)"
   ]
  },
  {
   "cell_type": "code",
   "execution_count": null,
   "metadata": {},
   "outputs": [],
   "source": [
    "max(id)"
   ]
  },
  {
   "cell_type": "code",
   "execution_count": null,
   "metadata": {},
   "outputs": [],
   "source": [
    "#Liste d’entiers\n",
    "nums = [5, 102, 13, 2, 99, 154, 7]"
   ]
  },
  {
   "cell_type": "code",
   "execution_count": null,
   "metadata": {},
   "outputs": [],
   "source": [
    "min(nums)"
   ]
  },
  {
   "cell_type": "code",
   "execution_count": null,
   "metadata": {},
   "outputs": [],
   "source": [
    "max(nums)"
   ]
  },
  {
   "cell_type": "code",
   "execution_count": null,
   "metadata": {},
   "outputs": [],
   "source": [
    "sorted(nums)"
   ]
  },
  {
   "cell_type": "code",
   "execution_count": null,
   "metadata": {},
   "outputs": [],
   "source": [
    "nums"
   ]
  },
  {
   "cell_type": "code",
   "execution_count": null,
   "metadata": {},
   "outputs": [],
   "source": [
    "nums.sort()"
   ]
  },
  {
   "cell_type": "code",
   "execution_count": null,
   "metadata": {},
   "outputs": [],
   "source": [
    "nums"
   ]
  },
  {
   "cell_type": "markdown",
   "metadata": {},
   "source": [
    "> Quelle différence faites-vous entre **sorted(nums)** et **nums.sort()**?"
   ]
  },
  {
   "cell_type": "code",
   "execution_count": null,
   "metadata": {},
   "outputs": [],
   "source": [
    "#Une liste peut contenir une liste\n",
    "mylist = ['a', 'b', ['c', 'd', 'e']]"
   ]
  },
  {
   "cell_type": "code",
   "execution_count": null,
   "metadata": {},
   "outputs": [],
   "source": [
    "len(mylist)"
   ]
  },
  {
   "cell_type": "code",
   "execution_count": null,
   "metadata": {},
   "outputs": [],
   "source": [
    "mylist[1]"
   ]
  },
  {
   "cell_type": "code",
   "execution_count": null,
   "metadata": {},
   "outputs": [],
   "source": [
    "len(mylist[1])"
   ]
  },
  {
   "cell_type": "code",
   "execution_count": null,
   "metadata": {},
   "outputs": [],
   "source": [
    "mylist[2]"
   ]
  },
  {
   "cell_type": "code",
   "execution_count": null,
   "metadata": {},
   "outputs": [],
   "source": [
    "len(mylist[2])"
   ]
  },
  {
   "cell_type": "markdown",
   "metadata": {},
   "source": [
    "> **Attention**  \n",
    "Les seuls guillemets simples acceptés par python sont : `' '`\n",
    "mais les guillemets en virgule, accents graves ou aigüs (seul) ne fonctionnne pas..."
   ]
  },
  {
   "cell_type": "code",
   "execution_count": null,
   "metadata": {},
   "outputs": [],
   "source": [
    "a='bonjour'\n",
    "a"
   ]
  },
  {
   "cell_type": "code",
   "execution_count": null,
   "metadata": {},
   "outputs": [],
   "source": [
    "b=`bonjour`\n",
    "b"
   ]
  },
  {
   "cell_type": "markdown",
   "metadata": {},
   "source": [
    "> **Exercice**     \n",
    "Ci-dessous, la séquence d’instructions suivantes :\n",
    "```python\n",
    "x = [1,2,3] \n",
    "y=x\n",
    "print(y)\n",
    "y[1] = \"hello\" \n",
    "print(y)\n",
    "print(x)\n",
    "```\n",
    "1. Qu’obtient-on pour les listes **x** et **y**?\n",
    "2. Cela vous semble-t-il cohérent?\n",
    "3. Corrigez donc la séquence précédente pour que le changement d’un élément de la liste **y** ne change pas la liste **x**.  \n",
    "*indice : penser à faire une copie de liste*."
   ]
  },
  {
   "cell_type": "markdown",
   "metadata": {},
   "source": [
    "> **Exercice**    \n",
    "1. Définir la liste: \n",
    "```python\n",
    "liste=[17,38,10,83,25,72]\n",
    "```\n",
    "2. Triez et affichez cette liste.\n",
    "3. Ajoutez l’élément 12 à la liste et affichez la liste.\n",
    "4. Renversez et affichez la liste.\n",
    "5. Affichez l’indice de l’élément 17.\n",
    "6. Enlevez l’élément 38 et affichez la liste.\n",
    "7. Affichez la sous-liste du 2 au 5ème éléments (inclus).   *Attention les listes commencent à 0!*\n",
    "8. Affichez la sous-liste du début au 2ème élément (inclus).\n",
    "9. Affichez le dernier élément en utilisant un indiçage négatif.\n",
    "10. Nombre d’éléments de la liste en utilisant une primitive du langage.\n",
    "11. Quels sont le plus grand et le plus petit nombre de la liste?\n",
    "12. Copier liste dans liste2. Remplacer le 2ème élément par 0 dans liste. Y a-t-il eu des changements dans liste2? \n",
    "Comment remédier au problème ?"
   ]
  },
  {
   "cell_type": "code",
   "execution_count": null,
   "metadata": {},
   "outputs": [],
   "source": []
  },
  {
   "cell_type": "markdown",
   "metadata": {},
   "source": [
    ">**Attention** : Bien remarquer que certaines méthodes de listes ne retournent rien (mais transforment néanmoins la liste originale, vérifiez-le)."
   ]
  },
  {
   "cell_type": "markdown",
   "metadata": {},
   "source": [
    ">**Exercice**   print,list,for    \n",
    "Soit la liste des prénoms suivants :\n",
    "```python\n",
    "['Jean−Michel', 'Marc', 'Vanessa','Mounir' ,'Maximilien', 'Alexandre−Benoit', 'Louise', 'Amarilla'] \n",
    "```\n",
    "Ecrivez une instruction qui affiche chacun de ces noms avec le nombre de caractères correspondant."
   ]
  },
  {
   "cell_type": "code",
   "execution_count": null,
   "metadata": {},
   "outputs": [],
   "source": []
  },
  {
   "cell_type": "markdown",
   "metadata": {},
   "source": [
    "### Pour les débutants plus avancés\n",
    "> **Exercice**  Calcul de PGCD  \n",
    "Soit la séquence d’instructions suivantes :\n",
    "```python\n",
    "A=[246,124]\n",
    "A.sort()\n",
    "A= [A[1]%A[0], A[0]]\n",
    "```\n",
    "1. Que donne A?\n",
    "2. En utilisant la question précédente et en appliquant l’algorithme d’Euclide, trouvez le PGCD de 21608 et 51319.\n",
    "3. Créer une fonction qui calcul le pgcd de 2 nombres entrés en paramètre.\n",
    "4. Une fonction qui calcule les coefficients de Bezout.( voir https://fr.wikipedia.org/wiki/Algorithme_d%27Euclide_%C3%A9tendu )\n"
   ]
  },
  {
   "cell_type": "markdown",
   "metadata": {},
   "source": [
    "PARTIE II\n",
    "=========\n"
   ]
  },
  {
   "cell_type": "markdown",
   "metadata": {},
   "source": [
    "## Application de la partie I \n",
    "Nous allons utiliser les données du fichier *Atome.csv*.   \n",
    "Dans un prochain TP nous verrons comment l'importer pour effectuer les traitements que nous allons voir."
   ]
  },
  {
   "cell_type": "markdown",
   "metadata": {},
   "source": [
    "#### Voici la liste des noms des atomes.  (*L_  pour liste*)"
   ]
  },
  {
   "cell_type": "code",
   "execution_count": null,
   "metadata": {},
   "outputs": [],
   "source": [
    "L_nom_atom=['Hygrogene',\n",
    "'Helium',\n",
    "'Lithium',\n",
    "'Beryllium',\n",
    "'Bore',\n",
    "'Carbone',\n",
    "'Azote',\n",
    "'Oxygene',\n",
    "'Fluor',\n",
    "'Neon',\n",
    "'Sodium',\n",
    "'Magnesium',\n",
    "'Aluminium',\n",
    "'Silicium',\n",
    "'Phosphore',\n",
    "'Soufre',\n",
    "'Chlore',\n",
    "'Argon',\n",
    "'Potassium',\n",
    "'Calcium',\n",
    "'Scandium',\n",
    "'Titane',\n",
    "'Vanadium',\n",
    "'Chrome',\n",
    "'Manganese',\n",
    "'Fer',\n",
    "'Cobalt',\n",
    "'Nickel',\n",
    "'Cuivre',\n",
    "'Zinc',\n",
    "'Gallium',\n",
    "'Germanium',\n",
    "'Arsenic',\n",
    "'Selenium',\n",
    "'Brome',\n",
    "'Krypton',\n",
    "'Rubidium',\n",
    "'Strontium',\n",
    "'Yttrium',\n",
    "'Zirconium',\n",
    "'Niobium',\n",
    "'Molbydene',\n",
    "'Technetium',\n",
    "'Ruthenium',\n",
    "'Rhodium',\n",
    "'Palladium',\n",
    "'Argent',\n",
    "'Cadmium',\n",
    "'Indium',\n",
    "'Etain',\n",
    "'Antimoine',\n",
    "'Tellure',\n",
    "'Iode',\n",
    "'Xenon',\n",
    "'Cesium',\n",
    "'Baryum',\n",
    "'Lanthane',\n",
    "'Cerium',\n",
    "'Praseodyme',\n",
    "'Neodyme',\n",
    "'Promethium',\n",
    "'Samarium',\n",
    "'Europium',\n",
    "'Gadolinium',\n",
    "'Terbium',\n",
    "'Dysprosium',\n",
    "'Holmium',\n",
    "'Erbium',\n",
    "'Thulium',\n",
    "'Ytterbium',\n",
    "'Lutecium',\n",
    "'Hafnium',\n",
    "'Tantale',\n",
    "'Tungstene',\n",
    "'Rhenium',\n",
    "'Osmium',\n",
    "'Iridium',\n",
    "'Platine',\n",
    "'Or',\n",
    "'Mercure',\n",
    "'Thallium',\n",
    "'Plomb',\n",
    "'Biismuth',\n",
    "'Polonium',\n",
    "'Astate',\n",
    "'Radon',\n",
    "'Francium',\n",
    "'Radium',\n",
    "'Actinium',\n",
    "'Thorium',\n",
    "'Protactinium',\n",
    "'Uranium',\n",
    "'Neptunium',\n",
    "'Plutonium',\n",
    "'Americium',\n",
    "'Curium',\n",
    "'Berkelium',\n",
    "'Californium',\n",
    "'Einsteinium',\n",
    "'Fermium',\n",
    "'Mendelevium',\n",
    "'Nobelium',\n",
    "'Lawrencium',\n",
    "'Rutherfordium',\n",
    "'Dubnium',\n",
    "'Seaborgium',\n",
    "'Bohrium',\n",
    "'Hassium',\n",
    "'Meitnerium',\n",
    "'Darmstadtium',\n",
    "'Roentgenium',\n",
    "'Copernicium',\n",
    "'Nihonium',\n",
    "'Flerovium',\n",
    "'Moscovium',\n",
    "'Livermorium',\n",
    "'Tennessine',\n",
    "'Oganesson'\n",
    "]"
   ]
  },
  {
   "cell_type": "code",
   "execution_count": null,
   "metadata": {},
   "outputs": [],
   "source": [
    "# plus lisible comme ceci\n",
    "print(L_nom_atom)"
   ]
  },
  {
   "cell_type": "markdown",
   "metadata": {},
   "source": [
    "#### Ici le tuple de l'abréviation des atomes. (*T_   pour tuple*)"
   ]
  },
  {
   "cell_type": "code",
   "execution_count": null,
   "metadata": {},
   "outputs": [],
   "source": [
    "T_Abrv_Atom=('H',\n",
    "'He',\n",
    "'Li',\n",
    "'Be',\n",
    "'B',\n",
    "'C',\n",
    "'N',\n",
    "'O',\n",
    "'F',\n",
    "'Ne',\n",
    "'Na',\n",
    "'Mg',\n",
    "'Al',\n",
    "'Si',\n",
    "'P',\n",
    "'S',\n",
    "'Cl',\n",
    "'Ar',\n",
    "'K',\n",
    "'Ca',\n",
    "'Sc',\n",
    "'Ti',\n",
    "'V',\n",
    "'Cr',\n",
    "'Mn',\n",
    "'Fe',\n",
    "'Co',\n",
    "'Ni',\n",
    "'Cu',\n",
    "'Zn',\n",
    "'Ga',\n",
    "'Ge',\n",
    "'As',\n",
    "'Se',\n",
    "'Br',\n",
    "'Kr',\n",
    "'Rb',\n",
    "'Sr',\n",
    "'Y',\n",
    "'Zr',\n",
    "'Nb',\n",
    "'Mo',\n",
    "'Tc',\n",
    "'Ru',\n",
    "'Rh',\n",
    "'Pd',\n",
    "'Ag',\n",
    "'Cd',\n",
    "'In',\n",
    "'Sn',\n",
    "'Sb',\n",
    "'Te',\n",
    "'I',\n",
    "'Xe',\n",
    "'Cs',\n",
    "'Ba',\n",
    "'La',\n",
    "'Ce',\n",
    "'Pr',\n",
    "'Nd',\n",
    "'Pm',\n",
    "'Sm',\n",
    "'Eu',\n",
    "'Gd',\n",
    "'Tb',\n",
    "'Dy',\n",
    "'Ho',\n",
    "'Er',\n",
    "'Tm',\n",
    "'Yb',\n",
    "'Lu',\n",
    "'Hf',\n",
    "'Ta',\n",
    "'W',\n",
    "'Re',\n",
    "'Os',\n",
    "'Ir',\n",
    "'Pt',\n",
    "'Au',\n",
    "'Hg',\n",
    "'Tl',\n",
    "'Pb',\n",
    "'Bi',\n",
    "'Po',\n",
    "'At',\n",
    "'Rn',\n",
    "'Fr',\n",
    "'Ra',\n",
    "'Ac',\n",
    "'Th',\n",
    "'Pa',\n",
    "'U',\n",
    "'Np',\n",
    "'Pu',\n",
    "'Am',\n",
    "'Cm',\n",
    "'Bk',\n",
    "'Cf',\n",
    "'Es',\n",
    "'Fm',\n",
    "'Md',\n",
    "'No',\n",
    "'Lr',\n",
    "'Rf',\n",
    "'Db',\n",
    "'Sg',\n",
    "'Bh',\n",
    "'Hs',\n",
    "'Mt',\n",
    "'Ds',\n",
    "'Rg',\n",
    "'Cn',\n",
    "'Nh',\n",
    "'Fl',\n",
    "'Mc',\n",
    "'Lv',\n",
    "'Ts',\n",
    "'Og'\n",
    ")"
   ]
  },
  {
   "cell_type": "code",
   "execution_count": null,
   "metadata": {},
   "outputs": [],
   "source": [
    "print(T_Abrv_Atom)"
   ]
  },
  {
   "cell_type": "markdown",
   "metadata": {},
   "source": [
    "> **Exercice**  \n",
    "> Quelle(s) instruction(s) permettrait(ent) d'obtenir le résultat suivant:   \n",
    "*('Xe', 'Xenon')*"
   ]
  },
  {
   "cell_type": "code",
   "execution_count": null,
   "metadata": {},
   "outputs": [],
   "source": [
    "# vos instructions ici\n"
   ]
  },
  {
   "cell_type": "markdown",
   "metadata": {},
   "source": [
    "> **Exercice**  \n",
    "> Quelle boucle *for* permettrait d'obtenir le résultat ci-dessous: \n",
    ">> le 3 ème élément est le Beryllium dont l'abréviation est :  Be  \n",
    "le 4 ème élément est le Bore dont l'abréviation est :  B  \n",
    "le 5 ème élément est le Carbone dont l'abréviation est :  C  \n",
    "le 6 ème élément est le Azote dont l'abréviation est :  N  \n",
    "le 7 ème élément est le Oxygene dont l'abréviation est :  O  \n",
    "le 8 ème élément est le Fluor dont l'abréviation est :  F   \n",
    "le 9 ème élément est le Neon dont l'abréviation est :  Ne  \n",
    "le 10 ème élément est le Sodium dont l'abréviation est :  Na  \n",
    "le 11 ème élément est le Magnesium dont l'abréviation est :  Mg  \n",
    "le 12 ème élément est le Aluminium dont l'abréviation est :  Al  \n"
   ]
  },
  {
   "cell_type": "markdown",
   "metadata": {},
   "source": [
    "**Le tuple ci-dessous donne dans le même ordre que la liste des noms, ou que le tuple des abreviations, des atomes la famille à laquelle, ils appartiennent.**"
   ]
  },
  {
   "cell_type": "code",
   "execution_count": null,
   "metadata": {},
   "outputs": [],
   "source": [
    "T_Mat_Atom=('Non-metaux',\n",
    "'Gaz rares',\n",
    "'Metaux alcalins',\n",
    "'Metaux alcalino-terreux',\n",
    "'Metalloides',\n",
    "'Non-metaux',\n",
    "'Non-metaux',\n",
    "'Non-metaux',\n",
    "'Halogenes',\n",
    "'Gaz rares',\n",
    "'Metaux alcalins',\n",
    "'Metaux alcalino-terreux',\n",
    "'Metaux pauvres',\n",
    "'Metalloides',\n",
    "'Non-metaux',\n",
    "'Non-metaux',\n",
    "'Halogenes',\n",
    "'Gaz rares',\n",
    "'Metaux alcalins',\n",
    "'Metaux alcalino-terreux',\n",
    "'Metaux de transition',\n",
    "'Metaux de transition',\n",
    "'Metaux de transition',\n",
    "'Metaux de transition',\n",
    "'Metaux de transition',\n",
    "'Metaux de transition',\n",
    "'Metaux de transition',\n",
    "'Metaux de transition',\n",
    "'Metaux de transition',\n",
    "'Metaux de transition',\n",
    "'Metaux pauvres',\n",
    "'Metalloides',\n",
    "'Metalloides',\n",
    "'Non-metaux',\n",
    "'Halogenes',\n",
    "'Gaz rares',\n",
    "'Metaux alcalins',\n",
    "'Metaux alcalino-terreux',\n",
    "'Metaux de transition',\n",
    "'Metaux de transition',\n",
    "'Metaux de transition',\n",
    "'Metaux de transition',\n",
    "'Metaux de transition',\n",
    "'Metaux de transition',\n",
    "'Metaux de transition',\n",
    "'Metaux de transition',\n",
    "'Metaux de transition',\n",
    "'Metaux de transition',\n",
    "'Metaux pauvres',\n",
    "'Metaux pauvres',\n",
    "'Metalloides',\n",
    "'Metalloides',\n",
    "'Halogenes',\n",
    "'Gaz rares',\n",
    "'Metaux alcalins',\n",
    "'Metaux alcalino-terreux',\n",
    "'Lanthanides',\n",
    "'Lanthanides',\n",
    "'Lanthanides',\n",
    "'Lanthanides',\n",
    "'Lanthanides',\n",
    "'Lanthanides',\n",
    "'Lanthanides',\n",
    "'Lanthanides',\n",
    "'Lanthanides',\n",
    "'Lanthanides',\n",
    "'Lanthanides',\n",
    "'Lanthanides',\n",
    "'Lanthanides',\n",
    "'Lanthanides',\n",
    "'Lanthanides',\n",
    "'Metaux de transition',\n",
    "'Metaux de transition',\n",
    "'Metaux de transition',\n",
    "'Metaux de transition',\n",
    "'Metaux de transition',\n",
    "'Metaux de transition',\n",
    "'Metaux de transition',\n",
    "'Metaux de transition',\n",
    "'Metaux de transition',\n",
    "'Metaux pauvres',\n",
    "'Metaux pauvres',\n",
    "'Metaux pauvres',\n",
    "'Metalloides',\n",
    "'Halogenes',\n",
    "'Gaz rares',\n",
    "'Metaux alcalins',\n",
    "'Metaux alcalino-terreux',\n",
    "'Actinides',\n",
    "'Actinides',\n",
    "'Actinides',\n",
    "'Actinides',\n",
    "'Actinides',\n",
    "'Actinides',\n",
    "'Actinides',\n",
    "'Actinides',\n",
    "'Actinides',\n",
    "'Actinides',\n",
    "'Actinides',\n",
    "'Actinides',\n",
    "'Actinides',\n",
    "'Actinides',\n",
    "'Actinides',\n",
    "'Metaux de transition',\n",
    "'Metaux de transition',\n",
    "'Metaux de transition',\n",
    "'Metaux de transition',\n",
    "'Metaux de transition',\n",
    "'Metaux de transition',\n",
    "'Metaux de transition',\n",
    "'Metaux de transition',\n",
    "'Metaux de transition',\n",
    "'Indeterminee',\n",
    "'Indeterminee',\n",
    "'Indeterminee',\n",
    "'Indeterminee',\n",
    "'Indeterminee',\n",
    "'Indeterminee'\n",
    ")"
   ]
  },
  {
   "cell_type": "markdown",
   "metadata": {},
   "source": [
    "> **Exercice**  \n",
    "> Comme obtenir une liste (ou un tuple) *T_uniq_Mat_Atom* contenant les 11 familles distinctes d'atomes?\n",
    ">> Les voici ici triées:  \n",
    "'Actinides', 'Gaz rares', 'Halogenes', 'Indeterminee', 'Lanthanides', 'Metalloides', 'Metaux alcalino-terreux', 'Metaux alcalins', 'Metaux de transition', 'Metaux pauvres', 'Non-metaux'"
   ]
  },
  {
   "cell_type": "markdown",
   "metadata": {},
   "source": [
    "> Essayer de comprendre ce que font les cellules suivantes.   \n",
    "Vous aurez au préalable répondu à l'exercice précédent et obtenue le tuple *T_uniq_Mat_Atom*.    \n",
    "Commentez ces cellules."
   ]
  },
  {
   "cell_type": "code",
   "execution_count": null,
   "metadata": {},
   "outputs": [],
   "source": [
    "L_Mat_l_elt=[]\n",
    "for mat in T_uniq_Mat_Atom:\n",
    "    Lmat=[]\n",
    "    i=0\n",
    "    for mat_elt in T_Mat_Atom:\n",
    "        if mat==mat_elt:\n",
    "            Lmat.append([L_nom_atom[i],i])\n",
    "        i=i+1\n",
    "    L_Mat_l_elt.append([mat,Lmat])"
   ]
  },
  {
   "cell_type": "code",
   "execution_count": null,
   "metadata": {},
   "outputs": [],
   "source": [
    "print(L_Mat_l_elt)"
   ]
  },
  {
   "cell_type": "code",
   "execution_count": null,
   "metadata": {},
   "outputs": [],
   "source": [
    "L_Mat_l_elt[0]"
   ]
  },
  {
   "cell_type": "code",
   "execution_count": null,
   "metadata": {},
   "outputs": [],
   "source": [
    "L_Mat_l_elt[0][0]"
   ]
  },
  {
   "cell_type": "code",
   "execution_count": null,
   "metadata": {},
   "outputs": [],
   "source": [
    "L_Mat_l_elt[0][1][0]"
   ]
  },
  {
   "cell_type": "code",
   "execution_count": null,
   "metadata": {},
   "outputs": [],
   "source": [
    "L_Mat_l_elt[0][1][2]"
   ]
  },
  {
   "cell_type": "code",
   "execution_count": null,
   "metadata": {},
   "outputs": [],
   "source": [
    "L_Mat_l_elt[0][1][2][0]"
   ]
  },
  {
   "cell_type": "code",
   "execution_count": null,
   "metadata": {},
   "outputs": [],
   "source": [
    "L_var_Actinides=[['Actinium', 88], ['Thorium', 89], ['Protactinium', 90], ['Uranium', 91], ['Neptunium', 92], ['Plutonium', 93], ['Americium', 94], ['Curium', 95], ['Berkelium', 96], ['Californium', 97], ['Einsteinium', 98], ['Fermium', 99], ['Mendelevium', 100], ['Nobelium', 101], ['Lawrencium', 102]]"
   ]
  },
  {
   "cell_type": "code",
   "execution_count": null,
   "metadata": {},
   "outputs": [],
   "source": [
    "print(L_var_Actinides)"
   ]
  },
  {
   "cell_type": "code",
   "execution_count": null,
   "metadata": {},
   "outputs": [],
   "source": [
    "T_nom_Actinides=[]\n",
    "for i,elt in enumerate(L_var_Actinides):\n",
    "    T_nom_Actinides.append(elt[0])\n",
    "print(T_nom_Actinides)   \n"
   ]
  },
  {
   "cell_type": "code",
   "execution_count": null,
   "metadata": {},
   "outputs": [],
   "source": [
    "T_nom_Actinides=[]\n",
    "for elt in L_var_Actinides:\n",
    "    T_nom_Actinides.append(elt[0])\n",
    "print(tuple(T_nom_Actinides))   "
   ]
  },
  {
   "cell_type": "markdown",
   "metadata": {},
   "source": [
    "> Comment pouriez-vous organiser la *L_Mat_l_elt* afin d'obtenir le résultat ci-dessous?\n",
    ">> Dans la famille des Actinides, on trouve les atomes: ('Actinium', 'Thorium', 'Protactinium', 'Uranium', 'Neptunium', 'Plutonium', 'Americium', 'Curium', 'Berkelium', 'Californium', 'Einsteinium', 'Fermium', 'Mendelevium', 'Nobelium', 'Lawrencium')  \n",
    ">> Dans la famille des Gaz rares, on trouve les atomes: ('Helium', 'Neon', 'Argon', 'Krypton', 'Xenon', 'Radon')  \n",
    ">>...   \n",
    "...  \n",
    "...  \n",
    "Dans la famille des Metaux pauvres, on trouve les atomes: ('Aluminium', 'Gallium', 'Indium', 'Etain', 'Thallium', 'Plomb', 'Biismuth')  \n",
    "Dans la famille des Non-metaux, on trouve les atomes: ('Hygrogene', 'Carbone', 'Azote', 'Oxygene', 'Phosphore', 'Soufre', 'Selenium')"
   ]
  },
  {
   "cell_type": "markdown",
   "metadata": {},
   "source": [
    "PARTIE III\n",
    "========"
   ]
  },
  {
   "cell_type": "markdown",
   "metadata": {},
   "source": [
    "# Input, print"
   ]
  },
  {
   "cell_type": "markdown",
   "metadata": {
    "deletable": false,
    "dicho": {
     "celltype": "normal",
     "readonly": false
    }
   },
   "source": [
    "> **Exercice** \n",
    ">\n",
    "Énoncé :   \n",
    "Nous allons à présent utiliser deux commandes essentielles : `input()` pour interagir avec l'utilisateur, et `print()` pour afficher des messages à l'écran."
   ]
  },
  {
   "cell_type": "markdown",
   "metadata": {
    "deletable": false,
    "dicho": {
     "celltype": "normal",
     "readonly": false
    }
   },
   "source": [
    "### Première étape :\n",
    "Utilisez la fonction input(\"Quel est votre prénom ? \") pour demander à l'utilisateur son prénom, puis stockez sa réponse dans une variable nommée a."
   ]
  },
  {
   "cell_type": "markdown",
   "metadata": {
    "deletable": false,
    "dicho": {
     "celltype": "normal",
     "readonly": false
    }
   },
   "source": [
    "### Deuxième étape :\n",
    "Affichez un message de salutation à l'écran en utilisant print(), de manière à obtenir un résultat comme :\n",
    "\"Bonjour l'autre bout du monde\" (si l'utilisateur avait entré \"l'autre bout du monde\")."
   ]
  },
  {
   "cell_type": "markdown",
   "metadata": {
    "deletable": false,
    "dicho": {
     "celltype": "normal",
     "readonly": false
    }
   },
   "source": [
    "### Troisième étape :\n",
    "Affichez ensuite les deux phrases suivantes, en utilisant une variable b qui stockera le mot \"Bonjour\" :\n",
    "\n",
    "\"Bonjour, je viens de dire Bonjour\"\n",
    "\"Bonjour, je fais des choses étranges aujourd'hui.\""
   ]
  },
  {
   "cell_type": "markdown",
   "metadata": {
    "deletable": false,
    "dicho": {
     "celltype": "normal",
     "readonly": false
    }
   },
   "source": [
    "### Pour les plus rapides :\n",
    "Modifiez la première phrase pour que le mot \"Bonjour\" s'affiche en minuscules. \n",
    "***Indice : utilisez une méthode Python adaptée ! ***"
   ]
  },
  {
   "cell_type": "markdown",
   "metadata": {},
   "source": [
    "# Partie IV"
   ]
  },
  {
   "cell_type": "markdown",
   "metadata": {},
   "source": [
    "## Méthodes pour dictionnaires\n",
    "(pour se faire un peu la main...)\n",
    "\n",
    "Voici,après celui du cours, de nouveau un petit \"aide memoire\" sur les méthodes liées aux dictionnaires.\n",
    "Supposons que dico est un dictionnaire :\n",
    "\n",
    "    — clé in dico # renvoie True si le dictionnaire dico contient la clé, préférable avant d'appeler une clé qui n'existerait pas\n",
    "    — dico.get(clé) *# renvoie la valeur associée à la clé même valeur que dico[clé], et None si la clé n'existe pas.*\n",
    "    — dico[clé]=valeur *# ajoute une valeur associée à une nouvelle clé à un dictionnaire ou modifie la valeur associée à cette clé.\n",
    "    — dico.pop(clé) # renvoie et supprime la valeur définie par une clé (ainsi que la clé ).\n",
    "    — dico.popitem() # renvoie une paire (clé-valeur) et la supprime du dictionnaire.\n",
    "    — dico.clear() *# supprime tous les éléments du dictionnaire dico *\n",
    "    — dico=dic.copy() # copie un dictionnaire dans un autre,les modifications de l'un n'affectent pas l'autre.\n",
    "    — list(dico.keys()) *# crée une liste des clés du dictionnaire dico *\n",
    "    — list(dico.values()) *# crée une liste des valeurs du dictionnaire dico *\n",
    "    — list(dico.items()) # crée une liste de tuples (clé,valeur):[(1,'ek'),(2,'do'),(3,'tin')...]\n",
    "    — dict(zip(list(range(2,-1,-1)),list(range(3)))) # Création d'un dictionnaire à partir de 2 listes. Ce qui donne dans l'exemple ci-dessus: {0: 2, 1: 1, 2: 0} ."
   ]
  },
  {
   "cell_type": "markdown",
   "metadata": {},
   "source": [
    "> **Exercice 4**   \n",
    "Complétez votre connaissance des dictionnaires\n",
    "et entrainez-vous en entrant les commandes suivantes   \n",
    "et en les commentant si nécéssaire :"
   ]
  },
  {
   "cell_type": "code",
   "execution_count": null,
   "metadata": {},
   "outputs": [],
   "source": [
    "tel = {'jack': 4098, 'joe': 4139}"
   ]
  },
  {
   "cell_type": "code",
   "execution_count": null,
   "metadata": {},
   "outputs": [],
   "source": [
    "tel['john'] = 4127"
   ]
  },
  {
   "cell_type": "code",
   "execution_count": null,
   "metadata": {},
   "outputs": [],
   "source": [
    "tel"
   ]
  },
  {
   "cell_type": "code",
   "execution_count": null,
   "metadata": {},
   "outputs": [],
   "source": [
    "tel['jack']"
   ]
  },
  {
   "cell_type": "code",
   "execution_count": null,
   "metadata": {},
   "outputs": [],
   "source": [
    "del tel['joe']"
   ]
  },
  {
   "cell_type": "code",
   "execution_count": null,
   "metadata": {},
   "outputs": [],
   "source": [
    "tel['jimmy'] = 4127"
   ]
  },
  {
   "cell_type": "code",
   "execution_count": null,
   "metadata": {},
   "outputs": [],
   "source": [
    "tel"
   ]
  },
  {
   "cell_type": "code",
   "execution_count": null,
   "metadata": {},
   "outputs": [],
   "source": [
    "list(tel.keys())"
   ]
  },
  {
   "cell_type": "code",
   "execution_count": null,
   "metadata": {},
   "outputs": [],
   "source": [
    "list(tel.values())"
   ]
  },
  {
   "cell_type": "code",
   "execution_count": null,
   "metadata": {},
   "outputs": [],
   "source": [
    "list(tel.items())"
   ]
  },
  {
   "cell_type": "code",
   "execution_count": null,
   "metadata": {},
   "outputs": [],
   "source": [
    "'john' in tel"
   ]
  },
  {
   "cell_type": "code",
   "execution_count": null,
   "metadata": {},
   "outputs": [],
   "source": [
    "tel.pop('john')"
   ]
  },
  {
   "cell_type": "code",
   "execution_count": null,
   "metadata": {},
   "outputs": [],
   "source": [
    "for nom,num in tel.items(): # Attention au 2 petits points en fin d'instruction! print (nom, num)"
   ]
  },
  {
   "cell_type": "markdown",
   "metadata": {},
   "source": [
    "> **Exercice**   \n",
    "Soit le dictionnaire :    \n",
    "d= {’nom’ : ’Dupuis’, ’prenom’ : ’Jacque’, ’age’ : 301.}    \n",
    "1. Corriger l’erreur dans le prénom, la bonne valeur est ’Jacques’\n",
    "2.  Afficher la liste des clés du dictionnaire.\n",
    "3.  Afficher la liste des valeurs du dictionnaire.\n",
    "4.  Afficher la liste des paires clé/valeur du dictionnaire.\n",
    "5.  Ecrire la phrase \"Jacques Dupuis a 30 ans\" en utilisant le dictionnaire **d**."
   ]
  },
  {
   "cell_type": "markdown",
   "metadata": {},
   "source": [
    "# Partie V"
   ]
  },
  {
   "cell_type": "markdown",
   "metadata": {},
   "source": [
    "## Cryptographie\n",
    "\n",
    "L’objectif de cette partie est de faire un petit peu de cryptographie.\n",
    "Transmettre des messages secrets dans l’antiquité, consistait essentiellement en un décalage d’un certain nombre de lettres dans l’alphabet latin.\n",
    "Le z a comme successeur le a de sorte à rendre l’alphabet circulaire.\n",
    "Par exemple si x vaut 4 : a devient e, b devient f, et z devient d.\n",
    "Les deux lignes suivantes montrent la correspondance entre les lettres :\n",
    "\n",
    "    abcdefghijklmnopqrstuvwxyz (lettres originales)\n",
    "    efghijklmnopqrstuvwxyzabcd (lettres chiffrées avec un décalage x = 4)\n",
    "\n",
    "Par exemple, avec ce chiffre, le mot ’bonjour’ devient ’fsrnsyv ’.\n",
    "\n",
    "Le but de cet exercice est d’écrire un programme qui permet de chiffrer ou déchiffrer un texte avec ce procédé."
   ]
  },
  {
   "cell_type": "markdown",
   "metadata": {},
   "source": [
    "> **Exercice 1**   \n",
    "Définir une variable globale minuscule qui contient l’ensemble des lettres de a à z."
   ]
  },
  {
   "cell_type": "code",
   "execution_count": null,
   "metadata": {},
   "outputs": [],
   "source": [
    "minuscules="
   ]
  },
  {
   "cell_type": "markdown",
   "metadata": {},
   "source": [
    " > **Exercice 2**   \n",
    "Écrire  la  fonction **rotation(chaine, x)** qui  retourne  la  chaîne\n",
    "après  une  rotation  de  x  lettres  vers  la gauche. \n",
    "On suppose que x est positif et inférieur à la longueur de la chaîne.   \n",
    "Par exemple :  \n",
    "```code\n",
    "rotation(minuscules, 3)  \n",
    "'defghijklmnopqrstuvwxyzabc'\n",
    "```"
   ]
  },
  {
   "cell_type": "markdown",
   "metadata": {},
   "source": [
    "> **Exercice 3** \n",
    "Écrire la fonction **index(c, chaine)** qui retourne l’index de c dans la chaîne ou -1 \n",
    "si c est absent :  \n",
    "```code\n",
    "index('x','erxe') \n",
    "2\n",
    "index('y','erxe')\n",
    "-1\n",
    "```"
   ]
  },
  {
   "cell_type": "markdown",
   "metadata": {},
   "source": [
    "> **Exercice 4**   \n",
    "Comment faire pour que 'bonjour' devienne 'erqmrxu' ?"
   ]
  },
  {
   "cell_type": "markdown",
   "metadata": {},
   "source": [
    "> **Exercice 5**  \n",
    "Écrire la fonction **chiffre(chaine, x)** pour qu’elle traite le cas des phrases qui comportent\n",
    "des minuscules, des majuscules, des espaces ou ponctuations. \n",
    "Pour simplifier, on suppose qu’on ne chiffre pas les lettres accentuées.   \n",
    "*Indication : vous pouvez utiliser les variables majuscule et ponctuation comme ci-dessous :*\n",
    "```code\n",
    "majuscules='ABCDEFGHIJKLMNOPQRSTUVWXYZ'  \n",
    "ponctuation=',?;.:\\'/\"_(-)'  \n",
    "chiffre('Bonjour les amis!', 3)  \n",
    "'Erqmrxu ohv dplv!'\n",
    "```"
   ]
  },
  {
   "cell_type": "markdown",
   "metadata": {},
   "source": [
    "> **Exercice 6**  \n",
    "Eudyr, yrxv dyhc ilql fhw hahuflfh !  \n",
    "Déchiffrez la phrase précédente.\n",
    "*Notez qu’il n’est pas nécessaire de réécrire une fonction pour déchiffrer.*"
   ]
  },
  {
   "cell_type": "markdown",
   "metadata": {},
   "source": [
    "> **Exercice 8**   \n",
    "Comment pourrait-on faire pour déchiffrer une phrase dont on sait qu'elle a été chiffrée par rotation, mais dont ne connait pas la \"valeur de rotation\"? \n",
    "    "
   ]
  },
  {
   "cell_type": "markdown",
   "metadata": {},
   "source": [
    "# Partie VI"
   ]
  },
  {
   "cell_type": "markdown",
   "metadata": {
    "dicho": {
     "celltype": "normal",
     "readonly": false
    }
   },
   "source": [
    "# Pour aller encore plus loin dans IPython...\n",
    "\n",
    "**Uniquement pour votre culture personnelle...**\n",
    "\n",
    "## Les commandes magiques\n",
    "\n",
    "### %matplotlib inline\n",
    "\n",
    "Importe les modules `numpy` et `matplotlib`.   \n",
    "L'option `inline` indique que les figures *Matplotlib* seront insérées dans le notebook lui-même plutôt que dans une fenêtre graphique à part. C'est la seule option possible, car votre système ne dispose pas d'interface graphique."
   ]
  },
  {
   "cell_type": "code",
   "execution_count": null,
   "metadata": {
    "dicho": {
     "celltype": "normal",
     "readonly": false
    }
   },
   "outputs": [],
   "source": [
    "# Import des bibliothèques\n",
    "import numpy as np\n",
    "import matplotlib.pyplot as plt\n",
    "\n",
    "# Activation de l'affichage des graphiques dans le notebook\n",
    "%matplotlib inline"
   ]
  },
  {
   "cell_type": "code",
   "execution_count": null,
   "metadata": {
    "dicho": {
     "celltype": "normal",
     "readonly": false
    }
   },
   "outputs": [],
   "source": [
    "X = np.linspace(-1, 1, 100)\n",
    "plt.plot(X, X ** 2)\n",
    "plt.show()"
   ]
  },
  {
   "cell_type": "markdown",
   "metadata": {
    "dicho": {
     "celltype": "normal",
     "readonly": false
    }
   },
   "source": [
    "### %%writefile\n",
    "\n",
    "Crée un fichier de texte. L'exemple donné ci-dessous est un script *python* mais il peut s'agir de n'importe quel fichier de texte."
   ]
  },
  {
   "cell_type": "code",
   "execution_count": null,
   "metadata": {
    "dicho": {
     "celltype": "normal",
     "readonly": false
    }
   },
   "outputs": [],
   "source": [
    "%%writefile square.py\n",
    "\"\"\" Exemple de scripts\n",
    "\"\"\"\n",
    "\n",
    "k = 1\n",
    "s = 1\n",
    "while k <= 10:\n",
    "    print(k ** 2, s)\n",
    "    s = s + 2*k + 1\n",
    "    k = k + 1"
   ]
  },
  {
   "cell_type": "code",
   "execution_count": null,
   "metadata": {},
   "outputs": [],
   "source": [
    "ls"
   ]
  },
  {
   "cell_type": "markdown",
   "metadata": {
    "dicho": {
     "celltype": "normal",
     "readonly": false
    }
   },
   "source": [
    "### %less\n",
    "\n",
    "Cette commande permet de visualiser le contenu d'un fichier de texte. *(Même commande que dans le terminal linux!)*"
   ]
  },
  {
   "cell_type": "code",
   "execution_count": null,
   "metadata": {
    "dicho": {
     "celltype": "normal",
     "readonly": false
    }
   },
   "outputs": [],
   "source": [
    "%less square.py"
   ]
  },
  {
   "cell_type": "markdown",
   "metadata": {
    "dicho": {
     "celltype": "normal",
     "readonly": false
    }
   },
   "source": [
    "### %run\n",
    "\n",
    "La commande `%run foo` exécute le script *python* `foo.py` comme si vous l'aviez exécuté directement depuis le terminal :\n",
    "\n",
    "```\n",
    "psiet-turing@Chato~$ python3 foo.py\n",
    "```\n",
    "La différence est qu'à la fin de l'exécution du script tous les objets définis par le script sont insérés dans l'*espace de nom global* de l'interpréteur."
   ]
  },
  {
   "cell_type": "code",
   "execution_count": null,
   "metadata": {
    "dicho": {
     "celltype": "normal",
     "readonly": false
    }
   },
   "outputs": [],
   "source": [
    "%run square"
   ]
  },
  {
   "cell_type": "code",
   "execution_count": null,
   "metadata": {
    "dicho": {
     "celltype": "normal",
     "readonly": false
    }
   },
   "outputs": [],
   "source": [
    "k, s"
   ]
  },
  {
   "cell_type": "markdown",
   "metadata": {
    "dicho": {
     "celltype": "normal",
     "readonly": false
    }
   },
   "source": [
    "### %timeit\n",
    "\n",
    "Mesure le temps d'exécution d'une instruction ou d'une expression.\n",
    "Le code est exécuté plusieurs fois et le temps moyen d'exécution est affiché :"
   ]
  },
  {
   "cell_type": "code",
   "execution_count": null,
   "metadata": {
    "dicho": {
     "celltype": "normal",
     "readonly": false
    }
   },
   "outputs": [],
   "source": [
    "!cat arithmetique.py"
   ]
  },
  {
   "cell_type": "code",
   "execution_count": null,
   "metadata": {
    "dicho": {
     "celltype": "normal",
     "readonly": false
    }
   },
   "outputs": [],
   "source": [
    "%run arithmetique"
   ]
  },
  {
   "cell_type": "code",
   "execution_count": null,
   "metadata": {
    "dicho": {
     "celltype": "normal",
     "readonly": false
    }
   },
   "outputs": [],
   "source": [
    "euclide # fonction du programme aritmetique.py qui se trouve désormais utilisable dans jupyter !"
   ]
  },
  {
   "cell_type": "code",
   "execution_count": null,
   "metadata": {
    "dicho": {
     "celltype": "normal",
     "readonly": false
    }
   },
   "outputs": [],
   "source": [
    "euclide(123456789, 12345) # euclide en action"
   ]
  },
  {
   "cell_type": "code",
   "execution_count": null,
   "metadata": {
    "dicho": {
     "celltype": "normal",
     "readonly": false
    }
   },
   "outputs": [],
   "source": [
    "%timeit euclide(123456789, 12345) "
   ]
  },
  {
   "cell_type": "markdown",
   "metadata": {},
   "source": [
    ">**Exercice**  \"Complexité\" en temps machine    \n",
    "> Écris le code Python équivalent (sans magie) et utilisant le module time.  \n",
    ">https://docs.python.org/fr/3.10/library/time.html?highlight=module%20time#module-time"
   ]
  },
  {
   "cell_type": "markdown",
   "metadata": {
    "dicho": {
     "celltype": "normal",
     "readonly": false
    }
   },
   "source": [
    "### %pastebin\n",
    "\n",
    "Envoie un texte vers le serveur *Github Gist*.\n",
    "Tout le monde peut alors lire le texte à partir de l'url retournée par la commande.\n",
    "\n",
    "On peut envoyer le contenu d'un fichier de texte :"
   ]
  },
  {
   "cell_type": "code",
   "execution_count": null,
   "metadata": {
    "dicho": {
     "celltype": "normal",
     "readonly": false
    }
   },
   "outputs": [],
   "source": [
    "%pastebin arithmetique.py"
   ]
  },
  {
   "cell_type": "markdown",
   "metadata": {
    "dicho": {
     "celltype": "normal",
     "readonly": false
    }
   },
   "source": [
    "On peut aussi envoyer le contenu d'une cellule, par exemple `In[9]` :"
   ]
  },
  {
   "cell_type": "markdown",
   "metadata": {
    "dicho": {
     "celltype": "normal",
     "readonly": false
    }
   },
   "source": [
    "### %who et %whos (Lister les variables globales)\n",
    "\n",
    "Affiche les objets qui sont actuellement définis dans l'interpréteur *Python* :"
   ]
  },
  {
   "cell_type": "code",
   "execution_count": null,
   "metadata": {
    "dicho": {
     "celltype": "normal",
     "readonly": false
    }
   },
   "outputs": [],
   "source": [
    "%who"
   ]
  },
  {
   "cell_type": "code",
   "execution_count": null,
   "metadata": {},
   "outputs": [],
   "source": [
    "%whos"
   ]
  }
 ],
 "metadata": {
  "kernelspec": {
   "display_name": "Python 3 (ipykernel)",
   "language": "python",
   "name": "python3"
  },
  "language_info": {
   "codemirror_mode": {
    "name": "ipython",
    "version": 3
   },
   "file_extension": ".py",
   "mimetype": "text/x-python",
   "name": "python",
   "nbconvert_exporter": "python",
   "pygments_lexer": "ipython3",
   "version": "3.12.2"
  }
 },
 "nbformat": 4,
 "nbformat_minor": 4
}
